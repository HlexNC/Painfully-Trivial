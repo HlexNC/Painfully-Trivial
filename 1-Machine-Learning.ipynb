{
  "cells": [
    {
      "cell_type": "markdown",
      "metadata": {
        "id": "view-in-github",
        "colab_type": "text"
      },
      "source": [
        "<a href=\"https://colab.research.google.com/github/HlexNC/Painfully-Trivial/blob/hlexnc%2Fml/1-Machine-Learning.ipynb\" target=\"_parent\"><img src=\"https://colab.research.google.com/assets/colab-badge.svg\" alt=\"Open In Colab\"/></a>"
      ]
    },
    {
      "cell_type": "markdown",
      "metadata": {
        "id": "ezrou23lIXTr"
      },
      "source": [
        "# ML Project: _Dataset Proposals_"
      ]
    },
    {
      "cell_type": "markdown",
      "metadata": {
        "id": "WzhP8ZHCIXTs"
      },
      "source": [
        "---"
      ]
    },
    {
      "cell_type": "markdown",
      "metadata": {
        "id": "je2go7gpIXTs"
      },
      "source": [
        "## **Part 1:** _Automatically Evaluate Dataset & Generate Algorithm-Selection Graph_"
      ]
    },
    {
      "cell_type": "markdown",
      "metadata": {
        "id": "5ncvUWk9IXTs"
      },
      "source": [
        "This module implements an automatic algorithm selection strategy inspired by\n",
        "the scikit‑learn cheat‑sheet. It evaluates a given dataset to determine if the\n",
        "problem is supervised (and, if so, whether it is classification or regression) or unsupervised (clustering or dimensionality reduction) and builds a decision flow graph that explains every decision made."
      ]
    },
    {
      "cell_type": "markdown",
      "metadata": {
        "id": "Za5fv7JwIXTs"
      },
      "source": [
        "![](https://1.bp.blogspot.com/-ME24ePzpzIM/UQLWTwurfXI/AAAAAAAAANw/W3EETIroA80/s1600/drop_shadows_background.png)"
      ]
    },
    {
      "cell_type": "markdown",
      "metadata": {
        "id": "GJuqiPZRIXTs"
      },
      "source": [
        "### 1.1 Imports & Setup"
      ]
    },
    {
      "cell_type": "code",
      "execution_count": null,
      "metadata": {
        "id": "-SUcGK4gIXTs",
        "outputId": "38c5b38c-b2f7-4e14-d1ec-d3a36e7cdae5"
      },
      "outputs": [
        {
          "name": "stdout",
          "output_type": "stream",
          "text": [
            "Requirement already satisfied: graphviz in /usr/local/lib/python3.11/dist-packages (0.20.3)\n"
          ]
        }
      ],
      "source": [
        "!pip install graphviz\n",
        "\n",
        "import pandas as pd\n",
        "import numpy as np\n",
        "from graphviz import Digraph\n",
        "from typing import List, Dict, Any, Optional, Tuple\n"
      ]
    },
    {
      "cell_type": "markdown",
      "metadata": {
        "id": "70w3eviEIXTt"
      },
      "source": [
        "---"
      ]
    },
    {
      "cell_type": "code",
      "execution_count": null,
      "metadata": {
        "id": "7NlA0VoPIXTt"
      },
      "outputs": [],
      "source": [
        "class CheatSheetSelector:\n",
        "    \"\"\"\n",
        "    A class that emulates the scikit-learn cheat-sheet decision process.\n",
        "\n",
        "    The steps include:\n",
        "      1. Sample size check.\n",
        "      2. Problem type: supervised (classification or regression) or unsupervised (clustering or dimensionality reduction).\n",
        "      3. For classification: further decisions based on text data, high dimensionality, and sample size.\n",
        "      4. For regression: a decision node for linear vs. non-linear relationships and sample size.\n",
        "      5. For unsupervised: a decision between clustering and dimensionality reduction based on feature count.\n",
        "\n",
        "    The complete decision path is recorded and a graph is built with labeled nodes and edges.\n",
        "    \"\"\"\n",
        "\n",
        "    def __init__(\n",
        "        self,\n",
        "        df: pd.DataFrame,\n",
        "        target_col: Optional[str] = None,\n",
        "        sample_threshold_small: int = 50,\n",
        "        sample_threshold_medium: int = 10_000,\n",
        "        sample_threshold_large: int = 100_000,\n",
        "        assume_linear: Optional[bool] = True  # For regression branch\n",
        "    ):\n",
        "        \"\"\"\n",
        "        :param df: Input DataFrame.\n",
        "        :param target_col: Name of the target column (if supervised). If None, dataset is treated as unlabeled.\n",
        "        :param sample_threshold_small: Minimum samples required (e.g., 50).\n",
        "        :param sample_threshold_medium: Threshold for small vs. medium sample sizes (e.g., 10k).\n",
        "        :param sample_threshold_large: Threshold for medium vs. large sample sizes (e.g., 100k).\n",
        "        :param assume_linear: Assumption for regression problems; if True, use linear methods by default.\n",
        "        \"\"\"\n",
        "        self.df = df\n",
        "        self.target_col = target_col\n",
        "        self.n_samples = len(df)\n",
        "        self.sample_threshold_small = sample_threshold_small\n",
        "        self.sample_threshold_medium = sample_threshold_medium\n",
        "        self.sample_threshold_large = sample_threshold_large\n",
        "        self.assume_linear = assume_linear\n",
        "\n",
        "        # Store the decision path as a list of dicts for text-based debugging/logging\n",
        "        self.decision_path: List[Dict[str, Any]] = []\n",
        "\n",
        "        # Graph to render the decision flow\n",
        "        self.graph = Digraph(name=\"CheatSheetGraph\", comment=\"Sklearn Cheat-Sheet Decision Flow\")\n",
        "        self.graph.attr(rankdir='LR', size='10,5')  # Left-to-right flow\n",
        "        self.node_counter = 0  # To create unique node IDs\n",
        "\n",
        "    # -------------------------------------------------------------------------\n",
        "    # Graph Helpers\n",
        "    # -------------------------------------------------------------------------\n",
        "    def _add_node(self, label: str) -> str:\n",
        "        \"\"\"Create a new node in the graph with an incremental ID.\"\"\"\n",
        "        node_id = f\"node_{self.node_counter}\"\n",
        "        self.graph.node(node_id, label)\n",
        "        self.node_counter += 1\n",
        "        return node_id\n",
        "\n",
        "    def _add_edge(self, from_id: str, to_id: str, edge_label: str = \"\"):\n",
        "        \"\"\"Create an edge in the graph with an optional label.\"\"\"\n",
        "        self.graph.edge(from_id, to_id, label=edge_label)\n",
        "\n",
        "    def _record_decision(self, node_name: str, reason: str):\n",
        "        \"\"\"Record a decision step with its explanation (for text-based output).\"\"\"\n",
        "        self.decision_path.append({\"node_name\": node_name, \"reason\": reason})\n",
        "\n",
        "    # -------------------------------------------------------------------------\n",
        "    # Decision Logic Helpers\n",
        "    # -------------------------------------------------------------------------\n",
        "    def _is_supervised(self) -> bool:\n",
        "        \"\"\"Determine if the dataset is supervised by checking for the target column.\"\"\"\n",
        "        return bool(self.target_col and self.target_col in self.df.columns)\n",
        "\n",
        "    def _is_classification(self) -> bool:\n",
        "        \"\"\"\n",
        "        Heuristic to determine if the target variable indicates a classification problem.\n",
        "        If numeric with few unique values, treat it as classification; otherwise, regression.\n",
        "        \"\"\"\n",
        "        if not self._is_supervised():\n",
        "            return False  # Unlabeled data cannot be classification\n",
        "        target_data = self.df[self.target_col]\n",
        "        if pd.api.types.is_numeric_dtype(target_data):\n",
        "            # If numeric but has few unique values, treat it as classification\n",
        "            return target_data.nunique() <= 10\n",
        "        # Non-numeric (string, categorical) → classification\n",
        "        return True\n",
        "\n",
        "    # -------------------------------------------------------------------------\n",
        "    # Classification Decision\n",
        "    # -------------------------------------------------------------------------\n",
        "    def _decide_algorithm_classification(self) -> Tuple[str, str]:\n",
        "        \"\"\"\n",
        "        Decide on a classification algorithm based on text data, high-dimensionality,\n",
        "        and sample size.\n",
        "\n",
        "        :return: (last_node_id, recommended_algorithm_str)\n",
        "        \"\"\"\n",
        "        # Create a top-level node for classification decisions\n",
        "        classification_node = self._add_node(\"Classification Decision\")\n",
        "\n",
        "        # 1) Check if data is high-dimensional: more features than samples\n",
        "        high_dim_node = self._add_node(\"More features than samples?\")\n",
        "        self._add_edge(classification_node, high_dim_node, \"Start Classification Branch\")\n",
        "\n",
        "        num_features = self.df.shape[1] - 1  # Exclude target column\n",
        "        if num_features > self.n_samples:\n",
        "            self._record_decision(\n",
        "                \"High-dimensional Data\",\n",
        "                f\"{num_features} features > {self.n_samples} samples. Use LinearSVC, Naive Bayes, or L1-regularized LogisticRegression.\"\n",
        "            )\n",
        "            rec_algo = \"LinearSVC, Naive Bayes, or L1-Regularized LogisticRegression\"\n",
        "            # Make a leaf node for final recommendation\n",
        "            final_node = self._add_node(f\"Recommended: {rec_algo}\")\n",
        "            self._add_edge(high_dim_node, final_node, \"YES\")\n",
        "            return final_node, rec_algo\n",
        "        else:\n",
        "            self._add_edge(high_dim_node, high_dim_node, \"NO\")  # loop edge for clarity\n",
        "\n",
        "        # 2) Check if data is text-based\n",
        "        text_node = self._add_node(\"Is your data text-based?\")\n",
        "        self._add_edge(high_dim_node, text_node, \"Next\")\n",
        "\n",
        "        has_text = any(\n",
        "            (self.df[col].dtype == object) and (col != self.target_col)\n",
        "            for col in self.df.columns\n",
        "        )\n",
        "        if has_text:\n",
        "            self._record_decision(\n",
        "                \"Text Data\",\n",
        "                \"Detected text data; Naive Bayes or LogisticRegression are strong baselines.\"\n",
        "            )\n",
        "            rec_algo = \"Naive Bayes or LogisticRegression (text-based)\"\n",
        "            final_node = self._add_node(f\"Recommended: {rec_algo}\")\n",
        "            self._add_edge(text_node, final_node, \"YES\")\n",
        "            return final_node, rec_algo\n",
        "        else:\n",
        "            self._add_edge(text_node, text_node, \"NO\")\n",
        "\n",
        "        # 3) Check sample size for classification\n",
        "        sample_node = self._add_node(f\"Do you have < {self.sample_threshold_large} samples?\")\n",
        "        self._add_edge(text_node, sample_node, \"Next\")\n",
        "\n",
        "        if self.n_samples < self.sample_threshold_large:\n",
        "            self._record_decision(\n",
        "                \"Sample Size (Classification)\",\n",
        "                f\"{self.n_samples} < {self.sample_threshold_large}: SVC, KNeighborsClassifier, or MLPClassifier are possible.\"\n",
        "            )\n",
        "            # Check if we have < medium threshold\n",
        "            small_sample_node = self._add_node(f\"Do you have < {self.sample_threshold_medium} samples?\")\n",
        "            self._add_edge(sample_node, small_sample_node, \"YES\")\n",
        "\n",
        "            if self.n_samples < self.sample_threshold_medium:\n",
        "                self._record_decision(\n",
        "                    \"Small Sample Size\",\n",
        "                    f\"{self.n_samples} < {self.sample_threshold_medium}: SVC (RBF), KNeighborsClassifier, or MLPClassifier.\"\n",
        "                )\n",
        "                rec_algo = \"SVC (RBF), KNeighborsClassifier, or MLPClassifier\"\n",
        "                final_node = self._add_node(f\"Recommended: {rec_algo}\")\n",
        "                self._add_edge(small_sample_node, final_node, \"YES\")\n",
        "                return final_node, rec_algo\n",
        "            else:\n",
        "                self._record_decision(\n",
        "                    \"Medium Sample Size\",\n",
        "                    f\"{self.n_samples} between {self.sample_threshold_medium} and {self.sample_threshold_large}: LinearSVC, SGDClassifier, or Naive Bayes.\"\n",
        "                )\n",
        "                rec_algo = \"LinearSVC, SGDClassifier, or Naive Bayes\"\n",
        "                final_node = self._add_node(f\"Recommended: {rec_algo}\")\n",
        "                self._add_edge(small_sample_node, final_node, \"NO\")\n",
        "                return final_node, rec_algo\n",
        "        else:\n",
        "            self._record_decision(\n",
        "                \"Large Sample Size (Classification)\",\n",
        "                f\"{self.n_samples} >= {self.sample_threshold_large}: Use scalable methods like SGDClassifier or LinearSVC.\"\n",
        "            )\n",
        "            rec_algo = \"SGDClassifier or LinearSVC (large-scale classification)\"\n",
        "            final_node = self._add_node(f\"Recommended: {rec_algo}\")\n",
        "            self._add_edge(sample_node, final_node, \"NO\")\n",
        "            return final_node, rec_algo\n",
        "\n",
        "    # -------------------------------------------------------------------------\n",
        "    # Regression Decision\n",
        "    # -------------------------------------------------------------------------\n",
        "    def _decide_algorithm_regression(self) -> Tuple[str, str]:\n",
        "        \"\"\"\n",
        "        Decide on a regression algorithm based on the assumption of linearity\n",
        "        and the sample size.\n",
        "\n",
        "        :return: (last_node_id, recommended_algorithm_str)\n",
        "        \"\"\"\n",
        "        regression_node = self._add_node(\"Regression Decision\")\n",
        "\n",
        "        # 1) Check if user assumes linear or non-linear\n",
        "        linear_node = self._add_node(\"Assume linear relationship?\")\n",
        "        self._add_edge(regression_node, linear_node, \"Start Regression Branch\")\n",
        "\n",
        "        if self.assume_linear:\n",
        "            self._record_decision(\n",
        "                \"Linear Relationship Assumed\",\n",
        "                \"Suggest LinearRegression, Ridge, Lasso, or ElasticNet.\"\n",
        "            )\n",
        "            # 2) Check sample size\n",
        "            sample_node = self._add_node(f\"Do you have < {self.sample_threshold_large} samples?\")\n",
        "            self._add_edge(linear_node, sample_node, \"YES\")\n",
        "\n",
        "            if self.n_samples < self.sample_threshold_large:\n",
        "                # Check number of features\n",
        "                n_features = self.df.shape[1] - 1\n",
        "                feature_node = self._add_node(\"Number of features < 10?\")\n",
        "                self._add_edge(sample_node, feature_node, \"YES\")\n",
        "\n",
        "                if n_features < 10:\n",
        "                    self._record_decision(\n",
        "                        \"Few Features\",\n",
        "                        f\"{n_features} features < 10. Lasso or ElasticNet recommended for feature selection + regularization.\"\n",
        "                    )\n",
        "                    rec_algo = \"Lasso or ElasticNet\"\n",
        "                    final_node = self._add_node(f\"Recommended: {rec_algo}\")\n",
        "                    self._add_edge(feature_node, final_node, \"YES\")\n",
        "                    return final_node, rec_algo\n",
        "                else:\n",
        "                    self._record_decision(\n",
        "                        \"Many Features\",\n",
        "                        f\"{n_features} features >= 10. Suggest RidgeRegression or LinearRegression.\"\n",
        "                    )\n",
        "                    rec_algo = \"RidgeRegression or LinearRegression\"\n",
        "                    final_node = self._add_node(f\"Recommended: {rec_algo}\")\n",
        "                    self._add_edge(feature_node, final_node, \"NO\")\n",
        "                    return final_node, rec_algo\n",
        "            else:\n",
        "                self._record_decision(\n",
        "                    \"Large Sample Size (Regression)\",\n",
        "                    f\"{self.n_samples} >= {self.sample_threshold_large}. Use SGDRegressor for scalability.\"\n",
        "                )\n",
        "                rec_algo = \"SGDRegressor\"\n",
        "                final_node = self._add_node(f\"Recommended: {rec_algo}\")\n",
        "                self._add_edge(sample_node, final_node, \"NO\")\n",
        "                return final_node, rec_algo\n",
        "        else:\n",
        "            self._add_edge(linear_node, linear_node, \"NO\")\n",
        "            self._record_decision(\n",
        "                \"Non-linear Relationship Assumed\",\n",
        "                \"Consider SVR (RBF), KNeighborsRegressor, DecisionTreeRegressor, ensembles, or MLPRegressor.\"\n",
        "            )\n",
        "            # Check sample size for non-linear\n",
        "            sample_node = self._add_node(f\"Do you have < {self.sample_threshold_large} samples?\")\n",
        "            self._add_edge(linear_node, sample_node, \"Next\")\n",
        "\n",
        "            if self.n_samples < self.sample_threshold_large:\n",
        "                self._record_decision(\n",
        "                    \"Moderate Sample Size (Regression)\",\n",
        "                    f\"{self.n_samples} < {self.sample_threshold_large}: SVR, DecisionTreeRegressor, ensembles, or MLPRegressor.\"\n",
        "                )\n",
        "                rec_algo = \"SVR, KNeighborsRegressor, DecisionTreeRegressor, or ensemble regressors\"\n",
        "                final_node = self._add_node(f\"Recommended: {rec_algo}\")\n",
        "                self._add_edge(sample_node, final_node, \"YES\")\n",
        "                return final_node, rec_algo\n",
        "            else:\n",
        "                self._record_decision(\n",
        "                    \"Large Sample Size (Non-linear Regression)\",\n",
        "                    f\"{self.n_samples} >= {self.sample_threshold_large}: Use SGDRegressor or scalable non-linear methods.\"\n",
        "                )\n",
        "                rec_algo = \"SGDRegressor or scalable non-linear methods\"\n",
        "                final_node = self._add_node(f\"Recommended: {rec_algo}\")\n",
        "                self._add_edge(sample_node, final_node, \"NO\")\n",
        "                return final_node, rec_algo\n",
        "\n",
        "    # -------------------------------------------------------------------------\n",
        "    # Clustering Decision\n",
        "    # -------------------------------------------------------------------------\n",
        "    def _decide_algorithm_clustering(self) -> Tuple[str, str]:\n",
        "        \"\"\"\n",
        "        Decide on a clustering algorithm based on the sample size.\n",
        "\n",
        "        :return: (last_node_id, recommended_algorithm_str)\n",
        "        \"\"\"\n",
        "        clustering_node = self._add_node(\"Clustering Decision\")\n",
        "        self._record_decision(\n",
        "            \"Clustering Path\",\n",
        "            \"Unlabeled data. For clustering, if samples < 10k, KMeans or GMM. Otherwise, MiniBatchKMeans or MeanShift.\"\n",
        "        )\n",
        "\n",
        "        # Create a node for sample size check\n",
        "        sample_node = self._add_node(f\"Do you have < {self.sample_threshold_medium} samples?\")\n",
        "        self._add_edge(clustering_node, sample_node, \"Start Clustering Branch\")\n",
        "\n",
        "        if self.n_samples < self.sample_threshold_medium:\n",
        "            self._record_decision(\n",
        "                \"Small/Moderate Sample Size (Clustering)\",\n",
        "                f\"{self.n_samples} < {self.sample_threshold_medium}. KMeans or GMM recommended.\"\n",
        "            )\n",
        "            rec_algo = \"KMeans or GMM\"\n",
        "            final_node = self._add_node(f\"Recommended: {rec_algo}\")\n",
        "            self._add_edge(sample_node, final_node, \"YES\")\n",
        "            return final_node, rec_algo\n",
        "        else:\n",
        "            self._record_decision(\n",
        "                \"Large Sample Size (Clustering)\",\n",
        "                f\"{self.n_samples} >= {self.sample_threshold_medium}. MiniBatchKMeans or MeanShift recommended.\"\n",
        "            )\n",
        "            rec_algo = \"MiniBatchKMeans or MeanShift\"\n",
        "            final_node = self._add_node(f\"Recommended: {rec_algo}\")\n",
        "            self._add_edge(sample_node, final_node, \"NO\")\n",
        "            return final_node, rec_algo\n",
        "\n",
        "    # -------------------------------------------------------------------------\n",
        "    # Dimensionality Reduction Decision\n",
        "    # -------------------------------------------------------------------------\n",
        "    def _decide_algorithm_dimred(self) -> Tuple[str, str]:\n",
        "        \"\"\"\n",
        "        Decide on a dimensionality reduction algorithm based on the sample size.\n",
        "\n",
        "        :return: (last_node_id, recommended_algorithm_str)\n",
        "        \"\"\"\n",
        "        dimred_node = self._add_node(\"Dimensionality Reduction Decision\")\n",
        "        self._record_decision(\n",
        "            \"Dimensionality Reduction Path\",\n",
        "            \"Unlabeled data with high-dimensional features. If samples < 10k, Isomap or Spectral Embedding; otherwise RandomizedPCA or TruncatedSVD.\"\n",
        "        )\n",
        "\n",
        "        # Create a node for sample size check\n",
        "        sample_node = self._add_node(f\"Do you have < {self.sample_threshold_medium} samples?\")\n",
        "        self._add_edge(dimred_node, sample_node, \"Start DimRed Branch\")\n",
        "\n",
        "        if self.n_samples < self.sample_threshold_medium:\n",
        "            self._record_decision(\n",
        "                \"Small/Moderate Sample Size (DimRed)\",\n",
        "                f\"{self.n_samples} < {self.sample_threshold_medium}. Recommend Isomap or Spectral Embedding.\"\n",
        "            )\n",
        "            rec_algo = \"Isomap or Spectral Embedding\"\n",
        "            final_node = self._add_node(f\"Recommended: {rec_algo}\")\n",
        "            self._add_edge(sample_node, final_node, \"YES\")\n",
        "            return final_node, rec_algo\n",
        "        else:\n",
        "            self._record_decision(\n",
        "                \"Large Sample Size (DimRed)\",\n",
        "                f\"{self.n_samples} >= {self.sample_threshold_medium}. Recommend RandomizedPCA or TruncatedSVD.\"\n",
        "            )\n",
        "            rec_algo = \"RandomizedPCA or TruncatedSVD\"\n",
        "            final_node = self._add_node(f\"Recommended: {rec_algo}\")\n",
        "            self._add_edge(sample_node, final_node, \"NO\")\n",
        "            return final_node, rec_algo\n",
        "\n",
        "    # -------------------------------------------------------------------------\n",
        "    # Main Decision Flow\n",
        "    # -------------------------------------------------------------------------\n",
        "    def run(self) -> Tuple[List[Dict[str, Any]], str]:\n",
        "        \"\"\"\n",
        "        Run the full decision-making process:\n",
        "          1. Check sample size.\n",
        "          2. Determine if data is supervised (labeled) or unsupervised.\n",
        "          3. If supervised, check classification or regression.\n",
        "          4. If unsupervised, check clustering or dimensionality reduction.\n",
        "          5. Return the decision path and the final recommended algorithm.\n",
        "\n",
        "        :return: A tuple containing the decision path and the final recommended algorithm.\n",
        "        \"\"\"\n",
        "        # START: Sample size check\n",
        "        start_id = self._add_node(\"START: Check Sample Size (> 50 samples?)\")\n",
        "\n",
        "        if self.n_samples <= self.sample_threshold_small:\n",
        "            # Not enough data\n",
        "            self._record_decision(\n",
        "                \"Sample Size Check\",\n",
        "                f\"Only {self.n_samples} samples (<= {self.sample_threshold_small}). \"\n",
        "                \"Recommend more data or specialized small-sample methods.\"\n",
        "            )\n",
        "            insufficient_node = self._add_node(\"Insufficient Data\")\n",
        "            self._add_edge(start_id, insufficient_node, \"NO\")\n",
        "            return self.decision_path, (\n",
        "                \"Insufficient data. Consider gathering more data or using small-sample methods.\"\n",
        "            )\n",
        "        else:\n",
        "            self._record_decision(\n",
        "                \"Sample Size Check\",\n",
        "                f\"{self.n_samples} samples (> {self.sample_threshold_small}). Proceeding.\"\n",
        "            )\n",
        "            pass_node = self._add_node(\"Sufficient Samples\")\n",
        "            self._add_edge(start_id, pass_node, \"YES\")\n",
        "\n",
        "        # PROBLEM TYPE: Supervised vs. Unsupervised\n",
        "        supervised_node = self._add_node(\"Do we have a target (labeled data)?\")\n",
        "        self._add_edge(pass_node, supervised_node, \"Next\")\n",
        "\n",
        "        if self._is_supervised():\n",
        "            self._record_decision(\n",
        "                \"Supervised Check\",\n",
        "                \"Target column found → supervised learning.\"\n",
        "            )\n",
        "            # Classification vs. Regression\n",
        "            problem_node = self._add_node(\"Are you predicting a category or a quantity?\")\n",
        "            self._add_edge(supervised_node, problem_node, \"YES (labeled data)\")\n",
        "\n",
        "            if self._is_classification():\n",
        "                self._record_decision(\n",
        "                    \"Problem Type\",\n",
        "                    \"Target appears categorical → classification.\"\n",
        "                )\n",
        "                # Classification branch\n",
        "                last_node_id, recommended_algo = self._decide_algorithm_classification()\n",
        "                self._add_edge(problem_node, last_node_id, \"Predicting Category\")\n",
        "            else:\n",
        "                self._record_decision(\n",
        "                    \"Problem Type\",\n",
        "                    \"Target appears numeric → regression.\"\n",
        "                )\n",
        "                # Regression branch\n",
        "                last_node_id, recommended_algo = self._decide_algorithm_regression()\n",
        "                self._add_edge(problem_node, last_node_id, \"Predicting Quantity\")\n",
        "        else:\n",
        "            self._record_decision(\n",
        "                \"Supervised Check\",\n",
        "                \"No target column → unsupervised learning.\"\n",
        "            )\n",
        "            # Clustering vs. Dimensionality Reduction\n",
        "            unsup_node = self._add_node(\"Clustering or Dimensionality Reduction?\")\n",
        "            self._add_edge(supervised_node, unsup_node, \"NO (unlabeled data)\")\n",
        "\n",
        "            n_features = self.df.shape[1]\n",
        "            if n_features <= 10:\n",
        "                self._record_decision(\n",
        "                    \"Unsupervised Task\",\n",
        "                    f\"{n_features} features (<= 10). Assuming clustering.\"\n",
        "                )\n",
        "                last_node_id, recommended_algo = self._decide_algorithm_clustering()\n",
        "                self._add_edge(unsup_node, last_node_id, \"Clustering\")\n",
        "            else:\n",
        "                self._record_decision(\n",
        "                    \"Unsupervised Task\",\n",
        "                    f\"{n_features} features (> 10). Assuming dimensionality reduction.\"\n",
        "                )\n",
        "                last_node_id, recommended_algo = self._decide_algorithm_dimred()\n",
        "                self._add_edge(unsup_node, last_node_id, \"Dimensionality Reduction\")\n",
        "\n",
        "        return self.decision_path, recommended_algo\n",
        "\n",
        "    # -------------------------------------------------------------------------\n",
        "    # Graph Rendering\n",
        "    # -------------------------------------------------------------------------\n",
        "    def render_graph(self, output_filename: str = \"decision_flow\", view: bool = True):\n",
        "        \"\"\"\n",
        "        Render the decision graph to a file (PDF, PNG, etc.) based on the filename extension.\n",
        "\n",
        "        :param output_filename: Output file name (with .pdf or .png extension).\n",
        "        :param view: Whether to open the file after rendering.\n",
        "        \"\"\"\n",
        "        self.graph.render(filename=output_filename, view=view, cleanup=True)"
      ]
    },
    {
      "cell_type": "markdown",
      "metadata": {
        "id": "xq30KEZuIXTv"
      },
      "source": [
        "---\n",
        "Example usage (testing)"
      ]
    },
    {
      "cell_type": "code",
      "execution_count": null,
      "metadata": {
        "id": "2A6InnnoIXTv",
        "outputId": "71dfaf56-9845-4ae5-e357-9d629c2a9ba3"
      },
      "outputs": [
        {
          "name": "stdout",
          "output_type": "stream",
          "text": [
            "=== Decision Path ===\n",
            "- Sample Size Check: Only 6 samples (<= 50). Recommend more data or specialized small-sample methods.\n",
            "=== Recommended Algorithm ===\n",
            "Insufficient data. Consider gathering more data or using small-sample methods.\n",
            "\n",
            "=== Unsupervised Decision Path ===\n",
            "- Sample Size Check: Only 6 samples (<= 50). Recommend more data or specialized small-sample methods.\n",
            "=== Recommended Algorithm (Unsupervised) ===\n",
            "Insufficient data. Consider gathering more data or using small-sample methods.\n"
          ]
        }
      ],
      "source": [
        "if __name__ == \"__main__\":\n",
        "    # Synthetic example dataset\n",
        "    data = {\n",
        "        'feature1': [1, 2, 3, 4, 5, 6],\n",
        "        'feature2': [\"text\", \"text\", \"text\", \"text\", \"text\", \"text\"],\n",
        "        'y_class': [0, 1, 1, 0, 1, 0]\n",
        "    }\n",
        "    df_example = pd.DataFrame(data)\n",
        "\n",
        "    # Example with a target column (supervised classification)\n",
        "    cheat_sheet = CheatSheetSelector(df_example, target_col=\"y_class\")\n",
        "    decision_path, algo = cheat_sheet.run()\n",
        "    cheat_sheet.render_graph(\"algorithm_decision_flow_example\")  # Generates a PDF/PNG of the decision graph\n",
        "\n",
        "    print(\"=== Decision Path ===\")\n",
        "    for step in decision_path:\n",
        "        print(f\"- {step['node_name']}: {step['reason']}\")\n",
        "    print(\"=== Recommended Algorithm ===\")\n",
        "    print(algo)\n",
        "\n",
        "    # For an unsupervised example, remove the target column:\n",
        "    unsupervised_cheat_sheet = CheatSheetSelector(df_example.drop(columns=[\"y_class\"]))\n",
        "    decision_path_unsup, algo_unsup = unsupervised_cheat_sheet.run()\n",
        "    unsupervised_cheat_sheet.render_graph(\"algorithm_decision_flow_unsup\", view=False)\n",
        "\n",
        "    print(\"\\n=== Unsupervised Decision Path ===\")\n",
        "    for step in decision_path_unsup:\n",
        "        print(f\"- {step['node_name']}: {step['reason']}\")\n",
        "    print(\"=== Recommended Algorithm (Unsupervised) ===\")\n",
        "    print(algo_unsup)"
      ]
    },
    {
      "cell_type": "markdown",
      "metadata": {
        "id": "3TVfkBQGIXTv"
      },
      "source": [
        "---"
      ]
    },
    {
      "cell_type": "markdown",
      "metadata": {
        "id": "aNkXSVDEIXTv"
      },
      "source": [
        "### 1.2 Real Dataset Example using kagglehub"
      ]
    },
    {
      "cell_type": "markdown",
      "metadata": {
        "id": "BqZ14P8CIXTv"
      },
      "source": [
        "#### **Deutsche Bahn Delays** - Automatic Algorithm Selection"
      ]
    },
    {
      "cell_type": "code",
      "execution_count": null,
      "metadata": {
        "id": "Zr49ReQIIXTv",
        "outputId": "46569b6d-db8b-49e3-f10c-ba08cae0c094"
      },
      "outputs": [
        {
          "name": "stderr",
          "output_type": "stream",
          "text": [
            "<ipython-input-13-90bb953726cf>:5: DeprecationWarning: load_dataset is deprecated and will be removed in future version.\n",
            "  df_1 = kagglehub.load_dataset(\n"
          ]
        },
        {
          "name": "stdout",
          "output_type": "stream",
          "text": [
            "Warning: Looks like you're using an outdated `kagglehub` version (installed: 0.3.10), please consider upgrading to the latest version (0.3.11).\n"
          ]
        }
      ],
      "source": [
        "import kagglehub\n",
        "from kagglehub import KaggleDatasetAdapter\n",
        "\n",
        "file_path = \"DBtrainrides.csv\"\n",
        "df_1 = kagglehub.load_dataset(\n",
        "    KaggleDatasetAdapter.PANDAS,\n",
        "    \"nokkyu/deutsche-bahn-db-delays\",\n",
        "    file_path\n",
        ")"
      ]
    },
    {
      "cell_type": "code",
      "execution_count": null,
      "metadata": {
        "id": "dhECFDGBIXTv",
        "outputId": "98bb581c-a52d-4284-dcd8-ac68ecc63014"
      },
      "outputs": [
        {
          "name": "stdout",
          "output_type": "stream",
          "text": [
            "\n",
            "First 5 records of the real dataset:\n",
            "                                  ID line  \\\n",
            "0  1573967790757085557-2407072312-14   20   \n",
            "1    349781417030375472-2407080017-1   18   \n",
            "2  7157250219775883918-2407072120-25    1   \n",
            "3    349781417030375472-2407080017-2   18   \n",
            "4   1983158592123451570-2407080010-3   33   \n",
            "\n",
            "                                                path   eva_nr  category  \\\n",
            "0  Stolberg(Rheinl)Hbf Gl.44|Eschweiler-St.Jöris|...  8000001         2   \n",
            "1                                                NaN  8000001         2   \n",
            "2  Hamm(Westf)Hbf|Kamen|Kamen-Methler|Dortmund-Ku...  8000406         4   \n",
            "3                                         Aachen Hbf  8000404         5   \n",
            "4                            Herzogenrath|Kohlscheid  8000404         5   \n",
            "\n",
            "             station                state    city    zip      long        lat  \\\n",
            "0         Aachen Hbf  Nordrhein-Westfalen  Aachen  52064  6.091499  50.767800   \n",
            "1         Aachen Hbf  Nordrhein-Westfalen  Aachen  52064  6.091499  50.767800   \n",
            "2  Aachen-Rothe Erde  Nordrhein-Westfalen  Aachen  52066  6.116475  50.770202   \n",
            "3        Aachen West  Nordrhein-Westfalen  Aachen  52072  6.070715  50.780360   \n",
            "4        Aachen West  Nordrhein-Westfalen  Aachen  52072  6.070715  50.780360   \n",
            "\n",
            "          arrival_plan       departure_plan       arrival_change  \\\n",
            "0  2024-07-08 00:00:00  2024-07-08 00:01:00  2024-07-08 00:03:00   \n",
            "1                  NaN  2024-07-08 00:17:00                  NaN   \n",
            "2  2024-07-08 00:03:00  2024-07-08 00:04:00  2024-07-08 00:03:00   \n",
            "3  2024-07-08 00:20:00  2024-07-08 00:21:00                  NaN   \n",
            "4  2024-07-08 00:20:00  2024-07-08 00:21:00  2024-07-08 00:20:00   \n",
            "\n",
            "      departure_change  arrival_delay_m  departure_delay_m info  \\\n",
            "0  2024-07-08 00:04:00                3                  3  NaN   \n",
            "1                  NaN                0                  0  NaN   \n",
            "2  2024-07-08 00:04:00                0                  0  NaN   \n",
            "3                  NaN                0                  0  NaN   \n",
            "4  2024-07-08 00:21:00                0                  0  NaN   \n",
            "\n",
            "  arrival_delay_check departure_delay_check  \n",
            "0             on_time               on_time  \n",
            "1             on_time               on_time  \n",
            "2             on_time               on_time  \n",
            "3             on_time               on_time  \n",
            "4             on_time               on_time  \n",
            "\n",
            "=== Decision Path (Real Dataset) ===\n",
            "Sample Size Check: 2061357 samples (> 50). Proceeding.\n",
            "Supervised Check: Target column found → supervised learning.\n",
            "Problem Type: Target appears numeric → regression.\n",
            "Linear Relationship Assumed: Suggest LinearRegression, Ridge, Lasso, or ElasticNet.\n",
            "Large Sample Size (Regression): 2061357 >= 100000. Use SGDRegressor for scalability.\n",
            "=== Recommended Algorithm for Real Dataset ===\n",
            "SGDRegressor\n"
          ]
        }
      ],
      "source": [
        "print(\"\\nFirst 5 records of the real dataset:\")\n",
        "print(df_1.head())\n",
        "\n",
        "real_selector = CheatSheetSelector(df_1, target_col=\"arrival_delay_m\")\n",
        "decision_path_real, recommendation_real = real_selector.run()\n",
        "real_selector.render_graph(output_filename=\"real_algorithm_decision_flow\", view=True)\n",
        "print(\"\\n=== Decision Path (Real Dataset) ===\")\n",
        "for step in decision_path_real:\n",
        "    print(f\"{step['node_name']}: {step['reason']}\")\n",
        "print(\"=== Recommended Algorithm for Real Dataset ===\")\n",
        "print(recommendation_real)"
      ]
    },
    {
      "cell_type": "markdown",
      "metadata": {
        "id": "PCjHEps1IXTv"
      },
      "source": [
        "#### **Global Terrorism Database** - Automatic Algorithm Selection"
      ]
    },
    {
      "cell_type": "code",
      "execution_count": null,
      "metadata": {
        "id": "AOFhDXUWIXTv",
        "outputId": "b1ae8f40-17ea-4139-b83c-9cc22c2f3496"
      },
      "outputs": [
        {
          "name": "stderr",
          "output_type": "stream",
          "text": [
            "<ipython-input-15-1b60b19f6027>:10: DeprecationWarning: load_dataset is deprecated and will be removed in future version.\n",
            "  df_2 = kagglehub.load_dataset(\n"
          ]
        },
        {
          "name": "stdout",
          "output_type": "stream",
          "text": [
            "Warning: Looks like you're using an outdated `kagglehub` version (installed: 0.3.10), please consider upgrading to the latest version (0.3.11).\n"
          ]
        },
        {
          "name": "stderr",
          "output_type": "stream",
          "text": [
            "/usr/local/lib/python3.11/dist-packages/kagglehub/pandas_datasets.py:91: DtypeWarning: Columns (4,6,31,33,61,62,63,76,79,90,92,94,96,114,115,121) have mixed types. Specify dtype option on import or set low_memory=False.\n",
            "  result = read_function(\n"
          ]
        },
        {
          "name": "stdout",
          "output_type": "stream",
          "text": [
            "First 5 records:         eventid  iyear  imonth  iday approxdate  extended resolution  country  \\\n",
            "0  197000000001   1970       7     2        NaN         0        NaN       58   \n",
            "1  197000000002   1970       0     0        NaN         0        NaN      130   \n",
            "2  197001000001   1970       1     0        NaN         0        NaN      160   \n",
            "3  197001000002   1970       1     0        NaN         0        NaN       78   \n",
            "4  197001000003   1970       1     0        NaN         0        NaN      101   \n",
            "\n",
            "          country_txt  region  ... addnotes scite1 scite2  scite3  dbsource  \\\n",
            "0  Dominican Republic       2  ...      NaN    NaN    NaN     NaN      PGIS   \n",
            "1              Mexico       1  ...      NaN    NaN    NaN     NaN      PGIS   \n",
            "2         Philippines       5  ...      NaN    NaN    NaN     NaN      PGIS   \n",
            "3              Greece       8  ...      NaN    NaN    NaN     NaN      PGIS   \n",
            "4               Japan       4  ...      NaN    NaN    NaN     NaN      PGIS   \n",
            "\n",
            "   INT_LOG  INT_IDEO INT_MISC INT_ANY  related  \n",
            "0        0         0        0       0      NaN  \n",
            "1        0         1        1       1      NaN  \n",
            "2       -9        -9        1       1      NaN  \n",
            "3       -9        -9        1       1      NaN  \n",
            "4       -9        -9        1       1      NaN  \n",
            "\n",
            "[5 rows x 135 columns]\n"
          ]
        }
      ],
      "source": [
        "# Install dependencies as needed:\n",
        "# pip install kagglehub[pandas-datasets]\n",
        "import kagglehub\n",
        "from kagglehub import KaggleDatasetAdapter\n",
        "\n",
        "# Set the path to the file you'd like to load\n",
        "file_path = \"globalterrorismdb_0718dist.csv\"\n",
        "\n",
        "# Load the latest version\n",
        "df_2 = kagglehub.load_dataset(\n",
        "  KaggleDatasetAdapter.PANDAS,\n",
        "  \"START-UMD/gtd\",\n",
        "  file_path,\n",
        "  pandas_kwargs={\"encoding\": \"ISO-8859-1\"}\n",
        "  # Provide any additional arguments like\n",
        "  # sql_query or pandas_kwargs. See the\n",
        "  # documenation for more information:\n",
        "  # https://github.com/Kaggle/kagglehub/blob/main/README.md#kaggledatasetadapterpandas\n",
        ")\n",
        "\n",
        "print(\"First 5 records:\", df_2.head())"
      ]
    },
    {
      "cell_type": "code",
      "execution_count": null,
      "metadata": {
        "id": "dDbeBbEBIXTv",
        "outputId": "f13b3935-27da-4a15-b996-9c9a2a0a2521"
      },
      "outputs": [
        {
          "name": "stdout",
          "output_type": "stream",
          "text": [
            "\n",
            "=== Decision Path (Real Dataset) ===\n",
            "Sample Size Check: 181691 samples (> 50). Proceeding.\n",
            "Supervised Check: Target column found → supervised learning.\n",
            "Problem Type: Target appears numeric → regression.\n",
            "Linear Relationship Assumed: Suggest LinearRegression, Ridge, Lasso, or ElasticNet.\n",
            "Large Sample Size (Regression): 181691 >= 100000. Use SGDRegressor for scalability.\n",
            "=== Recommended Algorithm for Real Dataset ===\n",
            "SGDRegressor\n"
          ]
        }
      ],
      "source": [
        "real_selector = CheatSheetSelector(df_2, target_col=\"propvalue\")\n",
        "decision_path_real, recommendation_real = real_selector.run()\n",
        "real_selector.render_graph(output_filename=\"real_algorithm_decision_flow\", view=True)\n",
        "print(\"\\n=== Decision Path (Real Dataset) ===\")\n",
        "for step in decision_path_real:\n",
        "    print(f\"{step['node_name']}: {step['reason']}\")\n",
        "print(\"=== Recommended Algorithm for Real Dataset ===\")\n",
        "print(recommendation_real)"
      ]
    },
    {
      "cell_type": "markdown",
      "metadata": {
        "id": "mXeST2dvIXTv"
      },
      "source": [
        "## **Part 2:** Selected Dataset - Targeted estimation _(draft)_"
      ]
    },
    {
      "cell_type": "markdown",
      "source": [
        "### **Deutsche Bahn Delays** - Predicting Delay Occurrence and Duration"
      ],
      "metadata": {
        "id": "B0zRihcPOb1S"
      }
    },
    {
      "cell_type": "markdown",
      "source": [
        "#### **Dataset Overview**"
      ],
      "metadata": {
        "id": "hMHzB9DZCIS1"
      }
    },
    {
      "cell_type": "markdown",
      "source": [
        "We will utilize the **\"Deutsche Bahn Delays\"** dataset provided by [nokkyu](https://www.kaggle.com/datasets/nokkyu/deutsche-bahn-db-delays) to predict train delays in Germany. The dataset consists of hourly snapshots of planned train arrivals and departures, along with actual arrival and departure times, recorded delays, geographical data, and additional metadata like station categories and train lines."
      ],
      "metadata": {
        "id": "TUZBk9EuCK9e"
      }
    },
    {
      "cell_type": "markdown",
      "source": [
        "**Key features include:**\n",
        "- Planned vs. actual arrival/departure times\n",
        "- Delay durations (minutes)\n",
        "- Station geolocation\n",
        "- Station categories (main junctions to small stations)\n",
        "- Train lines and paths"
      ],
      "metadata": {
        "id": "l07EGcThCMyI"
      }
    },
    {
      "cell_type": "markdown",
      "source": [
        "#### **Project Objectives**"
      ],
      "metadata": {
        "id": "QfFljI4KCP2U"
      }
    },
    {
      "cell_type": "markdown",
      "source": [
        "This project aims to build a hybrid machine learning model capable of:\n",
        "1. **Classifying** whether a train will experience a delay (binary classification).\n",
        "2. **Estimating** the duration of delays when they occur (regression)."
      ],
      "metadata": {
        "id": "UaHEgB1nCSy4"
      }
    },
    {
      "cell_type": "markdown",
      "source": [
        "#### **Methodology**"
      ],
      "metadata": {
        "id": "qEpqS2OrCgaA"
      }
    },
    {
      "cell_type": "markdown",
      "source": [
        "We propose the following two-step modeling pipeline:\n",
        "\n",
        "**Step 1: Delay Occurrence Prediction**  \n",
        "- Target: `departure_delay_check` (\"on_time\" or \"delay\")\n",
        "- Model: `SGDClassifier` or a similar binary classifier.\n",
        "\n",
        "**Step 2: Delay Duration Prediction**  \n",
        "- Target: `departure_delay_m` (numerical minutes of delay)\n",
        "- Model: `SGDRegressor` (efficient, scalable, suitable for large datasets)"
      ],
      "metadata": {
        "id": "ntiwdy6cCipl"
      }
    },
    {
      "cell_type": "markdown",
      "metadata": {
        "id": "28Z6olMdIXTv"
      },
      "source": [
        "#### **Loading The Data**"
      ]
    },
    {
      "cell_type": "code",
      "execution_count": null,
      "metadata": {
        "colab": {
          "base_uri": "https://localhost:8080/"
        },
        "id": "oJfUMp57IXTv",
        "outputId": "00644051-1582-44f3-bc6c-c92276f5fead"
      },
      "outputs": [
        {
          "output_type": "stream",
          "name": "stderr",
          "text": [
            "<ipython-input-7-f96011839292>:10: DeprecationWarning: load_dataset is deprecated and will be removed in future version.\n",
            "  df = kagglehub.load_dataset(\n"
          ]
        },
        {
          "output_type": "stream",
          "name": "stdout",
          "text": [
            "Warning: Looks like you're using an outdated `kagglehub` version (installed: 0.3.10), please consider upgrading to the latest version (0.3.11).\n"
          ]
        }
      ],
      "source": [
        "# Install dependencies as needed:\n",
        "# pip install kagglehub[pandas-datasets]\n",
        "import kagglehub\n",
        "from kagglehub import KaggleDatasetAdapter\n",
        "\n",
        "# Set the path to the file you'd like to load\n",
        "file_path = \"DBtrainrides.csv\"\n",
        "\n",
        "# Load the latest version\n",
        "df = kagglehub.load_dataset(\n",
        "    KaggleDatasetAdapter.PANDAS,\n",
        "    \"nokkyu/deutsche-bahn-db-delays\",\n",
        "    file_path\n",
        ")"
      ]
    },
    {
      "cell_type": "code",
      "source": [
        "# print(df.head())\n"
      ],
      "metadata": {
        "id": "WzxIstUP9UJf"
      },
      "execution_count": null,
      "outputs": []
    },
    {
      "cell_type": "markdown",
      "source": [
        "#### **Exploratory Data Analysis & Visualization**"
      ],
      "metadata": {
        "id": "F3FpQXa1CtXX"
      }
    },
    {
      "cell_type": "markdown",
      "source": [
        "To understand and visualize delay patterns, the following analyses will be conducted:\n",
        "\n",
        "1. **Temporal Patterns:**\n",
        "   - Line plots showing average delays over different hours of the day.\n",
        "   - Heatmap visualizations to identify peak delay hours.\n",
        "\n",
        "2. **Geographical Patterns:**\n",
        "   - Map-based visualizations showing hotspots of frequent and prolonged delays.\n",
        "\n",
        "3. **Station Category Analysis:**\n",
        "   - Distribution of delays by station categories (e.g., large junctions vs. smaller stations)."
      ],
      "metadata": {
        "id": "wquH3muvCzfP"
      }
    },
    {
      "cell_type": "markdown",
      "source": [
        "#### **Dataset Visualizations**"
      ],
      "metadata": {
        "id": "XECxv8mGDVbs"
      }
    },
    {
      "cell_type": "markdown",
      "source": [
        "---\n",
        "\n",
        "**Temporal Patterns**"
      ],
      "metadata": {
        "id": "0gzLQAMxDZJV"
      }
    },
    {
      "cell_type": "code",
      "source": [
        "import seaborn as sns\n",
        "import matplotlib.pyplot as plt\n",
        "import pandas as pd\n",
        "\n",
        "# Convert 'departure_plan' to datetime\n",
        "df['departure_plan'] = pd.to_datetime(df['departure_plan'])\n",
        "\n",
        "# Average delays by hour\n",
        "hourly_delay = df.groupby(df['departure_plan'].dt.hour)['departure_delay_m'].mean()\n",
        "\n",
        "plt.figure(figsize=(10, 5))\n",
        "sns.lineplot(x=hourly_delay.index, y=hourly_delay.values)\n",
        "plt.title('Average Train Departure Delay by Hour')\n",
        "plt.xlabel('Hour of Day')\n",
        "plt.ylabel('Average Delay (minutes)')\n",
        "plt.grid(True)\n",
        "plt.show()"
      ],
      "metadata": {
        "colab": {
          "base_uri": "https://localhost:8080/",
          "height": 487
        },
        "id": "IEUNuRKoDeXC",
        "outputId": "29e1f7ec-8fd4-4416-9432-0dd85c1949fa"
      },
      "execution_count": null,
      "outputs": [
        {
          "output_type": "display_data",
          "data": {
            "text/plain": [
              "<Figure size 1000x500 with 1 Axes>"
            ],
            "image/png": "[encoded data removed]"
          },
          "metadata": {}
        }
      ]
    },
    {
      "cell_type": "markdown",
      "source": [
        "---\n",
        "\n",
        "**Geographical Patterns**"
      ],
      "metadata": {
        "id": "2sO79pmcDfz5"
      }
    },
    {
      "cell_type": "code",
      "source": [
        "import plotly.express as px\n",
        "\n",
        "station_delay = df.groupby(['station', 'lat', 'long']).departure_delay_m.mean().reset_index()\n",
        "\n",
        "fig = px.scatter_mapbox(\n",
        "    station_delay, lat='lat', lon='long', size='departure_delay_m',\n",
        "    hover_name='station', color='departure_delay_m', size_max=15,\n",
        "    center={\"lat\": 49.4, \"lon\": 11.5},\n",
        "    zoom=5, mapbox_style=\"carto-positron\",\n",
        "    title=\"Average Departure Delay by Station in Germany\"\n",
        ")\n",
        "fig.show()"
      ],
      "metadata": {
        "colab": {
          "base_uri": "https://localhost:8080/",
          "height": 542
        },
        "id": "4pXVvPFFD5P6",
        "outputId": "23ab4466-2313-46db-bf11-fbc341ac82f5"
      },
      "execution_count": null,
      "outputs": [
        {
          "output_type": "display_data",
          "data": {
            "text/html": [
              "<html>\n",
              "<head><meta charset=\"utf-8\" /></head>\n",
              "<body>\n",
              "    <div>            <script src=\"https://cdnjs.cloudflare.com/ajax/libs/mathjax/2.7.5/MathJax.js?config=TeX-AMS-MML_SVG\"></script><script type=\"text/javascript\">if (window.MathJax && window.MathJax.Hub && window.MathJax.Hub.Config) {window.MathJax.Hub.Config({SVG: {font: \"STIX-Web\"}});}</script>                <script type=\"text/javascript\">window.PlotlyConfig = {MathJaxConfig: 'local'};</script>\n",
              "        <script charset=\"utf-8\" src=\"https://cdn.plot.ly/plotly-2.35.2.min.js\"></script>                <div id=\"3d40e5b5-290a-4242-a94b-e7e3adc9444e\" class=\"plotly-graph-div\" style=\"height:525px; width:100%;\"></div>            <script type=\"text/javascript\">                                    window.PLOTLYENV=window.PLOTLYENV || {};                                    if (document.getElementById(\"3d40e5b5-290a-4242-a94b-e7e3adc9444e\")) {                    Plotly.newPlot(                        \"3d40e5b5-290a-4242-a94b-e7e3adc9444e\",                        [{\"hovertemplate\":\"\\u003cb\\u003e%{hovertext}\\u003c\\u002fb\\u003e\\u003cbr\\u003e\\u003cbr\\u003edeparture_delay_m=%{marker.color}\\u003cbr\\u003elat=%{lat}\\u003cbr\\u003elong=%{lon}\\u003cextra\\u003e\\u003c\\u002fextra\\u003e\",\"hovertext\":[\"Aachen Hbf\",\"Aachen Schanz\",\"Aachen West\",\"Aachen-Rothe Erde\",\"Aalen Hbf\",\"Achern\",\"Achim\",\"Ahaus\",\"Ahlen (Westf)\",\"Ahlten (Han)\",\"Ahrensburg\",\"Ahrensburg-Gartenholz\",\"Ahrensfelde\",\"Aichach\",\"Albrechtshof\",\"Albstadt-Ebingen\",\"Alexanderplatz\",\"Alfeld (Leine)\",\"Allensbach\",\"Allermöhe\",\"Alsfeld (Oberhess)\",\"Alsheim\",\"Alt-Reinickendorf\",\"Altbach\",\"Alte Wöhr\",\"Altena (Westf)\",\"Altenbeken\",\"Altenburg\",\"Altglienicke\",\"Althegnenberg\",\"Alzey\",\"Amberg\",\"Ampfing\",\"Andernach\",\"Anderten-Misburg\",\"Angermünde\",\"Anklam\",\"Annweiler am Trifels\",\"Anrath\",\"Ansbach\",\"Apolda\",\"Appenweier\",\"Armsheim\",\"Arnsberg (Westf)\",\"Arnsberg-Neheim-Hüsten\",\"Arnsdorf (b Dresden)\",\"Arnstadt Hbf\",\"Aschaffenburg Hbf\",\"Ascheberg (Holst)\",\"Aschersleben Pbf\",\"Ashausen\",\"Asperg\",\"Assmannshausen\",\"Attilastraße\",\"Au (Sieg)\",\"Auggen\",\"Augsburg Haunstetterstraße\",\"Augsburg Hbf\",\"Augsburg Messe\",\"Augsburg-Hochzoll\",\"Augsburg-Oberhausen\",\"Augustfehn\",\"Aulendorf\",\"Aumühle\",\"Aßling (Oberbay)\",\"Babelsberg\",\"Babenhausen (Hess)\",\"Bacharach\",\"Backnang\",\"Bad Aibling\",\"Bad Belzig\",\"Bad Bentheim\",\"Bad Bevensen\",\"Bad Breisig\",\"Bad Camberg\",\"Bad Doberan\",\"Bad Dürkheim\",\"Bad Ems\",\"Bad Endorf (Oberbay)\",\"Bad Friedrichshall Hbf\",\"Bad Harzburg\",\"Bad Hersfeld\",\"Bad Homburg\",\"Bad Honnef (Rhein)\",\"Bad Hönningen\",\"Bad Kissingen\",\"Bad Kleinen\",\"Bad Kreuznach\",\"Bad Krozingen\",\"Bad Kösen\",\"Bad Langensalza\",\"Bad Lausick\",\"Bad Malente-Gremsmühlen\",\"Bad Münder (Deister)\",\"Bad Münster am Stein\",\"Bad Nauheim\",\"Bad Nenndorf\",\"Bad Neuenahr\",\"Bad Neustadt (Saale)\",\"Bad Oeynhausen\",\"Bad Oldesloe\",\"Bad Pyrmont\",\"Bad Rappenau\",\"Bad Reichenhall\",\"Bad Schandau\",\"Bad Schussenried\",\"Bad Schwartau\",\"Bad Schönborn Süd\",\"Bad Sobernheim\",\"Bad Soden (Taunus)\",\"Bad Soden-Salmünster\",\"Bad Staffelstein\",\"Bad Säckingen\",\"Bad Vilbel\",\"Bad Vilbel Süd\",\"Bad Zwischenahn\",\"Baden (Kr Verden)\",\"Baden-Baden\",\"Bahrenfeld\",\"Baiersdorf\",\"Baldham\",\"Balingen (Württ)\",\"Bamberg\",\"Bantorf\",\"Bargteheide\",\"Barmbek\",\"Barnstorf (Han)\",\"Barsinghausen\",\"Bassum\",\"Baumschulenweg\",\"Baunatal-Guntershausen\",\"Bautzen\",\"Bayreuth Hbf\",\"Bebra\",\"Beckum-Neubeckum\",\"Bellevue\",\"Bennemühlen\",\"Bennigsen\",\"Benningen (Neckar)\",\"Bensheim\",\"Bensheim-Auerbach\",\"Beratzhausen\",\"Berchtesgaden Hbf\",\"Bergen auf Rügen\",\"Bergfelde (b Berlin)\",\"Bergisch Gladbach\",\"Berlin Anhalter Bahnhof\",\"Berlin Brandenburger Tor\",\"Berlin Frankfurter Allee\",\"Berlin Gesundbrunnen\",\"Berlin Hauptbahnhof\",\"Berlin Ostbahnhof\",\"Berlin Ostkreuz\",\"Berlin Potsdamer Platz\",\"Berlin Südkreuz\",\"Berlin Zoologischer Garten\",\"Berlin-Adlershof\",\"Berlin-Blankenburg\",\"Berlin-Buch\",\"Berlin-Charlottenburg\",\"Berlin-Friedrichshagen\",\"Berlin-Friedrichstraße\",\"Berlin-Frohnau\",\"Berlin-Grunewald\",\"Berlin-Grünau\",\"Berlin-Halensee\",\"Berlin-Hermsdorf\",\"Berlin-Hohenschönhausen\",\"Berlin-Karlshorst\",\"Berlin-Karow\",\"Berlin-Kaulsdorf\",\"Berlin-Köpenick\",\"Berlin-Lichtenberg\",\"Berlin-Lichterfelde Ost\",\"Berlin-Lichterfelde West\",\"Berlin-Mahlsdorf\",\"Berlin-Marienfelde\",\"Berlin-Marzahn\",\"Berlin-Neukölln\",\"Berlin-Nordbahnhof\",\"Berlin-Pankow\",\"Berlin-Rummelsburg\",\"Berlin-Schlachtensee\",\"Berlin-Schöneweide Pbf\",\"Berlin-Schönholz\",\"Berlin-Spandau\",\"Berlin-Spindlersfeld\",\"Berlin-Tegel\",\"Berlin-Tempelhof\",\"Berlin-Wannsee\",\"Berlin-Westkreuz\",\"Berlin-Wilhelmsruh\",\"Berlin-Zehlendorf\",\"Berliner Tor\",\"Bernau (b Berlin)\",\"Bernau a. Chiemsee\",\"Bernau-Friedenstal\",\"Bernburg Hbf\",\"Besigheim\",\"Betriebsbahnhof Berlin-Rummelsburg\",\"Betzdorf (Sieg)\",\"Beusselstraße\",\"Beutelsbach\",\"Bexbach\",\"Biberach (Baden)\",\"Biberach (Riß)\",\"Biblis\",\"Bickenbach (Bergstr)\",\"Biebesheim\",\"Biederitz\",\"Bielefeld Hbf\",\"Bielefeld-Brackwede\",\"Bienenbüttel\",\"Biesdorf\",\"Biessenhofen\",\"Bietigheim (Baden)\",\"Bietigheim-Bissingen\",\"Billwerder-Moorfleet\",\"Bingen (Rhein) Hbf\",\"Bingen (Rhein) Stadt\",\"Bingen-Gaulsheim\",\"Birkenstein\",\"Birkenwerder (b Berlin)\",\"Bischofswerda\",\"Bissendorf\",\"Bitterfeld\",\"Blankenburg (Harz)\",\"Blankenese\",\"Blankenfelde (Kr Teltow-Fläming)\",\"Blankenloch\",\"Blaubeuren\",\"Bleicherode Ost\",\"Bobenheim\",\"Bobingen\",\"Bochum Hbf\",\"Bochum-Dahlhausen\",\"Bochum-Ehrenfeld\",\"Bochum-Langendreer\",\"Bochum-Langendreer West\",\"Bodenheim\",\"Bodenwöhr Nord\",\"Bohmte\",\"Bondorf (b Herrenberg)\",\"Bonn Hbf\",\"Bonn UN Campus\",\"Bonn-Bad Godesberg\",\"Bonn-Beuel\",\"Bonn-Mehlem\",\"Bonn-Oberkassel\",\"Boppard Hbf\",\"Boppard-Bad Salzig\",\"Bordesholm\",\"Borgsdorf\",\"Borken (Hess)\",\"Borna (b Leipzig)\",\"Bornheim-Sechtem\",\"Bornholmer Straße\",\"Borsdorf (Sachs)\",\"Botanischer Garten\",\"Bottrop Hbf\",\"Brachbach\",\"Brake (b Bielefeld)\",\"Bramsche\",\"Brandenburg Hbf\",\"Brannenburg\",\"Braubach\",\"Braunschweig Hbf\",\"Brebach\",\"Bredstedt\",\"Breisach\",\"Breitengüßbach\",\"Bremen Hbf\",\"Bremen Neustadt\",\"Bremen-Burg\",\"Bremen-Lesum\",\"Bremen-Mahndorf\",\"Bremen-Oslebshausen\",\"Bremen-Schönebeck\",\"Bremen-Sebaldsbrück\",\"Bremen-St Magnus\",\"Bremen-Vegesack\",\"Bremen-Walle\",\"Bremerhaven Hbf\",\"Bremerhaven-Lehe Pbf\",\"Bretten\",\"Brilon Wald\",\"Brohl\",\"Bruchenbrücken\",\"Bruchmühlbach-Miesau\",\"Bruchsal\",\"Brühl\",\"Buchenau (Oberbay)\",\"Buchholz (Nordheide)\",\"Buchloe\",\"Buckower Chaussee\",\"Budenheim\",\"Buir\",\"Buldern\",\"Bullay DB\",\"Bundesplatz\",\"Burg (b Magdeburg)\",\"Burgau (Schwab)\",\"Burgdorf (Han)\",\"Burgkunstadt\",\"Burgthann\",\"Butzbach\",\"Buxtehude\",\"Böbingen (Rems)\",\"Böblingen\",\"Böhl-Iggelheim\",\"Böhlen Werke\",\"Bönen\",\"Bübingen\",\"Büchen\",\"Büchenbach\",\"Bückeburg\",\"Bühl (Baden)\",\"Bünde (Westf)\",\"Bürstadt (Ried)\",\"Bützow\",\"Calau (Niederlausitz)\",\"Calbe (Saale) Ost\",\"Castrop-Rauxel Hbf\",\"Celle Pbf\",\"Cham (Oberpf)\",\"Chemnitz Hbf\",\"Chemnitz Süd\",\"Coburg\",\"Cochem (Mosel)\",\"Coesfeld (Westf)\",\"Coswig (Bz Dresden)\",\"Cottbus Hbf\",\"Crailsheim\",\"Creußen (Oberfr)\",\"Cuxhaven\",\"Cölbe\",\"Dabendorf\",\"Dachau Bahnhof\",\"Dallgow-Döberitz\",\"Darmstadt Hbf\",\"Darmstadt Nord\",\"Darmstadt Süd\",\"Darmstadt-Eberstadt\",\"Dedensen \\u002f Gümmer\",\"Deggendorf Hbf\",\"Deisenhofen\",\"Delitzsch unt Bf\",\"Delmenhorst\",\"Demmin\",\"Denzlingen\",\"Dessau Hbf\",\"Detmold\",\"Dettingen (Main)\",\"Dieburg\",\"Diedorf (Schwab)\",\"Diepholz\",\"Dieringhausen\",\"Dietzenbach Bahnhof\",\"Dietzenbach-Mitte\",\"Dietzenbach-Steinberg\",\"Diez\",\"Dillenburg\",\"Dillingen (Donau)\",\"Dillingen (Saar)\",\"Dingolfing\",\"Dinkelscherben\",\"Dinslaken\",\"Ditzingen\",\"Doberlug-Kirchhain\",\"Dollbergen\",\"Dombühl\",\"Donaueschingen\",\"Donauwörth\",\"Dorfen Bahnhof\",\"Dormagen\",\"Dorsten\",\"Dortelweil\",\"Dortmund Hbf\",\"Dortmund Signal-Iduna-Park\",\"Dortmund-Barop\",\"Dortmund-Brackel\",\"Dortmund-Derne\",\"Dortmund-Dorstfeld\",\"Dortmund-Dorstfeld Süd\",\"Dortmund-Hörde\",\"Dortmund-Kley\",\"Dortmund-Kurl\",\"Dortmund-Mengede\",\"Dortmund-Nette\\u002fOestrich\",\"Dortmund-Oespel\",\"Dortmund-Scharnhorst\",\"Dortmund-Stadthaus\",\"Dortmund-Universität\",\"Dreieich-Buchschlag\",\"Drensteinfurt\",\"Dresden Bischofsplatz\",\"Dresden Flughafen\",\"Dresden Freiberger Straße\",\"Dresden Hbf\",\"Dresden Industriegelände\",\"Dresden Mitte\",\"Dresden-Dobritz\",\"Dresden-Friedrichstadt\",\"Dresden-Klotzsche\",\"Dresden-Neustadt\",\"Dresden-Niedersedlitz Hp\",\"Dresden-Pieschen\",\"Dresden-Plauen\",\"Dresden-Reick\",\"Dresden-Strehlen\",\"Dresden-Trachau\",\"Dresden-Zschachwitz\",\"Duckterath\",\"Dudweiler\",\"Duisburg Hbf\",\"Duisburg Schlenk\",\"Duisburg-Buchholz\",\"Duisburg-Großenbaum\",\"Duisburg-Hochfeld Süd\",\"Duisburg-Meiderich Süd\",\"Duisburg-Rahm\",\"Durmersheim\",\"Döbeln Hbf\",\"Dülmen\",\"Düren\",\"Düsseldorf Flughafen\",\"Düsseldorf Flughafen Terminal\",\"Düsseldorf Hbf\",\"Düsseldorf Volksgarten\",\"Düsseldorf Völklinger Straße\",\"Düsseldorf Wehrhahn\",\"Düsseldorf Zoo\",\"Düsseldorf-Benrath\",\"Düsseldorf-Bilk\",\"Düsseldorf-Derendorf\",\"Düsseldorf-Eller\",\"Düsseldorf-Eller Mitte\",\"Düsseldorf-Eller Süd\",\"Düsseldorf-Flingern\",\"Düsseldorf-Friedrichstadt\",\"Düsseldorf-Garath\",\"Düsseldorf-Gerresheim\",\"Düsseldorf-Hamm\",\"Düsseldorf-Hellerhof\",\"Düsseldorf-Oberbilk\",\"Düsseldorf-Rath\",\"Düsseldorf-Rath Mitte\",\"Düsseldorf-Reisholz\",\"Düsseldorf-Unterrath\",\"Ebenhausen (Unterfr)\",\"Ebensfeld\",\"Eberbach\",\"Ebersbach (Fils)\",\"Ebersbach (Sachs)\",\"Ebersberg (Oberbay)\",\"Eberswalde Hbf\",\"Eching\",\"Echterdingen\",\"Eckernförde\",\"Eddersheim\",\"Edermünde-Grifte\",\"Efringen-Kirchen\",\"Egelsbach\",\"Egestorf (Deister)\",\"Eggmühl\",\"Eglharting\",\"Ehingen (Donau)\",\"Ehlershausen\",\"Ehningen (b Böblingen)\",\"Ehrang\",\"Eichborndamm\",\"Eichenau (Oberbay)\",\"Eichenberg\",\"Eichstätt Bahnhof\",\"Eichwalde\",\"Eidelstedt\",\"Eilenburg\",\"Eilenburg Ost\",\"Eilsleben (b Magdeburg)\",\"Einbeck-Salzderhelden\",\"Eisenach\",\"Eisenhüttenstadt\",\"Eislingen (Fils)\",\"Eitorf\",\"Elbbrücken\",\"Elbgaustraße\",\"Ellental\",\"Ellingen (Bay)\",\"Ellwangen\",\"Elmshorn\",\"Elstal\",\"Elsterwerda\",\"Eltville\",\"Elze (Han)\",\"Emden Hbf\",\"Emmendingen\",\"Emmerich\",\"Emmerthal\",\"Empel-Rees\",\"Empelde\",\"Emsdetten\",\"Emskirchen\",\"Endersbach\",\"Engelskirchen\",\"Engen\",\"Engers\",\"Ennepetal (Gevelsberg)\",\"Enzberg\",\"Eppstein\",\"Eppstein-Bremthal\",\"Erbach (Württ)\",\"Erftstadt\",\"Erfurt Hbf\",\"Erfurt Nord\",\"Erfurt-Bischleben\",\"Ergoldsbach\",\"Erkelenz\",\"Erkner\",\"Erkrath\",\"Erlangen\",\"Erlangen Paul-Gossen-Straße\",\"Erlangen-Bruck\",\"Erndtebrück\",\"Erzhausen\",\"Erzingen (Baden)\",\"Eschborn\",\"Eschborn Süd\",\"Eschhofen\",\"Eschweiler Hbf\",\"Essen Hbf\",\"Essen Stadtwald\",\"Essen Süd\",\"Essen West\",\"Essen-Altenessen\",\"Essen-Borbeck\",\"Essen-Borbeck Süd\",\"Essen-Eiberg\",\"Essen-Frohnhausen\",\"Essen-Gerschede\",\"Essen-Hügel\",\"Essen-Kupferdreh\",\"Essen-Steele\",\"Essen-Steele Ost\",\"Essen-Werden\",\"Esslingen (Neckar)\",\"Esslingen-Mettingen\",\"Esslingen-Zell\",\"Esting\",\"Etelsen\",\"Ettlingen West\",\"Euskirchen\",\"Eutin\",\"Eutingen (Baden)\",\"Eutingen im Gäu\",\"Falkenberg (Elster)\",\"Falkensee\",\"Fallersleben\",\"Fasanenpark\",\"Favoritepark\",\"Feldafing\",\"Feldkirchen (b München)\",\"Fellbach\",\"Feucht\",\"Feuerbachstraße\",\"Filderstadt\",\"Finnentrop\",\"Finsterwalde (Niederlausitz)\",\"Fischbach (b Nürnberg)\",\"Fischen\",\"Flensburg\",\"Flieden\",\"Flughafen BER\",\"Flughafen Leipzig\\u002fHalle\",\"Flughafen München\",\"Flughafen München Besucherpark\",\"Flöha\",\"Flörsheim (Main)\",\"Forchheim (Oberfr)\",\"Forchheim (b Karlsruhe)\",\"Frankenthal Hbf\",\"Frankenthal Süd\",\"Frankfurt (Main) Flughafen Regionalbahnhof\",\"Frankfurt (Main) Galluswarte\",\"Frankfurt (Main) Hauptwache\",\"Frankfurt (Main) Hbf\",\"Frankfurt (Main) Konstablerwache\",\"Frankfurt (Main) Lokalbahnhof\",\"Frankfurt (Main) Mühlberg\",\"Frankfurt (Main) Niederrad\",\"Frankfurt (Main) Ost\",\"Frankfurt (Main) Ostendstraße\",\"Frankfurt (Main) Stresemannallee\",\"Frankfurt (Main) Süd\",\"Frankfurt (Main) Taunusanlage\",\"Frankfurt (Main) West\",\"Frankfurt (Oder)\",\"Frankfurt am Main Flughafen Fernbahnhof\",\"Frankfurt am Main Gateway Gardens\",\"Frankfurt am Main Messe\",\"Frankfurt am Main Stadion\",\"Frankfurt-Berkersheim\",\"Frankfurt-Eschersheim\",\"Frankfurt-Frankfurter Berg\",\"Frankfurt-Griesheim\",\"Frankfurt-Höchst\",\"Frankfurt-Höchst Farbwerke\",\"Frankfurt-Louisa\",\"Frankfurt-Mainkur\",\"Frankfurt-Nied\",\"Frankfurt-Rödelheim\",\"Frankfurt-Sindlingen\",\"Frankfurt-Zeilsheim\",\"Frechen-Königsdorf\",\"Fredersdorf (b Berlin)\",\"Freiberg (Neckar)\",\"Freiberg (Sachs)\",\"Freiburg (Breisgau) Hbf\",\"Freiburg-Littenweiler\",\"Freiburg-Wiehre\",\"Freilassing\",\"Freinsheim\",\"Freising\",\"Freital-Deuben\",\"Freital-Hainsberg\",\"Freital-Potschappel\",\"Freudenstadt Hbf\",\"Friedberg (Hess)\",\"Friedberg (b Augsburg)\",\"Friedenau\",\"Friedrich Wilhelmshütte\",\"Friedrichsberg\",\"Friedrichsdorf (Taunus)\",\"Friedrichsfeld (Niederrhein)\",\"Friedrichsfelde Ost\",\"Friedrichshafen Flughafen\",\"Friedrichshafen Hafen\",\"Friedrichshafen Stadt\",\"Friedrichstadt\",\"Fröndenberg\",\"Fröttstädt\",\"Fulda\",\"Furth (b Deisenhofen)\",\"Furth im Wald\",\"Fürstenberg (Havel)\",\"Fürstenfeldbruck\",\"Fürstenwalde (Spree)\",\"Fürth (Bay) Hbf\",\"Fürth-Burgfarrnbach\",\"Gablingen\",\"Garmisch-Partenkirchen\",\"Gau Algesheim\",\"Gauting\",\"Geilenkirchen\",\"Geisenbrunn\",\"Geisenheim\",\"Geislingen (Steige)\",\"Geithain\",\"Geldern\",\"Gelnhausen\",\"Gelsenkirchen Hbf\",\"Geltendorf\",\"Gemünden (Main)\",\"Gengenbach\",\"Gensingen-Horrweiler\",\"Genthin\",\"Georgensgmünd\",\"Gera Hbf\",\"Gera Süd\",\"Geradstetten\",\"Germering-Unterpfaffenhofen\",\"Germersheim\",\"Germersheim Mitte\\u002fRhein\",\"Gernlinden\",\"Gerolstein\",\"Geseke\",\"Gessertshausen\",\"Giengen (Brenz)\",\"Gießen\",\"Gießen Oswaldsgarten\",\"Gifhorn\",\"Gilching-Argelsried\",\"Gladbeck West\",\"Glauburg-Stockheim\",\"Glauchau (Sachs)\",\"Glückstadt\",\"Goldberg\",\"Goslar\",\"Gotha\",\"Gottenheim\",\"Gottmadingen\",\"Graben-Neudorf\",\"Grafing Bahnhof\",\"Grafing Stadt\",\"Grafrath\",\"Gransee\",\"Grebenstein\",\"Greifswald\",\"Greifswalder Straße\",\"Grenzach\",\"Greven\",\"Grevenbroich\",\"Grimma ob Bf\",\"Gronau (Westf)\",\"Gronsdorf\",\"Groß Gerau\",\"Groß Gerau-Dornberg\",\"Groß Karben\",\"Groß Rohrheim\",\"Groß Umstadt-Wiebelsbach\",\"Großauheim (Kr Hanau)\",\"Großbothen\",\"Großburgwedel\",\"Großen Linden\",\"Großenhain Cottb Bf\",\"Großheringen\",\"Großhesselohe Isartalbahnhof\",\"Großkorbetha\",\"Großkrotzenburg\",\"Grub (Oberbay)\",\"Grunbach\",\"Gräfelfing\",\"Gröbenzell\",\"Gröbers\",\"Grünberg (Oberhess)\",\"Grünbergallee\",\"Grünstadt\",\"Guben\",\"Gundelfingen\",\"Guntersblum\",\"Gunzenhausen\",\"Guxhagen\",\"Gärtringen\",\"Gäufelden\",\"Göppingen\",\"Görlitz\",\"Göttingen\",\"Gößnitz\",\"Güdingen\",\"Günzburg\",\"Güsten\",\"Güstrow\",\"Gütersloh Hbf\",\"HD-Weststadt\\u002fSüdstadt\",\"Haan\",\"Haan-Gruiten\",\"Haar\",\"Hackescher Markt\",\"Hagen Hbf\",\"Haiger\",\"Hailer-Meerholz\",\"Halberstadt\",\"Haldensleben\",\"Hallbergmoos\",\"Halle (Saale) Hbf\",\"Halle-Neustadt\",\"Hallstadt (b Bamberg)\",\"Halstenbek\",\"Haltern am See\",\"Hamburg Airport (Flughafen)\",\"Hamburg Dammtor\",\"Hamburg Hbf\",\"Hamburg-Altona\",\"Hamburg-Bergedorf\",\"Hamburg-Harburg\",\"Hamburg-Neugraben\",\"Hamburg-Rahlstedt\",\"Hamburg-Tonndorf\",\"Hameln\",\"Hamm (Westf) Hbf\",\"Hamm-Heessen\",\"Hammerbrook\",\"Hanau Hbf\",\"Hanau Nord\",\"Hanau West\",\"Hanau-Wilhelmsbad\",\"Hannover - Ledeburg\",\"Hannover - Vinnhorst\",\"Hannover Bismarckstraße\",\"Hannover Hbf\",\"Hannover Karl-Wiechert-Allee\",\"Hannover-Bornum\",\"Hannover-Flughafen\",\"Hannover-Kleefeld\",\"Hannover-Leinhausen\",\"Hannover-Linden\\u002fFischerhof\",\"Hannover-Messe \\u002f Laatzen\",\"Hannover-Nordstadt\",\"Harburg Rathaus\",\"Harthaus\",\"Hartmannshof\",\"Haslach\",\"Haspelmoor\",\"Hasselbrook\",\"Haste (Han)\",\"Hattersheim (Main)\",\"Hattingen (Ruhr)\",\"Hauptstuhl\",\"Hausach\",\"Haßfurt\",\"Haßloch (Pfalz)\",\"Hebertshausen\",\"Heddesheim\\u002fHirschberg\",\"Hedemünden\",\"Heerstraße\",\"Heide (Holst)\",\"Heidelberg Hbf\",\"Heidelberg-Altstadt\",\"Heidelberg-Kirchheim\\u002fRohrbach\",\"Heidelberg-Orthopädie\",\"Heidelberg-Pfaffengrund\\u002fWieblingen\",\"Heidelberg-Schlierbach-Ziegelhausen\",\"Heidelberger Platz\",\"Heidenau\",\"Heidenau Süd\",\"Heidenau-Großsedlitz\",\"Heidenheim\",\"Heidesheim (Rheinhess)\",\"Heilbad Heiligenstadt\",\"Heilbronn Hbf\",\"Heiligensee\",\"Heilsbronn\",\"Heimersheim\",\"Heimfeld\",\"Heimstetten\",\"Heitersheim\",\"Helmstedt\",\"Hemsbach\",\"Hennef (Sieg)\",\"Hennef Im Siegbogen\",\"Hennigsdorf (b Berlin)\",\"Heppenheim (Bergstr)\",\"Herbertingen\",\"Herbolzheim (Breisgau)\",\"Herborn (Dillkr)\",\"Herchen\",\"Herford\",\"Hermannstraße\",\"Hermsdorf-Klosterlausnitz\",\"Herne\",\"Herrenberg\",\"Herrsching\",\"Hersbruck (rechts Pegnitz)\",\"Herten (Westf)\",\"Herzberg (Harz)\",\"Herzogenrath\",\"Heusenstamm\",\"Hilden\",\"Hilden Süd\",\"Hildesheim Hbf\",\"Himmelreich\",\"Hinterzarten\",\"Hirschgarten\",\"Hirschhorn (Neckar)\",\"Hochdahl\",\"Hochdahl-Millrath\",\"Hochheim (Main)\",\"Hochkamp\",\"Hochneukirch\",\"Hochspeyer\",\"Hochstadt-Marktzeuln\",\"Hockenheim\",\"Hof Hbf\",\"Hofgeismar\",\"Hofgeismar-Hümme\",\"Hofheim (Taunus)\",\"Hohen Neuendorf (b Berlin)\",\"Hohenbrunn\",\"Hoheneichen\",\"Hohenlimburg\",\"Hohenstein-Ernstthal\",\"Hohenzollerndamm\",\"Holstenstraße\",\"Holzkirchen\",\"Holzminden\",\"Holzwickede\",\"Homburg (Saar) Hbf\",\"Hoppegarten (Mark)\",\"Horb\",\"Horka Pbf\",\"Hornberg\",\"Horneburg\",\"Horrem\",\"Hosena\",\"Hoyerswerda\",\"Hude\",\"Hulb\",\"Humboldthain\",\"Husum\",\"Hähnlein-Alsbach\",\"Hämelerwald\",\"Höfingen\",\"Höhenkirchen-Siegertsbrunn\",\"Höllriegelskreuth\",\"Hörstel\",\"Hösel\",\"Hückelhoven-Baal\",\"Hünfeld\",\"Hürth-Kalscheuren\",\"Ibbenbüren\",\"Ibbenbüren-Laggenbeck\",\"Idar-Oberstein\",\"Idstein (Taunus)\",\"Illertissen\",\"Illingen (Württ)\",\"Immendingen\",\"Immenhausen (Hess)\",\"Immenstadt\",\"Ingelheim\",\"Ingolstadt Audi\",\"Ingolstadt Hbf\",\"Ingolstadt Nord\",\"Innsbrucker Platz\",\"Iserlohn-Letmathe\",\"Ismaning\",\"Itzehoe\",\"Jaderberg\",\"Jannowitzbrücke\",\"Jena Paradies\",\"Jena West\",\"Jena-Göschwitz\",\"Johannisthal\",\"Jossa\",\"Julius-Leber-Brücke\",\"Jungfernheide\",\"Jungfernstieg\",\"Jünkerath\",\"Jüterbog\",\"Kahl (Main)\",\"Kahla (Thür)\",\"Kaiserslautern Hbf\",\"Kaldenkirchen\",\"Kall\",\"Kamen\",\"Kamen-Methler\",\"Kandel\",\"Karlsruhe Hbf\",\"Karlsruhe-Durlach\",\"Karlsruhe-Hagsfeld\",\"Karlsruhe-Mühlburg\",\"Karlstadt (Main)\",\"Karthaus\",\"Kassel Hbf\",\"Kassel-Harleshausen\",\"Kassel-Kirchditmold\",\"Kassel-Wilhelmshöhe\",\"Kaub\",\"Kaufbeuren\",\"Kaufering\",\"Kehl\",\"Keitum\",\"Kellmünz\",\"Kelsterbach\",\"Kempten (Allgäu) Hbf\",\"Kenzingen\",\"Kettwig\",\"Kevelaer\",\"Kiefersfelden\",\"Kiel Hbf\",\"Kierberg\",\"Kirch Göns\",\"Kirchen\",\"Kirchenlaibach\",\"Kirchentellinsfurt\",\"Kirchhain (Bz Kassel)\",\"Kirchheim (Neckar)\",\"Kirchheim (Teck)\",\"Kirchheim (Teck)-Ötlingen\",\"Kirchlengern\",\"Kirchseeon\",\"Kirchweyhe\",\"Kirchzarten\",\"Kirn\",\"Kissing\",\"Kitzingen\",\"Kißlegg\",\"Klanxbüll\",\"Klein Flottbek\",\"Kleinenbroich\",\"Kleinostheim\",\"Kobern-Gondorf\",\"Koblenz Hbf\",\"Koblenz Stadtmitte\",\"Koblenz-Ehrenbreitstein\",\"Koblenz-Lützel\",\"Kohlscheid\",\"Konstanz\",\"Konstanz-Petershausen\",\"Konz\",\"Korntal\",\"Kornweg (Klein Borstel)\",\"Kornwestheim Pbf\",\"Korschenbroich\",\"Krefeld Hbf\",\"Krefeld-Linn\",\"Krefeld-Oppum\",\"Krefeld-Uerdingen\",\"Kreiensen\",\"Kressbronn\",\"Kreuztal\",\"Kriftel\",\"Kronach\",\"Kronberg (Taunus)\",\"Krupunder\",\"Kulmbach\",\"Kurort Altenberg (Erzgeb)\",\"Köllnische Heide\",\"Köln Frankfurter Straße\",\"Köln Geldernstr\\u002fParkgürtel\",\"Köln Hansaring\",\"Köln Hbf\",\"Köln Messe\\u002fDeutz\",\"Köln Steinstraße\",\"Köln Süd\",\"Köln Trimbornstrasse\",\"Köln Volkhovener Weg\",\"Köln West\",\"Köln-Blumenberg\",\"Köln-Buchforst\",\"Köln-Chorweiler\",\"Köln-Chorweiler Nord\",\"Köln-Dellbrück\",\"Köln-Ehrenfeld\",\"Köln-Holweide\",\"Köln-Longerich\",\"Köln-Mülheim\",\"Köln-Müngersdorf Technologiepark\",\"Köln-Nippes\",\"Köln-Stammheim\",\"Köln-Weiden West\",\"Köln-Worringen\",\"Köln\\u002fBonn Flughafen\",\"Königs Wusterhausen\",\"Königslutter\",\"Königstein (Sächs Schweiz)\",\"Königstraße\",\"Königswinter\",\"Könnern\",\"Körle\",\"Köthen\",\"Ladenburg\",\"Lage (Lippe)\",\"Lahr (Schwarzw)\",\"Lambrecht (Pfalz)\",\"Lampertheim\",\"Landau (Isar)\",\"Landau (Pfalz) Hbf\",\"Landsberger Allee\",\"Landshut (Bay) Hbf\",\"Landstuhl\",\"Landsweiler-Reden\",\"Landungsbrücken\",\"Landwehr\",\"Lang Göns\",\"Langebrück (Sachs)\",\"Langen (Hess)\",\"Langen-Flugsicherung\",\"Langenau (Württ)\",\"Langenfeld (Rheinl)\",\"Langenfeld (Rheinl)-Berghausen\",\"Langenfelde\",\"Langenhagen - Kaltenweide\",\"Langenhagen Pferdemarkt\",\"Langenhagen-Mitte\",\"Langenhorn (Schlesw)\",\"Langenselbold\",\"Langerwehe\",\"Langwedel\",\"Langweid (Lech)\",\"Lauda\",\"Laudenbach (Bergstr)\",\"Lauenbrück\",\"Lauf (links Pegnitz)\",\"Lauf (rechts Pegnitz)\",\"Lauffen (Neckar)\",\"Laupheim West\",\"Leer (Ostfriesl)\",\"Lehnitz\",\"Lehrte\",\"Leichlingen\",\"Leinefelde\",\"Leinfelden\",\"Leipheim\",\"Leipzig Bayerischer Bahnhof\",\"Leipzig Coppiplatz\",\"Leipzig Essener Straße\",\"Leipzig Hbf\",\"Leipzig Markt\",\"Leipzig Messe\",\"Leipzig Miltitzer Allee\",\"Leipzig Mockauer Straße\",\"Leipzig Wilhelm-Leuschner-Platz\",\"Leipzig-Connewitz\",\"Leipzig-Engelsdorf\",\"Leipzig-Gohlis\",\"Leipzig-Leutzsch\",\"Leipzig-Möckern\",\"Leipzig-Paunsdorf\",\"Leipzig-Plagwitz\",\"Leipzig-Stötteritz\",\"Leipzig-Völkerschlachtdenkmal\",\"Leipzig-Wahren\",\"Lemförde\",\"Lemmie\",\"Lengede-Broistedt\",\"Lengerich (Westf)\",\"Lennestadt-Altenhundem\",\"Lennestadt-Grevenbrück\",\"Leonberg\",\"Letter\",\"Leutesdorf (Rhein)\",\"Leutkirch\",\"Leverkusen Chempark\",\"Leverkusen Mitte\",\"Leverkusen-Küppersteg\",\"Leverkusen-Manfort\",\"Leverkusen-Rheindorf\",\"Lich (Oberhess)\",\"Lichtenfels\",\"Lichtenrade\",\"Lichterfelde Süd\",\"Limburg (Lahn)\",\"Limburgerhof\",\"Lindau-Insel\",\"Lindau-Reutin\",\"Lindern\",\"Lingen (Ems)\",\"Linz (Rhein)\",\"Lippstadt\",\"Lochham\",\"Lohhof\",\"Lohr Bahnhof\",\"Lollar\",\"Lorch (Württ)\",\"Lorsbach\",\"Luckenwalde\",\"Ludwigsburg\",\"Ludwigsfelde\",\"Ludwigshafen (Rhein) Hbf\",\"Ludwigshafen (Rhein) Mitte\",\"Ludwigshafen-Mundenheim\",\"Ludwigshafen-Oggersheim\",\"Ludwigshafen-Rheingönheim\",\"Ludwigslust\",\"Luisenthal (Saar)\",\"Lunden\",\"Lutherstadt Eisleben\",\"Lutherstadt Wittenberg Hauptbahnhof\",\"Löbau (Sachs)\",\"Löhne (Westf)\",\"Lörrach Hbf\",\"Lörrach Museum\\u002fBurghof\",\"Lörrach Schwarzwaldstraße\",\"Lövenich\",\"Löwenberg (Mark)\",\"Lübben (Spreewald)\",\"Lübbenau (Spreewald)\",\"Lübeck Hbf\",\"Lübeck-Moisling\",\"Lüneburg\",\"Lünen Hbf\",\"Lünen Preußen\",\"Magdeburg Hbf\",\"Magdeburg SKET Industriepark\",\"Magdeburg Südost\",\"Magdeburg-Buckau\",\"Magdeburg-Eichenweiler\",\"Magdeburg-Neustadt\",\"Magdeburg-Salbke\",\"Mahlow\",\"Maichingen Nord\",\"Maintal Ost\",\"Maintal West\",\"Mainz Hbf\",\"Mainz Nord\",\"Mainz Römisches Theater\",\"Mainz-Bischofsheim\",\"Mainz-Gustavsburg\",\"Mainz-Kastel\",\"Mainz-Laubenheim\",\"Mainz-Mombach\",\"Maisach\",\"Malmsheim\",\"Mammendorf\",\"Mannheim ARENA \\u002f Maimarkt\",\"Mannheim Hbf\",\"Mannheim-Friedrichsfeld Süd\",\"Mannheim-Luzenberg\",\"Mannheim-Neckarau\",\"Mannheim-Rheinau\",\"Mannheim-Seckenheim\",\"Mannheim-Waldhof\",\"Marbach (Neckar)\",\"Marburg (Lahn)\",\"Marburg Süd\",\"Markdorf (Baden)\",\"Markkleeberg\",\"Markkleeberg Nord\",\"Markkleeberg-Gaschwitz\",\"Markt Schwaben\",\"Marktredwitz\",\"Marl-Sinsen\",\"Marquardt\",\"Maschen\",\"Maubach\",\"Maxhütte-Haidhof\",\"Mayen Ost\",\"Mechernich\",\"Meckelfeld\",\"Meckenbeuren\",\"Meckenheim\",\"Meckenheim Industriepark\",\"Meckesheim\",\"Meerbusch-Osterath\",\"Mehrower Allee\",\"Meiningen\",\"Meitingen\",\"Meißen\",\"Meißen Altstadt\",\"Melle\",\"Mellendorf\",\"Memmingen\",\"Menden (Rheinl)\",\"Mengen\",\"Meppen\",\"Mering\",\"Mering-St Afra\",\"Merklingen - Schwäbische Alb\",\"Merseburg Hbf\",\"Mertingen Bahnhof\",\"Merzenich\",\"Merzig (Saar)\",\"Meschede\",\"Messe Nord \\u002f ICC (Witzleben)\",\"Messe Süd (Eichkamp)\",\"Metzingen\",\"Mexikoplatz\",\"Michendorf\",\"Mindelheim\",\"Minden (Westf)\",\"Mittenwald\",\"Mittlerer Landweg\",\"Mittweida\",\"Mockrehna\",\"Moers\",\"Monsheim\",\"Montabaur\",\"Moosburg\",\"Morsum (Sylt)\",\"Mosbach (Baden)\",\"Mosbach West\",\"Mosbach-Neckarelz\",\"Murnau\",\"Murrhardt\",\"Möckmühl\",\"Mönchengladbach Hbf\",\"Mörfelden\",\"Mössingen\",\"Mühlacker\",\"Mühlhausen (Thür)\",\"Mühlheim (Main)\",\"Mühlheim-Dietesheim\",\"Mülheim (Ruhr) Hbf\",\"Mülheim (Ruhr) West\",\"Mülheim (Ruhr)-Styrum\",\"Mülheim-Kärlich\",\"Müllheim (Baden)\",\"Münchberg\",\"München Donnersbergerbrücke\",\"München Harras\",\"München Hbf\",\"München Heimeranplatz\",\"München Isartor\",\"München Karlsplatz\",\"München Leienfelsstraße\",\"München Leuchtenbergring\",\"München Marienplatz\",\"München Ost\",\"München Rosenheimer Platz\",\"München Siemenswerke\",\"München St Martin Straße\",\"München-Allach\",\"München-Aubing\",\"München-Berg am Laim\",\"München-Daglfing\",\"München-Englschalking\",\"München-Fasanerie\",\"München-Fasangarten\",\"München-Feldmoching\",\"München-Freiham\",\"München-Giesing\",\"München-Hackerbrücke\",\"München-Hirschgarten\",\"München-Johanneskirchen\",\"München-Karlsfeld\",\"München-Laim Pbf\",\"München-Langwied\",\"München-Lochhausen\",\"München-Mittersendling\",\"München-Moosach\",\"München-Neuaubing\",\"München-Neuperlach Süd\",\"München-Obermenzing\",\"München-Pasing\",\"München-Perlach\",\"München-Riem Pbf\",\"München-Solln\",\"München-Trudering\",\"München-Untermenzing\",\"München-Westkreuz\",\"Münster (Westf) Hbf\",\"Münster Zentrum Nord\",\"Münster-Hiltrup\",\"Münster-Sprakel\",\"Nackenheim\",\"Nauen\",\"Naumburg (Saale) Hbf\",\"Neckargemünd\",\"Neckargemünd Altstadt\",\"Neckargerach\",\"Neckarsteinach\",\"Neckarsulm\",\"Neckarsulm Nord\",\"Nellmersbach\",\"Nersingen\",\"Nettelnburg\",\"Neu Isenburg\",\"Neu-Edingen\\u002fFriedrichsfeld\",\"Neu-Ulm\",\"Neubiberg\",\"Neubrandenburg\",\"Neubrücke (Nahe)\",\"Neuburg (Donau)\",\"Neudietendorf\",\"Neuenmarkt-Wirsberg\",\"Neufahrn (Niederbay)\",\"Neufahrn (b Freising)\",\"Neugilching\",\"Neuhaus (Pegnitz)\",\"Neuhof (Kr Fulda)\",\"Neukieritzsch\",\"Neukirchen (b Sulzb)\",\"Neulußheim\",\"Neumarkt (Oberpf)\",\"Neumünster\",\"Neunkirchen (Saar) Hbf\",\"Neunkirchen (Saar)-Wellesweiler\",\"Neunkirchen a Sand\",\"Neupetershain\",\"Neuss Am Kaiser\",\"Neuss Hbf\",\"Neuss Rheinpark-Center\",\"Neustadt (Aisch) Bahnhof\",\"Neustadt (Dosse)\",\"Neustadt (Kr Marburg)\",\"Neustadt (Schwarzw)\",\"Neustadt (Weinstr) Böbig\",\"Neustadt (Weinstr) Hbf\",\"Neustadt a Rübenberge\",\"Neustadt-Hohenacker\",\"Neustrelitz Hbf\",\"Neusäß\",\"Neuwied\",\"Neuwiedenthal\",\"Neuwirtshaus (Porscheplatz)\",\"Neuzelle\",\"Nidda\",\"Nidderau\",\"Niebüll\",\"Nieder Wöllstadt\",\"Niederbrechen\",\"Niederdollendorf\",\"Niederhöchstadt\",\"Niederjosbach\",\"Niederlahnstein\",\"Niederlinxweiler\",\"Niedermittlau\",\"Niedernhausen (Taunus)\",\"Niederschelden\",\"Niederselters\",\"Niederwalgern\",\"Niederwiesa\",\"Niefern\",\"Nienburg (Weser)\",\"Nierstein\",\"Nikolassee\",\"Norddeich Mole\",\"Norden\",\"Nordendorf\",\"Nordhausen\",\"Nordstemmen\",\"Norf\",\"Northeim (Han)\",\"Nottuln-Appelhülsen\",\"Nufringen\",\"Nöldnerplatz\",\"Nördlingen\",\"Nörten-Hardenberg\",\"Nürnberg Hbf\",\"Nürnberg Ost\",\"Nürnberg Rothenburger Straße\",\"Nürnberg-Dutzendteich\",\"Nürnberg-Dürrenhof\",\"Nürnberg-Eibach\",\"Nürnberg-Frankenstadion\",\"Nürnberg-Gleißhammer\",\"Nürnberg-Laufamholz\",\"Nürnberg-Ostring\",\"Nürnberg-Reichelsdorf\",\"Nürnberg-Stein\",\"Nürnberg-Steinbühl\",\"Nürtingen\",\"Oberaichen\",\"Oberaudorf\",\"Oberesslingen\",\"Oberhaid\",\"Oberhausen Hbf\",\"Oberhausen-Holten\",\"Oberhausen-Sterkrade\",\"Oberkochen\",\"Oberkotzau\",\"Oberlahnstein\",\"Oberndorf (Neckar)\",\"Oberschleißheim\",\"Oberstdorf\",\"Obertraubling\",\"Obertshausen (Kr Offenbach)\",\"Oberursel (Taunus)\",\"Oberursel-Stierstadt\",\"Oberursel-Weißkirchen\\u002fSteinbach\",\"Oberwesel\",\"Oberwinter\",\"Ochenbruck\",\"Ochsenfurt\",\"Ochtrup\",\"Oebisfelde\",\"Oelde\",\"Oestrich-Winkel\",\"Offenbach (Main) Hbf\",\"Offenbach (Main) Ost\",\"Offenbach Ledermuseum\",\"Offenbach Marktplatz\",\"Offenbach-Bieber\",\"Offenbach-Kaiserlei\",\"Offenbach-Waldhof\",\"Offenburg\",\"Oftersheim\",\"Ohlsdorf\",\"Okarben\",\"Oker\",\"Olching\",\"Oldenburg (Oldb) Hbf\",\"Olsberg\",\"Olympiastadion\",\"Opladen\",\"Oppenheim\",\"Oranienburg\",\"Oranienburger Straße\",\"Orschweier\",\"Oschatz\",\"Osdorferstraße\",\"Osnabrück Altstadt\",\"Osnabrück Hbf\",\"Osterburken\",\"Osterhofen (Niederbay)\",\"Osterholz-Scharmbeck\",\"Ostheim (b Butzbach)\",\"Osthofen\",\"Ostseebad Binz\",\"Othmarschen\",\"Ottensen\",\"Otterfing\",\"Ottersberg (Han)\",\"Otting-Weilheim\",\"Ottobrunn\",\"Ottweiler (Saar)\",\"Overath\",\"Owschlag\",\"Paderborn Hbf\",\"Pankow-Heinersdorf\",\"Papenburg (Ems)\",\"Parsberg\",\"Pasewalk\",\"Passau Hbf\",\"Pegnitz\",\"Peine\",\"Petershausen (Oberbay)\",\"Pfaffenhofen (Ilm)\",\"Pfalzel\",\"Pforzheim Hbf\",\"Philippsburg (Baden)\",\"Pichelsberg\",\"Pinneberg\",\"Pirmasens Hbf\",\"Pirmasens Nord\",\"Pirna\",\"Planegg (Krailling)\",\"Plattling\",\"Plaue (Thür)\",\"Plauen (Vogtl) ob Bf\",\"Pleinfeld\",\"Plettenberg\",\"Plochingen\",\"Plänterwald\",\"Plüderhausen\",\"Poelchaustraße\",\"Poing\",\"Poppenbüttel\",\"Porta Westfalica\",\"Porz (Rhein)\",\"Porz-Wahn\",\"Possenhofen\",\"Postbauer-Heng\",\"Potsdam Charlottenhof\",\"Potsdam Griebnitzsee\",\"Potsdam Hbf\",\"Potsdam Medienstadt Babelsberg\",\"Potsdam Park Sanssouci\",\"Preetz\",\"Prenzlau\",\"Prenzlauer Allee\",\"Priemerburg\",\"Prien am Chiemsee\",\"Priesterweg\",\"Prisdorf\",\"Probstzella\",\"Puchheim\",\"Pulheim\",\"Pulling (b Freising)\",\"Quedlinburg\",\"Radeberg\",\"Radebeul Ost\",\"Radebeul-Kötzschenbroda\",\"Radebeul-Weintraube\",\"Radldorf (Niederbay)\",\"Radolfzell\",\"Rahnsdorf\",\"Raisdorf\",\"Rangsdorf\",\"Raoul-Wallenberg-Straße\",\"Rastatt\",\"Rastede\",\"Rathaus Steglitz\",\"Rathenow\",\"Ratingen Ost\",\"Ratzeburg\",\"Raubling\",\"Raunheim\",\"Ravensburg\",\"Reckenfeld\",\"Recklinghausen Hbf\",\"Recklinghausen Süd\",\"Reeperbahn\",\"Regensburg Hbf\",\"Regensburg-Prüfening\",\"Reichenbach (Fils)\",\"Reichenbach (Vogtl) ob Bf\",\"Reinbek\",\"Reinfeld (Holst)\",\"Remagen\",\"Remscheid Hbf\",\"Remscheid-Lennep\",\"Renchen\",\"Rendsburg\",\"Renningen\",\"Retzbach-Zellingen\",\"Reutlingen Hbf\",\"Rheda-Wiedenbrück\",\"Rheine\",\"Rheinfelden (Baden)\",\"Rheinhausen\",\"Rheinhausen Ost\",\"Rheydt Hbf\",\"Rhöndorf\",\"Ribnitz-Damgarten West\",\"Riedstadt-Goddelau\",\"Riegel-Malterdingen\",\"Riesa\",\"Ringsheim\\u002fEuropa-Park\",\"Rissen\",\"Rockenhausen\",\"Rodenbach bei Hanau\",\"Rodgau-Dudenhofen\",\"Rodgau-Hainhausen\",\"Rodgau-Jügesheim\",\"Rodgau-Nieder Roden\",\"Rodgau-Weiskirchen\",\"Rohrbach (Ilm)\",\"Rohrbach (Saar)\",\"Roisdorf\",\"Rommelshausen\",\"Rommerskirchen\",\"Ronnenberg (Han)\",\"Rosbach (Sieg)\",\"Rosenheim\",\"Rostock Evershagen\",\"Rostock Hbf\",\"Rostock Holbeinplatz\",\"Rostock Lichtenhagen\",\"Rostock Lütten Klein\",\"Rostock Parkstraße\",\"Rostock-Bramow\",\"Rostock-Marienehe\",\"Rot-Malsch\",\"Rotenburg (Wümme)\",\"Roth\",\"Rothenburgsort\",\"Rottenbach\",\"Rottenburg (Neckar)\",\"Rottendorf\",\"Rottweil\",\"Roßlau (Elbe)\",\"Roßtal\",\"Rudolstadt (Thür)\",\"Ruhland\",\"Rumeln\",\"Rutesheim\",\"Röblingen am See\",\"Rödermark-Ober Roden\",\"Röhrmoos\",\"Röntgental\",\"Rösrath\",\"Röthenbach (Pegnitz)\",\"Rövershagen\",\"Rübenkamp\",\"Rückersdorf (Mittelfr)\",\"Rüdesheim (Rhein)\",\"Rüsselsheim\",\"Rüsselsheim Opelwerk\",\"Saalfeld (Saale)\",\"Saarbrücken Hbf\",\"Saarbrücken Ost\",\"Saarburg (Bz Trier)\",\"Saarlouis Hbf\",\"Sachsenheim\",\"Salzbergen\",\"Salzgitter-Ringelheim\",\"Salzkotten\",\"Salzwedel\",\"Sande\",\"Sandersleben (Anh)\",\"Sangerhausen\",\"Sarstedt\",\"Sauerlach\",\"Savignyplatz\",\"Schaftlach\",\"Schallstadt\",\"Scharbeutz\",\"Scheeßel\",\"Scheidt (Saar)\",\"Schichauweg\",\"Schifferstadt\",\"Schifferstadt Süd\",\"Schkeuditz\",\"Schladern (Sieg)\",\"Schleswig\",\"Schlüchtern\",\"Schongau\",\"Schopfheim\",\"Schorndorf\",\"Schulzendorf (b Tegel)\",\"Schwaan\",\"Schwabach\",\"Schwabach-Limbach\",\"Schwabmünchen\",\"Schwaikheim\",\"Schwalbach a Ts (Limes)\",\"Schwandorf\",\"Schwarzenbek\",\"Schwarzenfeld (Oberpf)\",\"Schweich DB\",\"Schweinfurt Hbf\",\"Schweinfurt Stadt\",\"Schwelm\",\"Schwerin Hbf\",\"Schwerin Mitte\",\"Schwerte (Ruhr)\",\"Schwetzingen\",\"Schwetzingen-Hirschacker\",\"Schwindegg\",\"Schwäbisch Gmünd\",\"Schwäbisch Hall-Hessental\",\"Schöna\",\"Schönebeck (Elbe)\",\"Schöneberg\",\"Schönefeld (bei Berlin)\",\"Schöngeising\",\"Schönhauser Allee\",\"Seckach\",\"Seddin\",\"Sedlitz Ost\",\"Seefeld-Hechendorf\",\"Seegefeld\",\"Seelze Pbf\",\"Seesen\",\"Sehnde\",\"Senden\",\"Senden-Bösensell\",\"Senftenberg\",\"Sersheim\",\"Seubersdorf\",\"Seulberg\",\"Siegburg\\u002fBonn\",\"Siegelsdorf\",\"Siegen Hbf\",\"Siegen-Weidenau\",\"Sigmaringen\",\"Singen (Hohentwiel)\",\"Sinsheim (Elsenz) Hbf\",\"Sinzig (Rhein)\",\"Soest\",\"Solingen Hbf\",\"Solingen Vogelpark\",\"Solingen-Grünewald\",\"Solingen-Mitte\",\"Soltau (Han)\",\"Sonneberg (Thür) Hbf\",\"Sonnenallee\",\"Sonthofen\",\"Sottrum\",\"Spaichingen\",\"Speyer Hbf\",\"Spich\",\"Springe\",\"Springpfuhl\",\"Sprötze\",\"St Egidien\",\"St. Georgen (Schwarzw)\",\"St. Goar\",\"St. Ilgen\\u002fSandhausen\",\"St. Ingbert\",\"St. Michaelisdonn\",\"St. Wendel\",\"Stade\",\"Stadt Wehlen (Sachs)\",\"Stadtallendorf\",\"Stadthagen\",\"Stadthausbrücke\",\"Starnberg\",\"Starnberg-Nord\",\"Staudernheim\",\"Staßfurt\",\"Steinach (b Rothenburg o.d. Tauber)\",\"Steinau (Straße)\",\"Steinbach a Wald\",\"Steinen\",\"Steinheim\\u002fMain\",\"Stelle\",\"Stellingen\",\"Stendal Hbf\",\"Stendal-Stadtsee\",\"Sternschanze\",\"Stetten-Beinstein\",\"Stettfeld-Weiher\",\"Stockdorf\",\"Stolberg (Rheinl) Hbf\",\"Stommeln\",\"Storkower Straße\",\"Stralsund Hbf\",\"Straubing\",\"Strausberg\",\"Strausberg Nord\",\"Strausberg Stadt\",\"Stresow\",\"Stuttgart Feuersee\",\"Stuttgart Flughafen\\u002fMesse\",\"Stuttgart Hbf\",\"Stuttgart Neckarpark\",\"Stuttgart Nord\",\"Stuttgart Nürnberger Straße\",\"Stuttgart Schwabstraße\",\"Stuttgart Stadtmitte\",\"Stuttgart Universität\",\"Stuttgart Österfeld\",\"Stuttgart-Bad Cannstatt\",\"Stuttgart-Feuerbach\",\"Stuttgart-Obertürkheim\",\"Stuttgart-Rohr\",\"Stuttgart-Sommerrain\",\"Stuttgart-Untertürkheim Pbf\",\"Stuttgart-Vaihingen\",\"Stuttgart-Weilimdorf\",\"Stuttgart-Zuffenhausen\",\"Suhl\",\"Sulz (Neckar)\",\"Sulzbach (Murr)\",\"Sulzbach (Saar)\",\"Sundgauer Straße\",\"Syke\",\"Sythen\",\"Sömmerda\",\"Südende\",\"Sülldorf\",\"Süßen\",\"Tamm (Württ)\",\"Taucha (b Leipzig)\",\"Taufkirchen\",\"Teisendorf\",\"Teltow Stadt\",\"Thale Hbf\",\"Tharandt\",\"Thesdorf\",\"Tiefstack\",\"Tiengen (Hochrhein)\",\"Tiergarten\",\"Timmendorferstrand\",\"Titisee\",\"Torgau\",\"Tornesch\",\"Tostedt\",\"Traunstein\",\"Trebbin\",\"Treis-Karden\",\"Treptower Park\",\"Treuchtlingen\",\"Treysa\",\"Triberg\",\"Trier Hbf\",\"Trier Süd\",\"Troisdorf\",\"Trompet\",\"Tuttlingen\",\"Tutzing\",\"Twistringen\",\"Tübingen Hbf\",\"Türkenfeld\",\"Türkheim (Bay) Bahnhof\",\"Türkismühle\",\"Uelzen\",\"Uffing am Staffelsee\",\"Uhingen\",\"Ulm Hbf\",\"Unkel\",\"Unna\",\"Unterföhring\",\"Unterhaching\",\"Unterlüß\",\"Unterschleißheim\",\"Urbach (b Schorndorf)\",\"Vach\",\"Vaihingen (Enz)\",\"Varel (Oldb)\",\"Vaterstetten\",\"Vechelde\",\"Veddel\",\"Veitshöchheim\",\"Velbert-Langenberg\",\"Velbert-Neviges\",\"Velgast\",\"Vellmar-Obervellmar\",\"Vellmar-Osterberg\\u002fEKZ\",\"Velten (Mark)\",\"Verden (Aller)\",\"Vienenburg\",\"Vierkirchen-Esterhofen\",\"Viersen\",\"Viersen-Dülken\",\"Villingen (Schwarzw)\",\"Vilshofen (Niederbay)\",\"Voerde (Niederrhein)\",\"Vöhrum\",\"Völklingen\",\"Völksen-Eldagsen\",\"Wabern (Bz Kassel)\",\"Waghäusel\",\"Waiblingen\",\"Waidmannslust\",\"Waldkirch\",\"Waldshut\",\"Walldorf (Hess)\",\"Wandsbeker Chaussee\",\"Wangen (Allgäu)\",\"Wanne-Eickel Hbf\",\"Wannweil\",\"Warburg (Westf)\",\"Waren (Müritz)\",\"Warnemünde\",\"Warnemünde Werft\",\"Warschauer Straße\",\"Wartenberg\",\"Wattenscheid\",\"Wattenscheid-Höntrop\",\"Waßmannsdorf\",\"Wedding\",\"Wedel (Holst)\",\"Weetzen\",\"Weiden (Oberpf)\",\"Weidenthal\",\"Weil am Rhein\",\"Weil der Stadt\",\"Weilburg\",\"Weiler (Rems)\",\"Weilheim (Oberbay)\",\"Weimar\",\"Weinheim (Bergstr) Hbf\",\"Weinheim-Sulzbach\",\"Weischlitz\",\"Weißenburg (Bay)\",\"Weißenfels\",\"Weißenthurm\",\"Weißwasser (Oberlausitz)\",\"Wellingsbüttel\",\"Welver\",\"Wendlingen (Neckar)\",\"Wennigsen (Deister)\",\"Werdau\",\"Werder (Havel)\",\"Werdohl\",\"Werl\",\"Wernau (Neckar)\",\"Wernberg\",\"Werne (a d Lippe)\",\"Wernigerode Hbf\",\"Wernshausen\",\"Wesel\",\"Westend\",\"Westerland (Sylt)\",\"Westerstede-Ocholt\",\"Westhafen\",\"Westheim (Schwab)\",\"Wetter (Ruhr)\",\"Wetzlar\",\"Weßling (Oberbay)\",\"Wickede (Ruhr)\",\"Wicklesgreuth\",\"Wiesau (Oberpf)\",\"Wiesbaden Hbf\",\"Wiesbaden Ost\",\"Wiesloch-Walldorf\",\"Wiesthal\",\"Wildau\",\"Wilferdingen-Singen\",\"Wilhelmsburg\",\"Wilhelmshagen\",\"Wilhelmshaven\",\"Wilhelmshorst\",\"Wilster\",\"Winden (Pfalz)\",\"Winnenden\",\"Winsen (Luhe)\",\"Winterbach (b Schorndorf)\",\"Wismar\",\"Wissen (Sieg)\",\"Witten Hbf\",\"Wittenau (Wilhelmsruher Damm)\",\"Wittenberge\",\"Wittlich Hbf\",\"Witzenhausen Nord\",\"Wohltorf\",\"Wolfen (Bitterfeld)\",\"Wolfsburg Hbf\",\"Wollankstraße\",\"Wolmirstedt\",\"Worms Hbf\",\"Wrist\",\"Wuhlheide\",\"Wunstorf\",\"Wuppertal Hbf\",\"Wuppertal Zoologischer Garten\",\"Wuppertal-Barmen\",\"Wuppertal-Oberbarmen\",\"Wuppertal-Ronsdorf\",\"Wuppertal-Sonnborn\",\"Wuppertal-Steinbeck\",\"Wuppertal-Unterbarmen\",\"Wuppertal-Vohwinkel\",\"Wurzen\",\"Wustermark\",\"Wächterhof\",\"Wächtersbach\",\"Wörrstadt\",\"Wörth (Isar)\",\"Wörth (Rhein)\",\"Wülfrath-Aprath\",\"Wünsdorf Waldstadt\",\"Würzburg Hbf\",\"Würzburg Süd\",\"Würzburg-Heidingsfeld Ost\",\"Yorckstraße\",\"Yorckstraße (Großgörschenstraße)\",\"Zapfendorf\",\"Zeitz\",\"Zella-Mehlis\",\"Zepernick (b Bernau)\",\"Zeuthen\",\"Zieverich\",\"Zittau\",\"Zorneding\",\"Zossen\",\"Zweibrücken Hbf\",\"Zwickau (Sachs) Hbf\",\"Zwingenberg (Bergstr)\",\"Züssow\",\"Öhringen Hbf\",\"Ötigheim\",\"Übach-Palenberg\",\"Übersee\"],\"lat\":[50.7678,50.769862,50.78036,50.770202,48.841013,48.63399,53.01599,52.081681,51.761062,52.376062,53.669171,53.688482,52.571375,48.461117,52.549396,48.21029,52.521481,51.981417,47.714464,53.490356,50.750962,49.765528,52.578091,48.720393,53.59793,51.301981,51.766433,50.996648,52.407299,48.236374,49.7502,49.447616,48.253949,50.434542,52.369161,53.015221,53.856102,49.205386,51.285536,49.298032,51.03094,48.541461,49.808372,51.405662,51.438003,51.092807,50.841939,49.980557,54.148462,51.757122,53.368693,48.907359,49.985324,52.447681,50.773765,47.789949,48.355285,48.365441,48.338684,48.352977,48.380772,53.22089,47.953052,53.529853,47.989491,52.391391,49.957963,50.056101,48.942676,47.862028,52.135969,52.30985,53.078247,50.504218,50.296433,54.100004,49.460633,50.327652,47.905066,49.231571,51.8883687,50.869632,50.219904,50.639772,50.513676,50.191547,53.766974,49.842399,47.919721,51.130742,51.101701,51.143803,54.167014,52.178192,49.813426,50.367904,52.343735,50.547765,50.328127,52.205398,53.8053902,51.974233,49.237765,47.731168,50.9192886,47.994033,53.916276,49.200001,49.78285,50.1429607,50.280742,50.108258,47.555857,50.188677,50.178696,53.182547,53.007872,48.790327,53.56006,49.656147,48.099256,48.278469,49.900759,52.332253,53.7282,53.587458,52.707587,52.30489,52.847388,52.467244,51.229917,51.173097,49.949616,50.969568,51.801951,52.519955,52.580993,52.240733,48.943614,49.681329,49.701557,49.092846,47.626688,54.4205,52.670303,50.991461,52.503486,52.516506,52.515168,52.548963,52.525592,52.5104881,52.503037,52.509379,52.475047,52.5073407,52.435031,52.591164,52.636162,52.5042126,52.457247,52.520373,52.632758,52.488693,52.413028,52.496254,52.617782,52.5660016,52.4797942,52.614884,52.512093,52.45861,52.5101355,52.429451,52.44335,52.512107,52.423634,52.543608,52.46942,52.532066,52.566477,52.501309,52.439976,52.455127,52.571422,52.5346481,52.447162,52.587998,52.470967,52.4209723,52.500737,52.581447,52.431067,53.55287,52.6755689,47.816482,52.668385,51.79612,48.997723,52.493827,50.789294,52.534354,48.810293,49.345698,48.338388,48.101845,49.688881,49.759632,49.781977,52.15271,52.029261,51.997378,53.142127,52.513097,47.829956,48.910587,48.947933,53.515589,49.968729,49.969746,49.967073,52.515601,52.688249,51.125585,52.522705,51.622861,51.795824,53.564364,52.337213,49.066528,48.403815,51.453175,49.588139,48.266373,51.478609,51.426358,51.472117,51.477992,51.478032,49.929585,49.278381,52.361632,48.523552,50.732008,50.71454,50.683927,50.738476,50.669153,50.715073,50.231413,50.205251,54.174373,52.715252,51.050684,51.117926,50.795711,52.554491,51.345705,52.447784,51.50945,50.822099,52.069653,52.410879,52.400554,47.741354,50.27414,52.252218,49.215859,54.621166,48.026918,49.96683,53.083481,53.075782,53.160288,53.170716,53.039762,53.135298,53.1728,53.061355,53.17158,53.169716,53.103792,53.534912,53.566324,49.0369,51.349159,50.481429,50.301965,49.385343,49.124622,50.829249,48.160277,53.324683,48.033723,52.410351,50.026835,50.862401,51.863054,50.05446,52.477617,52.274406,48.424797,52.448708,50.137657,49.342474,50.431156,53.470491,48.822439,48.687758,49.379831,51.184702,51.598015,49.179636,53.474972,49.267766,52.2676584,48.696676,52.202075,49.64509,53.8371137,51.738118,51.920693,51.573526,52.6204548,49.221869,50.839696,50.8237663,50.2629273,50.153092,51.9398071,51.12281,51.750957,49.137872,49.84947,53.8609,50.848159,52.237332,48.254652,52.543554,49.872503,49.892136,49.855426,49.813922,52.407049,48.83944,48.019539,51.525227,53.052792,53.90114,48.068625,51.839865,51.940745,50.042556,49.90369,48.35609,52.604771,50.98542,50.008064,50.017246,50.02524,50.370127,50.734883,48.581255,49.35271,48.641606,48.3422254,51.567458,48.823611,51.620576,52.417153,49.25211,47.947786,48.714026,48.267048,51.099495,51.658274,50.207503,51.517896,51.490728,51.476954,51.520757,51.567716,51.509376,51.500632,51.487782,51.489467,51.556979,51.570345,51.561495,51.488397,51.538373,51.507828,51.49274,50.0224771,51.799158,51.072335,51.124665,51.0479909,51.040563,51.087456,51.056168,51.011614,51.056034,51.114667,51.065899,50.999654,51.081859,51.02963,51.021317,51.030677,51.0899655,50.989652,50.984815,49.277299,51.429785,51.401781,51.382919,51.364774,51.409,51.468831,51.346835,48.928904,51.126568,51.827676,50.809517,51.292009,51.278517,51.219962,51.210138,51.210208,51.228447,51.236962,51.162293,51.207994,51.247624,51.20267,51.202058,51.198072,51.2262413,51.2119748,51.143626,51.220361,51.21077,51.133036,51.208047,51.264124,51.261136,51.180782,51.276732,50.131305,50.068731,49.465768,48.71612,51.004378,48.07497,52.834021,48.302992,48.692152,54.4676,50.039492,51.209958,47.655619,49.9691127,52.278585,48.836497,48.082348,48.285677,52.523609,48.662682,49.802029,52.577722,48.179324,51.374823,48.869879,52.371352,53.595887,51.4518507,51.463424,52.150237,51.798169,50.976922,52.14798,48.696494,50.773619,53.534824,53.602575,48.955288,49.066228,48.964121,53.754025,52.54749,51.459677,50.027562,52.120147,53.369036,48.119454,51.834175,52.046413,51.798474,52.340157,52.17675,49.55503,48.813153,50.986719,47.856347,50.42598,51.304778,48.933883,50.139833,50.141396,48.325902,50.807093,50.9723561,51.003357,50.933768,48.693868,51.0765972,52.4275606,51.220458,49.5958303,49.579293,49.5699191,50.991234,49.9508678,47.659541,50.143618,50.133563,50.393586,50.813532,51.451355,51.422853,51.439295,51.454497,51.48437,51.473103,51.461673,51.441814,51.455113,51.483036,51.4045167,51.390945,51.450684,51.444201,51.386828,48.73881,48.747083,48.724328,48.212196,52.999203,48.947182,50.65776,54.135343,48.909846,48.479952,51.58362,52.559772,52.423496,48.079713,48.909209,47.946938,48.151846,48.820049,49.381947,52.463546,48.676493,51.173048,51.637001,49.41334,47.456591,54.774039,50.421382,52.3648038,51.423338,48.353728,48.352095,50.854355,50.017211,49.71707,48.964785,49.535567,49.522649,50.051219,50.10403,50.113926,50.107145,50.114623,50.102171,50.101609,50.081283,50.112574,50.112562,50.094438,50.099365,50.113565,50.118864,52.336416,50.053167,50.0565739,50.112004,50.068228,50.176486,50.158583,50.170266,50.094334,50.102634,50.098558,50.083956,50.134603,50.102519,50.124615,50.087497,50.090124,50.936501,52.526212,48.930107,50.908725,47.997697,47.981672,47.982413,47.836916,49.501493,48.395195,50.999358,50.988898,51.013894,48.460322,50.332606,48.352043,52.470586,50.802044,53.576328,50.25249,51.628486,52.514169,47.672213,47.651208,47.653224,54.377487,51.471254,50.930357,50.554723,48.035521,49.309812,53.186784,48.171656,52.366858,49.469707,49.491033,48.463417,47.491452,49.961432,48.070658,50.961039,48.109157,49.985973,48.619358,51.058217,51.513289,50.196343,51.504903,48.1059912,50.050018,48.404659,49.89826,52.40322,49.1833514,50.883421,50.871159,48.805203,48.12887,49.225402,49.219876,48.212765,50.224006,51.64523,48.333715,48.620023,50.579059,50.588355,52.456155,48.105674,51.574922,50.327056,50.828524,53.788606,48.69691,51.911573,50.93907,48.051653,47.737401,49.161797,48.043226,48.047217,48.132096,53.001076,51.447238,54.092923,52.54002,47.5509,52.089829,51.093701,51.230076,52.215107,48.118401,49.924934,49.912279,50.23184,49.714066,49.833425,50.107054,51.184007,52.50682,50.5282971,51.291636,51.105981,48.071068,51.267318,50.087726,48.164523,48.81036,48.119774,48.194919,51.4323471,50.596589,52.399411,49.564384,51.957203,48.044025,49.79198,49.120444,51.204322,48.640912,48.559661,48.700027,51.146767,51.536815,50.8932,49.198242,48.4605626,51.7930166,53.800597,51.906941,49.398324,51.18812,51.214559,48.111413,52.522622,51.362747,50.741352,50.189671,51.899309,52.285034,48.309167,51.477509,51.480056,49.929551,53.630377,51.737668,53.63235,53.560751,53.552736,53.552695,53.489832,53.455908,53.474143,53.604857,53.586385,52.10185,51.678078,51.709195,53.54661,50.120953,50.141433,50.131949,50.143872,52.408787,52.424043,52.356456,52.376761,52.374417,52.350246,52.458725,52.373607,52.396853,52.352636,52.316899,52.393845,53.460694,48.133502,49.498858,48.28004,48.223263,53.564711,52.379656,50.067879,51.400911,49.401974,48.284924,50.033323,49.371956,48.291106,49.509408,51.392164,52.508121,54.193563,49.403567,49.415237,49.379389,49.409995,49.411929,49.415309,52.479972,50.981859,50.971696,50.960822,48.68017,49.997023,51.3773156,49.143306,52.624586,49.34595,50.54745,53.465481,48.158755,47.879859,52.222086,49.590869,50.773332,50.773156,52.6382034,49.641553,48.063945,48.223866,50.684405,50.771269,52.119609,52.46751,50.903779,51.543652,48.593991,47.998849,49.510073,51.5975077,51.643861,50.870916,50.060069,51.16702,51.163682,52.160626,47.958616,47.906278,52.457968,49.442668,51.218832,51.216501,50.004253,53.56137,51.103293,49.443993,50.1531325,49.317414,50.307743,51.499186,51.542923,50.084471,52.669072,48.046572,53.635478,51.348854,50.798548,52.488556,53.561762,47.884384,51.820268,51.504767,49.328082,52.518122,48.441471,51.303985,48.211895,53.508677,50.916249,51.454706,51.432788,53.109429,48.679267,52.544795,54.4720826,49.73935,52.354704,48.814986,48.018465,48.043452,52.295686,51.341521,51.0329743,50.673271,50.875671,52.276867,52.26486,49.699368,50.21599,48.222828,48.956588,47.936007,51.426902,47.559203,49.976277,48.7904959,48.744541,48.7736902,52.478084,51.362838,48.226012,53.923873,53.344878,52.51427,50.924856,50.923286,50.883942,52.446905,50.232506,52.486519,52.530276,53.552194,50.344769,51.997509,50.07687,50.808926,49.436137,51.327184,50.538493,51.585224,51.567379,49.07914,48.993515,49.002328,49.025938,49.014557,49.962899,49.71034,51.31826,51.332178,51.324561,51.3125585,50.0831965,47.875432,48.080835,48.576658,54.888814,48.120286,50.06249,47.711745,48.194451,51.363375,51.581008,47.609907,54.314985,50.838197,50.473373,50.806576,49.869904,48.528749,50.823779,49.037646,48.644258,48.657764,52.196755,48.0709,52.983765,47.967936,49.785769,48.300922,49.732497,47.793533,54.861997,53.558169,51.195662,50.002645,50.300718,50.350929,50.357714,50.361746,50.367487,50.831728,47.658754,47.674092,49.6959785,48.826416,53.632381,48.862219,51.19565,51.325717,51.337305,51.329749,51.357278,51.851423,47.594239,50.956029,50.08228,50.239612,50.179919,53.615823,50.109822,50.766298,52.469653,50.915219,50.968551,50.949131,50.94303,50.940874,50.895558,50.9273,50.935857,51.014251,50.943665,51.037414,50.953487,51.021126,51.028126,50.981437,50.951533,50.97627,50.997736,50.957986,50.948394,50.958666,50.99007,50.9409,51.052378,50.878901,52.296635,52.257166,50.919445,53.547796,50.678638,51.674069,51.171588,51.751929,49.474242,51.991742,48.340436,49.373336,49.598215,48.68289,49.197741,52.529593,48.547492,49.416287,49.352246,53.546132,53.561199,50.4969202,51.126751,49.993612,50.0057066,48.493333,51.102677,51.11751,53.579692,52.480085,52.450993,52.440279,54.685934,50.162068,50.817909,52.977881,48.490447,49.565385,49.612076,53.19703,49.507097,49.5123333,49.076514,48.230008,53.23165,52.741702,52.376722,51.107521,51.3888361,48.696506,48.450171,51.329267,51.367074,51.376358,51.3454712,51.34064,51.396145,51.315353,51.3738,51.335396,51.300717,51.343946,51.362861,51.3540014,51.364431,51.3443,51.32804,51.324512,51.3187413,51.3806874,52.460163,52.285104,52.197022,52.175785,51.104132,51.141781,48.799646,52.393898,50.447682,47.826167,51.011409,51.031514,51.045822,51.0310581,51.064265,50.514578,50.146452,52.387297,52.410899,50.384119,49.424273,47.544341,47.552384,50.996842,52.519867,50.569335,51.670687,48.128247,48.287937,50.004409,50.647936,48.797906,50.11489,52.09059,48.891862,52.298098,49.476529,49.479005,49.461572,49.493188,49.447471,53.334671,49.249595,54.331231,51.5183138,51.867811,51.099447,52.196653,47.614053,47.607961,47.624683,50.942932,52.896801,51.939737,51.862169,53.867547,53.8368,53.249656,51.617129,51.58815,52.1305112,52.097545,52.07019,52.109204,52.166448,52.148843,52.080745,52.36054,48.72736,50.14234,50.140987,50.001117,50.020066,49.993465,49.9932258,49.994319,50.00658,49.961233,50.022775,48.214147,48.771755,48.216826,49.459786,49.479354,49.438144,49.517201,49.455545,49.424091,49.450962,49.525661,48.943685,50.819272,50.794467,47.716816,51.279029,51.287998,51.2498991,48.193606,50.004596,51.667748,52.458881,53.403815,48.926132,49.198019,50.329594,50.591367,53.42438,47.69976,50.627446,50.6436506,49.320658,51.269017,52.557759,50.57407,48.545997,51.162957,51.159084,52.209257,52.548199,47.985581,50.779917,48.053701,52.696021,48.262698,48.274282,48.52116,51.356889,48.6609712,50.840032,49.436419,51.349603,52.507525,52.49875,48.539725,52.436937,52.316344,48.044917,52.290138,47.44003,53.498172,50.987545,51.505606,51.451147,49.633666,50.444834,48.47033,54.872142,49.35256,49.34677,49.348484,47.682266,48.982757,49.321107,51.196583,49.979,48.404309,48.953192,51.209193,50.119277,50.120519,51.431342,51.439654,51.449203,50.402613,47.809743,50.189043,48.142623,48.117747,48.140232,48.132961,48.134202,48.139452,48.154538,48.13425,48.137048,48.12744,48.129168,48.094503,48.118543,48.189932,48.155968,48.134001,48.149622,48.156915,48.197811,48.092746,48.213813,48.14,48.110803,48.141969,48.14354,48.167638,48.211179,48.144371,48.163112,48.176505,48.107824,48.180258,48.141706,48.088685,48.164223,48.149852,48.093426,48.143983,48.079921,48.126066,48.177673,48.149026,51.956566,51.98432,51.904755,52.041513,49.919106,52.612696,51.163071,49.393678,49.392391,49.397906,49.404909,49.188973,49.202096,48.903368,48.430141,53.487888,50.053052,49.44867,48.393039,48.075847,53.561831,49.606066,48.727218,50.913898,50.093676,48.729884,48.321636,48.098966,49.626653,50.454818,51.150774,49.524326,49.292199,49.273221,54.075752,49.353291,49.34956,49.520405,51.606324,51.220352,51.204351,51.206175,49.576876,52.852677,50.850447,47.910198,49.354245,49.349553,52.503325,48.859312,53.359255,48.394392,50.431466,53.473059,48.833824,52.098797,50.411449,50.230826,54.789605,50.280291,50.359598,50.695078,50.154198,50.149807,50.31639,49.432201,50.178609,50.159697,50.839248,50.332676,50.736598,50.862616,48.9201587,52.645566,49.872002,52.431807,53.624315,53.588196,48.593434,51.49292,52.167549,51.160412,51.703139,51.892139,48.620278,52.503497,48.850841,51.628184,49.445616,49.463811,49.4454,49.43707,49.448039,49.409605,49.430795,49.4444576,49.462948,49.454129,49.3821144,49.425552,49.442836,48.627997,48.705193,47.65279,48.729876,49.929468,51.474878,51.534574,51.512086,48.782359,50.266389,50.299926,48.295669,48.257226,47.411032,48.967537,50.072226,50.199423,50.185688,50.173246,50.10446,50.611356,49.362839,49.663043,52.201616,52.439275,51.829112,50.002659,50.099264,50.102765,50.105989,50.105855,50.090547,50.105332,50.081691,48.476475,49.373505,53.620873,50.252664,51.904879,48.209995,53.144323,51.360495,52.511166,51.066175,49.85756,52.753653,52.52521,48.274192,51.3117403,52.418841,52.280935,52.272851,49.429657,48.695474,53.222776,50.406598,49.705423,54.404819,53.559233,53.5595576,47.911387,53.096853,48.880872,48.063692,49.402337,50.93273,54.392595,51.712979,52.577963,53.089706,49.164355,53.515353,48.573632,49.7587084,52.318942,48.41345,48.522433,49.780319,48.894152,49.231621,52.510393,53.655179,49.205645,49.259218,50.962623,48.105303,48.779619,50.778393,50.506163,49.1061083,51.23193,48.71308,52.478542,48.796684,52.535593,48.171329,53.652183,52.243423,50.882907,50.858133,47.96196,49.308921,52.3928,52.3944323,52.391509,52.382659,52.394108,54.233941,53.321608,52.544615,53.795979,47.855513,52.459914,53.675291,50.528231,48.172179,50.998043,48.36339,51.785268,51.111752,51.098294,51.107615,51.1031245,48.874666,47.735873,52.451536,54.280937,52.293948,52.550681,48.860483,53.2446,52.455833,52.59964,51.295185,53.698215,47.788506,50.009688,47.784481,52.133696,51.616359,51.562965,53.549668,49.011672,49.012057,48.707971,50.627777,53.508395,53.83043,50.577215,51.177235,51.190724,48.59266,54.302262,48.775121,49.905152,48.496079,51.857023,52.276299,47.556923,51.393507,51.401873,51.163027,50.657876,54.239176,49.83323,48.151969,51.309654,48.248726,53.583216,49.628385,50.147267,50.010661,50.0391366,50.025984,49.9969743,50.052573,48.6065535,49.276737,50.753181,48.81554,51.039933,52.323073,50.796768,47.850018,54.123552,54.078246,54.0933,54.152403,54.138222,54.085243,54.101746,54.111774,49.243385,53.112349,49.241287,53.538476,50.6894539,48.47243,49.7921878,48.165304,51.884612,49.400694,50.7179313,51.455319,51.398113,48.790017,51.462603,49.973622,48.333318,52.648798,50.901549,49.4794,54.175568,53.605968,49.491202,49.97689,49.991639,49.988,50.6502734,49.241065,49.230425,49.606455,49.32783,48.961292,52.32325,52.038158,51.672875,52.858113,53.489796,51.679063,51.479891,52.2326,47.974061,52.505093,47.795471,47.955947,54.018743,53.165825,49.244018,52.398837,49.39291,49.3744796,51.40239,50.807006,54.499457,50.341177,47.812327,47.64797,48.80715,52.613096,53.939188,49.326195,49.3382141,48.178688,48.86834,50.154354,49.3263803,53.5038323,49.392751,49.831062,50.035313,50.046808,51.290526,53.634739,53.626911,51.442281,49.383434,49.4068,48.273193,48.801011,49.096732,50.875903,52.018794,52.479377,52.391062,48.14737,52.5492,49.441157,52.29184,51.553101,48.04137,52.55248,52.391675,51.8870741,52.318075,48.324016,51.90703,51.526941,48.958916,49.167648,50.241906,50.793915,49.50635,50.875939,50.895966,48.086984,47.758438,49.250353,50.546982,51.578419,51.160766,51.166711,51.163899,51.16574,52.983017,50.355078,52.473101,47.513241,53.101242,48.068987,49.324119,50.826727,52.21515,52.526348,53.309429,50.789568,48.123813,50.150155,49.341268,49.274763,53.98962,49.466952,53.596143,50.953718,50.825432,52.332837,53.549465,47.995963,48.005975,49.780582,51.851258,49.453218,50.314349,50.441648,47.641604,50.121369,53.387699,53.589843,52.594723,52.606837,53.563719,48.811924,49.1836249,48.093258,50.79448,51.018092,52.52391,54.308626,48.876978,52.5320832,52.590146,52.57698,52.531976,48.772768,48.690648,48.784084,48.792173,48.803769,48.806423,48.770255,48.776229,48.745837,48.737651,48.801377,48.813673,48.762013,48.717902,48.81527,48.779751,48.726279,48.82208,48.829415,50.605145,48.366485,48.999461,49.299561,52.436544,52.91616,51.77176,51.1649544,52.448457,53.581122,48.683641,48.921605,51.3790166,48.051552,47.849397,52.396906,51.746047,50.982872,53.644372,53.531225,47.635471,52.514061,53.994212,47.903402,51.563036,53.697313,53.272046,47.869727,52.217618,50.179836,52.493559,48.961267,50.910661,48.140004,49.756846,49.7446305,50.813922,51.413489,47.980579,47.907142,52.79188,48.515811,48.104725,48.04569,49.580358,52.969781,47.72015,48.708605,48.399437,50.602992,51.538982,48.19031,48.064962,52.8348694,48.2737,48.804956,49.517572,48.948118,53.399098,48.104109,52.257212,53.521703,49.831432,51.354764,51.313159,54.277316,51.359679,51.35426,52.684889,52.920818,51.955034,48.361118,51.254947,51.257149,48.058022,48.629551,51.597541,52.3354309,49.249091,52.211875,51.103134,49.248186,48.826124,52.60648,48.095691,47.621368,50.001339,53.569734,47.689227,51.531256,48.512315,51.492953,53.521512,54.176852,54.16932,52.505976,52.572989,51.473214,51.459894,52.36842,52.543251,53.581995,52.298351,49.67049,49.417494,47.593973,48.755483,50.486368,48.800301,47.845363,50.991487,49.553302,49.5758,50.448105,49.029673,51.204615,50.421177,51.505442,53.641327,51.616253,48.672961,52.279628,50.7266423,52.392939,51.259485,51.558073,48.694247,49.538931,51.66925,51.840254,50.72124,51.65584,52.51807,54.906839,53.202166,52.53625,48.385991,51.386413,50.565631,48.077374,51.493201,49.310689,49.911013,50.070791,50.041412,49.291353,50.016956,52.319935,48.953862,53.498936,52.438711,53.518795,52.331486,53.926228,49.095452,48.879583,53.353839,48.798432,53.896837,50.782871,51.435544,52.597044,53.003115,49.973121,51.351556,53.520589,51.661159,52.429498,52.565482,52.250359,49.63494,53.932382,52.46903,52.422225,51.254363,51.243469,51.266972,51.273839,51.226476,51.240584,51.250679,51.258929,51.234259,51.364418,52.551851,48.033567,50.253958,49.846251,48.624182,49.045678,51.267886,52.165559,49.801796,49.788193,49.761133,52.49117,52.492289,50.018291,51.056452,50.646721,52.659449,52.348936,50.949276,50.904461,48.089601,52.218923,49.246805,50.714668,49.725902,53.973879,49.203214,48.888526,50.924336,47.822047],\"legendgroup\":\"\",\"lon\":[6.091499,6.07384,6.070715,6.116475,10.096271,8.065324,9.030447,7.016453,7.895488,9.904613,10.236206,10.251786,13.565154,11.122721,13.128917,9.026962,13.410961,9.817779,9.068852,10.158735,9.264297,8.342462,13.349617,9.382384,10.035415,7.668808,8.943319,12.444019,13.558753,11.063003,8.109749,11.862902,12.410919,7.404839,9.861109,13.996361,13.701827,7.966149,6.45023,10.578239,11.526136,7.97319,8.074113,8.067965,7.970066,13.982212,10.948262,9.143697,10.339481,11.465689,10.145564,9.147797,7.867355,13.360951,7.656537,7.586788,10.900985,10.88557,10.886086,10.943376,10.872533,7.759659,9.644046,10.314672,11.993518,13.092871,8.957182,7.769523,9.425989,12.004157,12.594981,7.158539,10.574141,7.304564,8.255036,11.905335,8.170701,7.728637,12.301558,9.199771,10.5542189,9.716182,8.620624,7.219533,7.310871,10.079885,11.466925,7.866435,7.697632,11.718274,10.640671,12.648695,10.55151,9.468062,7.846989,8.749334,9.378603,7.144304,10.226134,8.796523,10.3825414,9.272719,9.101529,12.881825,14.1375375,9.668497,10.702722,8.641924,7.649816,8.50442648,9.372053,10.994239,7.94863,8.73946,8.733477,8.003123,9.081261,8.190831,9.910778,11.036976,11.78678,8.850307,10.899489,9.417771,10.269104,10.044164,8.510462,9.467112,8.739924,13.490097,9.466997,14.428735,11.579985,9.797788,8.02136,13.348263,9.726836,9.666376,9.244504,8.616717,8.613366,11.807853,12.999058,13.417821,13.320244,7.124553,13.381362,13.381815,13.47441,13.388513,13.369545,13.4346807,13.469105,13.375988,13.365319,13.3324447,13.541129,13.44333,13.492286,13.3023298,13.6246,13.3872056,13.289934,13.26172,13.573497,13.290326,13.30769,13.5124218,13.5279465,13.469204,13.58894,13.580942,13.4966934,13.328556,13.293732,13.611417,13.375127,13.541341,13.44306,13.388464,13.41077,13.478362,13.215025,13.509395,13.381111,13.1968975,13.561448,13.289781,13.384547,13.1795275,13.283966,13.362976,13.258659,10.02463,13.5926414,12.380957,13.564578,11.751455,9.136645,13.497786,7.87005,13.329042,9.386029,7.254456,8.032762,9.793127,8.450413,8.603415,8.473978,11.716466,8.532722,8.498426,10.484714,13.555878,10.640467,8.258045,9.137557,10.096658,7.884263,7.902985,7.950983,13.647187,13.288772,14.186144,9.748191,12.31685,10.961184,9.814607,13.415982,8.464729,9.791979,10.608882,8.35032,10.837891,7.223275,7.140842,7.20915,7.323645,7.304327,8.312491,12.325948,8.307525,8.827662,7.097136,7.11801,7.159555,7.127657,7.181342,7.1593,7.586102,7.635481,10.043711,13.27675,9.277,12.486291,6.957454,13.397943,12.541165,13.306766,6.936684,7.94205308,8.604914,7.975007,12.566138,12.106464,7.643187,10.540295,7.029176,8.970336,7.58935,10.887135,8.813834,8.785808,8.704773,8.686152,8.944627,8.740801,8.649481,8.887383,8.669732,8.629968,8.786241,8.599555,8.600657,8.693448,8.576073,7.332639,8.788402,7.443979,8.589649,6.912718,11.224497,9.876266,10.716217,13.382912,8.174062,6.574514,7.370479,7.134584,13.32959,11.840356,10.427012,10.002837,11.242723,11.309307,8.669517,9.688314,9.912807,9.004128,8.303602,12.384024,7.757296,7.034846,10.623298,11.0741919,9.04753625,8.129299,8.573876,8.45925,11.9981942,13.97982,11.810527,7.30398,10.062468,12.656832,12.930877,12.9261875,10.9573281,7.166738,7.16368675,13.579414,14.324162,10.064326,11.628443,8.703431,8.787365,13.43729,11.44426,13.059037,8.629636,8.654311,8.636586,8.62582,9.521252,12.949727,11.583597,12.345218,8.629758,13.053954,7.881434,12.234945,8.872859,9.036807,8.839795,10.776823,8.380334,7.542483,8.785541,8.78899,8.792627,8.01962,8.294088,10.489167,6.72215,12.48687,10.5880022,6.73803,9.06705,13.564241,10.181657,10.298523,8.498919,10.771443,12.159686,6.814837,6.9705,8.751145,7.45929,7.457573,7.431298,7.550083,7.528822,7.424864,7.420017,7.500029,7.365374,7.585291,7.374374,7.377731,7.383811,7.536564,7.468764,7.417708,8.66115063,7.733609,13.746248,13.765993,13.7198639,13.732035,13.762772,13.724109,13.808477,13.708151,13.78911,13.740701,13.828399,13.725527,13.70317,13.790514,13.761861,13.7038779,13.84493,7.103496,7.027351,6.775903,6.773206,6.775406,6.77747,6.753408,6.780191,6.779924,8.272631,13.094988,7.295765,6.482451,6.786836,6.766979,6.794319,6.791978,6.760431,6.798173,6.796924,6.878931,6.775578,6.794512,6.851927,6.838607,6.836128,6.81028426,6.78905725,6.897675,6.863933,6.740335,6.908277,6.808678,6.821063,6.808398,6.860953,6.788783,10.13804,10.954725,8.984152,9.526582,14.578802,11.970243,13.797062,11.616754,9.169164,9.835115,8.456741,9.448855,7.563918,8.6536324,9.514485,12.182192,11.864291,9.72434,10.029596,8.94426,6.685808,13.316835,11.328277,9.921482,11.16365,13.615398,9.907097,12.6370132,12.667772,11.215214,9.922775,10.331986,14.658435,9.705147,7.447326,10.0246596,9.893738,9.123744,10.959693,10.129681,9.659408,13.000114,13.516428,8.12153,9.746894,7.195176,7.847511,6.25648,9.382856,6.416712,9.668982,7.531528,10.710412,9.370228,7.407681,8.772786,7.546827,7.343533,8.799804,8.387643,8.364079,9.894833,6.832955,11.0379928,11.029277,10.988439,12.201874,6.32163405,13.7522435,6.902412,11.0016382,10.99939,10.9971428,8.255317,8.65099311,8.430123,8.560971,8.578487,8.10492,6.251937,7.014793,7.023296,7.023098,6.979798,7.007252,6.948461,6.953922,7.109691,6.965285,6.943309,7.00882137,7.080247,7.075552,7.088561,6.997845,9.30008,9.27583,9.359389,11.317322,9.123745,8.387878,6.792193,10.610123,8.743772,8.782236,13.247685,13.089636,10.717325,11.609378,9.180233,11.290224,11.732103,9.269978,11.204207,13.332575,9.217709,7.964563,13.710388,11.17407,10.271717,9.436526,9.576616,13.5119498,12.223426,11.78597,11.764185,13.075152,8.431013,11.069859,8.338934,8.349702,8.349558,8.571251,8.64472,8.678947,8.663789,8.687098,8.693025,8.701504,8.637075,8.70864,8.696987,8.671248,8.686457,8.668864,8.639335,14.546496,8.570185,8.59449506,8.643374,8.633247,8.697827,8.655431,8.676551,8.606394,8.54237,8.528732,8.670369,8.767437,8.570734,8.607026,8.512259,8.506011,6.777846,13.760628,9.197796,13.344141,7.84117,7.895133,7.854127,12.977193,8.205192,11.744539,13.646432,13.637938,13.662552,8.428803,8.762056,10.982487,13.341388,7.159382,10.057433,8.644776,6.645499,13.520254,9.523714,9.482819,9.4739,9.079258,7.762198,10.573019,9.683977,11.593281,12.838811,13.139273,11.262148,14.05964,10.989988,10.923627,10.850752,11.097013,8.016065,11.376146,6.124518,11.324847,7.968804,9.841941,12.697455,6.319336,9.189278,7.102455,11.0374552,9.699894,8.010192,7.938188,12.157103,11.0161758,12.077092,12.076443,9.439753,11.364023,8.365282,8.379305,11.300378,6.660372,8.510292,10.732382,10.236994,8.661462,8.669138,10.545284,11.299598,6.976389,9.010123,12.548646,9.42832,9.02043,10.421436,10.712568,7.727832,8.77543,8.49063,11.940423,11.962758,11.153259,13.16712,9.420533,13.370262,13.439561,7.659506,7.599341,6.580447,12.714131,7.022436,11.698619,8.486215,8.494709,8.753528,8.476857,8.940854,8.943902,12.7591395,9.858535,8.66209745,13.523916,11.657745,11.530945,12.022171,8.982792,11.782559,9.420029,11.425571,11.374107,12.1168256,8.959931,13.542485,8.167962,14.706775,7.874185,8.351257,10.755463,9.482159,8.908993,8.850308,9.651969,14.97908,9.926072,12.429301,7.030701,10.2792621,11.6017664,12.172836,8.385071,8.688749,6.998018,7.010546,11.73115,13.402364,7.460249,8.220657,9.150665,11.073452,11.406106,11.714334,11.987085,11.920632,10.885454,9.839092,7.184366,10.006646,9.989566,10.006909,9.935175,10.206171,9.991701,9.852048,10.154396,10.12305,9.375906,7.807821,7.831551,10.02361,8.929,8.925848,8.908818,8.88325,9.691117,9.707729,9.769728,9.741021,9.808116,9.679538,9.699105,9.79061,9.6763,9.723114,9.792863,9.717763,9.980463,11.387867,11.554562,8.087975,11.098784,10.056129,9.389097,8.489638,7.169865,7.490949,8.181665,10.509998,8.253396,11.455487,8.633746,9.762144,13.259379,9.101029,8.675442,8.720887,8.675383,8.774913,8.64157,8.760564,13.312018,13.857887,13.874717,13.894877,10.156642,8.111318,10.1245183,9.207715,13.229278,10.791053,7.174409,9.963187,11.759659,7.646194,11.010553,8.648722,7.284592,7.313288,13.2053357,8.633379,9.414604,7.767638,8.30814,7.521349,8.663643,13.431313,11.858626,7.21783,8.862662,11.170571,11.423826,7.13905334,10.329923,6.094486,8.802202,6.922006,6.937366,9.953497,7.991356,8.106033,13.602134,8.896055,6.944419,6.966684,8.350398,9.842076,6.466316,7.904244,11.1715293,8.537385,11.923067,9.395461,9.401965,8.443842,13.287091,11.698872,10.067648,7.571686,12.706564,13.300257,9.949741,11.697234,9.453743,7.619647,7.337035,13.672956,8.688982,14.902088,8.23294,9.57655,6.713497,14.016105,14.231407,8.460956,8.982644,13.379277,9.05595303,8.606664,10.110601,9.025315,11.719226,11.509752,7.591557,6.893231,6.27280712,9.762453,6.910223,7.721486,7.780962,7.32123,8.257264,10.099942,8.921162,8.729536,9.464397,10.213999,8.053716,11.4074564,11.437337,11.4322495,13.342197,7.618397,11.679489,9.510287,8.184538,13.419347,11.587461,11.577848,11.593537,13.52368,9.604178,13.361266,13.299437,9.993883,6.580939,13.054353,9.005468,11.589104,7.768716,6.203225,6.557283,7.661,7.613056,8.198025,8.402181,8.462822,8.453645,8.351126,9.768148,6.596854,9.489501,9.45225,9.452204,9.44711566,7.76875019,10.629496,10.854595,7.806556,8.368969,10.124616,8.529479,10.31761,7.764094,6.953747,6.252227,12.190473,10.131976,6.888375,8.666869,7.880509,11.776325,9.13948,8.921399,9.150903,9.443927,9.416291,8.643778,11.887255,8.847236,7.959132,7.464589,10.959553,10.155214,9.881921,8.676454,9.861122,6.551972,9.072252,7.46075,7.588345,7.589985,7.610202,7.591607,6.074485,9.177312,9.173468,6.57430887,9.121168,10.053841,9.179964,6.511886,6.569885,6.629668,6.61009,6.645778,9.967798,9.598854,7.991696,8.475448,11.320115,8.516874,9.867762,11.451889,13.753634,13.467807,7.051262,6.941413,6.952565,6.958729,6.975001,7.057173,6.938059,6.996734,6.893241,6.934389,6.881921,7.004327,6.897824,6.892772,7.070124,6.917276,7.041235,6.901557,7.013295,6.888201,6.941605,7.002095,6.815137,6.851719,7.119302,13.631472,10.812489,14.078899,9.944088,7.193592,11.779905,9.513137,11.989358,8.602803,8.801199,7.834734,8.074391,8.478489,12.695062,8.126204,13.454567,12.13593,7.565931,7.119316,9.971281,10.038021,8.66705418,13.841072,8.656787,8.65856498,10.125988,6.938278,6.923684,9.93092,9.736342,9.735882,9.725427,8.946413,9.057682,6.353467,9.194981,10.847966,9.709512,8.644539,9.56371,11.285976,11.2773585,9.146136,9.847854,7.465283,13.263224,9.974599,7.005251,10.3287578,9.142866,10.215369,12.381658,12.366024,12.3969877,12.3820639,12.374612,12.389278,12.267345,12.4121,12.375394,12.3863125,12.477634,12.374533,12.303738,12.352271,12.444338,12.32208,12.411428,12.4062842,12.3214835,8.36161,9.608572,10.320695,7.878459,8.071517,8.017977,9.003853,9.63948,7.392067,10.015836,6.996675,6.991661,6.988119,7.0151782,6.963464,8.821959,11.059472,13.396175,13.30904,8.062342,8.390747,9.680469,9.703292,6.207467,7.321731,7.276032,8.348785,11.43089,11.580813,9.580715,8.70174,9.695761,8.422853,13.160409,9.18542,13.267319,8.433042,8.452152,8.421092,8.381523,8.409493,11.494491,6.904214,9.030746,11.5508795,12.662285,14.671941,8.7135,7.66542,7.661196,7.672569,6.83444,13.190055,13.877182,13.9609,10.669821,10.6295,10.41989,7.529485,7.539692,11.626963,11.638277,11.669977,11.63004,11.657982,11.641703,11.656447,13.407932,8.979257,8.836714,8.805296,8.25872,8.246852,8.277565,8.35750043,8.314197,8.283174,8.314183,8.22937,11.256393,8.904505,11.174618,8.516358,8.468921,8.572382,8.477775,8.494792,8.534944,8.538107,8.482603,9.264452,8.775014,8.762431,9.38864,12.372615,12.372204,12.3791456,11.862093,12.082583,7.173482,12.971627,10.065662,9.41999,12.107818,7.238939,6.642296,10.029711,9.558393,7.014757,7.02718377,8.812836,6.625981,13.553699,10.421205,10.84805,13.482522,13.4730953,8.343221,9.744501,10.186853,7.149549,9.336547,7.298015,10.988291,10.971202,9.740877,11.990551,10.8247519,6.518051,6.634192,8.279053,13.283445,13.270118,9.290156,13.232712,13.030688,10.501626,8.934728,11.265705,10.131122,12.959863,12.819504,6.641535,8.208162,7.825333,11.930382,8.432464,9.143655,9.134042,9.113093,11.192628,9.57777,9.357979,6.446111,8.565384,9.04653,8.846101,10.474041,8.837646,8.857998,6.88651,6.871404,6.852636,7.509072,7.599332,11.790667,11.536537,11.536311,11.558335,11.5315,11.583234,11.565619,11.428524,11.615986,11.575386,11.604971,11.593049,11.532799,11.595785,11.468036,11.413309,11.633295,11.64933,11.648335,11.525924,11.606009,11.541318,11.410112,11.596346,11.548572,11.519245,11.646058,11.459568,11.503669,11.432508,11.407895,11.536354,11.506237,11.422197,11.645175,11.478117,11.461872,11.631208,11.678049,11.526954,11.663375,11.472792,11.44394,7.635715,7.63847,7.654281,7.619982,8.341885,12.885559,11.796984,8.788425,8.802954,9.074704,8.841429,9.220068,9.228679,9.415401,10.118003,10.181408,8.665609,8.580125,10.004823,11.660222,13.261465,7.172701,11.17837,10.909685,11.581061,12.19046,11.661261,11.288666,11.551709,9.620224,12.412836,11.61954,8.530075,11.456987,9.979816,7.176655,7.226787,11.32205,14.161703,6.697529,6.684527,6.717153,10.588032,12.450667,9.120643,8.210883,8.158313,8.140757,9.455277,9.324715,13.074603,10.83352,7.473132,9.877434,9.152505,14.648866,8.998881,8.880233,8.834572,8.767357,8.159856,7.180977,8.547237,8.351017,7.599503,7.160695,9.109264,8.312879,7.965509,8.230084,8.708379,13.022852,8.76951993,9.217753,8.34281,13.193643,7.158806,7.218913,10.837306,10.789249,9.79094267,6.731645,9.986618,7.426334,8.889796,13.484452,10.497863,9.933096,11.082989,11.120885,11.055338,11.117378,11.09753,11.0477507,11.130044,11.1113539,11.168477,11.119935,11.0388565,11.018171,11.0682,9.342648,9.127335,12.175262,9.327267,10.817637,6.851588,6.810455,6.843543,10.107654,11.932204,7.603964,8.575514,11.55783,10.278097,12.169996,8.853417,8.589409,8.584694,8.586918,7.731542,7.207696,11.253831,10.071776,7.184036,10.983852,8.142599,8.0189,8.760743,8.784375,8.750485,8.763633,8.808367,8.738377,8.828938,7.946723,8.579013,10.031968,8.75335,10.478146,11.335602,8.222713,8.484206,13.242389,7.008775,8.358078,13.249613,13.393052,7.790281,13.1040555,13.314288,8.045902,8.061781,9.422692,13.018705,8.797434,8.675319,8.325988,13.600507,9.885967,9.92694139,11.682121,9.13315,10.818935,11.677795,7.166133,7.288817,9.590516,8.740505,13.429363,7.386708,11.723355,13.988875,13.450776,11.5475965,10.232145,11.469881,11.511884,6.68302,8.703099,8.454023,13.227134,9.797608,7.598432,7.604401,13.928881,11.413556,12.86394,10.908698,12.129419,10.9771657,7.868913,9.41081,13.473126,9.595853,13.535381,11.809438,10.094034,8.920253,7.064724,7.079266,11.306475,11.358849,13.036496,13.1287265,13.0667031,13.122284,13.014512,10.275752,13.866532,13.426412,12.223022,12.346615,13.356281,9.760216,11.383568,11.353061,6.797051,11.707084,11.153001,13.912539,13.680163,13.628693,13.6557484,12.44307,8.968984,13.690405,10.243694,13.43089,13.54746,8.215623,8.191011,13.322948,12.35484,6.863562,10.740633,12.110149,8.454498,9.6061,7.564753,7.20349,7.195754,9.957668,12.099617,12.049297,9.463733,12.29312,10.253335,10.494537,7.229779,7.199983,7.252833,8.007138,9.671134,8.93235,9.814214,9.209116,8.28665,7.434255,7.784209,6.706484,6.724108,6.439564,7.210214,12.436965,8.489187,7.77085,13.287734,7.773037,9.757057,7.81727,9.01256,8.884482,8.87581587,8.878957,8.87007058,8.877828,11.5733457,7.157395,7.01614,9.319344,6.69959,9.651786,7.608767,12.119202,12.068507,12.131079,12.099466,12.070866,12.064985,12.10789,12.090548,12.080072,8.65221,9.390098,11.082508,10.043953,11.1699387,8.935548,10.0290799,8.639295,12.237262,10.898632,11.3388991,13.870004,6.675979,8.95955,11.668535,8.828961,11.44477,13.513799,7.182662,11.231104,12.247446,10.033083,11.231788,7.915418,8.413583,8.400373,11.3745832,6.991021,7.018788,6.557034,6.750169,9.063158,7.350526,10.31483,8.600489,11.162035,8.031519,11.56002,11.294515,9.842592,11.654774,13.319271,11.684123,7.753888,10.745762,9.496963,7.057083,13.389303,8.364945,8.37697327,12.222169,7.592264,9.53814,9.510039,10.902459,7.822674,9.52631,13.245929,12.117894,11.035351,11.0445803,10.768291,9.354943,8.52797,12.103802,10.4847819,12.130637,6.740335,10.212919,10.244297,7.289681,11.407455,11.405334,7.55896,8.578679,8.55634,12.249699,9.787795,9.767373,14.234719,11.733157,13.352068,13.51271,11.192051,13.41546,9.338469,12.985452,14.055252,11.19873,13.11681,9.594314,10.1735705,9.962528,10.050502,7.487687,14.003905,9.018508,11.628123,8.646005,7.203026,10.875519,8.016508,8.029842,9.221851,8.840383,8.8751,7.258279,8.104589,7.004187,6.992398,7.079004,7.088716,9.831109,11.168848,13.455851,10.272344,9.25003,8.740147,8.427949,7.114916,9.556238,13.53674,9.812245,12.622556,8.341955,7.714587,8.668715,7.110814,9.118006,7.165293,9.477008,14.032242,9.015278,9.189426,9.984804,11.34367,11.347386,7.693103,11.587898,10.273535,9.443162,11.382922,7.741561,8.906852,10.109023,9.918336,11.854412,11.836728,9.967204,9.35245,8.6369276,11.400845,6.217478,6.752466,13.464398,13.077321,12.574094,13.8334984,13.908476,13.888133,13.209125,9.166273,9.19263,9.181635,9.241595,9.188026,9.234858,9.156959,9.172925,9.105398,9.116774,9.217531,9.169382,9.267889,9.108328,9.248327,9.250569,9.113226,9.094328,9.166739,10.682826,8.636748,9.500409,7.055062,13.274377,8.809786,7.226526,11.127584,13.353894,9.797519,9.76028,9.125828,12.4844706,11.609252,12.834452,13.276623,11.031048,13.592111,9.813837,10.065591,8.272003,13.336392,10.76227,8.155069,12.991134,9.71497,9.732013,12.638801,13.230382,7.299635,13.461441,10.908159,9.185673,8.236806,6.652453,6.63668633,7.150892,6.669107,8.798542,11.27289,8.644832,9.055407,11.077277,10.617439,7.114615,10.553053,11.158954,9.585528,9.982227,7.219678,7.692858,11.646772,11.612359,10.300262,11.568628,9.573734,10.986146,8.957632,8.150187,11.76438,10.35976,10.013313,9.876196,7.122377,7.090484,12.803137,9.452475,9.460796,13.172034,9.237855,10.562174,11.445108,6.403896,6.33793,8.465261,13.190867,6.688813,10.1688015,6.848156,9.626528,9.35804,8.508313,9.299882,13.320996,7.957245,8.219526,8.580811,10.059975,9.830573,7.165783,9.150449,9.163845,12.680678,12.091271,12.085638,13.451646,13.503633,7.139521,7.153535,13.4635305,13.36817,9.705161,9.635376,12.153846,7.994912,7.608419,8.872806,8.267949,9.501991,11.14286,11.326458,8.665351,8.65636,12.060517,10.96539,11.970926,7.450988,14.638027,10.082825,7.956653,9.373011,9.572167,12.3672795,12.926189,7.757544,7.914136,9.413898,12.146226,7.622934,10.788805,10.353606,6.627134,13.284638,8.310925,7.886468,13.344253,10.818233,7.385915,8.503819,11.251768,7.869713,10.71145,12.191288,8.243731,8.256293,8.664146,9.440985,13.633779,8.572415,10.007006,13.722143,8.114901,13.067447,9.383456,8.122479,9.39229,10.207691,9.480994,11.469433,7.739814,7.329442,13.334446,11.762871,6.943557,9.863079,10.278184,12.279563,10.787784,13.391791,11.635619,8.356448,9.748128,13.553202,9.450976,7.149543,7.10702,7.195159,7.221483,7.2156,7.096575,7.14063,7.171212,7.071597,12.738972,12.939728,11.712731,9.295828,8.114712,12.332925,8.273146,7.072023,13.468145,9.93578,9.943503,9.9532623,13.372128,13.367797,10.929894,12.131488,10.674124,13.533642,13.627173,6.62574,14.805774,11.832456,13.438571,7.356643,12.474716,8.609119,13.548191,9.502705,8.240582,6.097265,12.487338],\"marker\":{\"color\":[0.42876344086021506,1.1739488870568837,0.9438073394495413,1.2434141201264488,0.4204131227217497,1.549520766773163,1.4807965860597438,1.8956521739130434,1.2737864077669903,0.1426056338028169,0.7045226130653266,1.1332116788321167,0.5469387755102041,0.4049586776859504,1.8319327731092436,1.7648809523809523,1.7231833910034602,2.133093525179856,1.873501997336884,0.10356164383561643,0.11267605633802817,2.3391959798994977,0.5648351648351648,2.258836944127708,0.2695455828394016,2.2844827586206895,0.5377358490566038,0.7553398058252427,0.2694271128757799,0.2273972602739726,0.8155668358714044,0.7142857142857143,2.6678966789667897,2.625137816979052,0.1426056338028169,1.9767103347889374,2.7116788321167884,1.65625,1.164835164835165,0.841978287092883,0.25833333333333336,1.1568047337278107,0.985632183908046,0.06813627254509018,0.027659574468085105,1.234206471494607,0.5657084188911704,1.1173361522198733,0.47877758913412566,0.4071294559099437,3.065743944636678,0.4263698630136986,0.7780678851174935,0.2962962962962963,1.1640625,2.033457249070632,0.7297297297297297,0.40949935815147626,0.7521994134897361,0.7860169491525424,0.7325335215243473,1.7407407407407407,1.5462962962962963,0.0,2.0,0.4820051413881748,1.186426819296811,3.7832618025751072,0.7286135693215339,1.2764227642276422,1.2346041055718475,3.0110497237569063,1.8662207357859533,3.5324675324675323,1.3694581280788178,1.7392857142857143,0.424390243902439,1.9671361502347418,2.439882697947214,1.7501630789302023,0.0681198910081744,1.740566037735849,0.5067049808429118,1.9724264705882353,1.8888888888888888,0.5460526315789473,0.9715909090909091,1.2127468581687613,1.2802631578947368,0.5446265938069217,1.7571743929359824,0.9826254826254827,0.6353591160220995,0.5564516129032258,1.433695652173913,0.863030303030303,0.8277886497064579,0.04607046070460705,0.8409785932721713,1.7022556390977444,0.34625,0.4123456790123457,1.4633204633204633,0.14733542319749215,0.5639412997903563,1.7393767705382437,0.2442827442827443,2.784090909090909,1.4106194690265488,0.1371841155234657,5.569659442724459,1.3870967741935485,0.9648760330578512,0.8852459016393442,0.7776470588235294,1.9788918205804749,1.0122549019607843,1.9345238095238095,0.26480637813211844,1.862669245647969,1.7802955665024631,1.7536231884057971,1.0645805592543276,0.78125,0.5617977528089888,0.2439988703756001,1.358695652173913,0.8210332103321033,0.7490774907749077,0.14843276036400405,0.7074742268041238,0.7995867768595041,0.6844106463878327,0.5994962216624685,1.9262135922330097,0.2280894756142281,0.1557377049180328,0.45614035087719296,0.8972972972972973,2.5478260869565217,2.879646017699115,4.3578947368421055,0.008849557522123894,1.2945736434108528,0.17916666666666667,0.9848101265822785,0.291276675402471,0.5533782404572362,0.10605370960400547,2.0359116022099446,1.5938550168026884,1.7458266020463113,1.6430793157076204,1.8093354430379747,1.9292604501607717,1.4510686164229472,0.20882491741387446,0.24054982817869416,0.3206046141607001,1.8495575221238938,0.29172056921086675,1.5503177966101696,0.2265840220385675,0.3778443113772455,0.16605359957961113,0.1852965291063132,0.4102691924227318,0.7354138398914518,0.0,0.2213359920239282,0.3094677343382007,0.20185995623632386,1.1851162790697674,2.041116005873715,0.3231707317073171,0.44357976653696496,0.251875,0.3054037644201579,0.11004417130785481,0.2902546832245843,0.19105821807655193,0.256701030927835,0.36955187231430325,1.2166666666666666,0.35529801324503313,1.8912158231529959,0.0,0.24065934065934066,0.12560706401766003,1.0934199837530463,0.32170356111645815,0.3067426400759734,0.4631803628601921,0.2013975989965956,2.3513097072419105,3.4478527607361964,0.531284302963776,0.13157894736842105,2.4527629233511585,0.12010309278350516,0.875968992248062,0.13274647887323943,1.9181286549707601,0.24305555555555555,1.1512968299711817,1.3153638814016173,0.8055248618784531,3.187088274044796,2.6482758620689655,0.9706422018348624,0.870625,0.8210045662100457,2.097315436241611,0.3214800576645843,1.3669291338582676,0.748314606741573,1.503932878867331,0.020780537252914344,2.0880681818181817,2.302771855010661,2.6131147540983606,0.31158238172920066,0.44710860366713684,1.3044117647058824,1.0674846625766872,0.9123867069486404,0.05309734513274336,0.2755210173083716,0.6925,1.2857142857142858,1.8034188034188035,1.4682539682539681,1.6310483870967742,0.797945205479452,1.070295756536648,0.7924187725631769,1.052325581395349,1.0769230769230769,0.9947019867549669,1.8662900188323917,0.8527131782945736,1.6532846715328466,1.5686274509803921,2.0834132310642377,3.484848484848485,3.0582089552238805,2.2752043596730247,3.1176470588235294,2.540983606557377,3.1950078003120126,4.102564102564102,0.9192307692307692,0.6166666666666667,3.551282051282051,0.15384615384615385,3.9754098360655736,0.24321705426356588,0.959114139693356,0.34803001876172607,0.9908759124087592,1.7538896746817538,2.0592734225621414,2.706306306306306,0.7783505154639175,0.749185667752443,0.946360153256705,0.4011142061281337,0.19098360655737706,2.6688102893890675,0.10084033613445378,1.5424164524421593,0.653910149750416,0.6136087484811664,0.13398402839396628,0.0,1.5906515580736544,0.0,0.0,1.0047846889952152,0.0,0.0,0.0,0.45454545454545453,0.10687022900763359,0.914856136230182,1.1408199643493762,3.9023569023569022,1.0117252931323284,1.177142857142857,1.0487117552334944,3.6584967320261437,1.2314923619271445,1.6809116809116809,1.3546552949538024,0.36432637571157495,2.484076433121019,1.715927750410509,1.8,2.3366459627329195,0.171059709521248,1.33,1.37012987012987,0.416796267496112,0.8964285714285715,1.3659711075441412,0.8560700876095119,0.5360262008733624,1.2093457943925234,1.3501312335958005,1.9586776859504131,0.8726937269372693,3.4504310344827585,0.18513513513513513,0.7496443812233285,1.1329787234042554,1.3869346733668342,1.9984152139461173,1.6415094339622642,2.5262172284644193,0.8591160220994475,1.5692307692307692,0.5325779036827195,1.8424591738712777,0.8708487084870848,1.531868131868132,0.2142064372918979,0.5597269624573379,0.468013468013468,3.119309262166405,1.331989247311828,1.4451754385964912,0.5886075949367089,0.7842639593908629,1.0594405594405594,0.3643410852713178,1.1134328358208956,1.014367816091954,1.2625619249823072,1.3606237816764133,1.3532967032967034,1.5958279009126466,2.456140350877193,2.6950617283950615,0.9430604982206405,0.08333333333333333,0.6785046728971963,1.0095923261390887,0.9198149575944488,0.0423728813559322,1.3904109589041096,0.7647714604236343,0.5207756232686981,2.5803921568627453,0.8440366972477065,1.6383363471971066,0.7355072463768116,1.660759493670886,0.48484848484848486,1.8866213151927438,1.5008403361344538,1.7377521613832854,0.9729241877256317,0.3944099378881988,1.1201456310679612,2.6323529411764706,1.2454780361757105,2.533406352683461,1.082585278276481,1.4836734693877551,0.5943396226415094,1.2307692307692308,1.5704845814977975,0.40642201834862385,2.867313915857605,1.2233009708737863,1.2192691029900333,0.9880668257756563,0.8052444687243923,0.629182156133829,0.8436363636363636,0.8048433048433048,2.3616398243045387,0.7889400921658987,0.9732246798603027,0.7,0.7823050058207218,2.3611650485436892,2.1048034934497815,1.1859756097560976,0.808634772462077,2.3374384236453203,0.7392550143266475,0.7490196078431373,0.6641326883206634,1.927710843373494,1.7092436974789915,0.05652173913043478,0.9767206477732794,0.6674816625916871,0.5696498054474708,1.1425968109339408,1.1008230452674896,0.9543726235741445,0.7426751592356687,1.0132841328413285,0.9667705088265836,1.8040201005025125,1.0070671378091873,1.3034979423868314,1.0872410032715376,1.979899497487437,1.09447983014862,2.464114832535885,0.42886178861788615,1.9539489382009068,1.2166212534059946,2.0884353741496597,1.3864864864864865,1.6929824561403508,0.0,1.6594301221166894,0.7841409691629956,0.5044510385756676,2.2339246119733924,1.2806267806267806,2.182311869666408,0.622478386167147,1.3728452105917897,1.2665799739921977,0.9035175879396985,1.4485887096774193,1.2493702770780857,2.3677467972871136,1.095353675450763,1.2779729051680884,0.8786666666666667,0.8826666666666667,1.438216560509554,1.009306260575296,0.8993223620522749,1.6078680203045685,0.9054355919583023,0.9126168224299065,1.6592398427260813,1.2988953866146848,1.125506072874494,0.9597238204833142,1.336774193548387,1.1577287066246056,0.8741976893453145,1.0841346153846154,2.213872832369942,0.747104247104247,1.8285714285714285,1.5185873605947955,2.3120665742024964,1.9556119213696892,1.055724417426545,0.3078947368421053,1.4383333333333332,1.8866666666666667,1.9532163742690059,0.9951456310679612,0.9765625,2.769722814498934,1.807155322862129,1.905857740585774,0.5190114068441065,2.1877346683354193,0.8095238095238095,0.5813186813186814,1.7875,0.5549805950840879,1.0933940774487472,0.2747524752475248,0.20612980769230768,0.5060080106809078,0.28892215568862273,2.2282608695652173,1.3214285714285714,0.10596026490066225,0.5125,0.6951983298538622,2.0011210762331837,0.46873966258683425,0.21818181818181817,1.1282722513089005,1.6739811912225706,0.13432835820895522,1.6327777777777779,1.819767441860465,1.224824355971897,1.0681818181818181,0.7924187725631769,1.4923747276688453,1.7671755725190839,1.5740072202166064,0.32840236686390534,2.035830618892508,0.9844020797227037,1.9752747252747254,0.5587583148558758,1.780885780885781,1.1186094069529653,2.1921182266009853,1.4480286738351253,3.154166666666667,0.7318435754189944,1.9814189189189189,2.483164983164983,0.3184855233853007,1.189753320683112,0.6643558636626228,0.7486338797814208,0.2614035087719298,2.1189979123173277,1.9373848987108655,1.1127694859038142,1.4029850746268657,1.6421947449768162,1.8268156424581006,1.7318435754189945,2.257372654155496,0.9336569579288025,0.7619047619047619,1.0829840737636212,1.2073887489504618,1.7372013651877134,2.551282051282051,1.233009708737864,0.1634349030470914,0.3949468085106383,1.0972602739726027,3.1824324324324325,1.30784123910939,1.449122807017544,1.5128805620608898,0.9869109947643979,1.780701754385965,0.19363762102351315,1.4289940828402368,1.212489158716392,1.1588319088319088,0.18181818181818182,2.0425427872860635,2.1729237770193404,2.0422374429223744,1.045275590551181,1.0960591133004927,0.8762475049900199,0.07932489451476793,0.508955223880597,0.6611111111111111,1.1666666666666667,0.7130872483221476,2.115413819286257,0.6184895833333334,0.6919959473150963,0.6334310850439883,2.288697788697789,1.2276029055690072,1.2969023962594974,1.1800766283524904,0.49624765478424016,0.46987951807228917,1.9045307443365695,1.364864864864865,1.372355430183357,4.153674832962138,0.22419928825622776,6.545064377682404,1.0241492864983535,1.28698752228164,0.1936127744510978,1.0970812182741116,0.8085561497326204,1.3551587301587302,1.5626477541371158,0.8089887640449438,1.531111111111111,1.894927536231884,1.3076157292185167,0.5577116092338574,0.8221052631578948,0.5744420666462855,0.776287932251235,0.7048275862068966,1.2347922848664687,1.3385231316725978,1.4220472440944882,0.837856891082129,1.0765262252794496,1.5427574171029668,0.870507399577167,1.1341624768457264,0.31424581005586594,3.625,2.0911925175370225,1.1436781609195403,1.3331206126356094,0.807551766138855,0.6542056074766355,0.6830985915492958,1.0588642659279779,1.0293909348441925,1.2877470355731224,0.9013806706114399,1.4323809523809523,0.9650924024640657,0.9631506218332566,1.337837837837838,2.7648054145516077,1.6288927335640138,0.45403587443946186,0.2422907488986784,1.1114503816793893,0.8714581893572909,0.7157584683357879,0.7020348837209303,1.4795204795204795,0.6776729559748428,2.1806691449814126,0.9906367041198502,0.9089285714285714,1.0982456140350878,0.3208955223880597,0.952934955050238,0.14625850340136054,0.5303308823529411,2.7002724795640325,0.3044349070100143,0.4088176352705411,2.365883807169345,0.4278005611914526,0.6606060606060606,0.5877192982456141,1.244175209692451,3.2519083969465647,0.09268795056642637,0.10141509433962265,1.8449367088607596,0.9008097165991903,0.934640522875817,2.1631799163179917,1.952247191011236,1.034993270524899,1.5661231884057971,1.1521197007481296,0.9473684210526315,1.0692124105011933,1.8709150326797386,2.2289002557544757,2.4963325183374083,1.6478060046189376,1.3295880149812733,1.312210200927357,0.8164852255054432,1.341860465116279,4.331369661266568,2.4035476718403546,1.1882693700217233,1.8823529411764706,1.6862745098039216,1.605217391304348,1.610738255033557,1.5450121654501217,0.527542372881356,0.452642073778664,2.269230769230769,1.0351063829787235,1.255043227665706,1.464524765729585,1.1348425196850394,0.1446700507614213,0.809322033898305,1.2934131736526946,0.7970660146699267,0.9567936327458784,0.8161764705882353,0.30612244897959184,1.226958525345622,1.195583596214511,0.2268041237113402,0.963855421686747,0.744578313253012,1.8480278422273781,0.6315120711562897,1.0607287449392713,0.9247842170160296,0.058161350844277676,1.0021390374331551,1.5843694493783305,2.415204678362573,1.4054794520547946,2.0570342205323193,0.47619047619047616,2.7643312101910826,0.11991823756529639,0.9619565217391305,1.844474761255116,2.26271186440678,0.22569444444444445,0.8285714285714286,1.7378309137489325,1.0693512304250559,1.3160919540229885,0.6319261213720316,2.254054054054054,2.3745519713261647,1.3207171314741035,0.7058823529411765,0.42657342657342656,1.1709558823529411,1.380184331797235,0.3835125448028674,2.2807991120976694,0.6965865992414665,1.3326612903225807,1.1304347826086956,2.300699300699301,2.0560509554140127,0.866600790513834,1.75,0.41456582633053224,0.41293250141803745,0.9036697247706422,0.7183908045977011,1.3344947735191637,2.855791962174941,0.9577836411609498,0.308659217877095,2.373612823674476,1.815909090909091,1.5946308724832214,0.6578947368421053,0.44778067885117495,0.8183333333333334,0.22162162162162163,0.7332361516034985,0.8696498054474708,0.7056367432150313,1.4980544747081712,2.34271922767498,1.2304900181488203,1.3153296266878476,1.7419354838709677,0.35233730522456463,1.1044374719856567,0.7540983606557377,4.151750972762646,0.5122723673792557,0.3569023569023569,1.3248175182481752,0.6872330327479829,1.2349272349272349,1.0806142034548945,0.2472204054937868,1.9105613701236916,0.02906208718626156,0.5117873981997428,0.6279863481228669,0.16778523489932887,0.23820099944475293,1.8170212765957447,0.025205761316872428,1.2095890410958905,1.5708446866485013,0.2838235294117647,1.3119956966110813,1.8543307086614174,0.20268500327439423,2.2860281195079084,0.36384976525821594,1.560693641618497,1.595617529880478,0.739404869251578,0.748890860692103,0.7722063037249284,0.6280616873299063,0.4192740926157697,1.1083172147001934,0.2732919254658385,0.18661971830985916,1.1663551401869159,0.7901668129938543,0.8286713286713286,0.9284862932061978,0.2593072191647782,1.029,1.5982532751091703,2.278947368421053,0.47575757575757577,0.6200406917599186,1.1768355739400207,0.7066246056782335,0.5252707581227437,0.8717391304347826,1.6977124183006536,2.4440298507462686,2.399193548387097,1.0818053596614952,3.445398773006135,0.4827586206896552,0.43070127001656544,1.5766944114149821,1.941086846114779,1.9609793420045907,2.480059084194978,2.3488,2.838951310861423,2.6605196982397317,0.20970394736842105,0.9712163416898792,1.0199789695057835,1.4846235418875928,0.8416,1.8160136286201023,1.9855491329479769,1.8818097876269622,0.8536853685368537,0.9828815977175464,0.3563636363636364,0.22394755003450656,1.2381530984204132,1.763157894736842,1.5087719298245614,2.944980694980695,2.0223826714801443,2.006153846153846,2.368316831683168,3.010556621880998,1.3606870229007633,2.0224719101123596,1.5724907063197027,2.2980132450331126,1.6695095948827292,0.14215586009408876,0.8136363636363636,2.1065318818040435,0.9763481551561022,0.5163727959697733,1.0838894184938037,0.0,0.28191489361702127,0.923117430226435,1.7882960413080895,0.8498659517426274,1.3961965134706815,0.4287138584247258,0.46078431372549017,0.5936254980079682,0.22439313203078745,2.616,1.3926128590971272,1.4172366621067032,1.7235494880546076,0.38625730994152047,4.276744186046511,1.9220338983050846,0.7640718562874251,0.8821656050955414,0.27802690582959644,0.9784791965566715,0.11715481171548117,1.875920084121977,0.5037128712871287,1.755771567436209,0.4041980624327234,1.8243478260869566,0.9480968858131488,0.20597652081109924,0.1404399323181049,0.6846335697399527,0.3,2.3418994413407823,0.7454931071049841,0.3578847969782814,2.721259842519685,0.46691176470588236,3.6024844720496896,0.7061855670103093,1.8165869218500796,1.7096774193548387,0.08808290155440414,0.7516908212560387,2.248762376237624,0.3741854109733025,1.4636871508379887,3.448148148148148,2.0120967741935485,0.9665109034267912,1.6944770857814335,2.0,3.238341968911917,0.20943134535367544,1.832412523020258,1.7070063694267517,2.5174563591022445,2.802,3.4601063829787235,1.6990825688073394,1.3573033707865167,1.8030018761726079,1.0078023407022108,2.4539007092198584,0.46764091858037576,2.8984126984126983,2.4049751243781095,3.531772575250836,1.540895061728395,2.452054794520548,0.19055419055419057,1.8823529411764706,1.1589595375722543,1.7465753424657535,1.5946969696969697,0.3402892183781805,0.5091210613598673,0.5990415335463258,0.6691380908248378,0.21231370632787686,2.888198757763975,0.6791419443176632,1.5707656612529002,0.4593034442947855,0.8320610687022901,2.060416666666667,2.1300268096514747,0.5961538461538461,0.6675369886858138,2.4484126984126986,0.8293135435992579,2.283435582822086,2.324271844660194,2.166018158236057,0.5763375380600261,1.4295558958652375,1.39618138424821,0.9633507853403142,2.4564102564102566,0.96875,0.39728682170542634,0.32261521972132906,0.2690246516613076,1.0063965884861408,0.9571984435797666,1.6749285033365109,1.2399010717230008,0.42586750788643535,3.318681318681319,1.3535031847133758,1.6853658536585365,2.6106639839034207,1.9266802443991853,0.12818181818181817,1.3900709219858156,1.306930693069307,0.3538732394366197,1.3834808259587021,1.205992509363296,1.2417061611374407,0.9038167938931297,1.7635983263598327,2.929787234042553,2.6405693950177938,0.6122448979591837,1.5206896551724138,1.893939393939394,2.027292576419214,0.540590405904059,0.7142857142857143,1.3060498220640568,1.175064047822374,1.0,0.7242105263157895,3.3858267716535435,0.5324332257117699,1.6195190947666196,2.279527559055118,2.7600554785020806,1.6810198300283286,3.5784114052953155,1.4854014598540146,3.3990498812351544,0.6127497621313035,0.1511156186612576,2.6109271523178808,2.0402193784277878,0.925974025974026,0.31798715203426126,0.4650997150997151,1.087719298245614,0.8822341857335128,2.107929515418502,0.7,2.321167883211679,1.3320825515947468,0.9975,2.783166904422254,2.054054054054054,1.4141104294478528,0.03367003367003367,0.33403068340306835,0.9813242784380306,0.0,0.14651258770119685,1.5512544802867383,2.016574585635359,1.273046532045654,1.8692868840256067,1.9379027533684827,0.929427430093209,2.4882154882154883,1.306706114398422,1.8437253354380425,2.109170305676856,1.859621451104101,1.7123809523809523,1.6742694226657162,1.8294075660242684,1.244640605296343,1.9429713040319652,1.4578616352201257,1.9465408805031446,1.909379407616361,1.5299212598425196,1.7157071783937456,2.4372574385510997,1.8530351437699681,0.9876543209876543,1.922337278106509,1.5757575757575757,0.678082191780822,1.294921875,0.3066488345433703,2.348747591522158,0.9488188976377953,0.0368763557483731,0.8380281690140845,3.2071494042163153,0.5030181086519114,1.6346153846153846,1.8664047151277015,2.0367132867132867,3.207272727272727,1.911439114391144,0.16909421939007738,2.4794776119402986,1.4722222222222223,0.6625514403292181,0.33091603053435115,0.49187339606501285,1.281767955801105,1.1727748691099475,1.9497206703910615,1.358974358974359,0.6991869918699187,1.2862796833773087,1.4743589743589745,0.29057993249463027,0.7743271221532091,0.5261756876663709,0.9467384799521245,2.6461126005361932,5.890756302521009,1.539488320355951,1.6417624521072798,1.0309523809523808,1.5182370820668694,3.2878048780487803,1.4458204334365325,1.615987460815047,1.1636363636363636,2.626334519572954,0.9941262848751835,2.297872340425532,0.5444444444444444,0.9102564102564102,1.3220973782771535,2.632967032967033,1.0454976303317536,1.370051635111876,1.237165888841748,0.23138297872340424,1.0893246187363834,0.6413502109704642,0.7678784266984505,0.9142461964038727,0.013368983957219251,1.0057692307692307,1.3431903373594336,1.2802056555269923,1.4332977588046958,1.384703196347032,0.3191489361702128,0.28094820017559263,0.5657237936772047,0.48583569405099153,0.47460757156048017,0.7525622254758418,1.9483204134366925,2.548611111111111,1.23046875,1.0290322580645161,2.233502538071066,2.0707070707070705,2.404426559356137,1.1915194346289752,1.0031645569620253,3.024561403508772,1.1840490797546013,2.142857142857143,2.8291948833709557,2.459387483355526,1.2440801457194899,1.6445012787723785,0.22837370242214533,0.9625334522747547,0.327140549273021,0.47150259067357514,0.5128205128205128,2.338008415147265,0.12920353982300886,0.4267734553775744,1.6220362622036262,1.417624521072797,3.0,0.9739884393063584,1.8614823815309842,2.2298335467349553,2.7419354838709675,0.8072562358276644,0.8157894736842105,2.085858585858586,3.2257383966244726,1.2182668104998202,2.2836538461538463,2.4453832226916115,3.014265335235378,2.480392156862745,2.1840607210626186,2.5177809388335706,0.5835051546391753,1.2418300653594772,3.112449799196787,2.2447552447552446,0.8173913043478261,1.2125813449023861,1.608649789029536,0.8971499380421314,1.3489167616875712,0.8238557558945908,1.8999205718824463,1.1617312072892938,2.662379421221865,2.5270935960591134,0.4642857142857143,0.9259927797833934,1.3962264150943395,2.0727272727272728,2.719941348973607,0.8685282140779523,1.3643949930458972,1.5819672131147542,1.0811965811965811,1.7843137254901962,1.4320536258379037,2.422594142259414,0.41098901098901097,1.551418439716312,1.51575456053068,1.5599128540305012,1.4807017543859649,1.4017543859649122,1.9176781002638523,1.7527216174183515,1.5097826086956523,1.6493663246831622,2.297087378640777,3.128205128205128,0.9942922374429224,1.6134636264929425,0.726890756302521,2.8051470588235294,1.6121690664189503,2.8308921438082555,2.4626038781163433,1.550185873605948,1.5614035087719298,2.706280193236715,2.8516666666666666,0.09582309582309582,1.8442211055276383,1.3538812785388128,2.6016713091922004,0.9644502962475313,1.0779305828421741,0.34478371501272265,1.7775752051048315,1.2870249017038007,1.5006016847172081,1.0851063829787233,3.006622516556291,1.4086956521739131,1.2739463601532568,1.2433234421364985,0.978515625,2.9130434782608696,1.0477001703577513,0.575208913649025,0.6300653594771242,1.8266773162939298,0.0,0.5488629379225568,0.3073170731707317,1.3847283406754773,1.4560260586319218,1.5261382799325465,1.8765182186234817,1.442838370565046,2.4239130434782608,3.138888888888889,3.0886319845857417,1.6588235294117648,1.2508620689655172,1.3597929249352891,0.44280442804428044,0.48270676691729325,1.4525660964230172,2.020376175548589,1.8802588996763754,3.243445692883895,0.35043668122270744,0.31993817619783615,2.347864768683274,0.6771217712177122,1.1223564954682779,1.1491596638655461,1.1133720930232558,0.9451476793248945,0.06845564074479737,0.5630252100840336,0.7100737100737101,2.585972850678733,1.193014705882353,0.19696969696969696,1.9484848484848485,3.9919137466307277,1.763866877971474,2.093621399176955,2.069268292682927,1.670520231213873,1.700381679389313,3.172,1.1661703394877903,1.979115479115479,1.8849557522123894,0.7334801762114538,1.9239904988123515,1.7092457420924574,1.4799025578562728,1.5835787923416789,0.5402930402930403,1.193004372267333,4.351201478743068,2.061482820976492,1.1624129930394431,2.574209803023362,1.541552511415525,0.7732997481108312,1.8072033898305084,3.0812787862367923,3.0084232692813897,1.8724604966139955,2.0442322191505404,3.0826782325833557,2.8904530330176605,3.058847624249044,1.747697031729785,2.81100611450806,1.2456140350877194,1.9276693455797933,2.430425963488844,0.8285714285714286,1.4884526558891455,1.8191018342821,1.0279783393501805,1.7922556853103873,1.498448810754912,2.7896090534979425,3.2358131957643224,3.045183941382995,1.3513824884792627,1.2037735849056603,3.096378329841365,1.236,1.0866141732283465,2.3093922651933703,1.6733576642335766,1.0512562814070352,1.897560975609756,1.6239388794567062,2.4788571428571426,1.895448954489545,1.3337363966142683,1.817320703653586,1.96301775147929,1.1982532751091703,2.4994541484716155,1.4604743083003953,1.2401685393258426,1.9613992762364294,1.2101910828025477,2.4285714285714284,1.2029887920298878,0.6507177033492823,2.0,2.993684210526316,3.4778225806451615,2.8946322067594434,1.9737347853939782,1.479665071770335,1.737955346650999,1.0888888888888888,0.08472746896923908,0.9891395154553049,2.5036363636363634,1.1085665818490247,1.9817073170731707,0.4,1.9090909090909092,0.24615384615384617,1.0620567375886525,1.2732824427480915,2.7830319888734354,1.6756594724220624,1.456221198156682,1.4349775784753362,5.179054054054054,0.6193806193806194,0.70995670995671,1.6094808126410836,2.034623217922607,1.4425493716337523,0.6549192364170338,0.36347517730496454,0.9349904397705545,0.570446735395189,1.0848303393213572,1.0024403470715835,1.3311258278145695,0.8449781659388647,1.0326086956521738,3.1910994764397906,0.718421052631579,1.683956574185766,1.7368012422360248,1.1338983050847458,1.8458823529411765,2.2451499118165783,0.829443447037702,1.8825503355704698,0.36508511408909816,1.6903474903474904,0.8609022556390977,0.3158813263525305,0.5204755614266843,2.8265486725663718,0.98,2.023866348448687,2.211576846307385,1.0176619007569385,2.2777777777777777,1.5448954489544895,0.4475806451612903,4.439446366782007,1.1313868613138687,0.9576547231270358,2.7338709677419355,0.7864963503649635,0.7618453865336658,0.8731343283582089,1.9343065693430657,2.8242677824267783,0.5590723910999686,0.21052631578947367,2.650442477876106,1.478537360890302,0.7303822937625755,0.7509433962264151,2.1958333333333333,1.014388489208633,1.5213849287169043,2.494962216624685,0.3351063829787234,0.2723404255319149,1.1298507462686567,0.8577765456057665,1.0989583333333333,2.2422535211267607,1.1057827926657264,0.9095337508698678,1.2650073206442167,1.4253521126760564,0.844851904090268,1.103967168262654,1.4246575342465753,1.5028901734104045,1.1810490693739424,1.6325947105075054,1.6888888888888889,1.3692748091603053,1.0434782608695652,2.16,0.15593220338983052,2.1863567073170733,1.5193508114856429,2.8220994475138124,0.883495145631068,0.5785482123510293,1.585209003215434,2.73953488372093,1.7792536369386465,0.5248868778280543,2.2534965034965033,1.0311004784688995,0.5342185903983657,1.2259459459459459,1.0021621621621621,4.2263814616755795,3.8655172413793104,1.8386075949367089,0.9241071428571429,1.2971246006389776,0.21940928270042195,1.5495145631067961,1.3874538745387455,4.425227568270481,1.0460660415817367,1.612366737739872,1.2690058479532165,1.328973185088293,1.62444641275465,1.2607052896725441,1.521434820647419,1.7671232876712328,0.2812407680945347,1.053082191780822,0.7209821428571429,1.1655104063429138,0.8873517786561265,1.326839826839827,0.43629745189807595,2.426767676767677,2.284132841328413,0.8956228956228957,0.5099877700774562,2.2532637075718016,2.2024539877300615,0.4915364583333333,2.866477272727273,1.3028112449799196,1.5358306188925082,3.3905109489051095,0.871244635193133,1.1974169741697418,2.6868131868131866,0.9823008849557522,0.412215992918265,0.5388661601402689,1.1793478260869565,1.4851485148514851,1.6599190283400809,2.019464720194647,1.0664010624169986,2.0403225806451615,1.2971428571428572,0.42046718576195774,0.34305835010060365,1.159362549800797,4.684210526315789,2.532608695652174,0.6470588235294118,1.4574616457461647,1.9919354838709677,1.9726840855106889,3.3634686346863467,1.4049586776859504,0.2689844464775846,1.305,0.4260355029585799,0.5226993865030675,0.26959247648902823,0.5413533834586466,0.9600470035252644,2.031400966183575,2.6989720998531572,1.0017361111111112,0.3963782696177062,1.1794871794871795,2.3796296296296298,1.8754901960784314,0.30701754385964913,0.8462998102466793,0.5148036253776435,1.192584963954686,0.05590717299578059,2.129573170731707,1.7512647554806071,2.0277602523659306,2.463144963144963,2.143987341772152,0.8631743549648163,0.6111111111111112,0.9275578790141897,1.3887147335423198,1.093836246550138,0.9018691588785047,4.823943661971831,0.19950068088969586,0.8157303370786517,2.448051948051948,0.41412213740458015,0.5749279538904899,2.441717791411043,1.9921875,3.552434456928839,2.0681520314547837,0.09615384615384616,1.14,1.5907590759075907,2.0846905537459284,1.5651465798045603,2.0618892508143323,1.7293510324483776,0.41792114695340504,0.9112627986348123,0.8582887700534759,0.5510204081632653,1.8036858974358974,1.373015873015873,0.6913696060037523,1.9729166666666667,0.23108108108108108,0.29152542372881357,0.9381107491856677,1.9288079470198676,1.2849936948297604,1.100558659217877,2.10928013876843,2.18562874251497,0.4129770992366412,2.0070484581497796,3.16497461928934,0.9783037475345168,1.221774193548387,0.06097560975609756,0.7320143884892086,2.9059474412171507,1.7264150943396226,1.82,2.8860103626943006,0.7341137123745819,0.6728076639646279,2.610576923076923,2.8399106478034253,1.779179810725552,1.9176201372997712,1.2918032786885245,2.6214340786430226,2.454945054945055,2.9557964970809008,2.4990892531876137,1.826086956521739,1.5716783216783217,1.9870609981515712,1.2425742574257426,2.0186480186480185,0.6176181102362205,1.811634349030471,5.286885245901639,0.7528373266078184,0.9430379746835443,1.0012610340479193,1.109375,1.0569620253164558,3.1954887218045114,1.2702702702702702,3.978142076502732,1.7920560747663552,3.4564796905222437,1.231827111984283,2.1923076923076925,1.7121535181236673,0.3489208633093525,0.5750431282346176,0.728481455563331,0.6356363636363637,0.25864553314121036,0.6425966447848286,0.8060344827586207,0.765003615328995,3.0918367346938775,1.880952380952381,0.7456140350877193,0.15677233429394813,0.33798882681564246,2.94320987654321,1.8656,2.107142857142857,1.1454112038140645,1.5891341256366722,0.9099756690997567,1.192627824019025,2.672686230248307,1.5446082234290148,2.42603550295858,0.097911227154047,1.194014447884417,0.4829857299670692,1.4411764705882353,1.1158038147138964,0.9481481481481482,0.5676577669902912,1.187192118226601,0.8072562358276644,2.338682899833979,1.5608108108108107,0.49763779527559054,0.8113905325443787,1.8568773234200744,2.0041152263374484,1.361760660247593,1.2015706806282722,2.4400785854616895,0.5932539682539683,0.8589065255731922,1.625,2.2169421487603307,1.0841584158415842,2.6479690522243713,1.1746835443037975,1.026610644257703,0.37789954337899545,0.7050805452292441,2.377483443708609,0.16923076923076924,1.5108359133126934,1.5697211155378485,0.3284810126582278,2.409274193548387,2.0107334525939176,0.8384991843393148,2.5066489361702127,1.3307543520309477,5.933161953727506,1.4962962962962962,0.5233265720081136,0.5946691176470589,0.7208791208791209,1.5165165165165164,1.3657195233730521,1.427719821162444,1.5733333333333333,1.5211764705882354,1.2975206611570247,2.0155440414507773,1.1319018404907975,0.680921052631579,2.0535307517084282,1.7525773195876289,2.2490118577075098,3.0366300366300365,0.8346228239845261,1.126005361930295,2.1492395437262357,1.939453125,2.0919811320754715,3.1549295774647885,1.4505327245053272,1.7371134020618557,0.3554913294797688,1.9453781512605042,0.21711541759560968,0.3563001415762152,2.3159722222222223,0.17018379850238258,2.0417754569190603,1.778061224489796,1.018978102189781,1.382205513784461,2.435064935064935,1.1105527638190955,0.2934131736526946,0.09523809523809523,1.181422351233672,1.5267326732673268,0.43953934740882916,1.2149410222804717,3.0816326530612246,0.8919202518363064,1.7164015359297862,1.2103658536585367,1.7318768619662364,2.8602442333785616,2.4097222222222223,1.1593655589123868,1.6707818930041152,3.1564245810055866,1.0262869660460021,1.9165545087483176,1.1069012178619757,2.138095238095238,2.096264367816092,1.2995319812792512,0.7157622739018088,0.3142754404890327,4.839662447257384,1.7207792207792207,2.4475,2.195086705202312,1.6228998133167392,0.4691358024691358,0.4992193598750976,2.166144200626959,0.7257318952234206,4.9324324324324325,5.320987654320987,2.6893491124260356,1.7002141327623126,1.6900826446280992,1.0828220858895705,2.2201405152224822,1.6732394366197183,3.111638954869359,1.6496598639455782,0.48743718592964824,2.7550362610797743,2.8484848484848486,1.5604395604395604,1.1875,0.676923076923077,6.849056603773585,1.962962962962963,0.7453125,1.6810228802153433,1.2721311475409836,0.3130699088145897,0.9126016260162602,2.3026315789473686,0.1845102505694761,2.0188902007083827,3.3452380952380953,2.4927536231884058,1.2933526011560694,3.635009310986965,0.21061020036429873,0.9684418145956607,1.66110183639399,0.6605166051660517,0.4073107049608355,0.7148387096774194,0.5771971496437055,1.1997132322818518,1.2097701149425288,0.9497807891590275,2.3452243958573074,1.104331450094162,1.3612903225806452,1.339548319327731,1.2322097378277153,1.735553772070626,1.8236286919831224,1.9088191330343798,0.8392319277108434,2.3674911660777385,1.4080996884735202,1.7650849443468073,2.557486631016043,1.404616724738676,1.574243490499648,0.7120322817314747,2.2249240121580547,2.991304347826087,1.7281553398058251,0.7545271629778671,0.7640712945590994,0.986822840409956,2.23109243697479,1.5423728813559323,0.4778135048231511,0.7380835380835381,0.9714285714285714,0.6020260492040521,0.7567567567567568,0.6155440414507772,4.632996632996633,0.03350515463917526,0.0,1.1965317919075145,0.40498034076015726,0.1038439472174412,1.1398305084745763,0.4253758709204254,0.1932367149758454,0.9918367346938776,1.2422360248447204,0.5951008645533141,2.0154738878143132,2.2410714285714284,2.516728624535316,3.0311653116531163,0.2721804511278195,1.1275862068965516,3.4142011834319526,3.475609756097561,1.4053826745164004,1.9799599198396793,2.191225165562914,2.8284424379232505,2.3049645390070923,2.140096618357488,0.6502732240437158,2.4986468200270635,2.130952380952381,1.2614475627769572,1.4146341463414633,1.2679738562091503,3.3003194888178915,0.9334637964774951,0.563276576161988,2.264705882352941,1.73992673992674,1.1232279171210469,0.8301314459049545,2.0428571428571427,2.1674121405750797,0.849906191369606,2.197478991596639,0.8466864490603363,4.1856060606060606,1.9144800777453839,2.113006396588486,0.4180602006688963,2.946969696969697,1.665680473372781,2.0870488322717624,1.2473867595818815,0.44550669216061184,0.37418655097613884,4.09349593495935,2.1907894736842106,0.8325281803542673,1.2045133991537376,2.0485436893203883,2.311284046692607,1.7088815789473684,3.3098591549295775,2.8046357615894038,2.0806451612903225,1.6236111111111111,0.5107212475633528,2.9076576576576576,1.4792043399638337,1.40745672436751,0.5357815442561206,0.9296066252587992,1.1097560975609757,2.22158438576349,0.5980311730926989,1.9679715302491103,2.1935368043087973,1.8414376321353065,1.6107784431137724,1.6273764258555132,0.10157367668097282,0.6362781954887218,0.3910724312184166,0.0022123893805309734,1.9426699426699428,1.112293144208038,0.5512893982808023,0.3016601907453197,0.10464058234758872,0.9428571428571428,0.9959919839679359,2.3421052631578947,1.8282504012841092,0.6978967495219885,0.7374392220421394,3.275272161741835,1.8255813953488371,0.5963149078726968,2.995836802664446,3.685567010309278,0.24429967426710097,1.9863013698630136,0.7288135593220338,4.388145315487572,1.1647940074906367,0.5661133371493989,0.9957805907172996,2.384370015948963,1.3179396092362345,0.3978102189781022,1.5430463576158941,2.8858350951374208,0.9409090909090909,1.7448275862068965,0.6480263157894737,2.757142857142857,0.8226415094339623,0.26216216216216215,1.633879781420765,0.29055093875038474,1.8205128205128205,3.0403225806451615,0.17350369872225957,1.0267379679144386,1.028205128205128,1.143992055610725,1.901323706377858,0.027659574468085105,0.6552538370720189,2.0397022332506203,0.76697956929873,1.5574776785714286,1.8359293873312565,0.017543859649122806,0.2160377358490566,1.1976149914821124,0.23993558776167473,0.44635193133047213,0.5725806451612904,1.287020109689214,1.3282442748091603,1.722158438576349,1.4842951059167275,2.8027079303675047,2.4087161366313308,0.05660377358490566,1.9492385786802031,1.4636572302983932,0.5508072174738842,1.7666068222621185,2.538255033557047,1.2790697674418605,0.09966405375139978,1.057391304347826,0.39138240574506283,0.5364834458373513,2.845528455284553,1.103386809269162,0.676595744680851,0.4191829484902309,1.899390243902439,1.8834264432029795,1.2383849557522124,1.950175165434021,2.3463436518618215,2.1476121562952244,1.8584637268847795,1.3067860508953817,1.7195502810743286,1.5554744525547446,1.369308600337268,2.0292275574112737,1.9680981595092024,5.356979405034325,0.6271844660194175,5.065934065934066,1.1283018867924528,2.1476683937823835,0.9102564102564102,1.078889700511322,1.897196261682243,2.128712871287129,0.45315487571701724,0.6274509803921569,1.6128133704735377,0.5873015873015873,1.4549450549450549,0.6131868131868132,0.31524341580207504,0.9006928406466512,2.1280276816608996,2.337782340862423,0.9621621621621622,2.09009009009009,0.6813804173354735,3.5631578947368423,2.985576923076923,1.5302631578947368,1.0961538461538463,1.7792682926829269,4.140243902439025],\"coloraxis\":\"coloraxis\",\"size\":[0.42876344086021506,1.1739488870568837,0.9438073394495413,1.2434141201264488,0.4204131227217497,1.549520766773163,1.4807965860597438,1.8956521739130434,1.2737864077669903,0.1426056338028169,0.7045226130653266,1.1332116788321167,0.5469387755102041,0.4049586776859504,1.8319327731092436,1.7648809523809523,1.7231833910034602,2.133093525179856,1.873501997336884,0.10356164383561643,0.11267605633802817,2.3391959798994977,0.5648351648351648,2.258836944127708,0.2695455828394016,2.2844827586206895,0.5377358490566038,0.7553398058252427,0.2694271128757799,0.2273972602739726,0.8155668358714044,0.7142857142857143,2.6678966789667897,2.625137816979052,0.1426056338028169,1.9767103347889374,2.7116788321167884,1.65625,1.164835164835165,0.841978287092883,0.25833333333333336,1.1568047337278107,0.985632183908046,0.06813627254509018,0.027659574468085105,1.234206471494607,0.5657084188911704,1.1173361522198733,0.47877758913412566,0.4071294559099437,3.065743944636678,0.4263698630136986,0.7780678851174935,0.2962962962962963,1.1640625,2.033457249070632,0.7297297297297297,0.40949935815147626,0.7521994134897361,0.7860169491525424,0.7325335215243473,1.7407407407407407,1.5462962962962963,0.0,2.0,0.4820051413881748,1.186426819296811,3.7832618025751072,0.7286135693215339,1.2764227642276422,1.2346041055718475,3.0110497237569063,1.8662207357859533,3.5324675324675323,1.3694581280788178,1.7392857142857143,0.424390243902439,1.9671361502347418,2.439882697947214,1.7501630789302023,0.0681198910081744,1.740566037735849,0.5067049808429118,1.9724264705882353,1.8888888888888888,0.5460526315789473,0.9715909090909091,1.2127468581687613,1.2802631578947368,0.5446265938069217,1.7571743929359824,0.9826254826254827,0.6353591160220995,0.5564516129032258,1.433695652173913,0.863030303030303,0.8277886497064579,0.04607046070460705,0.8409785932721713,1.7022556390977444,0.34625,0.4123456790123457,1.4633204633204633,0.14733542319749215,0.5639412997903563,1.7393767705382437,0.2442827442827443,2.784090909090909,1.4106194690265488,0.1371841155234657,5.569659442724459,1.3870967741935485,0.9648760330578512,0.8852459016393442,0.7776470588235294,1.9788918205804749,1.0122549019607843,1.9345238095238095,0.26480637813211844,1.862669245647969,1.7802955665024631,1.7536231884057971,1.0645805592543276,0.78125,0.5617977528089888,0.2439988703756001,1.358695652173913,0.8210332103321033,0.7490774907749077,0.14843276036400405,0.7074742268041238,0.7995867768595041,0.6844106463878327,0.5994962216624685,1.9262135922330097,0.2280894756142281,0.1557377049180328,0.45614035087719296,0.8972972972972973,2.5478260869565217,2.879646017699115,4.3578947368421055,0.008849557522123894,1.2945736434108528,0.17916666666666667,0.9848101265822785,0.291276675402471,0.5533782404572362,0.10605370960400547,2.0359116022099446,1.5938550168026884,1.7458266020463113,1.6430793157076204,1.8093354430379747,1.9292604501607717,1.4510686164229472,0.20882491741387446,0.24054982817869416,0.3206046141607001,1.8495575221238938,0.29172056921086675,1.5503177966101696,0.2265840220385675,0.3778443113772455,0.16605359957961113,0.1852965291063132,0.4102691924227318,0.7354138398914518,0.0,0.2213359920239282,0.3094677343382007,0.20185995623632386,1.1851162790697674,2.041116005873715,0.3231707317073171,0.44357976653696496,0.251875,0.3054037644201579,0.11004417130785481,0.2902546832245843,0.19105821807655193,0.256701030927835,0.36955187231430325,1.2166666666666666,0.35529801324503313,1.8912158231529959,0.0,0.24065934065934066,0.12560706401766003,1.0934199837530463,0.32170356111645815,0.3067426400759734,0.4631803628601921,0.2013975989965956,2.3513097072419105,3.4478527607361964,0.531284302963776,0.13157894736842105,2.4527629233511585,0.12010309278350516,0.875968992248062,0.13274647887323943,1.9181286549707601,0.24305555555555555,1.1512968299711817,1.3153638814016173,0.8055248618784531,3.187088274044796,2.6482758620689655,0.9706422018348624,0.870625,0.8210045662100457,2.097315436241611,0.3214800576645843,1.3669291338582676,0.748314606741573,1.503932878867331,0.020780537252914344,2.0880681818181817,2.302771855010661,2.6131147540983606,0.31158238172920066,0.44710860366713684,1.3044117647058824,1.0674846625766872,0.9123867069486404,0.05309734513274336,0.2755210173083716,0.6925,1.2857142857142858,1.8034188034188035,1.4682539682539681,1.6310483870967742,0.797945205479452,1.070295756536648,0.7924187725631769,1.052325581395349,1.0769230769230769,0.9947019867549669,1.8662900188323917,0.8527131782945736,1.6532846715328466,1.5686274509803921,2.0834132310642377,3.484848484848485,3.0582089552238805,2.2752043596730247,3.1176470588235294,2.540983606557377,3.1950078003120126,4.102564102564102,0.9192307692307692,0.6166666666666667,3.551282051282051,0.15384615384615385,3.9754098360655736,0.24321705426356588,0.959114139693356,0.34803001876172607,0.9908759124087592,1.7538896746817538,2.0592734225621414,2.706306306306306,0.7783505154639175,0.749185667752443,0.946360153256705,0.4011142061281337,0.19098360655737706,2.6688102893890675,0.10084033613445378,1.5424164524421593,0.653910149750416,0.6136087484811664,0.13398402839396628,0.0,1.5906515580736544,0.0,0.0,1.0047846889952152,0.0,0.0,0.0,0.45454545454545453,0.10687022900763359,0.914856136230182,1.1408199643493762,3.9023569023569022,1.0117252931323284,1.177142857142857,1.0487117552334944,3.6584967320261437,1.2314923619271445,1.6809116809116809,1.3546552949538024,0.36432637571157495,2.484076433121019,1.715927750410509,1.8,2.3366459627329195,0.171059709521248,1.33,1.37012987012987,0.416796267496112,0.8964285714285715,1.3659711075441412,0.8560700876095119,0.5360262008733624,1.2093457943925234,1.3501312335958005,1.9586776859504131,0.8726937269372693,3.4504310344827585,0.18513513513513513,0.7496443812233285,1.1329787234042554,1.3869346733668342,1.9984152139461173,1.6415094339622642,2.5262172284644193,0.8591160220994475,1.5692307692307692,0.5325779036827195,1.8424591738712777,0.8708487084870848,1.531868131868132,0.2142064372918979,0.5597269624573379,0.468013468013468,3.119309262166405,1.331989247311828,1.4451754385964912,0.5886075949367089,0.7842639593908629,1.0594405594405594,0.3643410852713178,1.1134328358208956,1.014367816091954,1.2625619249823072,1.3606237816764133,1.3532967032967034,1.5958279009126466,2.456140350877193,2.6950617283950615,0.9430604982206405,0.08333333333333333,0.6785046728971963,1.0095923261390887,0.9198149575944488,0.0423728813559322,1.3904109589041096,0.7647714604236343,0.5207756232686981,2.5803921568627453,0.8440366972477065,1.6383363471971066,0.7355072463768116,1.660759493670886,0.48484848484848486,1.8866213151927438,1.5008403361344538,1.7377521613832854,0.9729241877256317,0.3944099378881988,1.1201456310679612,2.6323529411764706,1.2454780361757105,2.533406352683461,1.082585278276481,1.4836734693877551,0.5943396226415094,1.2307692307692308,1.5704845814977975,0.40642201834862385,2.867313915857605,1.2233009708737863,1.2192691029900333,0.9880668257756563,0.8052444687243923,0.629182156133829,0.8436363636363636,0.8048433048433048,2.3616398243045387,0.7889400921658987,0.9732246798603027,0.7,0.7823050058207218,2.3611650485436892,2.1048034934497815,1.1859756097560976,0.808634772462077,2.3374384236453203,0.7392550143266475,0.7490196078431373,0.6641326883206634,1.927710843373494,1.7092436974789915,0.05652173913043478,0.9767206477732794,0.6674816625916871,0.5696498054474708,1.1425968109339408,1.1008230452674896,0.9543726235741445,0.7426751592356687,1.0132841328413285,0.9667705088265836,1.8040201005025125,1.0070671378091873,1.3034979423868314,1.0872410032715376,1.979899497487437,1.09447983014862,2.464114832535885,0.42886178861788615,1.9539489382009068,1.2166212534059946,2.0884353741496597,1.3864864864864865,1.6929824561403508,0.0,1.6594301221166894,0.7841409691629956,0.5044510385756676,2.2339246119733924,1.2806267806267806,2.182311869666408,0.622478386167147,1.3728452105917897,1.2665799739921977,0.9035175879396985,1.4485887096774193,1.2493702770780857,2.3677467972871136,1.095353675450763,1.2779729051680884,0.8786666666666667,0.8826666666666667,1.438216560509554,1.009306260575296,0.8993223620522749,1.6078680203045685,0.9054355919583023,0.9126168224299065,1.6592398427260813,1.2988953866146848,1.125506072874494,0.9597238204833142,1.336774193548387,1.1577287066246056,0.8741976893453145,1.0841346153846154,2.213872832369942,0.747104247104247,1.8285714285714285,1.5185873605947955,2.3120665742024964,1.9556119213696892,1.055724417426545,0.3078947368421053,1.4383333333333332,1.8866666666666667,1.9532163742690059,0.9951456310679612,0.9765625,2.769722814498934,1.807155322862129,1.905857740585774,0.5190114068441065,2.1877346683354193,0.8095238095238095,0.5813186813186814,1.7875,0.5549805950840879,1.0933940774487472,0.2747524752475248,0.20612980769230768,0.5060080106809078,0.28892215568862273,2.2282608695652173,1.3214285714285714,0.10596026490066225,0.5125,0.6951983298538622,2.0011210762331837,0.46873966258683425,0.21818181818181817,1.1282722513089005,1.6739811912225706,0.13432835820895522,1.6327777777777779,1.819767441860465,1.224824355971897,1.0681818181818181,0.7924187725631769,1.4923747276688453,1.7671755725190839,1.5740072202166064,0.32840236686390534,2.035830618892508,0.9844020797227037,1.9752747252747254,0.5587583148558758,1.780885780885781,1.1186094069529653,2.1921182266009853,1.4480286738351253,3.154166666666667,0.7318435754189944,1.9814189189189189,2.483164983164983,0.3184855233853007,1.189753320683112,0.6643558636626228,0.7486338797814208,0.2614035087719298,2.1189979123173277,1.9373848987108655,1.1127694859038142,1.4029850746268657,1.6421947449768162,1.8268156424581006,1.7318435754189945,2.257372654155496,0.9336569579288025,0.7619047619047619,1.0829840737636212,1.2073887489504618,1.7372013651877134,2.551282051282051,1.233009708737864,0.1634349030470914,0.3949468085106383,1.0972602739726027,3.1824324324324325,1.30784123910939,1.449122807017544,1.5128805620608898,0.9869109947643979,1.780701754385965,0.19363762102351315,1.4289940828402368,1.212489158716392,1.1588319088319088,0.18181818181818182,2.0425427872860635,2.1729237770193404,2.0422374429223744,1.045275590551181,1.0960591133004927,0.8762475049900199,0.07932489451476793,0.508955223880597,0.6611111111111111,1.1666666666666667,0.7130872483221476,2.115413819286257,0.6184895833333334,0.6919959473150963,0.6334310850439883,2.288697788697789,1.2276029055690072,1.2969023962594974,1.1800766283524904,0.49624765478424016,0.46987951807228917,1.9045307443365695,1.364864864864865,1.372355430183357,4.153674832962138,0.22419928825622776,6.545064377682404,1.0241492864983535,1.28698752228164,0.1936127744510978,1.0970812182741116,0.8085561497326204,1.3551587301587302,1.5626477541371158,0.8089887640449438,1.531111111111111,1.894927536231884,1.3076157292185167,0.5577116092338574,0.8221052631578948,0.5744420666462855,0.776287932251235,0.7048275862068966,1.2347922848664687,1.3385231316725978,1.4220472440944882,0.837856891082129,1.0765262252794496,1.5427574171029668,0.870507399577167,1.1341624768457264,0.31424581005586594,3.625,2.0911925175370225,1.1436781609195403,1.3331206126356094,0.807551766138855,0.6542056074766355,0.6830985915492958,1.0588642659279779,1.0293909348441925,1.2877470355731224,0.9013806706114399,1.4323809523809523,0.9650924024640657,0.9631506218332566,1.337837837837838,2.7648054145516077,1.6288927335640138,0.45403587443946186,0.2422907488986784,1.1114503816793893,0.8714581893572909,0.7157584683357879,0.7020348837209303,1.4795204795204795,0.6776729559748428,2.1806691449814126,0.9906367041198502,0.9089285714285714,1.0982456140350878,0.3208955223880597,0.952934955050238,0.14625850340136054,0.5303308823529411,2.7002724795640325,0.3044349070100143,0.4088176352705411,2.365883807169345,0.4278005611914526,0.6606060606060606,0.5877192982456141,1.244175209692451,3.2519083969465647,0.09268795056642637,0.10141509433962265,1.8449367088607596,0.9008097165991903,0.934640522875817,2.1631799163179917,1.952247191011236,1.034993270524899,1.5661231884057971,1.1521197007481296,0.9473684210526315,1.0692124105011933,1.8709150326797386,2.2289002557544757,2.4963325183374083,1.6478060046189376,1.3295880149812733,1.312210200927357,0.8164852255054432,1.341860465116279,4.331369661266568,2.4035476718403546,1.1882693700217233,1.8823529411764706,1.6862745098039216,1.605217391304348,1.610738255033557,1.5450121654501217,0.527542372881356,0.452642073778664,2.269230769230769,1.0351063829787235,1.255043227665706,1.464524765729585,1.1348425196850394,0.1446700507614213,0.809322033898305,1.2934131736526946,0.7970660146699267,0.9567936327458784,0.8161764705882353,0.30612244897959184,1.226958525345622,1.195583596214511,0.2268041237113402,0.963855421686747,0.744578313253012,1.8480278422273781,0.6315120711562897,1.0607287449392713,0.9247842170160296,0.058161350844277676,1.0021390374331551,1.5843694493783305,2.415204678362573,1.4054794520547946,2.0570342205323193,0.47619047619047616,2.7643312101910826,0.11991823756529639,0.9619565217391305,1.844474761255116,2.26271186440678,0.22569444444444445,0.8285714285714286,1.7378309137489325,1.0693512304250559,1.3160919540229885,0.6319261213720316,2.254054054054054,2.3745519713261647,1.3207171314741035,0.7058823529411765,0.42657342657342656,1.1709558823529411,1.380184331797235,0.3835125448028674,2.2807991120976694,0.6965865992414665,1.3326612903225807,1.1304347826086956,2.300699300699301,2.0560509554140127,0.866600790513834,1.75,0.41456582633053224,0.41293250141803745,0.9036697247706422,0.7183908045977011,1.3344947735191637,2.855791962174941,0.9577836411609498,0.308659217877095,2.373612823674476,1.815909090909091,1.5946308724832214,0.6578947368421053,0.44778067885117495,0.8183333333333334,0.22162162162162163,0.7332361516034985,0.8696498054474708,0.7056367432150313,1.4980544747081712,2.34271922767498,1.2304900181488203,1.3153296266878476,1.7419354838709677,0.35233730522456463,1.1044374719856567,0.7540983606557377,4.151750972762646,0.5122723673792557,0.3569023569023569,1.3248175182481752,0.6872330327479829,1.2349272349272349,1.0806142034548945,0.2472204054937868,1.9105613701236916,0.02906208718626156,0.5117873981997428,0.6279863481228669,0.16778523489932887,0.23820099944475293,1.8170212765957447,0.025205761316872428,1.2095890410958905,1.5708446866485013,0.2838235294117647,1.3119956966110813,1.8543307086614174,0.20268500327439423,2.2860281195079084,0.36384976525821594,1.560693641618497,1.595617529880478,0.739404869251578,0.748890860692103,0.7722063037249284,0.6280616873299063,0.4192740926157697,1.1083172147001934,0.2732919254658385,0.18661971830985916,1.1663551401869159,0.7901668129938543,0.8286713286713286,0.9284862932061978,0.2593072191647782,1.029,1.5982532751091703,2.278947368421053,0.47575757575757577,0.6200406917599186,1.1768355739400207,0.7066246056782335,0.5252707581227437,0.8717391304347826,1.6977124183006536,2.4440298507462686,2.399193548387097,1.0818053596614952,3.445398773006135,0.4827586206896552,0.43070127001656544,1.5766944114149821,1.941086846114779,1.9609793420045907,2.480059084194978,2.3488,2.838951310861423,2.6605196982397317,0.20970394736842105,0.9712163416898792,1.0199789695057835,1.4846235418875928,0.8416,1.8160136286201023,1.9855491329479769,1.8818097876269622,0.8536853685368537,0.9828815977175464,0.3563636363636364,0.22394755003450656,1.2381530984204132,1.763157894736842,1.5087719298245614,2.944980694980695,2.0223826714801443,2.006153846153846,2.368316831683168,3.010556621880998,1.3606870229007633,2.0224719101123596,1.5724907063197027,2.2980132450331126,1.6695095948827292,0.14215586009408876,0.8136363636363636,2.1065318818040435,0.9763481551561022,0.5163727959697733,1.0838894184938037,0.0,0.28191489361702127,0.923117430226435,1.7882960413080895,0.8498659517426274,1.3961965134706815,0.4287138584247258,0.46078431372549017,0.5936254980079682,0.22439313203078745,2.616,1.3926128590971272,1.4172366621067032,1.7235494880546076,0.38625730994152047,4.276744186046511,1.9220338983050846,0.7640718562874251,0.8821656050955414,0.27802690582959644,0.9784791965566715,0.11715481171548117,1.875920084121977,0.5037128712871287,1.755771567436209,0.4041980624327234,1.8243478260869566,0.9480968858131488,0.20597652081109924,0.1404399323181049,0.6846335697399527,0.3,2.3418994413407823,0.7454931071049841,0.3578847969782814,2.721259842519685,0.46691176470588236,3.6024844720496896,0.7061855670103093,1.8165869218500796,1.7096774193548387,0.08808290155440414,0.7516908212560387,2.248762376237624,0.3741854109733025,1.4636871508379887,3.448148148148148,2.0120967741935485,0.9665109034267912,1.6944770857814335,2.0,3.238341968911917,0.20943134535367544,1.832412523020258,1.7070063694267517,2.5174563591022445,2.802,3.4601063829787235,1.6990825688073394,1.3573033707865167,1.8030018761726079,1.0078023407022108,2.4539007092198584,0.46764091858037576,2.8984126984126983,2.4049751243781095,3.531772575250836,1.540895061728395,2.452054794520548,0.19055419055419057,1.8823529411764706,1.1589595375722543,1.7465753424657535,1.5946969696969697,0.3402892183781805,0.5091210613598673,0.5990415335463258,0.6691380908248378,0.21231370632787686,2.888198757763975,0.6791419443176632,1.5707656612529002,0.4593034442947855,0.8320610687022901,2.060416666666667,2.1300268096514747,0.5961538461538461,0.6675369886858138,2.4484126984126986,0.8293135435992579,2.283435582822086,2.324271844660194,2.166018158236057,0.5763375380600261,1.4295558958652375,1.39618138424821,0.9633507853403142,2.4564102564102566,0.96875,0.39728682170542634,0.32261521972132906,0.2690246516613076,1.0063965884861408,0.9571984435797666,1.6749285033365109,1.2399010717230008,0.42586750788643535,3.318681318681319,1.3535031847133758,1.6853658536585365,2.6106639839034207,1.9266802443991853,0.12818181818181817,1.3900709219858156,1.306930693069307,0.3538732394366197,1.3834808259587021,1.205992509363296,1.2417061611374407,0.9038167938931297,1.7635983263598327,2.929787234042553,2.6405693950177938,0.6122448979591837,1.5206896551724138,1.893939393939394,2.027292576419214,0.540590405904059,0.7142857142857143,1.3060498220640568,1.175064047822374,1.0,0.7242105263157895,3.3858267716535435,0.5324332257117699,1.6195190947666196,2.279527559055118,2.7600554785020806,1.6810198300283286,3.5784114052953155,1.4854014598540146,3.3990498812351544,0.6127497621313035,0.1511156186612576,2.6109271523178808,2.0402193784277878,0.925974025974026,0.31798715203426126,0.4650997150997151,1.087719298245614,0.8822341857335128,2.107929515418502,0.7,2.321167883211679,1.3320825515947468,0.9975,2.783166904422254,2.054054054054054,1.4141104294478528,0.03367003367003367,0.33403068340306835,0.9813242784380306,0.0,0.14651258770119685,1.5512544802867383,2.016574585635359,1.273046532045654,1.8692868840256067,1.9379027533684827,0.929427430093209,2.4882154882154883,1.306706114398422,1.8437253354380425,2.109170305676856,1.859621451104101,1.7123809523809523,1.6742694226657162,1.8294075660242684,1.244640605296343,1.9429713040319652,1.4578616352201257,1.9465408805031446,1.909379407616361,1.5299212598425196,1.7157071783937456,2.4372574385510997,1.8530351437699681,0.9876543209876543,1.922337278106509,1.5757575757575757,0.678082191780822,1.294921875,0.3066488345433703,2.348747591522158,0.9488188976377953,0.0368763557483731,0.8380281690140845,3.2071494042163153,0.5030181086519114,1.6346153846153846,1.8664047151277015,2.0367132867132867,3.207272727272727,1.911439114391144,0.16909421939007738,2.4794776119402986,1.4722222222222223,0.6625514403292181,0.33091603053435115,0.49187339606501285,1.281767955801105,1.1727748691099475,1.9497206703910615,1.358974358974359,0.6991869918699187,1.2862796833773087,1.4743589743589745,0.29057993249463027,0.7743271221532091,0.5261756876663709,0.9467384799521245,2.6461126005361932,5.890756302521009,1.539488320355951,1.6417624521072798,1.0309523809523808,1.5182370820668694,3.2878048780487803,1.4458204334365325,1.615987460815047,1.1636363636363636,2.626334519572954,0.9941262848751835,2.297872340425532,0.5444444444444444,0.9102564102564102,1.3220973782771535,2.632967032967033,1.0454976303317536,1.370051635111876,1.237165888841748,0.23138297872340424,1.0893246187363834,0.6413502109704642,0.7678784266984505,0.9142461964038727,0.013368983957219251,1.0057692307692307,1.3431903373594336,1.2802056555269923,1.4332977588046958,1.384703196347032,0.3191489361702128,0.28094820017559263,0.5657237936772047,0.48583569405099153,0.47460757156048017,0.7525622254758418,1.9483204134366925,2.548611111111111,1.23046875,1.0290322580645161,2.233502538071066,2.0707070707070705,2.404426559356137,1.1915194346289752,1.0031645569620253,3.024561403508772,1.1840490797546013,2.142857142857143,2.8291948833709557,2.459387483355526,1.2440801457194899,1.6445012787723785,0.22837370242214533,0.9625334522747547,0.327140549273021,0.47150259067357514,0.5128205128205128,2.338008415147265,0.12920353982300886,0.4267734553775744,1.6220362622036262,1.417624521072797,3.0,0.9739884393063584,1.8614823815309842,2.2298335467349553,2.7419354838709675,0.8072562358276644,0.8157894736842105,2.085858585858586,3.2257383966244726,1.2182668104998202,2.2836538461538463,2.4453832226916115,3.014265335235378,2.480392156862745,2.1840607210626186,2.5177809388335706,0.5835051546391753,1.2418300653594772,3.112449799196787,2.2447552447552446,0.8173913043478261,1.2125813449023861,1.608649789029536,0.8971499380421314,1.3489167616875712,0.8238557558945908,1.8999205718824463,1.1617312072892938,2.662379421221865,2.5270935960591134,0.4642857142857143,0.9259927797833934,1.3962264150943395,2.0727272727272728,2.719941348973607,0.8685282140779523,1.3643949930458972,1.5819672131147542,1.0811965811965811,1.7843137254901962,1.4320536258379037,2.422594142259414,0.41098901098901097,1.551418439716312,1.51575456053068,1.5599128540305012,1.4807017543859649,1.4017543859649122,1.9176781002638523,1.7527216174183515,1.5097826086956523,1.6493663246831622,2.297087378640777,3.128205128205128,0.9942922374429224,1.6134636264929425,0.726890756302521,2.8051470588235294,1.6121690664189503,2.8308921438082555,2.4626038781163433,1.550185873605948,1.5614035087719298,2.706280193236715,2.8516666666666666,0.09582309582309582,1.8442211055276383,1.3538812785388128,2.6016713091922004,0.9644502962475313,1.0779305828421741,0.34478371501272265,1.7775752051048315,1.2870249017038007,1.5006016847172081,1.0851063829787233,3.006622516556291,1.4086956521739131,1.2739463601532568,1.2433234421364985,0.978515625,2.9130434782608696,1.0477001703577513,0.575208913649025,0.6300653594771242,1.8266773162939298,0.0,0.5488629379225568,0.3073170731707317,1.3847283406754773,1.4560260586319218,1.5261382799325465,1.8765182186234817,1.442838370565046,2.4239130434782608,3.138888888888889,3.0886319845857417,1.6588235294117648,1.2508620689655172,1.3597929249352891,0.44280442804428044,0.48270676691729325,1.4525660964230172,2.020376175548589,1.8802588996763754,3.243445692883895,0.35043668122270744,0.31993817619783615,2.347864768683274,0.6771217712177122,1.1223564954682779,1.1491596638655461,1.1133720930232558,0.9451476793248945,0.06845564074479737,0.5630252100840336,0.7100737100737101,2.585972850678733,1.193014705882353,0.19696969696969696,1.9484848484848485,3.9919137466307277,1.763866877971474,2.093621399176955,2.069268292682927,1.670520231213873,1.700381679389313,3.172,1.1661703394877903,1.979115479115479,1.8849557522123894,0.7334801762114538,1.9239904988123515,1.7092457420924574,1.4799025578562728,1.5835787923416789,0.5402930402930403,1.193004372267333,4.351201478743068,2.061482820976492,1.1624129930394431,2.574209803023362,1.541552511415525,0.7732997481108312,1.8072033898305084,3.0812787862367923,3.0084232692813897,1.8724604966139955,2.0442322191505404,3.0826782325833557,2.8904530330176605,3.058847624249044,1.747697031729785,2.81100611450806,1.2456140350877194,1.9276693455797933,2.430425963488844,0.8285714285714286,1.4884526558891455,1.8191018342821,1.0279783393501805,1.7922556853103873,1.498448810754912,2.7896090534979425,3.2358131957643224,3.045183941382995,1.3513824884792627,1.2037735849056603,3.096378329841365,1.236,1.0866141732283465,2.3093922651933703,1.6733576642335766,1.0512562814070352,1.897560975609756,1.6239388794567062,2.4788571428571426,1.895448954489545,1.3337363966142683,1.817320703653586,1.96301775147929,1.1982532751091703,2.4994541484716155,1.4604743083003953,1.2401685393258426,1.9613992762364294,1.2101910828025477,2.4285714285714284,1.2029887920298878,0.6507177033492823,2.0,2.993684210526316,3.4778225806451615,2.8946322067594434,1.9737347853939782,1.479665071770335,1.737955346650999,1.0888888888888888,0.08472746896923908,0.9891395154553049,2.5036363636363634,1.1085665818490247,1.9817073170731707,0.4,1.9090909090909092,0.24615384615384617,1.0620567375886525,1.2732824427480915,2.7830319888734354,1.6756594724220624,1.456221198156682,1.4349775784753362,5.179054054054054,0.6193806193806194,0.70995670995671,1.6094808126410836,2.034623217922607,1.4425493716337523,0.6549192364170338,0.36347517730496454,0.9349904397705545,0.570446735395189,1.0848303393213572,1.0024403470715835,1.3311258278145695,0.8449781659388647,1.0326086956521738,3.1910994764397906,0.718421052631579,1.683956574185766,1.7368012422360248,1.1338983050847458,1.8458823529411765,2.2451499118165783,0.829443447037702,1.8825503355704698,0.36508511408909816,1.6903474903474904,0.8609022556390977,0.3158813263525305,0.5204755614266843,2.8265486725663718,0.98,2.023866348448687,2.211576846307385,1.0176619007569385,2.2777777777777777,1.5448954489544895,0.4475806451612903,4.439446366782007,1.1313868613138687,0.9576547231270358,2.7338709677419355,0.7864963503649635,0.7618453865336658,0.8731343283582089,1.9343065693430657,2.8242677824267783,0.5590723910999686,0.21052631578947367,2.650442477876106,1.478537360890302,0.7303822937625755,0.7509433962264151,2.1958333333333333,1.014388489208633,1.5213849287169043,2.494962216624685,0.3351063829787234,0.2723404255319149,1.1298507462686567,0.8577765456057665,1.0989583333333333,2.2422535211267607,1.1057827926657264,0.9095337508698678,1.2650073206442167,1.4253521126760564,0.844851904090268,1.103967168262654,1.4246575342465753,1.5028901734104045,1.1810490693739424,1.6325947105075054,1.6888888888888889,1.3692748091603053,1.0434782608695652,2.16,0.15593220338983052,2.1863567073170733,1.5193508114856429,2.8220994475138124,0.883495145631068,0.5785482123510293,1.585209003215434,2.73953488372093,1.7792536369386465,0.5248868778280543,2.2534965034965033,1.0311004784688995,0.5342185903983657,1.2259459459459459,1.0021621621621621,4.2263814616755795,3.8655172413793104,1.8386075949367089,0.9241071428571429,1.2971246006389776,0.21940928270042195,1.5495145631067961,1.3874538745387455,4.425227568270481,1.0460660415817367,1.612366737739872,1.2690058479532165,1.328973185088293,1.62444641275465,1.2607052896725441,1.521434820647419,1.7671232876712328,0.2812407680945347,1.053082191780822,0.7209821428571429,1.1655104063429138,0.8873517786561265,1.326839826839827,0.43629745189807595,2.426767676767677,2.284132841328413,0.8956228956228957,0.5099877700774562,2.2532637075718016,2.2024539877300615,0.4915364583333333,2.866477272727273,1.3028112449799196,1.5358306188925082,3.3905109489051095,0.871244635193133,1.1974169741697418,2.6868131868131866,0.9823008849557522,0.412215992918265,0.5388661601402689,1.1793478260869565,1.4851485148514851,1.6599190283400809,2.019464720194647,1.0664010624169986,2.0403225806451615,1.2971428571428572,0.42046718576195774,0.34305835010060365,1.159362549800797,4.684210526315789,2.532608695652174,0.6470588235294118,1.4574616457461647,1.9919354838709677,1.9726840855106889,3.3634686346863467,1.4049586776859504,0.2689844464775846,1.305,0.4260355029585799,0.5226993865030675,0.26959247648902823,0.5413533834586466,0.9600470035252644,2.031400966183575,2.6989720998531572,1.0017361111111112,0.3963782696177062,1.1794871794871795,2.3796296296296298,1.8754901960784314,0.30701754385964913,0.8462998102466793,0.5148036253776435,1.192584963954686,0.05590717299578059,2.129573170731707,1.7512647554806071,2.0277602523659306,2.463144963144963,2.143987341772152,0.8631743549648163,0.6111111111111112,0.9275578790141897,1.3887147335423198,1.093836246550138,0.9018691588785047,4.823943661971831,0.19950068088969586,0.8157303370786517,2.448051948051948,0.41412213740458015,0.5749279538904899,2.441717791411043,1.9921875,3.552434456928839,2.0681520314547837,0.09615384615384616,1.14,1.5907590759075907,2.0846905537459284,1.5651465798045603,2.0618892508143323,1.7293510324483776,0.41792114695340504,0.9112627986348123,0.8582887700534759,0.5510204081632653,1.8036858974358974,1.373015873015873,0.6913696060037523,1.9729166666666667,0.23108108108108108,0.29152542372881357,0.9381107491856677,1.9288079470198676,1.2849936948297604,1.100558659217877,2.10928013876843,2.18562874251497,0.4129770992366412,2.0070484581497796,3.16497461928934,0.9783037475345168,1.221774193548387,0.06097560975609756,0.7320143884892086,2.9059474412171507,1.7264150943396226,1.82,2.8860103626943006,0.7341137123745819,0.6728076639646279,2.610576923076923,2.8399106478034253,1.779179810725552,1.9176201372997712,1.2918032786885245,2.6214340786430226,2.454945054945055,2.9557964970809008,2.4990892531876137,1.826086956521739,1.5716783216783217,1.9870609981515712,1.2425742574257426,2.0186480186480185,0.6176181102362205,1.811634349030471,5.286885245901639,0.7528373266078184,0.9430379746835443,1.0012610340479193,1.109375,1.0569620253164558,3.1954887218045114,1.2702702702702702,3.978142076502732,1.7920560747663552,3.4564796905222437,1.231827111984283,2.1923076923076925,1.7121535181236673,0.3489208633093525,0.5750431282346176,0.728481455563331,0.6356363636363637,0.25864553314121036,0.6425966447848286,0.8060344827586207,0.765003615328995,3.0918367346938775,1.880952380952381,0.7456140350877193,0.15677233429394813,0.33798882681564246,2.94320987654321,1.8656,2.107142857142857,1.1454112038140645,1.5891341256366722,0.9099756690997567,1.192627824019025,2.672686230248307,1.5446082234290148,2.42603550295858,0.097911227154047,1.194014447884417,0.4829857299670692,1.4411764705882353,1.1158038147138964,0.9481481481481482,0.5676577669902912,1.187192118226601,0.8072562358276644,2.338682899833979,1.5608108108108107,0.49763779527559054,0.8113905325443787,1.8568773234200744,2.0041152263374484,1.361760660247593,1.2015706806282722,2.4400785854616895,0.5932539682539683,0.8589065255731922,1.625,2.2169421487603307,1.0841584158415842,2.6479690522243713,1.1746835443037975,1.026610644257703,0.37789954337899545,0.7050805452292441,2.377483443708609,0.16923076923076924,1.5108359133126934,1.5697211155378485,0.3284810126582278,2.409274193548387,2.0107334525939176,0.8384991843393148,2.5066489361702127,1.3307543520309477,5.933161953727506,1.4962962962962962,0.5233265720081136,0.5946691176470589,0.7208791208791209,1.5165165165165164,1.3657195233730521,1.427719821162444,1.5733333333333333,1.5211764705882354,1.2975206611570247,2.0155440414507773,1.1319018404907975,0.680921052631579,2.0535307517084282,1.7525773195876289,2.2490118577075098,3.0366300366300365,0.8346228239845261,1.126005361930295,2.1492395437262357,1.939453125,2.0919811320754715,3.1549295774647885,1.4505327245053272,1.7371134020618557,0.3554913294797688,1.9453781512605042,0.21711541759560968,0.3563001415762152,2.3159722222222223,0.17018379850238258,2.0417754569190603,1.778061224489796,1.018978102189781,1.382205513784461,2.435064935064935,1.1105527638190955,0.2934131736526946,0.09523809523809523,1.181422351233672,1.5267326732673268,0.43953934740882916,1.2149410222804717,3.0816326530612246,0.8919202518363064,1.7164015359297862,1.2103658536585367,1.7318768619662364,2.8602442333785616,2.4097222222222223,1.1593655589123868,1.6707818930041152,3.1564245810055866,1.0262869660460021,1.9165545087483176,1.1069012178619757,2.138095238095238,2.096264367816092,1.2995319812792512,0.7157622739018088,0.3142754404890327,4.839662447257384,1.7207792207792207,2.4475,2.195086705202312,1.6228998133167392,0.4691358024691358,0.4992193598750976,2.166144200626959,0.7257318952234206,4.9324324324324325,5.320987654320987,2.6893491124260356,1.7002141327623126,1.6900826446280992,1.0828220858895705,2.2201405152224822,1.6732394366197183,3.111638954869359,1.6496598639455782,0.48743718592964824,2.7550362610797743,2.8484848484848486,1.5604395604395604,1.1875,0.676923076923077,6.849056603773585,1.962962962962963,0.7453125,1.6810228802153433,1.2721311475409836,0.3130699088145897,0.9126016260162602,2.3026315789473686,0.1845102505694761,2.0188902007083827,3.3452380952380953,2.4927536231884058,1.2933526011560694,3.635009310986965,0.21061020036429873,0.9684418145956607,1.66110183639399,0.6605166051660517,0.4073107049608355,0.7148387096774194,0.5771971496437055,1.1997132322818518,1.2097701149425288,0.9497807891590275,2.3452243958573074,1.104331450094162,1.3612903225806452,1.339548319327731,1.2322097378277153,1.735553772070626,1.8236286919831224,1.9088191330343798,0.8392319277108434,2.3674911660777385,1.4080996884735202,1.7650849443468073,2.557486631016043,1.404616724738676,1.574243490499648,0.7120322817314747,2.2249240121580547,2.991304347826087,1.7281553398058251,0.7545271629778671,0.7640712945590994,0.986822840409956,2.23109243697479,1.5423728813559323,0.4778135048231511,0.7380835380835381,0.9714285714285714,0.6020260492040521,0.7567567567567568,0.6155440414507772,4.632996632996633,0.03350515463917526,0.0,1.1965317919075145,0.40498034076015726,0.1038439472174412,1.1398305084745763,0.4253758709204254,0.1932367149758454,0.9918367346938776,1.2422360248447204,0.5951008645533141,2.0154738878143132,2.2410714285714284,2.516728624535316,3.0311653116531163,0.2721804511278195,1.1275862068965516,3.4142011834319526,3.475609756097561,1.4053826745164004,1.9799599198396793,2.191225165562914,2.8284424379232505,2.3049645390070923,2.140096618357488,0.6502732240437158,2.4986468200270635,2.130952380952381,1.2614475627769572,1.4146341463414633,1.2679738562091503,3.3003194888178915,0.9334637964774951,0.563276576161988,2.264705882352941,1.73992673992674,1.1232279171210469,0.8301314459049545,2.0428571428571427,2.1674121405750797,0.849906191369606,2.197478991596639,0.8466864490603363,4.1856060606060606,1.9144800777453839,2.113006396588486,0.4180602006688963,2.946969696969697,1.665680473372781,2.0870488322717624,1.2473867595818815,0.44550669216061184,0.37418655097613884,4.09349593495935,2.1907894736842106,0.8325281803542673,1.2045133991537376,2.0485436893203883,2.311284046692607,1.7088815789473684,3.3098591549295775,2.8046357615894038,2.0806451612903225,1.6236111111111111,0.5107212475633528,2.9076576576576576,1.4792043399638337,1.40745672436751,0.5357815442561206,0.9296066252587992,1.1097560975609757,2.22158438576349,0.5980311730926989,1.9679715302491103,2.1935368043087973,1.8414376321353065,1.6107784431137724,1.6273764258555132,0.10157367668097282,0.6362781954887218,0.3910724312184166,0.0022123893805309734,1.9426699426699428,1.112293144208038,0.5512893982808023,0.3016601907453197,0.10464058234758872,0.9428571428571428,0.9959919839679359,2.3421052631578947,1.8282504012841092,0.6978967495219885,0.7374392220421394,3.275272161741835,1.8255813953488371,0.5963149078726968,2.995836802664446,3.685567010309278,0.24429967426710097,1.9863013698630136,0.7288135593220338,4.388145315487572,1.1647940074906367,0.5661133371493989,0.9957805907172996,2.384370015948963,1.3179396092362345,0.3978102189781022,1.5430463576158941,2.8858350951374208,0.9409090909090909,1.7448275862068965,0.6480263157894737,2.757142857142857,0.8226415094339623,0.26216216216216215,1.633879781420765,0.29055093875038474,1.8205128205128205,3.0403225806451615,0.17350369872225957,1.0267379679144386,1.028205128205128,1.143992055610725,1.901323706377858,0.027659574468085105,0.6552538370720189,2.0397022332506203,0.76697956929873,1.5574776785714286,1.8359293873312565,0.017543859649122806,0.2160377358490566,1.1976149914821124,0.23993558776167473,0.44635193133047213,0.5725806451612904,1.287020109689214,1.3282442748091603,1.722158438576349,1.4842951059167275,2.8027079303675047,2.4087161366313308,0.05660377358490566,1.9492385786802031,1.4636572302983932,0.5508072174738842,1.7666068222621185,2.538255033557047,1.2790697674418605,0.09966405375139978,1.057391304347826,0.39138240574506283,0.5364834458373513,2.845528455284553,1.103386809269162,0.676595744680851,0.4191829484902309,1.899390243902439,1.8834264432029795,1.2383849557522124,1.950175165434021,2.3463436518618215,2.1476121562952244,1.8584637268847795,1.3067860508953817,1.7195502810743286,1.5554744525547446,1.369308600337268,2.0292275574112737,1.9680981595092024,5.356979405034325,0.6271844660194175,5.065934065934066,1.1283018867924528,2.1476683937823835,0.9102564102564102,1.078889700511322,1.897196261682243,2.128712871287129,0.45315487571701724,0.6274509803921569,1.6128133704735377,0.5873015873015873,1.4549450549450549,0.6131868131868132,0.31524341580207504,0.9006928406466512,2.1280276816608996,2.337782340862423,0.9621621621621622,2.09009009009009,0.6813804173354735,3.5631578947368423,2.985576923076923,1.5302631578947368,1.0961538461538463,1.7792682926829269,4.140243902439025],\"sizemode\":\"area\",\"sizeref\":0.030440251572327045},\"mode\":\"markers\",\"name\":\"\",\"showlegend\":false,\"subplot\":\"mapbox\",\"type\":\"scattermapbox\"}],                        {\"template\":{\"data\":{\"histogram2dcontour\":[{\"type\":\"histogram2dcontour\",\"colorbar\":{\"outlinewidth\":0,\"ticks\":\"\"},\"colorscale\":[[0.0,\"#0d0887\"],[0.1111111111111111,\"#46039f\"],[0.2222222222222222,\"#7201a8\"],[0.3333333333333333,\"#9c179e\"],[0.4444444444444444,\"#bd3786\"],[0.5555555555555556,\"#d8576b\"],[0.6666666666666666,\"#ed7953\"],[0.7777777777777778,\"#fb9f3a\"],[0.8888888888888888,\"#fdca26\"],[1.0,\"#f0f921\"]]}],\"choropleth\":[{\"type\":\"choropleth\",\"colorbar\":{\"outlinewidth\":0,\"ticks\":\"\"}}],\"histogram2d\":[{\"type\":\"histogram2d\",\"colorbar\":{\"outlinewidth\":0,\"ticks\":\"\"},\"colorscale\":[[0.0,\"#0d0887\"],[0.1111111111111111,\"#46039f\"],[0.2222222222222222,\"#7201a8\"],[0.3333333333333333,\"#9c179e\"],[0.4444444444444444,\"#bd3786\"],[0.5555555555555556,\"#d8576b\"],[0.6666666666666666,\"#ed7953\"],[0.7777777777777778,\"#fb9f3a\"],[0.8888888888888888,\"#fdca26\"],[1.0,\"#f0f921\"]]}],\"heatmap\":[{\"type\":\"heatmap\",\"colorbar\":{\"outlinewidth\":0,\"ticks\":\"\"},\"colorscale\":[[0.0,\"#0d0887\"],[0.1111111111111111,\"#46039f\"],[0.2222222222222222,\"#7201a8\"],[0.3333333333333333,\"#9c179e\"],[0.4444444444444444,\"#bd3786\"],[0.5555555555555556,\"#d8576b\"],[0.6666666666666666,\"#ed7953\"],[0.7777777777777778,\"#fb9f3a\"],[0.8888888888888888,\"#fdca26\"],[1.0,\"#f0f921\"]]}],\"heatmapgl\":[{\"type\":\"heatmapgl\",\"colorbar\":{\"outlinewidth\":0,\"ticks\":\"\"},\"colorscale\":[[0.0,\"#0d0887\"],[0.1111111111111111,\"#46039f\"],[0.2222222222222222,\"#7201a8\"],[0.3333333333333333,\"#9c179e\"],[0.4444444444444444,\"#bd3786\"],[0.5555555555555556,\"#d8576b\"],[0.6666666666666666,\"#ed7953\"],[0.7777777777777778,\"#fb9f3a\"],[0.8888888888888888,\"#fdca26\"],[1.0,\"#f0f921\"]]}],\"contourcarpet\":[{\"type\":\"contourcarpet\",\"colorbar\":{\"outlinewidth\":0,\"ticks\":\"\"}}],\"contour\":[{\"type\":\"contour\",\"colorbar\":{\"outlinewidth\":0,\"ticks\":\"\"},\"colorscale\":[[0.0,\"#0d0887\"],[0.1111111111111111,\"#46039f\"],[0.2222222222222222,\"#7201a8\"],[0.3333333333333333,\"#9c179e\"],[0.4444444444444444,\"#bd3786\"],[0.5555555555555556,\"#d8576b\"],[0.6666666666666666,\"#ed7953\"],[0.7777777777777778,\"#fb9f3a\"],[0.8888888888888888,\"#fdca26\"],[1.0,\"#f0f921\"]]}],\"surface\":[{\"type\":\"surface\",\"colorbar\":{\"outlinewidth\":0,\"ticks\":\"\"},\"colorscale\":[[0.0,\"#0d0887\"],[0.1111111111111111,\"#46039f\"],[0.2222222222222222,\"#7201a8\"],[0.3333333333333333,\"#9c179e\"],[0.4444444444444444,\"#bd3786\"],[0.5555555555555556,\"#d8576b\"],[0.6666666666666666,\"#ed7953\"],[0.7777777777777778,\"#fb9f3a\"],[0.8888888888888888,\"#fdca26\"],[1.0,\"#f0f921\"]]}],\"mesh3d\":[{\"type\":\"mesh3d\",\"colorbar\":{\"outlinewidth\":0,\"ticks\":\"\"}}],\"scatter\":[{\"fillpattern\":{\"fillmode\":\"overlay\",\"size\":10,\"solidity\":0.2},\"type\":\"scatter\"}],\"parcoords\":[{\"type\":\"parcoords\",\"line\":{\"colorbar\":{\"outlinewidth\":0,\"ticks\":\"\"}}}],\"scatterpolargl\":[{\"type\":\"scatterpolargl\",\"marker\":{\"colorbar\":{\"outlinewidth\":0,\"ticks\":\"\"}}}],\"bar\":[{\"error_x\":{\"color\":\"#2a3f5f\"},\"error_y\":{\"color\":\"#2a3f5f\"},\"marker\":{\"line\":{\"color\":\"#E5ECF6\",\"width\":0.5},\"pattern\":{\"fillmode\":\"overlay\",\"size\":10,\"solidity\":0.2}},\"type\":\"bar\"}],\"scattergeo\":[{\"type\":\"scattergeo\",\"marker\":{\"colorbar\":{\"outlinewidth\":0,\"ticks\":\"\"}}}],\"scatterpolar\":[{\"type\":\"scatterpolar\",\"marker\":{\"colorbar\":{\"outlinewidth\":0,\"ticks\":\"\"}}}],\"histogram\":[{\"marker\":{\"pattern\":{\"fillmode\":\"overlay\",\"size\":10,\"solidity\":0.2}},\"type\":\"histogram\"}],\"scattergl\":[{\"type\":\"scattergl\",\"marker\":{\"colorbar\":{\"outlinewidth\":0,\"ticks\":\"\"}}}],\"scatter3d\":[{\"type\":\"scatter3d\",\"line\":{\"colorbar\":{\"outlinewidth\":0,\"ticks\":\"\"}},\"marker\":{\"colorbar\":{\"outlinewidth\":0,\"ticks\":\"\"}}}],\"scattermapbox\":[{\"type\":\"scattermapbox\",\"marker\":{\"colorbar\":{\"outlinewidth\":0,\"ticks\":\"\"}}}],\"scatterternary\":[{\"type\":\"scatterternary\",\"marker\":{\"colorbar\":{\"outlinewidth\":0,\"ticks\":\"\"}}}],\"scattercarpet\":[{\"type\":\"scattercarpet\",\"marker\":{\"colorbar\":{\"outlinewidth\":0,\"ticks\":\"\"}}}],\"carpet\":[{\"aaxis\":{\"endlinecolor\":\"#2a3f5f\",\"gridcolor\":\"white\",\"linecolor\":\"white\",\"minorgridcolor\":\"white\",\"startlinecolor\":\"#2a3f5f\"},\"baxis\":{\"endlinecolor\":\"#2a3f5f\",\"gridcolor\":\"white\",\"linecolor\":\"white\",\"minorgridcolor\":\"white\",\"startlinecolor\":\"#2a3f5f\"},\"type\":\"carpet\"}],\"table\":[{\"cells\":{\"fill\":{\"color\":\"#EBF0F8\"},\"line\":{\"color\":\"white\"}},\"header\":{\"fill\":{\"color\":\"#C8D4E3\"},\"line\":{\"color\":\"white\"}},\"type\":\"table\"}],\"barpolar\":[{\"marker\":{\"line\":{\"color\":\"#E5ECF6\",\"width\":0.5},\"pattern\":{\"fillmode\":\"overlay\",\"size\":10,\"solidity\":0.2}},\"type\":\"barpolar\"}],\"pie\":[{\"automargin\":true,\"type\":\"pie\"}]},\"layout\":{\"autotypenumbers\":\"strict\",\"colorway\":[\"#636efa\",\"#EF553B\",\"#00cc96\",\"#ab63fa\",\"#FFA15A\",\"#19d3f3\",\"#FF6692\",\"#B6E880\",\"#FF97FF\",\"#FECB52\"],\"font\":{\"color\":\"#2a3f5f\"},\"hovermode\":\"closest\",\"hoverlabel\":{\"align\":\"left\"},\"paper_bgcolor\":\"white\",\"plot_bgcolor\":\"#E5ECF6\",\"polar\":{\"bgcolor\":\"#E5ECF6\",\"angularaxis\":{\"gridcolor\":\"white\",\"linecolor\":\"white\",\"ticks\":\"\"},\"radialaxis\":{\"gridcolor\":\"white\",\"linecolor\":\"white\",\"ticks\":\"\"}},\"ternary\":{\"bgcolor\":\"#E5ECF6\",\"aaxis\":{\"gridcolor\":\"white\",\"linecolor\":\"white\",\"ticks\":\"\"},\"baxis\":{\"gridcolor\":\"white\",\"linecolor\":\"white\",\"ticks\":\"\"},\"caxis\":{\"gridcolor\":\"white\",\"linecolor\":\"white\",\"ticks\":\"\"}},\"coloraxis\":{\"colorbar\":{\"outlinewidth\":0,\"ticks\":\"\"}},\"colorscale\":{\"sequential\":[[0.0,\"#0d0887\"],[0.1111111111111111,\"#46039f\"],[0.2222222222222222,\"#7201a8\"],[0.3333333333333333,\"#9c179e\"],[0.4444444444444444,\"#bd3786\"],[0.5555555555555556,\"#d8576b\"],[0.6666666666666666,\"#ed7953\"],[0.7777777777777778,\"#fb9f3a\"],[0.8888888888888888,\"#fdca26\"],[1.0,\"#f0f921\"]],\"sequentialminus\":[[0.0,\"#0d0887\"],[0.1111111111111111,\"#46039f\"],[0.2222222222222222,\"#7201a8\"],[0.3333333333333333,\"#9c179e\"],[0.4444444444444444,\"#bd3786\"],[0.5555555555555556,\"#d8576b\"],[0.6666666666666666,\"#ed7953\"],[0.7777777777777778,\"#fb9f3a\"],[0.8888888888888888,\"#fdca26\"],[1.0,\"#f0f921\"]],\"diverging\":[[0,\"#8e0152\"],[0.1,\"#c51b7d\"],[0.2,\"#de77ae\"],[0.3,\"#f1b6da\"],[0.4,\"#fde0ef\"],[0.5,\"#f7f7f7\"],[0.6,\"#e6f5d0\"],[0.7,\"#b8e186\"],[0.8,\"#7fbc41\"],[0.9,\"#4d9221\"],[1,\"#276419\"]]},\"xaxis\":{\"gridcolor\":\"white\",\"linecolor\":\"white\",\"ticks\":\"\",\"title\":{\"standoff\":15},\"zerolinecolor\":\"white\",\"automargin\":true,\"zerolinewidth\":2},\"yaxis\":{\"gridcolor\":\"white\",\"linecolor\":\"white\",\"ticks\":\"\",\"title\":{\"standoff\":15},\"zerolinecolor\":\"white\",\"automargin\":true,\"zerolinewidth\":2},\"scene\":{\"xaxis\":{\"backgroundcolor\":\"#E5ECF6\",\"gridcolor\":\"white\",\"linecolor\":\"white\",\"showbackground\":true,\"ticks\":\"\",\"zerolinecolor\":\"white\",\"gridwidth\":2},\"yaxis\":{\"backgroundcolor\":\"#E5ECF6\",\"gridcolor\":\"white\",\"linecolor\":\"white\",\"showbackground\":true,\"ticks\":\"\",\"zerolinecolor\":\"white\",\"gridwidth\":2},\"zaxis\":{\"backgroundcolor\":\"#E5ECF6\",\"gridcolor\":\"white\",\"linecolor\":\"white\",\"showbackground\":true,\"ticks\":\"\",\"zerolinecolor\":\"white\",\"gridwidth\":2}},\"shapedefaults\":{\"line\":{\"color\":\"#2a3f5f\"}},\"annotationdefaults\":{\"arrowcolor\":\"#2a3f5f\",\"arrowhead\":0,\"arrowwidth\":1},\"geo\":{\"bgcolor\":\"white\",\"landcolor\":\"#E5ECF6\",\"subunitcolor\":\"white\",\"showland\":true,\"showlakes\":true,\"lakecolor\":\"white\"},\"title\":{\"x\":0.05},\"mapbox\":{\"style\":\"light\"}}},\"mapbox\":{\"domain\":{\"x\":[0.0,1.0],\"y\":[0.0,1.0]},\"center\":{\"lat\":49.4,\"lon\":11.5},\"zoom\":5,\"style\":\"carto-positron\"},\"coloraxis\":{\"colorbar\":{\"title\":{\"text\":\"departure_delay_m\"}},\"colorscale\":[[0.0,\"#0d0887\"],[0.1111111111111111,\"#46039f\"],[0.2222222222222222,\"#7201a8\"],[0.3333333333333333,\"#9c179e\"],[0.4444444444444444,\"#bd3786\"],[0.5555555555555556,\"#d8576b\"],[0.6666666666666666,\"#ed7953\"],[0.7777777777777778,\"#fb9f3a\"],[0.8888888888888888,\"#fdca26\"],[1.0,\"#f0f921\"]]},\"legend\":{\"tracegroupgap\":0,\"itemsizing\":\"constant\"},\"title\":{\"text\":\"Average Departure Delay by Station in Germany\"}},                        {\"responsive\": true}                    ).then(function(){\n",
              "                            \n",
              "var gd = document.getElementById('3d40e5b5-290a-4242-a94b-e7e3adc9444e');\n",
              "var x = new MutationObserver(function (mutations, observer) {{\n",
              "        var display = window.getComputedStyle(gd).display;\n",
              "        if (!display || display === 'none') {{\n",
              "            console.log([gd, 'removed!']);\n",
              "            Plotly.purge(gd);\n",
              "            observer.disconnect();\n",
              "        }}\n",
              "}});\n",
              "\n",
              "// Listen for the removal of the full notebook cells\n",
              "var notebookContainer = gd.closest('#notebook-container');\n",
              "if (notebookContainer) {{\n",
              "    x.observe(notebookContainer, {childList: true});\n",
              "}}\n",
              "\n",
              "// Listen for the clearing of the current output cell\n",
              "var outputEl = gd.closest('.output');\n",
              "if (outputEl) {{\n",
              "    x.observe(outputEl, {childList: true});\n",
              "}}\n",
              "\n",
              "                        })                };                            </script>        </div>\n",
              "</body>\n",
              "</html>"
            ]
          },
          "metadata": {}
        }
      ]
    },
    {
      "cell_type": "markdown",
      "source": [
        "#### **Modeling Approach**"
      ],
      "metadata": {
        "id": "36kh_UAzD_8E"
      }
    },
    {
      "cell_type": "markdown",
      "source": [
        "The data will be split into training (80%) and testing (20%) sets. Features like `time`, `station`, `line`, `category`, and geographical coordinates (`lat`, `long`) will be preprocessed using standard scaling, encoding, and feature selection."
      ],
      "metadata": {
        "id": "woaDc7FUECPf"
      }
    },
    {
      "cell_type": "code",
      "source": [
        "# TODO: Implementation of the dataset"
      ],
      "metadata": {
        "id": "eGnjmKJJEG6F"
      },
      "execution_count": null,
      "outputs": []
    },
    {
      "cell_type": "markdown",
      "source": [
        "#### **Evaluation Metrics**"
      ],
      "metadata": {
        "id": "0SQdMIEVESjd"
      }
    },
    {
      "cell_type": "markdown",
      "source": [
        "- **Classification:** Accuracy, Precision, Recall, ROC-AUC\n",
        "- **Regression:** Mean Absolute Error (MAE), Mean Squared Error (MSE), R-squared (R²)"
      ],
      "metadata": {
        "id": "LsDQiZRIEUV6"
      }
    },
    {
      "cell_type": "markdown",
      "source": [
        "## **Part 3:** Project Implementation - Whatever _(draft)_"
      ],
      "metadata": {
        "id": "0K43YOl-sKHg"
      }
    },
    {
      "cell_type": "markdown",
      "source": [
        "### **3.1** Loading The Data"
      ],
      "metadata": {
        "id": "MvB0xA4XsXrR"
      }
    },
    {
      "cell_type": "code",
      "source": [],
      "metadata": {
        "id": "IC1L3w09tGCK"
      },
      "execution_count": null,
      "outputs": []
    },
    {
      "cell_type": "markdown",
      "source": [
        "### **3.2** Training and Test Data"
      ],
      "metadata": {
        "id": "MX8hgMOgsckb"
      }
    },
    {
      "cell_type": "code",
      "source": [],
      "metadata": {
        "id": "yzgra_eQtGrW"
      },
      "execution_count": null,
      "outputs": []
    },
    {
      "cell_type": "markdown",
      "source": [
        "### **3.3** Model Fitting"
      ],
      "metadata": {
        "id": "apBQbSJ9sgoc"
      }
    },
    {
      "cell_type": "code",
      "source": [],
      "metadata": {
        "id": "EtJXjOqitHUq"
      },
      "execution_count": null,
      "outputs": []
    },
    {
      "cell_type": "markdown",
      "source": [
        "### **3.4** Prediction"
      ],
      "metadata": {
        "id": "pEEE06Y8skK1"
      }
    },
    {
      "cell_type": "code",
      "source": [],
      "metadata": {
        "id": "_HLce9WXtH0a"
      },
      "execution_count": null,
      "outputs": []
    },
    {
      "cell_type": "markdown",
      "source": [
        "### **3.5** Preprocessing The Data"
      ],
      "metadata": {
        "id": "3iA1Btzrsn7M"
      }
    },
    {
      "cell_type": "markdown",
      "source": [
        "**Standardization**"
      ],
      "metadata": {
        "id": "OKnSC7jysrez"
      }
    },
    {
      "cell_type": "code",
      "source": [],
      "metadata": {
        "id": "7qXihVvFtFL6"
      },
      "execution_count": null,
      "outputs": []
    },
    {
      "cell_type": "markdown",
      "source": [
        "**Normalization**"
      ],
      "metadata": {
        "id": "gVv5kQOZtEOf"
      }
    },
    {
      "cell_type": "code",
      "source": [],
      "metadata": {
        "id": "p8rGrbj5saoJ"
      },
      "execution_count": null,
      "outputs": []
    },
    {
      "cell_type": "markdown",
      "source": [
        "**Binazation**"
      ],
      "metadata": {
        "id": "JcYccsuitTM2"
      }
    },
    {
      "cell_type": "code",
      "source": [],
      "metadata": {
        "id": "aFPTpfGgtVbc"
      },
      "execution_count": null,
      "outputs": []
    },
    {
      "cell_type": "markdown",
      "source": [
        "**Encoding Categorical Features**"
      ],
      "metadata": {
        "id": "E3XSFYiGtWYK"
      }
    },
    {
      "cell_type": "code",
      "source": [],
      "metadata": {
        "id": "f6123lWltc2_"
      },
      "execution_count": null,
      "outputs": []
    },
    {
      "cell_type": "markdown",
      "source": [
        "**Inputing Missing Values**"
      ],
      "metadata": {
        "id": "b9GhNc7stdTT"
      }
    },
    {
      "cell_type": "code",
      "source": [],
      "metadata": {
        "id": "3CCGHxhKtgO_"
      },
      "execution_count": null,
      "outputs": []
    },
    {
      "cell_type": "markdown",
      "source": [
        "**Generating Polynomial Features**"
      ],
      "metadata": {
        "id": "Qem9RRLQtgpJ"
      }
    },
    {
      "cell_type": "code",
      "source": [],
      "metadata": {
        "id": "sIqllfvitlkI"
      },
      "execution_count": null,
      "outputs": []
    },
    {
      "cell_type": "markdown",
      "source": [
        "#### 3.6 Creating The Model"
      ],
      "metadata": {
        "id": "7tSUTWSWtoGE"
      }
    },
    {
      "cell_type": "code",
      "source": [],
      "metadata": {
        "id": "4QmKpJLltr5m"
      },
      "execution_count": null,
      "outputs": []
    },
    {
      "cell_type": "markdown",
      "source": [
        "#### 3.7 Performance Evaluation"
      ],
      "metadata": {
        "id": "Eluod6Fwtx3W"
      }
    },
    {
      "cell_type": "markdown",
      "source": [
        "**Classification Metrics**"
      ],
      "metadata": {
        "id": "mVQ7XrA6uFPo"
      }
    },
    {
      "cell_type": "code",
      "source": [],
      "metadata": {
        "id": "3jqbEIZwt03m"
      },
      "execution_count": null,
      "outputs": []
    },
    {
      "cell_type": "markdown",
      "source": [
        "**Regression Metrics**"
      ],
      "metadata": {
        "id": "WqMBKFb_uNFm"
      }
    },
    {
      "cell_type": "code",
      "source": [],
      "metadata": {
        "id": "enHX68ImuQZi"
      },
      "execution_count": null,
      "outputs": []
    }
  ],
  "metadata": {
    "language_info": {
      "name": "python"
    },
    "colab": {
      "provenance": [],
      "include_colab_link": true
    },
    "kernelspec": {
      "name": "python3",
      "display_name": "Python 3"
    }
  },
  "nbformat": 4,
  "nbformat_minor": 0
}