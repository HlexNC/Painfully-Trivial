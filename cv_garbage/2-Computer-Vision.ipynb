{
  "cells": [
    {
      "cell_type": "markdown",
      "metadata": {
        "id": "1O9BGeOMMMN3"
      },
      "source": [
        "## **Computer vision project: Deggendorf Waste Sorting Assistant**"
      ]
    },
    {
      "cell_type": "markdown",
      "metadata": {
        "id": "GnYmouOpMMN4"
      },
      "source": [
        "### **Overview**\n",
        "The Deggendorf Waste Sorting Assistant is a Computer Vision-based tool designed to help residents and international students correctly identify waste bins. The project leverages image classification to determine the category of a given waste bin based on its visual characteristics. Users can take a picture of an unlabeled bin, and the model will classify it while providing information on the appropriate waste materials for disposal.\n",
        "\n",
        "### **Project Goals**\n",
        "- Develop an image classification model capable of identifying waste bins in Deggendorf.\n",
        "- Provide users with clear guidance on proper waste disposal based on bin classification.\n",
        "- Document all processes in a Jupyter Notebook, covering dataset creation, model training, evaluation, and deployment.\n"
      ]
    },
    {
      "cell_type": "markdown",
      "metadata": {
        "id": "HdX4RKxKDUzw"
      },
      "source": [
        "---"
      ]
    },
    {
      "cell_type": "markdown",
      "metadata": {
        "id": "y8hC-qkbDUzw"
      },
      "source": [
        "## **1. Environment Setup & Dependencies**\n",
        "\n",
        "```bash\n",
        "# Using conda\n",
        "conda create -n waste-detection python=3.10\n",
        "conda activate waste-detection\n",
        "```"
      ]
    },
    {
      "cell_type": "code",
      "execution_count": 1,
      "metadata": {
        "colab": {
          "base_uri": "https://localhost:8080/"
        },
        "id": "nFGm3NfSMMN4",
        "outputId": "a38a21c5-8f2b-483f-dedc-5784c9536b47"
      },
      "outputs": [
        {
          "name": "stdout",
          "output_type": "stream",
          "text": [
            "🔧 Running NumPy compatibility check...\n",
            "✅ NumPy 1.26.4 working correctly\n",
            "\n",
            "📦 Installing dependencies...\n",
            "Installing pillow>=10.0.0...\n",
            "✅ opencv-python already installed\n",
            "✅ matplotlib already installed\n",
            "✅ pandas already installed\n",
            "✅ seaborn already installed\n",
            "Installing pyyaml>=6.0...\n",
            "✅ tqdm already installed\n",
            "✅ shutil already installed\n",
            "✅ ultralytics already installed\n",
            "\n",
            "Installing Label Studio packages (optional)...\n",
            "✅ label-studio already installed\n",
            "✅ label-studio-converter already installed\n",
            "\n",
            "🔍 Final verification...\n",
            "✅ numpy\n",
            "✅ cv2\n",
            "✅ PIL\n",
            "✅ matplotlib\n",
            "✅ pandas\n",
            "✅ yaml\n",
            "✅ ultralytics\n",
            "✅ shutil\n",
            "\n",
            "🎉 All dependencies installed and verified successfully!\n",
            "\n",
            "💡 If you see 'numpy.dtype size changed' errors, restart the runtime and run this cell again.\n"
          ]
        }
      ],
      "source": [
        "# 1.0 · Check environment and install dependencies (FIXED with QuickFix)\n",
        "import os\n",
        "import sys\n",
        "import subprocess\n",
        "import importlib\n",
        "from pathlib import Path\n",
        "\n",
        "def is_colab():\n",
        "    \"\"\"Check if running in Google Colab\"\"\"\n",
        "    try:\n",
        "        import google.colab\n",
        "        return True\n",
        "    except ImportError:\n",
        "        return False\n",
        "\n",
        "def install_package(package):\n",
        "    \"\"\"Install a package using pip\"\"\"\n",
        "    subprocess.check_call([sys.executable, \"-m\", \"pip\", \"install\", \"--quiet\", package])\n",
        "\n",
        "def reinstall_package(package):\n",
        "    \"\"\"Reinstall a package (force reinstall)\"\"\"\n",
        "    subprocess.check_call([sys.executable, \"-m\", \"pip\", \"install\", \"--quiet\", \"--force-reinstall\", package])\n",
        "\n",
        "# QUICKFIX: Check for NumPy binary compatibility issues\n",
        "print(\"🔧 Running NumPy compatibility check...\")\n",
        "numpy_needs_fix = False\n",
        "try:\n",
        "    import numpy\n",
        "    # Test numpy functionality - this is where the error typically occurs\n",
        "    test_array = numpy.array([1, 2, 3])\n",
        "    numpy.random.RandomState(42)  # This often triggers the binary incompatibility error\n",
        "    print(f\"✅ NumPy {numpy.__version__} working correctly\")\n",
        "except (ImportError, ValueError) as e:\n",
        "    print(f\"❌ NumPy binary compatibility issue detected: {e}\")\n",
        "    numpy_needs_fix = True\n",
        "\n",
        "if numpy_needs_fix:\n",
        "    print(\"🔧 Applying NumPy QuickFix...\")\n",
        "    # Force reinstall numpy and related packages\n",
        "    subprocess.check_call([sys.executable, \"-m\", \"pip\", \"install\", \"--force-reinstall\", \"--no-deps\", \"--quiet\", \"numpy>=1.23.0\"])\n",
        "    print(\"✅ NumPy reinstalled - you may need to restart runtime\")\n",
        "\n",
        "    # Test again after reinstall\n",
        "    try:\n",
        "        import numpy\n",
        "        test_array = numpy.array([1, 2, 3])\n",
        "        print(\"✅ NumPy QuickFix successful\")\n",
        "    except Exception as e:\n",
        "        print(f\"⚠️ NumPy still has issues: {e}\")\n",
        "        print(\"💡 Please restart the runtime and run this cell again\")\n",
        "\n",
        "print(\"\\n📦 Installing dependencies...\")\n",
        "\n",
        "# Core dependencies in installation order\n",
        "core_packages = [\n",
        "    \"pillow>=10.0.0\",\n",
        "    \"opencv-python>=4.6.0\",\n",
        "    \"matplotlib>=3.5.0\",\n",
        "    \"pandas>=2.0.0\",\n",
        "    \"seaborn>=0.12.0\",\n",
        "    \"pyyaml>=6.0\",\n",
        "    \"tqdm>=4.64.0\",\n",
        "    \"shutil\"\n",
        "]\n",
        "\n",
        "# Install core packages\n",
        "for pkg in core_packages:\n",
        "    try:\n",
        "        module_name = pkg.split('>=')[0].replace('-', '_')\n",
        "        if module_name == 'opencv_python':\n",
        "            module_name = 'cv2'\n",
        "        importlib.import_module(module_name)\n",
        "        print(f\"✅ {pkg.split('>=')[0]} already installed\")\n",
        "    except ImportError:\n",
        "        print(f\"Installing {pkg}...\")\n",
        "        install_package(pkg)\n",
        "\n",
        "# Install Ultralytics\n",
        "try:\n",
        "    import ultralytics\n",
        "    print(\"✅ ultralytics already installed\")\n",
        "except ImportError:\n",
        "    print(\"Installing ultralytics>=8.0.0...\")\n",
        "    install_package(\"ultralytics>=8.0.0\")\n",
        "\n",
        "# Install Label Studio (optional - may fail, that's okay)\n",
        "label_studio_packages = [\n",
        "    \"label-studio>=1.0.0\",\n",
        "    \"label-studio-converter>=0.0.1\",\n",
        "]\n",
        "\n",
        "print(\"\\nInstalling Label Studio packages (optional)...\")\n",
        "for pkg in label_studio_packages:\n",
        "    try:\n",
        "        module_name = pkg.split('>=')[0].replace('-', '_')\n",
        "        importlib.import_module(module_name)\n",
        "        print(f\"✅ {pkg.split('>=')[0]} already installed\")\n",
        "    except ImportError:\n",
        "        try:\n",
        "            print(f\"Installing {pkg}...\")\n",
        "            install_package(pkg)\n",
        "        except subprocess.CalledProcessError:\n",
        "            print(f\"⚠️ Could not install {pkg} - continuing without it\")\n",
        "\n",
        "print(\"\\n🔍 Final verification...\")\n",
        "\n",
        "# Verify critical imports\n",
        "critical_imports = {\n",
        "    'numpy': 'numpy',\n",
        "    'cv2': 'opencv-python',\n",
        "    'PIL': 'pillow',\n",
        "    'matplotlib': 'matplotlib',\n",
        "    'pandas': 'pandas',\n",
        "    'yaml': 'pyyaml',\n",
        "    'ultralytics': 'ultralytics',\n",
        "    'shutil': 'shutil'\n",
        "}\n",
        "\n",
        "all_good = True\n",
        "for module, package in critical_imports.items():\n",
        "    try:\n",
        "        importlib.import_module(module)\n",
        "        print(f\"✅ {module}\")\n",
        "    except ImportError as e:\n",
        "        print(f\"❌ {module} failed: {e}\")\n",
        "        all_good = False\n",
        "\n",
        "if all_good:\n",
        "    print(\"\\n🎉 All dependencies installed and verified successfully!\")\n",
        "else:\n",
        "    print(\"\\n⚠️ Some packages failed - you may need to restart runtime and try again\")\n",
        "\n",
        "print(\"\\n💡 If you see 'numpy.dtype size changed' errors, restart the runtime and run this cell again.\")"
      ]
    },
    {
      "cell_type": "code",
      "execution_count": null,
      "metadata": {
        "colab": {
          "base_uri": "https://localhost:8080/"
        },
        "id": "ft4JRJwKMMN5",
        "outputId": "54b276b6-a753-4e83-adf1-8ed5ea6e0779"
      },
      "outputs": [
        {
          "name": "stdout",
          "output_type": "stream",
          "text": [
            "📁 raw_images: cv_garbage\\raw_images\n",
            "📁 labeled_images: cv_garbage\\labeled_images\n",
            "📁 yolo_dataset: cv_garbage\\YOLO_Dataset\n",
            "📁 models: cv_garbage\\models\n",
            "📁 results: cv_garbage\\results\n"
          ]
        }
      ],
      "source": [
        "# 1.1 · Mount Google Drive (if in Colab)\n",
        "if is_colab():\n",
        "    from google.colab import drive\n",
        "    drive.mount('/content/drive', force_remount=False)\n",
        "    BASE_PATH = Path(\"/content/drive/MyDrive/cv_garbage\")\n",
        "else:\n",
        "    # For local environment, adjust this path\n",
        "    BASE_PATH = Path(\".\")\n",
        "\n",
        "# Create directory structure\n",
        "DIRS = {\n",
        "    \"raw_images\": BASE_PATH / \"raw_images\",\n",
        "    \"labeled_images\": BASE_PATH / \"labeled_images\",\n",
        "    \"yolo_dataset\": BASE_PATH / \"YOLO_Dataset\",\n",
        "    \"models\": BASE_PATH / \"models\",\n",
        "    \"results\": BASE_PATH / \"results\"\n",
        "}\n",
        "\n",
        "for dir_name, dir_path in DIRS.items():\n",
        "    dir_path.mkdir(parents=True, exist_ok=True)\n",
        "    print(f\"📁 {dir_name}: {dir_path}\")"
      ]
    },
    {
      "cell_type": "markdown",
      "metadata": {
        "id": "HZh9gzikDUzx"
      },
      "source": [
        "---"
      ]
    },
    {
      "cell_type": "markdown",
      "metadata": {
        "id": "SkvPXxQ8DUzx"
      },
      "source": [
        "## **2. Data Annotation Pipeline**"
      ]
    },
    {
      "cell_type": "markdown",
      "metadata": {
        "id": "psFV2vAxDUzx"
      },
      "source": [
        "### **2.1 Check Existing Annotations**\n"
      ]
    },
    {
      "cell_type": "code",
      "execution_count": 3,
      "metadata": {
        "colab": {
          "base_uri": "https://localhost:8080/"
        },
        "id": "s_Fsbci9DUzx",
        "outputId": "d3f3a576-b754-4c0a-fdbb-8d6b367d6222"
      },
      "outputs": [
        {
          "name": "stdout",
          "output_type": "stream",
          "text": [
            "✅ images/train: 193 files\n",
            "✅ images/val: 93 files\n",
            "✅ labels/train: 372 files\n",
            "✅ labels/val: 94 files\n",
            "✅ Found data.yaml with 4 classes\n",
            "\n",
            "✅ YOLO dataset is ready!\n"
          ]
        }
      ],
      "source": [
        "# 2.1 · Check if YOLO annotations already exist\n",
        "import json\n",
        "import yaml\n",
        "from datetime import datetime\n",
        "\n",
        "def check_yolo_dataset():\n",
        "    \"\"\"Check if YOLO dataset structure exists and is valid\"\"\"\n",
        "    yolo_path = DIRS[\"yolo_dataset\"]\n",
        "    required_structure = {\n",
        "        \"images/train\": 0,\n",
        "        \"images/val\": 0,\n",
        "        \"labels/train\": 0,\n",
        "        \"labels/val\": 0,\n",
        "        \"data.yaml\": None\n",
        "    }\n",
        "\n",
        "    dataset_valid = True\n",
        "\n",
        "    for rel_path in required_structure.keys():\n",
        "        full_path = yolo_path / rel_path\n",
        "        if \"data.yaml\" in rel_path:\n",
        "            if not full_path.exists():\n",
        "                print(f\"❌ Missing: {rel_path}\")\n",
        "                dataset_valid = False\n",
        "            else:\n",
        "                with open(full_path, 'r') as f:\n",
        "                    data_config = yaml.safe_load(f)\n",
        "                print(f\"✅ Found data.yaml with {data_config.get('nc', 0)} classes\")\n",
        "        else:\n",
        "            if full_path.exists():\n",
        "                if full_path.is_dir():\n",
        "                    count = len(list(full_path.glob(\"*\")))\n",
        "                    required_structure[rel_path] = count\n",
        "                    print(f\"✅ {rel_path}: {count} files\")\n",
        "                    if count == 0:\n",
        "                        dataset_valid = False\n",
        "            else:\n",
        "                print(f\"❌ Missing: {rel_path}\")\n",
        "                dataset_valid = False\n",
        "\n",
        "    return dataset_valid, required_structure\n",
        "\n",
        "dataset_exists, dataset_info = check_yolo_dataset()\n",
        "print(f\"\\n{'✅ YOLO dataset is ready!' if dataset_exists else '⚠️  YOLO dataset needs to be created'}\")"
      ]
    },
    {
      "cell_type": "markdown",
      "metadata": {
        "id": "nUCJbVX1DUzy"
      },
      "source": [
        "### **2.2 Label Studio Setup (If Needed)**"
      ]
    },
    {
      "cell_type": "code",
      "execution_count": 4,
      "metadata": {
        "id": "q8UWp_L1DUzy"
      },
      "outputs": [],
      "source": [
        "# 2.2 · Setup Label Studio for bounding box annotation\n",
        "if not dataset_exists:\n",
        "    print(\"\\n🏷️  Setting up Label Studio for annotation...\")\n",
        "\n",
        "    # Create Label Studio config\n",
        "    label_config = \"\"\"\n",
        "    <View>\n",
        "      <Image name=\"image\" value=\"$image\"/>\n",
        "      <RectangleLabels name=\"label\" toName=\"image\">\n",
        "        <Label value=\"Biomüll\" background=\"#FF6B6B\"/>\n",
        "        <Label value=\"Glas\" background=\"#4ECDC4\"/>\n",
        "        <Label value=\"Papier\" background=\"#45B7D1\"/>\n",
        "        <Label value=\"Restmüll\" background=\"#96CEB4\"/>\n",
        "      </RectangleLabels>\n",
        "    </View>\n",
        "    \"\"\"\n",
        "\n",
        "    config_path = BASE_PATH / \"label_studio_config.xml\"\n",
        "    with open(config_path, 'w') as f:\n",
        "        f.write(label_config)\n",
        "\n",
        "    print(\"✅ Label Studio configuration created\")\n",
        "    print(\"\\n📋 Instructions for Label Studio:\")\n",
        "    print(\"1. Run: label-studio start\")\n",
        "    print(\"2. Create a new project\")\n",
        "    print(\"3. Import the configuration from:\", config_path)\n",
        "    print(\"4. Import images from:\", DIRS[\"labeled_images\"])\n",
        "    print(\"5. Annotate with bounding boxes\")\n",
        "    print(\"6. Export annotations as 'YOLO' format\")\n",
        "    print(\"7. Save to:\", DIRS[\"yolo_dataset\"])\n",
        "\n",
        "    # For automated setup (requires Label Studio SDK)\n",
        "    try:\n",
        "        from label_studio_sdk import Client\n",
        "\n",
        "        # Initialize Label Studio client\n",
        "        LABEL_STUDIO_URL = os.getenv('LABEL_STUDIO_URL', 'http://localhost:8080')\n",
        "        API_KEY = os.getenv('LABEL_STUDIO_API_KEY', '')\n",
        "\n",
        "        if API_KEY:\n",
        "            ls = Client(url=LABEL_STUDIO_URL, api_key=API_KEY)\n",
        "\n",
        "            # Create project\n",
        "            project = ls.start_project(\n",
        "                title=\"Deggendorf Waste Bins\",\n",
        "                label_config=label_config\n",
        "            )\n",
        "\n",
        "            # Import images\n",
        "            image_files = list(DIRS[\"labeled_images\"].glob(\"*.jpg\")) + \\\n",
        "                         list(DIRS[\"labeled_images\"].glob(\"*.png\"))\n",
        "\n",
        "            if image_files:\n",
        "                project.import_data([{\"image\": str(f)} for f in image_files])\n",
        "                print(f\"✅ Imported {len(image_files)} images to Label Studio\")\n",
        "                print(f\"🌐 Open Label Studio at: {LABEL_STUDIO_URL}\")\n",
        "            else:\n",
        "                print(\"⚠️  No images found in labeled_images directory\")\n",
        "        else:\n",
        "            print(\"\\n💡 Tip: Set LABEL_STUDIO_API_KEY environment variable for automated setup\")\n",
        "    except ImportError:\n",
        "        print(\"\\n💡 Install label-studio-sdk for automated project setup\")"
      ]
    },
    {
      "cell_type": "markdown",
      "metadata": {
        "id": "3lVF0923DUzy"
      },
      "source": [
        "### **2.3 Convert Label Studio to YOLO Format**"
      ]
    },
    {
      "cell_type": "code",
      "execution_count": 5,
      "metadata": {
        "id": "Xe3Ni08uDUzy"
      },
      "outputs": [],
      "source": [
        "# 2.3 · Convert Label Studio annotations to YOLO format\n",
        "def convert_ls_to_yolo(ls_export_path, output_path):\n",
        "    \"\"\"Convert Label Studio JSON export to YOLO format\"\"\"\n",
        "    import json\n",
        "    import shutil\n",
        "    from PIL import Image\n",
        "\n",
        "    # Load Label Studio export\n",
        "    with open(ls_export_path, 'r') as f:\n",
        "        ls_data = json.load(f)\n",
        "\n",
        "    # Class mapping\n",
        "    class_map = {\n",
        "        \"Biomüll\": 0,\n",
        "        \"Glas\": 1,\n",
        "        \"Papier\": 2,\n",
        "        \"Restmüll\": 3\n",
        "    }\n",
        "\n",
        "    # Prepare directories\n",
        "    for split in ['train', 'val']:\n",
        "        (output_path / 'images' / split).mkdir(parents=True, exist_ok=True)\n",
        "        (output_path / 'labels' / split).mkdir(parents=True, exist_ok=True)\n",
        "\n",
        "    # Process annotations\n",
        "    total_images = len(ls_data)\n",
        "    train_split = int(0.8 * total_images)\n",
        "\n",
        "    for idx, item in enumerate(ls_data):\n",
        "        # Determine split\n",
        "        split = 'train' if idx < train_split else 'val'\n",
        "\n",
        "        # Get image info\n",
        "        image_path = Path(item['data']['image'])\n",
        "        image_name = image_path.stem\n",
        "\n",
        "        # Copy image\n",
        "        output_image_path = output_path / 'images' / split / f\"{image_name}.jpg\"\n",
        "        if image_path.exists():\n",
        "            shutil.copy2(image_path, output_image_path)\n",
        "\n",
        "            # Get image dimensions\n",
        "            with Image.open(image_path) as img:\n",
        "                img_width, img_height = img.size\n",
        "        else:\n",
        "            print(f\"⚠️  Image not found: {image_path}\")\n",
        "            continue\n",
        "\n",
        "        # Process annotations\n",
        "        yolo_annotations = []\n",
        "\n",
        "        for annotation in item.get('annotations', []):\n",
        "            for result in annotation.get('result', []):\n",
        "                if result['type'] == 'rectanglelabels':\n",
        "                    # Get bounding box\n",
        "                    x = result['value']['x'] / 100.0\n",
        "                    y = result['value']['y'] / 100.0\n",
        "                    w = result['value']['width'] / 100.0\n",
        "                    h = result['value']['height'] / 100.0\n",
        "\n",
        "                    # Convert to YOLO format (center_x, center_y, width, height)\n",
        "                    center_x = x + w / 2\n",
        "                    center_y = y + h / 2\n",
        "\n",
        "                    # Get class\n",
        "                    label = result['value']['rectanglelabels'][0]\n",
        "                    class_id = class_map.get(label, -1)\n",
        "\n",
        "                    if class_id >= 0:\n",
        "                        yolo_annotations.append(f\"{class_id} {center_x} {center_y} {w} {h}\")\n",
        "\n",
        "        # Save annotations\n",
        "        if yolo_annotations:\n",
        "            label_path = output_path / 'labels' / split / f\"{image_name}.txt\"\n",
        "            with open(label_path, 'w') as f:\n",
        "                f.write('\\n'.join(yolo_annotations))\n",
        "\n",
        "    # Create data.yaml\n",
        "    data_yaml = {\n",
        "        'train': 'images/train',\n",
        "        'val': 'images/val',\n",
        "        'nc': len(class_map),\n",
        "        'names': {v: k for k, v in class_map.items()}\n",
        "    }\n",
        "\n",
        "    with open(output_path / 'data.yaml', 'w') as f:\n",
        "        yaml.dump(data_yaml, f, default_flow_style=False)\n",
        "\n",
        "    print(f\"✅ Converted {total_images} images to YOLO format\")\n",
        "    print(f\"   Train: {train_split}, Val: {total_images - train_split}\")\n",
        "\n",
        "# Check if Label Studio export exists\n",
        "ls_export_path = BASE_PATH / \"label_studio_export.json\"\n",
        "if ls_export_path.exists() and not dataset_exists:\n",
        "    print(\"\\n🔄 Converting Label Studio annotations to YOLO format...\")\n",
        "    convert_ls_to_yolo(ls_export_path, DIRS[\"yolo_dataset\"])\n",
        "    dataset_exists, dataset_info = check_yolo_dataset()"
      ]
    },
    {
      "cell_type": "markdown",
      "metadata": {
        "id": "UFp9dDBIDUzy"
      },
      "source": [
        "---"
      ]
    },
    {
      "cell_type": "markdown",
      "metadata": {
        "id": "G8FlUgWnDUzy"
      },
      "source": [
        "## **3. Model Training**"
      ]
    },
    {
      "cell_type": "markdown",
      "metadata": {
        "id": "SZXg4ZmbDUzy"
      },
      "source": [
        "### **3.1 Setup Training Configuration**\n"
      ]
    },
    {
      "cell_type": "code",
      "execution_count": 6,
      "metadata": {
        "colab": {
          "base_uri": "https://localhost:8080/"
        },
        "id": "du_aGykPDUzy",
        "outputId": "f856cec9-6554-4a1d-dcec-3803a399f20b"
      },
      "outputs": [
        {
          "name": "stdout",
          "output_type": "stream",
          "text": [
            "🔧 Training Configuration:\n",
            "   Device: cpu\n",
            "   Batch size: 4\n",
            "   Epochs: 50\n",
            "   Model: yolov8s.pt\n"
          ]
        }
      ],
      "source": [
        "# 3.1 · Configure training parameters\n",
        "import torch\n",
        "from ultralytics import YOLO\n",
        "\n",
        "# Training configuration\n",
        "TRAIN_CONFIG = {\n",
        "    \"model\": \"yolov8s.pt\",  # Base model (n, s, m, l, x)\n",
        "    \"data\": str(DIRS[\"yolo_dataset\"] / \"data.yaml\"),\n",
        "    \"epochs\": 50,\n",
        "    \"imgsz\": 960,\n",
        "    \"batch\": 4,\n",
        "    \"patience\": 20,\n",
        "    \"save\": True,\n",
        "    \"device\": 0 if torch.cuda.is_available() else \"cpu\",\n",
        "    \"workers\": 8 if not is_colab() else 2,\n",
        "    \"project\": str(DIRS[\"models\"]),\n",
        "    \"name\": f\"waste_detector_{datetime.now().strftime('%Y%m%d_%H%M%S')}\",\n",
        "    \"exist_ok\": False,\n",
        "    \"pretrained\": True,\n",
        "    \"optimizer\": \"AdamW\",\n",
        "    \"lr0\": 0.001,\n",
        "    \"lrf\": 0.01,\n",
        "    \"momentum\": 0.937,\n",
        "    \"weight_decay\": 0.0005,\n",
        "    \"warmup_epochs\": 3.0,\n",
        "    \"warmup_momentum\": 0.8,\n",
        "    \"warmup_bias_lr\": 0.1,\n",
        "    \"box\": 7.5,\n",
        "    \"cls\": 0.5,\n",
        "    \"dfl\": 1.5,\n",
        "    \"hsv_h\": 0.015,\n",
        "    \"hsv_s\": 0.7,\n",
        "    \"hsv_v\": 0.4,\n",
        "    \"degrees\": 0.0,\n",
        "    \"translate\": 0.1,\n",
        "    \"scale\": 0.5,\n",
        "    \"shear\": 0.0,\n",
        "    \"perspective\": 0.0,\n",
        "    \"flipud\": 0.0,\n",
        "    \"fliplr\": 0.5,\n",
        "    \"mosaic\": 1.0,\n",
        "    \"mixup\": 0.0,\n",
        "    \"copy_paste\": 0.0,\n",
        "    \"auto_augment\": \"randaugment\",\n",
        "    \"erasing\": 0.0,\n",
        "    \"crop_fraction\": 1.0\n",
        "}\n",
        "\n",
        "print(\"🔧 Training Configuration:\")\n",
        "print(f\"   Device: {TRAIN_CONFIG['device']}\")\n",
        "print(f\"   Batch size: {TRAIN_CONFIG['batch']}\")\n",
        "print(f\"   Epochs: {TRAIN_CONFIG['epochs']}\")\n",
        "print(f\"   Model: {TRAIN_CONFIG['model']}\")"
      ]
    },
    {
      "cell_type": "markdown",
      "metadata": {
        "id": "fa2tij6LDUzy"
      },
      "source": [
        "### **3.2 Train the Model**\n"
      ]
    },
    {
      "cell_type": "code",
      "execution_count": 15,
      "metadata": {
        "colab": {
          "base_uri": "https://localhost:8080/"
        },
        "id": "W-W-dkvgDUzy",
        "outputId": "b82386f3-7605-42fb-d673-e9630178b408"
      },
      "outputs": [
        {
          "name": "stdout",
          "output_type": "stream",
          "text": [
            "\n",
            "🚀 Starting model training...\n",
            "\n",
            "✅ Training completed!\n",
            "   Best model saved at: C:\\Users\\rudae\\Documents\\UniUA\\Painfully-Trivial\\cv_garbage\\models\\waste_detector_20250625_1422522\\weights\\best.pt\n",
            "   Copied to: cv_garbage\\models\\waste_detector_best.pt\n"
          ]
        }
      ],
      "source": [
        "# 3.2 · Train YOLO model\n",
        "import shutil\n",
        "\n",
        "if dataset_exists:\n",
        "    print(\"\\n🚀 Starting model training...\")\n",
        "\n",
        "    # Initialize model\n",
        "    # model = YOLO(TRAIN_CONFIG[\"model\"])\n",
        "\n",
        "    # Train model\n",
        "    # results = model.train(**TRAIN_CONFIG)\n",
        "\n",
        "    # Fix: Construct the save directory path manually from training config\n",
        "    # This is more robust than accessing internal trainer attributes\n",
        "    # save_dir = Path(TRAIN_CONFIG[\"project\"]) / TRAIN_CONFIG[\"name\"]\n",
        "    # best_model_path = save_dir / \"weights\" / \"best.pt\"\n",
        "\n",
        "    # Alternative fix: Access save_dir from the model's trainer\n",
        "    # best_model_path = Path(model.trainer.save_dir) / \"weights\" / \"best.pt\"\n",
        "\n",
        "    # Use already known best model path for demonstration\n",
        "    best_model_path = Path('C:/Users/rudae/Documents/UniUA/Painfully-Trivial/cv_garbage/models/waste_detector_20250625_1422522/weights/best.pt')\n",
        "\n",
        "    print(f\"\\n✅ Training completed!\")\n",
        "    print(f\"   Best model saved at: {best_model_path}\")\n",
        "\n",
        "    # Verify the file exists before copying\n",
        "    if best_model_path.exists():\n",
        "        # Copy best model to a fixed location\n",
        "        final_model_path = DIRS[\"models\"] / \"waste_detector_best.pt\"\n",
        "        shutil.copy2(best_model_path, final_model_path)\n",
        "        print(f\"   Copied to: {final_model_path}\")\n",
        "    else:\n",
        "        print(f\"   ⚠️ Warning: Best model file not found at {best_model_path}\")\n",
        "        # Try alternative path\n",
        "        last_model_path = save_dir / \"weights\" / \"last.pt\"\n",
        "        if last_model_path.exists():\n",
        "            final_model_path = DIRS[\"models\"] / \"waste_detector_last.pt\"\n",
        "            shutil.copy2(last_model_path, final_model_path)\n",
        "            print(f\"   Using last model instead: {final_model_path}\")\n",
        "\n",
        "    # Optional: Print training metrics\n",
        "    # if hasattr(results, 'box'):\n",
        "    #     print(f\"\\n📊 Training Results:\")\n",
        "    #     print(f\"   mAP50: {results.box.map50:.3f}\")\n",
        "    #     print(f\"   mAP50-95: {results.box.map:.3f}\")\n",
        "    #     print(f\"   Precision: {results.box.mp:.3f}\")\n",
        "    #     print(f\"   Recall: {results.box.mr:.3f}\")\n",
        "else:\n",
        "    print(\"\\n⚠️  Cannot train model - YOLO dataset not found!\")\n",
        "    print(\"Please complete the annotation step first.\")"
      ]
    },
    {
      "cell_type": "markdown",
      "metadata": {
        "id": "duBK0oeuDUzy"
      },
      "source": [
        "## **4. Model Evaluation**\n"
      ]
    },
    {
      "cell_type": "markdown",
      "metadata": {
        "id": "bcbjplxmDUzz"
      },
      "source": [
        "### **4.1 Evaluate Model Performance**\n"
      ]
    },
    {
      "cell_type": "code",
      "execution_count": 8,
      "metadata": {
        "colab": {
          "base_uri": "https://localhost:8080/"
        },
        "id": "9p7zAvVXDUzz",
        "outputId": "247cd4e9-1e29-4ca7-a8b3-1992349ed442"
      },
      "outputs": [
        {
          "name": "stdout",
          "output_type": "stream",
          "text": [
            "\n",
            "📊 Evaluating model performance...\n",
            "Ultralytics 8.3.158  Python-3.10.18 torch-2.7.1+cpu CPU (Snapdragon X 12-core X1E80100 3.40 GHz)\n",
            "Model summary (fused): 72 layers, 11,127,132 parameters, 0 gradients, 28.4 GFLOPs\n",
            "\u001b[34m\u001b[1mval: \u001b[0mFast image access  (ping: 0.00.0 ms, read: 2785.3100.0 MB/s, size: 2724.5 KB)\n"
          ]
        },
        {
          "name": "stderr",
          "output_type": "stream",
          "text": [
            "\u001b[34m\u001b[1mval: \u001b[0mScanning C:\\Users\\rudae\\Documents\\UniUA\\Painfully-Trivial\\cv_garbage\\YOLO_Dataset\\labels\\val.cache... 94 images, 0 backgrounds, 0 corrupt: 100%|██████████| 94/94 [00:00<?, ?it/s]\n",
            "c:\\Users\\rudae\\miniconda3\\envs\\waste-detection\\lib\\site-packages\\torch\\utils\\data\\dataloader.py:665: UserWarning: 'pin_memory' argument is set as true but no accelerator is found, then device pinned memory won't be used.\n",
            "  warnings.warn(warn_msg)\n",
            "                 Class     Images  Instances      Box(P          R      mAP50  mAP50-95): 100%|██████████| 24/24 [00:54<00:00,  2.28s/it]\n"
          ]
        },
        {
          "name": "stdout",
          "output_type": "stream",
          "text": [
            "                   all         94        105      0.971      0.968      0.985        0.8\n",
            "               Biomll         21         24      0.975          1      0.995      0.774\n",
            "                  Glas         12         12          1          1      0.995      0.844\n",
            "                Papier         26         27      0.961      0.919      0.977      0.775\n",
            "              Restmll         40         42      0.947      0.952      0.972      0.806\n",
            "Speed: 1.6ms preprocess, 500.7ms inference, 0.0ms loss, 1.6ms postprocess per image\n",
            "Results saved to \u001b[1mruns\\detect\\val8\u001b[0m\n",
            "\n",
            "📈 Model Performance Metrics:\n",
            "   mAP50: 0.985\n",
            "   mAP50-95: 0.800\n",
            "   Precision: 0.971\n",
            "   Recall: 0.968\n",
            "\n",
            "📊 Per-Class Performance:\n",
            "   Biomüll:\n",
            "      AP50: 0.995\n",
            "      AP: 0.774\n",
            "   Glas:\n",
            "      AP50: 0.995\n",
            "      AP: 0.844\n",
            "   Papier:\n",
            "      AP50: 0.977\n",
            "      AP: 0.775\n",
            "   Restmüll:\n",
            "      AP50: 0.972\n",
            "      AP: 0.806\n"
          ]
        }
      ],
      "source": [
        "# 4.1 · Evaluate the trained model\n",
        "if dataset_exists and 'final_model_path' in locals():\n",
        "    print(\"\\n📊 Evaluating model performance...\")\n",
        "\n",
        "    # Load best model\n",
        "    model = YOLO(final_model_path)\n",
        "\n",
        "    # Run validation\n",
        "    metrics = model.val(\n",
        "        data=TRAIN_CONFIG[\"data\"],\n",
        "        imgsz=TRAIN_CONFIG[\"imgsz\"],\n",
        "        batch=TRAIN_CONFIG[\"batch\"],\n",
        "        conf=0.25,\n",
        "        iou=0.6,\n",
        "        device=TRAIN_CONFIG[\"device\"]\n",
        "    )\n",
        "\n",
        "    # Print metrics\n",
        "    print(\"\\n📈 Model Performance Metrics:\")\n",
        "    print(f\"   mAP50: {metrics.box.map50:.3f}\")\n",
        "    print(f\"   mAP50-95: {metrics.box.map:.3f}\")\n",
        "    print(f\"   Precision: {metrics.box.mp:.3f}\")\n",
        "    print(f\"   Recall: {metrics.box.mr:.3f}\")\n",
        "\n",
        "    # Class-wise performance\n",
        "    print(\"\\n📊 Per-Class Performance:\")\n",
        "    class_names = model.names\n",
        "    for i, class_name in class_names.items():\n",
        "        print(f\"   {class_name}:\")\n",
        "        print(f\"      AP50: {metrics.box.ap50[i]:.3f}\")\n",
        "        print(f\"      AP: {metrics.box.ap[i]:.3f}\")"
      ]
    },
    {
      "cell_type": "markdown",
      "metadata": {
        "id": "y7TSQ4iUDUzz"
      },
      "source": [
        "### **4.2 Visualize Results**\n"
      ]
    },
    {
      "cell_type": "code",
      "execution_count": 9,
      "metadata": {
        "colab": {
          "base_uri": "https://localhost:8080/",
          "height": 1000
        },
        "id": "mzrEDXMUDUzz",
        "outputId": "070413a5-7c6b-42ca-c428-469620a13db9"
      },
      "outputs": [
        {
          "name": "stdout",
          "output_type": "stream",
          "text": [
            "\n",
            "image 1/1 c:\\Users\\rudae\\Documents\\UniUA\\Painfully-Trivial\\cv_garbage\\YOLO_Dataset\\images\\val\\c6a2b82d-Biom_C3_BCll_c5383a00.jpg: 960x960 2 Biomlls, 834.6ms\n",
            "Speed: 10.4ms preprocess, 834.6ms inference, 5.0ms postprocess per image at shape (1, 3, 960, 960)\n",
            "\n",
            "image 1/1 c:\\Users\\rudae\\Documents\\UniUA\\Painfully-Trivial\\cv_garbage\\YOLO_Dataset\\images\\val\\c3adffa5-Restm_C3_BCll_c785aec1.jpg: 960x960 2 Restmlls, 428.8ms\n",
            "Speed: 9.9ms preprocess, 428.8ms inference, 2.4ms postprocess per image at shape (1, 3, 960, 960)\n",
            "\n",
            "image 1/1 c:\\Users\\rudae\\Documents\\UniUA\\Painfully-Trivial\\cv_garbage\\YOLO_Dataset\\images\\val\\466d2d53-Biom_C3_BCll_fab47795.jpg: 960x960 1 Biomll, 417.6ms\n",
            "Speed: 9.0ms preprocess, 417.6ms inference, 2.1ms postprocess per image at shape (1, 3, 960, 960)\n",
            "\n",
            "image 1/1 c:\\Users\\rudae\\Documents\\UniUA\\Painfully-Trivial\\cv_garbage\\YOLO_Dataset\\images\\val\\984a5903-Restm_C3_BCll_20c2fcae.jpg: 960x960 1 Restmll, 414.2ms\n",
            "Speed: 9.2ms preprocess, 414.2ms inference, 2.6ms postprocess per image at shape (1, 3, 960, 960)\n",
            "\n",
            "image 1/1 c:\\Users\\rudae\\Documents\\UniUA\\Painfully-Trivial\\cv_garbage\\YOLO_Dataset\\images\\val\\725e167f-Papier_41e3e0c9.jpg: 960x960 1 Papier, 413.4ms\n",
            "Speed: 9.0ms preprocess, 413.4ms inference, 2.2ms postprocess per image at shape (1, 3, 960, 960)\n",
            "\n",
            "image 1/1 c:\\Users\\rudae\\Documents\\UniUA\\Painfully-Trivial\\cv_garbage\\YOLO_Dataset\\images\\val\\a16b2861-Biom_C3_BCll_f3ec1693.jpg: 960x960 1 Biomll, 429.9ms\n",
            "Speed: 9.4ms preprocess, 429.9ms inference, 2.2ms postprocess per image at shape (1, 3, 960, 960)\n"
          ]
        },
        {
          "data": {
            "text/plain": [
              "<Figure size 1500x1000 with 6 Axes>"
            ]
          },
          "metadata": {},
          "output_type": "display_data"
        },
        {
          "name": "stdout",
          "output_type": "stream",
          "text": [
            "✅ Visualization saved to: cv_garbage\\results\\validation_predictions.png\n"
          ]
        }
      ],
      "source": [
        "# 4.2 · Visualize predictions on validation set\n",
        "import matplotlib.pyplot as plt\n",
        "import cv2\n",
        "import numpy as np\n",
        "from matplotlib.patches import Rectangle\n",
        "\n",
        "def visualize_predictions(model_path, data_yaml_path, num_samples=6):\n",
        "    \"\"\"Visualize model predictions on validation images\"\"\"\n",
        "\n",
        "    # Load model and data config\n",
        "    model = YOLO(model_path)\n",
        "    with open(data_yaml_path, 'r') as f:\n",
        "        data_config = yaml.safe_load(f)\n",
        "\n",
        "    # Get validation images\n",
        "    val_images_dir = Path(data_yaml_path).parent / data_config['val']\n",
        "    val_images = list(val_images_dir.glob(\"*.jpg\")) + list(val_images_dir.glob(\"*.png\"))\n",
        "\n",
        "    if not val_images:\n",
        "        print(\"No validation images found!\")\n",
        "        return\n",
        "\n",
        "    # Sample random images\n",
        "    sample_images = np.random.choice(val_images, min(num_samples, len(val_images)), replace=False)\n",
        "\n",
        "    # Create visualization\n",
        "    fig, axes = plt.subplots(2, 3, figsize=(15, 10))\n",
        "    axes = axes.flatten()\n",
        "\n",
        "    colors = {\n",
        "        0: '#FF6B6B',  # Biomüll - Red\n",
        "        1: '#4ECDC4',  # Glas - Turquoise\n",
        "        2: '#45B7D1',  # Papier - Blue\n",
        "        3: '#96CEB4'   # Restmüll - Green\n",
        "    }\n",
        "\n",
        "    for idx, (ax, img_path) in enumerate(zip(axes, sample_images)):\n",
        "        # Read image\n",
        "        img = cv2.imread(str(img_path))\n",
        "        img_rgb = cv2.cvtColor(img, cv2.COLOR_BGR2RGB)\n",
        "\n",
        "        # Run prediction\n",
        "        results = model.predict(img_path, conf=0.25, iou=0.45)\n",
        "\n",
        "        # Display image\n",
        "        ax.imshow(img_rgb)\n",
        "        ax.axis('off')\n",
        "\n",
        "        # Draw predictions\n",
        "        for r in results:\n",
        "            boxes = r.boxes\n",
        "            if boxes is not None:\n",
        "                for box in boxes:\n",
        "                    # Get box coordinates\n",
        "                    x1, y1, x2, y2 = box.xyxy[0].cpu().numpy()\n",
        "                    cls = int(box.cls[0])\n",
        "                    conf = float(box.conf[0])\n",
        "\n",
        "                    # Draw rectangle\n",
        "                    rect = Rectangle((x1, y1), x2-x1, y2-y1,\n",
        "                                   linewidth=2, edgecolor=colors.get(cls, 'white'),\n",
        "                                   facecolor='none')\n",
        "                    ax.add_patch(rect)\n",
        "\n",
        "                    # Add label\n",
        "                    label = f\"{model.names[cls]} {conf:.2f}\"\n",
        "                    ax.text(x1, y1-5, label, color=colors.get(cls, 'white'),\n",
        "                           fontsize=10, weight='bold',\n",
        "                           bbox=dict(boxstyle=\"round,pad=0.3\", facecolor='black', alpha=0.7))\n",
        "\n",
        "        ax.set_title(f\"Image {idx+1}\")\n",
        "\n",
        "    plt.suptitle(\"Model Predictions on Validation Set\", fontsize=16)\n",
        "    plt.tight_layout()\n",
        "\n",
        "    # Save figure\n",
        "    output_path = DIRS[\"results\"] / \"validation_predictions.png\"\n",
        "    plt.savefig(output_path, dpi=150, bbox_inches='tight')\n",
        "    plt.show()\n",
        "\n",
        "    print(f\"✅ Visualization saved to: {output_path}\")\n",
        "\n",
        "# Run visualization\n",
        "if 'final_model_path' in locals():\n",
        "    visualize_predictions(\n",
        "        final_model_path,\n",
        "        DIRS[\"yolo_dataset\"] / \"data.yaml\",\n",
        "        num_samples=6\n",
        "    )"
      ]
    },
    {
      "cell_type": "markdown",
      "metadata": {
        "id": "nvWyV5UlDUzz"
      },
      "source": [
        "---\n"
      ]
    },
    {
      "cell_type": "markdown",
      "metadata": {
        "id": "1XmvwH-wDUzz"
      },
      "source": [
        "## **5. Model Deployment with Live Camera**\n"
      ]
    },
    {
      "cell_type": "markdown",
      "metadata": {
        "id": "rypoixjNDUzz"
      },
      "source": [
        "### **5.1 Camera Access Setup**\n",
        "\n",
        "First, let's create helper functions for camera access that work in both environments:"
      ]
    },
    {
      "cell_type": "code",
      "execution_count": 10,
      "metadata": {
        "id": "3jW71Pg6DUzz"
      },
      "outputs": [
        {
          "name": "stdout",
          "output_type": "stream",
          "text": [
            "\n",
            "🔍 Running inference on sample image...\n",
            "\n",
            "image 1/1 c:\\Users\\rudae\\Documents\\UniUA\\Painfully-Trivial\\cv_garbage\\YOLO_Dataset\\images\\val\\066430cd-Restm_C3_BCll_3b52309c.jpg: 960x960 1 Restmll, 422.4ms\n",
            "Speed: 9.5ms preprocess, 422.4ms inference, 2.5ms postprocess per image at shape (1, 3, 960, 960)\n",
            "Results saved to \u001b[1mruns\\detect\\predict9\u001b[0m\n",
            "1 label saved to runs\\detect\\predict9\\labels\n",
            "\n",
            "🗑️  Detected: Restmüll (confidence: 0.87)\n",
            "   Suitable waste: Cigarette butts, Diapers, Vacuum cleaner bags...\n"
          ]
        }
      ],
      "source": [
        "# 5.1 · Camera access setup\n",
        "import cv2\n",
        "import numpy as np\n",
        "from IPython.display import display, Javascript, Image\n",
        "from base64 import b64decode, b64encode\n",
        "import PIL\n",
        "import io\n",
        "\n",
        "def is_colab():\n",
        "    \"\"\"Check if running in Google Colab\"\"\"\n",
        "    try:\n",
        "        import google.colab\n",
        "        return True\n",
        "    except ImportError:\n",
        "        return False\n",
        "\n",
        "# Define waste disposal information\n",
        "WASTE_INFO = {\n",
        "    \"Biomüll\": {\n",
        "        \"color\": \"#FF6B6B\",\n",
        "        \"items\": [\"Food scraps\", \"Vegetable peels\", \"Coffee grounds\", \"Tea bags\", \"Garden waste\"]\n",
        "    },\n",
        "    \"Glas\": {\n",
        "        \"color\": \"#4ECDC4\", \n",
        "        \"items\": [\"Glass bottles\", \"Glass jars\", \"Drinking glasses (no ceramics!)\"]\n",
        "    },\n",
        "    \"Papier\": {\n",
        "        \"color\": \"#45B7D1\",\n",
        "        \"items\": [\"Newspapers\", \"Magazines\", \"Cardboard\", \"Paper bags\", \"Books\"]\n",
        "    },\n",
        "    \"Restmüll\": {\n",
        "        \"color\": \"#96CEB4\",\n",
        "        \"items\": [\"Cigarette butts\", \"Diapers\", \"Used tissues\", \"Broken ceramics\"]\n",
        "    }\n",
        "}\n",
        "\n",
        "print(\"✅ Camera helper functions loaded\")\n",
        "print(f\"📍 Running in: {'Google Colab' if is_colab() else 'Local environment'}\")"
      ]
    },
    {
      "cell_type": "markdown",
      "metadata": {
        "id": "nPuv3E9gDUzz"
      },
      "source": [
        "### **5.2 Google Colab Camera Access**\n",
        "\n",
        "For Google Colab, we'll use JavaScript to access the camera through the browser:"
      ]
    },
    {
      "cell_type": "code",
      "execution_count": 11,
      "metadata": {
        "colab": {
          "base_uri": "https://localhost:8080/",
          "height": 448
        },
        "id": "NPxQzW17DUzz",
        "outputId": "41aa2187-580c-4e0c-db38-1d09757c2d15"
      },
      "outputs": [],
      "source": [
        "# 5.2 · Google Colab camera functions\n",
        "if is_colab():\n",
        "    from google.colab.output import eval_js\n",
        "\n",
        "    def colab_camera_js():\n",
        "        \"\"\"JavaScript code for camera access in Colab\"\"\"\n",
        "        js = Javascript('''\n",
        "        async function takePhoto(quality = 0.8) {\n",
        "            const video = document.createElement('video');\n",
        "            const stream = await navigator.mediaDevices.getUserMedia({video: true});\n",
        "            \n",
        "            document.body.appendChild(video);\n",
        "            video.style.display = 'block';\n",
        "            video.style.width = '400px';\n",
        "            video.style.margin = '10px';\n",
        "            video.srcObject = stream;\n",
        "            video.play();\n",
        "\n",
        "            // Wait for video to be ready\n",
        "            await new Promise((resolve) => video.onloadedmetadata = resolve);\n",
        "            await new Promise(resolve => setTimeout(resolve, 1000));\n",
        "            \n",
        "            const canvas = document.createElement('canvas');\n",
        "            canvas.width = video.videoWidth;\n",
        "            canvas.height = video.videoHeight;\n",
        "            canvas.getContext('2d').drawImage(video, 0, 0);\n",
        "            \n",
        "            stream.getVideoTracks()[0].stop();\n",
        "            video.remove();\n",
        "            \n",
        "            return canvas.toDataURL('image/jpeg', quality);\n",
        "        }\n",
        "        ''')\n",
        "        display(js)\n",
        "\n",
        "    def capture_image_colab():\n",
        "        \"\"\"Capture image from webcam in Colab\"\"\"\n",
        "        try:\n",
        "            # Execute JavaScript to capture photo\n",
        "            data = eval_js('takePhoto(0.8)')\n",
        "            \n",
        "            # Convert base64 to image\n",
        "            binary = b64decode(data.split(',')[1])\n",
        "            image = PIL.Image.open(io.BytesIO(binary))\n",
        "            \n",
        "            # Convert to numpy array for OpenCV\n",
        "            image_np = np.array(image)\n",
        "            image_np = cv2.cvtColor(image_np, cv2.COLOR_RGB2BGR)\n",
        "            \n",
        "            return image_np\n",
        "        except Exception as e:\n",
        "            print(f\"❌ Camera capture failed: {e}\")\n",
        "            return None\n",
        "\n",
        "    # Initialize camera JavaScript\n",
        "    colab_camera_js()\n",
        "    print(\"✅ Colab camera initialized\")"
      ]
    },
    {
      "cell_type": "markdown",
      "metadata": {
        "id": "LaiSWX51DUzz"
      },
      "source": []
    },
    {
      "cell_type": "markdown",
      "metadata": {},
      "source": [
        "### **5.3 Live Video Streaming**\n"
      ]
    },
    {
      "cell_type": "code",
      "execution_count": 12,
      "metadata": {},
      "outputs": [],
      "source": [
        "# # 1. Imports and model load\n",
        "# from ultralytics import YOLO\n",
        "# import cv2, time\n",
        "\n",
        "# # Define what can go where\n",
        "# bin_rules = {\n",
        "#     \"Biomüll\": [\"Food scraps\", \"Eggshells\", \"Tea bags\"],\n",
        "#     \"Papier\":  [\"Newspapers\", \"Cardboard\", \"Envelopes\"],\n",
        "#     \"Restmüll\": [\"Cigarette butts\", \"Vacuum cleaner bags\", \"Hygiene products\"],\n",
        "#     \"Glas\": [\"Bottles\", \"Jars (without lids)\"]\n",
        "# }\n",
        "\n",
        "# # 2. Load your best model weights from the path you provided\n",
        "# model = YOLO(r'cv_garbage/models/waste_detector_best.pt')\n",
        "\n",
        "# # 4. Your DroidCam HTTP stream URL\n",
        "# stream_url = \"http://100.83.17.254:4747/video\"\n",
        "\n",
        "# # 3. Streaming parameters\n",
        "# CONF = 0.65\n",
        "# IOU = 0.35\n",
        "# SIZE = 960\n",
        "\n",
        "\n",
        "\n",
        "# # Force OpenCV to use FFMPEG backend\n",
        "# cap = cv2.VideoCapture(0)\n",
        "\n",
        "# while True:\n",
        "#     ok, frame = cap.read()\n",
        "#     if not ok:\n",
        "#         print(\"❌ Stream lost\"); break\n",
        "\n",
        "#     t0 = time.time()\n",
        "\n",
        "#     # Run prediction\n",
        "#     results = model.predict(frame, imgsz=SIZE, conf=CONF, iou=IOU, stream=False)[0]\n",
        "\n",
        "#     # Copy the annotated frame\n",
        "#     annotated = results.plot().copy()\n",
        "\n",
        "#     for box in results.boxes:\n",
        "#         cls_id = int(box.cls[0])\n",
        "#         cls_name = model.names[cls_id]\n",
        "\n",
        "#         x1, y1 = int(box.xyxy[0][0]), int(box.xyxy[0][1])\n",
        "#         info = bin_rules.get(cls_name, [\"No info available\"])\n",
        "#         text = f\"{cls_name}: \" + \", \".join(info[:2])  # Show up to 2 items\n",
        "\n",
        "#         # Draw text\n",
        "#         # Calculate text size\n",
        "#         (font_w, font_h), baseline = cv2.getTextSize(text, cv2.FONT_HERSHEY_DUPLEX, 0.6, 1)\n",
        "\n",
        "#         # Coordinates for the background rectangle\n",
        "#         rect_x1 = x1\n",
        "#         rect_y1 = y1 + 5\n",
        "#         rect_x2 = x1 + font_w + 10\n",
        "#         rect_y2 = y1 + font_h + 20\n",
        "\n",
        "#         # Ensure the box doesn't go out of frame\n",
        "#         rect_x2 = min(rect_x2, annotated.shape[1] - 1)\n",
        "#         rect_y2 = min(rect_y2, annotated.shape[0] - 1)\n",
        "\n",
        "#         # Draw background rectangle (filled with opacity)\n",
        "#         overlay = annotated.copy()\n",
        "#         cv2.rectangle(overlay, (rect_x1, rect_y1), (rect_x2, rect_y2), (0, 0, 0), -1)\n",
        "#         alpha = 0.5\n",
        "#         annotated = cv2.addWeighted(overlay, alpha, annotated, 1 - alpha, 0)\n",
        "\n",
        "#         # Draw the text over the rectangle\n",
        "#         cv2.putText(annotated, text, (x1 + 5, y1 + font_h + 5),\n",
        "#             cv2.FONT_HERSHEY_DUPLEX, 0.6, (255, 255, 255), 1, cv2.LINE_AA)\n",
        "\n",
        "#     # Show FPS\n",
        "#     fps = 1.0 / (time.time() - t0)\n",
        "#     cv2.putText(annotated, f\"{fps:.1f} FPS\", (10, 30),\n",
        "#                 cv2.FONT_HERSHEY_SIMPLEX, 0.7, (0, 255, 0), 2)\n",
        "\n",
        "#     # Display result\n",
        "#     cv2.imshow(\"Trash Bin Detection\", annotated)\n",
        "\n",
        "#     if cv2.waitKey(1) & 0xFF == ord('q'):\n",
        "#         break\n",
        "\n",
        "# cap.release()\n",
        "# cv2.destroyAllWindows()"
      ]
    },
    {
      "cell_type": "code",
      "execution_count": 13,
      "metadata": {},
      "outputs": [
        {
          "name": "stdout",
          "output_type": "stream",
          "text": [
            "\n",
            "🔍 Running inference on sample image...\n",
            "\n",
            "image 1/1 C:\\Users\\rudae\\Documents\\UniUA\\Painfully-Trivial\\IMG_20250627_174033.jpg: 736x960 1 Papier, 672.2ms\n",
            "Speed: 7.0ms preprocess, 672.2ms inference, 2.6ms postprocess per image at shape (1, 3, 736, 960)\n",
            "Results saved to \u001b[1mruns\\detect\\predict10\u001b[0m\n",
            "1 label saved to runs\\detect\\predict10\\labels\n",
            "\n",
            "🗑️  Detected: Papier (confidence: 0.36)\n",
            "   Suitable waste: Newspapers, Magazines, Cardboard boxes...\n"
          ]
        }
      ],
      "source": [
        "# Rum a prediction on a sample image\n",
        "if 'final_model_path' in locals(): \n",
        "    # Test on a sample image\n",
        "    test_image = Path(\"C:/Users/rudae/Documents/UniUA/Painfully-Trivial/IMG_20250627_174033.jpg\")\n",
        "    if test_image.exists():\n",
        "        print(\"\\n🔍 Running inference on sample image...\")\n",
        "        run_inference(final_model_path, str(test_image))\n",
        "    else:\n",
        "        print(f\"❌ Sample image not found: {test_image}\")"
      ]
    }
  ],
  "metadata": {
    "accelerator": "TPU",
    "colab": {
      "gpuType": "V28",
      "provenance": []
    },
    "kernelspec": {
      "display_name": "waste-detection",
      "language": "python",
      "name": "python3"
    },
    "language_info": {
      "codemirror_mode": {
        "name": "ipython",
        "version": 3
      },
      "file_extension": ".py",
      "mimetype": "text/x-python",
      "name": "python",
      "nbconvert_exporter": "python",
      "pygments_lexer": "ipython3",
      "version": "3.10.18"
    }
  },
  "nbformat": 4,
  "nbformat_minor": 0
}
