{
 "cells": [
  {
   "cell_type": "markdown",
   "id": "12693595",
   "metadata": {},
   "source": [
    "# Machine Learning Project: V2\n",
    "\n",
    "Due to issues with v1, we are starting a new project. We will just write simple code and explain all the algorithms with statistical learning. Firstly, we will use the **\"Deutsche Bahn Delays\"** dataset provided by [nokkyu](https://www.kaggle.com/datasets/nokkyu/deutsche-bahn-db-delays), we have made the desicion to do supervised learning, specifically regression, to predict the delay of trains based on various features. Secondly, at each major step, we will include combined visualizations - typically a set of related plots accompanied by a single descriptive caption below, summarizing the figure and explaining each subplot (e.g., “Left: … Right: …”) in a research-oriented format.\n",
    "\n",
    "---\n",
    "\n",
    "<!-- ```\n",
    "print(df.head())\n",
    "\n",
    "                                  ID line  \\\n",
    "0  1573967790757085557-2407072312-14   20   \n",
    "1    349781417030375472-2407080017-1   18   \n",
    "2  7157250219775883918-2407072120-25    1   \n",
    "3    349781417030375472-2407080017-2   18   \n",
    "4   1983158592123451570-2407080010-3   33   \n",
    "\n",
    "                                                path   eva_nr  category  \\\n",
    "0  Stolberg(Rheinl)Hbf Gl.44|Eschweiler-St.Jöris|...  8000001         2   \n",
    "1                                                NaN  8000001         2   \n",
    "2  Hamm(Westf)Hbf|Kamen|Kamen-Methler|Dortmund-Ku...  8000406         4   \n",
    "3                                         Aachen Hbf  8000404         5   \n",
    "4                            Herzogenrath|Kohlscheid  8000404         5   \n",
    "\n",
    "             station                state    city    zip      long        lat  \\\n",
    "0         Aachen Hbf  Nordrhein-Westfalen  Aachen  52064  6.091499  50.767800   \n",
    "1         Aachen Hbf  Nordrhein-Westfalen  Aachen  52064  6.091499  50.767800   \n",
    "2  Aachen-Rothe Erde  Nordrhein-Westfalen  Aachen  52066  6.116475  50.770202   \n",
    "3        Aachen West  Nordrhein-Westfalen  Aachen  52072  6.070715  50.780360   \n",
    "4        Aachen West  Nordrhein-Westfalen  Aachen  52072  6.070715  50.780360   \n",
    "\n",
    "          arrival_plan       departure_plan       arrival_change  \\\n",
    "0  2024-07-08 00:00:00  2024-07-08 00:01:00  2024-07-08 00:03:00   \n",
    "1                  NaN  2024-07-08 00:17:00                  NaN   \n",
    "2  2024-07-08 00:03:00  2024-07-08 00:04:00  2024-07-08 00:03:00   \n",
    "3  2024-07-08 00:20:00  2024-07-08 00:21:00                  NaN   \n",
    "4  2024-07-08 00:20:00  2024-07-08 00:21:00  2024-07-08 00:20:00   \n",
    "\n",
    "      departure_change  arrival_delay_m  departure_delay_m info  \\\n",
    "0  2024-07-08 00:04:00                3                  3  NaN   \n",
    "1                  NaN                0                  0  NaN   \n",
    "2  2024-07-08 00:04:00                0                  0  NaN   \n",
    "3                  NaN                0                  0  NaN   \n",
    "4  2024-07-08 00:21:00                0                  0  NaN   \n",
    "\n",
    "  arrival_delay_check departure_delay_check  \n",
    "0             on_time               on_time  \n",
    "1             on_time               on_time  \n",
    "2             on_time               on_time  \n",
    "3             on_time               on_time  \n",
    "4             on_time               on_time  \n",
    "``` -->\n",
    "\n",
    "Lets first load the data:"
   ]
  },
  {
   "cell_type": "code",
   "execution_count": null,
   "id": "29f74e24",
   "metadata": {
    "vscode": {
     "languageId": "plaintext"
    }
   },
   "outputs": [],
   "source": [
    "import pandas as pd\n",
    "from kagglehub import load_dataset, KaggleDatasetAdapter\n",
    "\n",
    "# Load the Deutsche Bahn delays dataset\n",
    "def load_db_delays() -> pd.DataFrame:\n",
    "    df = load_dataset(\n",
    "        KaggleDatasetAdapter.PANDAS,\n",
    "        \"nokkyu/deutsche-bahn-db-delays\",\n",
    "        \"DBtrainrides.csv\"\n",
    "    )\n",
    "    df[\"departure_plan\"] = pd.to_datetime(df[\"departure_plan\"], errors=\"coerce\")\n",
    "    return df\n",
    "\n",
    "df = load_db_delays()"
   ]
  },
  {
   "cell_type": "markdown",
   "id": "24451d19",
   "metadata": {},
   "source": []
  }
 ],
 "metadata": {
  "language_info": {
   "name": "python"
  }
 },
 "nbformat": 4,
 "nbformat_minor": 5
}
