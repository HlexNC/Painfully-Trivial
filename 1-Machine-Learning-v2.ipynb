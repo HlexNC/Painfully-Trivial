{
 "cells": [
  {
   "cell_type": "markdown",
   "id": "12693595",
   "metadata": {},
   "source": [
    "# Predicting Deutsche Bahn Train Delays  \n",
    "## A Reproducible Baseline for Supervised Regression\n",
    "\n",
    "**Objective:** Build a supervised regression model to predict train arrival delays (in minutes) for Deutsche Bahn trains using statistical learning methods.\n",
    "\n",
    "**Target Variable:** `arrival_delay_m` - continuous variable representing delay in minutes"
   ]
  },
  {
   "cell_type": "markdown",
   "id": "42fc24fe",
   "metadata": {},
   "source": [
    "## 1. Environment Setup and Imports\n",
    "\n",
    "### Package Installation (for Google Colab)\n",
    "Run this cell only if using Google Colab"
   ]
  },
  {
   "cell_type": "code",
   "execution_count": null,
   "id": "ec68fd28",
   "metadata": {},
   "outputs": [],
   "source": [
    "# Uncomment the following lines if running in Google Colab\n",
    "# !pip install pandas numpy matplotlib seaborn scikit-learn scipy -q\n",
    "# !pip install --upgrade scikit-learn -q"
   ]
  },
  {
   "cell_type": "markdown",
   "id": "3df935b3",
   "metadata": {},
   "source": [
    "### Package Installation (for Local Jupyter Setup)\n",
    "```bash\n",
    "# 1. Install Anaconda from https://www.anaconda.com/download\n",
    "\n",
    "# 2. Create a new conda environment\n",
    "conda create -n ml-project python=3.9 -y\n",
    "\n",
    "# 3. Activate the environment\n",
    "conda activate ml-project\n",
    "\n",
    "# 4. Install required packages\n",
    "conda install -c conda-forge pandas numpy matplotlib seaborn scikit-learn scipy jupyter notebook -y\n",
    "\n",
    "# 5. Launch Jupyter Notebook\n",
    "jupyter notebook\n",
    "\n",
    "# 6. Navigate to your notebook file and open it\n",
    "```"
   ]
  },
  {
   "cell_type": "markdown",
   "id": "721512ec",
   "metadata": {},
   "source": [
    "### Import Required Libraries"
   ]
  },
  {
   "cell_type": "code",
   "execution_count": null,
   "id": "29f0422e",
   "metadata": {},
   "outputs": [],
   "source": [
    "import pandas as pd\n",
    "import numpy as np\n",
    "import matplotlib.pyplot as plt\n",
    "import seaborn as sns\n",
    "from datetime import datetime\n",
    "import warnings\n",
    "warnings.filterwarnings('ignore')\n",
    "\n",
    "# Scikit-learn imports\n",
    "from sklearn.model_selection import (\n",
    "    train_test_split, cross_val_score, GridSearchCV, \n",
    "    RandomizedSearchCV, learning_curve, validation_curve\n",
    ")\n",
    "from sklearn.preprocessing import StandardScaler, OneHotEncoder\n",
    "from sklearn.compose import ColumnTransformer\n",
    "from sklearn.pipeline import Pipeline\n",
    "from sklearn.metrics import (\n",
    "    mean_absolute_error, mean_squared_error, r2_score,\n",
    "    make_scorer\n",
    ")\n",
    "\n",
    "# Models\n",
    "from sklearn.linear_model import LinearRegression, Ridge, RidgeCV, Lasso, LassoCV\n",
    "from sklearn.ensemble import RandomForestRegressor\n",
    "from sklearn.tree import DecisionTreeRegressor\n",
    "\n",
    "# Additional imports\n",
    "from scipy import stats\n",
    "import os\n",
    "\n",
    "# Set random seed for reproducibility\n",
    "np.random.seed(42)\n",
    "\n",
    "# Plotting settings\n",
    "plt.style.use('seaborn-v0_8-darkgrid')\n",
    "plt.rcParams['figure.figsize'] = (10, 6)\n",
    "plt.rcParams['font.size'] = 12\n",
    "\n",
    "print(\"All packages imported successfully!\")\n",
    "print(f\"Scikit-learn version: {sklearn.__version__}\")"
   ]
  },
  {
   "cell_type": "markdown",
   "id": "7ea15c97",
   "metadata": {},
   "source": [
    "---"
   ]
  },
  {
   "cell_type": "markdown",
   "id": "762f97d8",
   "metadata": {},
   "source": [
    "## 2. Data Loading and Initial Exploration"
   ]
  },
  {
   "cell_type": "markdown",
   "id": "54294e1b",
   "metadata": {},
   "source": [
    "### Load the Dataset\n",
    "\n",
    "For this project, we're using a Deutsche Bahn train delay dataset. The dataset should contain information about scheduled and actual arrival/departure times, routes, and other relevant features for predicting delays.\n"
   ]
  },
  {
   "cell_type": "code",
   "execution_count": null,
   "id": "29f74e24",
   "metadata": {},
   "outputs": [],
   "source": [
    "import pandas as pd\n",
    "from kagglehub import load_dataset, KaggleDatasetAdapter\n",
    "\n",
    "# Load the Deutsche Bahn delays dataset\n",
    "def load_db_delays() -> pd.DataFrame:\n",
    "    df = load_dataset(\n",
    "        KaggleDatasetAdapter.PANDAS,\n",
    "        \"nokkyu/deutsche-bahn-db-delays\",\n",
    "        \"DBtrainrides.csv\"\n",
    "    )\n",
    "    df[\"departure_plan\"] = pd.to_datetime(df[\"departure_plan\"], errors=\"coerce\")\n",
    "    return df\n",
    "\n",
    "df = load_db_delays()\n",
    "\n",
    "print(f\"Dataset loaded successfully!\")\n",
    "print(f\"Shape: {df.shape}\")\n",
    "print(f\"\\nColumns: {list(df.columns)}\")"
   ]
  },
  {
   "cell_type": "markdown",
   "id": "aeacd99e",
   "metadata": {},
   "source": [
    "<!-- ```\n",
    "print(df.head())\n",
    "\n",
    "                                  ID line  \\\n",
    "0  1573967790757085557-2407072312-14   20   \n",
    "1    349781417030375472-2407080017-1   18   \n",
    "2  7157250219775883918-2407072120-25    1   \n",
    "3    349781417030375472-2407080017-2   18   \n",
    "4   1983158592123451570-2407080010-3   33   \n",
    "\n",
    "                                                path   eva_nr  category  \\\n",
    "0  Stolberg(Rheinl)Hbf Gl.44|Eschweiler-St.Jöris|...  8000001         2   \n",
    "1                                                NaN  8000001         2   \n",
    "2  Hamm(Westf)Hbf|Kamen|Kamen-Methler|Dortmund-Ku...  8000406         4   \n",
    "3                                         Aachen Hbf  8000404         5   \n",
    "4                            Herzogenrath|Kohlscheid  8000404         5   \n",
    "\n",
    "             station                state    city    zip      long        lat  \\\n",
    "0         Aachen Hbf  Nordrhein-Westfalen  Aachen  52064  6.091499  50.767800   \n",
    "1         Aachen Hbf  Nordrhein-Westfalen  Aachen  52064  6.091499  50.767800   \n",
    "2  Aachen-Rothe Erde  Nordrhein-Westfalen  Aachen  52066  6.116475  50.770202   \n",
    "3        Aachen West  Nordrhein-Westfalen  Aachen  52072  6.070715  50.780360   \n",
    "4        Aachen West  Nordrhein-Westfalen  Aachen  52072  6.070715  50.780360   \n",
    "\n",
    "          arrival_plan       departure_plan       arrival_change  \\\n",
    "0  2024-07-08 00:00:00  2024-07-08 00:01:00  2024-07-08 00:03:00   \n",
    "1                  NaN  2024-07-08 00:17:00                  NaN   \n",
    "2  2024-07-08 00:03:00  2024-07-08 00:04:00  2024-07-08 00:03:00   \n",
    "3  2024-07-08 00:20:00  2024-07-08 00:21:00                  NaN   \n",
    "4  2024-07-08 00:20:00  2024-07-08 00:21:00  2024-07-08 00:20:00   \n",
    "\n",
    "      departure_change  arrival_delay_m  departure_delay_m info  \\\n",
    "0  2024-07-08 00:04:00                3                  3  NaN   \n",
    "1                  NaN                0                  0  NaN   \n",
    "2  2024-07-08 00:04:00                0                  0  NaN   \n",
    "3                  NaN                0                  0  NaN   \n",
    "4  2024-07-08 00:21:00                0                  0  NaN   \n",
    "\n",
    "  arrival_delay_check departure_delay_check  \n",
    "0             on_time               on_time  \n",
    "1             on_time               on_time  \n",
    "2             on_time               on_time  \n",
    "3             on_time               on_time  \n",
    "4             on_time               on_time  \n",
    "``` -->\n"
   ]
  },
  {
   "cell_type": "markdown",
   "id": "e8957a59",
   "metadata": {},
   "source": [
    "### Initial Data Exploration\n",
    "\n",
    "Following ISLP Section 2.3.9 - Additional Graphical and Numerical Summaries"
   ]
  },
  {
   "cell_type": "code",
   "execution_count": null,
   "id": "2f996b00",
   "metadata": {},
   "outputs": [],
   "source": [
    "# Basic dataset information\n",
    "print(\"Dataset Info:\")\n",
    "print(\"=\"*50)\n",
    "df.info()\n",
    "\n",
    "print(\"\\n\\nFirst 5 rows:\")\n",
    "print(\"=\"*50)\n",
    "df.head()\n",
    "\n",
    "print(\"\\n\\nBasic Statistics:\")\n",
    "print(\"=\"*50)\n",
    "df.describe()\n",
    "\n",
    "print(\"\\n\\nMissing Values:\")\n",
    "print(\"=\"*50)\n",
    "print(df.isnull().sum())"
   ]
  },
  {
   "cell_type": "markdown",
   "id": "8c3cdecd",
   "metadata": {},
   "source": [
    "---"
   ]
  },
  {
   "cell_type": "markdown",
   "id": "e371a4f5",
   "metadata": {},
   "source": [
    "## 3. Exploratory Data Analysis (EDA)"
   ]
  },
  {
   "cell_type": "markdown",
   "id": "0869a8d7",
   "metadata": {},
   "source": [
    "### Target Variable Analysis\n",
    "\n",
    "Understanding the distribution of our target variable is crucial for model selection and evaluation metrics.\n",
    "\n",
    "**Mathematical Framework (ISLP Equation 2.1):**\n",
    "$$Y = f(X) + \\epsilon$$\n",
    "\n",
    "where:\n",
    "- $Y$ is the response variable (arrival_delay_m)\n",
    "- $X$ represents our predictors\n",
    "- $f$ is the systematic information\n",
    "- $\\epsilon$ is random error with $E(\\epsilon) = 0$ and $Var(\\epsilon) = \\sigma^2$"
   ]
  },
  {
   "cell_type": "code",
   "execution_count": null,
   "id": "a6b0a7bc",
   "metadata": {},
   "outputs": [],
   "source": [
    "# Create comprehensive target analysis\n",
    "fig, axes = plt.subplots(2, 2, figsize=(14, 10))\n",
    "\n",
    "# 1. Histogram of arrival delays\n",
    "axes[0, 0].hist(df['arrival_delay_m'].dropna(), bins=50, edgecolor='black', alpha=0.7)\n",
    "axes[0, 0].set_xlabel('Arrival Delay (minutes)')\n",
    "axes[0, 0].set_ylabel('Frequency')\n",
    "axes[0, 0].set_title('Distribution of Arrival Delays')\n",
    "axes[0, 0].axvline(df['arrival_delay_m'].mean(), color='red', linestyle='--', \n",
    "                    label=f'Mean: {df[\"arrival_delay_m\"].mean():.1f} min')\n",
    "axes[0, 0].axvline(df['arrival_delay_m'].median(), color='green', linestyle='--', \n",
    "                    label=f'Median: {df[\"arrival_delay_m\"].median():.1f} min')\n",
    "axes[0, 0].legend()\n",
    "\n",
    "# 2. Box plot to identify outliers\n",
    "axes[0, 1].boxplot(df['arrival_delay_m'].dropna())\n",
    "axes[0, 1].set_ylabel('Arrival Delay (minutes)')\n",
    "axes[0, 1].set_title('Box Plot of Arrival Delays')\n",
    "\n",
    "# 3. Q-Q plot for normality check\n",
    "stats.probplot(df['arrival_delay_m'].dropna(), dist=\"norm\", plot=axes[1, 0])\n",
    "axes[1, 0].set_title('Q-Q Plot: Checking Normality')\n",
    "\n",
    "# 4. Log-transformed delays\n",
    "delay_positive = df['arrival_delay_m'] + 1  # Add 1 to handle zeros\n",
    "axes[1, 1].hist(np.log(delay_positive.dropna()), bins=50, edgecolor='black', alpha=0.7)\n",
    "axes[1, 1].set_xlabel('Log(Arrival Delay + 1)')\n",
    "axes[1, 1].set_ylabel('Frequency')\n",
    "axes[1, 1].set_title('Log-Transformed Distribution')\n",
    "\n",
    "plt.tight_layout()\n",
    "plt.show()\n",
    "\n",
    "# Statistical summary\n",
    "print(\"\\nTarget Variable Statistical Analysis:\")\n",
    "print(\"=\"*50)\n",
    "print(f\"Mean delay: {df['arrival_delay_m'].mean():.2f} minutes\")\n",
    "print(f\"Median delay: {df['arrival_delay_m'].median():.2f} minutes\")\n",
    "print(f\"Standard deviation: {df['arrival_delay_m'].std():.2f} minutes\")\n",
    "print(f\"Skewness: {df['arrival_delay_m'].skew():.2f}\")\n",
    "print(f\"Kurtosis: {df['arrival_delay_m'].kurtosis():.2f}\")\n",
    "print(f\"Percentage of on-time arrivals: {(df['arrival_delay_m'] == 0).sum() / len(df) * 100:.1f}%\")\n",
    "print(f\"95th percentile: {df['arrival_delay_m'].quantile(0.95):.2f} minutes\")"
   ]
  },
  {
   "cell_type": "markdown",
   "id": "69504cdd",
   "metadata": {},
   "source": [
    "### Feature Analysis and Relationships"
   ]
  },
  {
   "cell_type": "code",
   "execution_count": null,
   "id": "26da8ef7",
   "metadata": {},
   "outputs": [],
   "source": [
    "# Analyze relationships between features and target\n",
    "fig, axes = plt.subplots(2, 3, figsize=(18, 10))\n",
    "\n",
    "# 1. Delay by train type\n",
    "df.boxplot(column='arrival_delay_m', by='train_type', ax=axes[0, 0])\n",
    "axes[0, 0].set_title('Delays by Train Type')\n",
    "\n",
    "# 2. Delay by hour of day\n",
    "hourly_delays = df.groupby('hour')['arrival_delay_m'].mean()\n",
    "axes[0, 1].plot(hourly_delays.index, hourly_delays.values, marker='o')\n",
    "axes[0, 1].set_xlabel('Hour of Day')\n",
    "axes[0, 1].set_ylabel('Average Delay (min)')\n",
    "axes[0, 1].set_title('Average Delays by Hour')\n",
    "axes[0, 1].grid(True)\n",
    "\n",
    "# 3. Delay by day of week\n",
    "daily_delays = df.groupby('day_of_week')['arrival_delay_m'].mean()\n",
    "axes[0, 2].bar(daily_delays.index, daily_delays.values)\n",
    "axes[0, 2].set_xlabel('Day of Week (0=Monday)')\n",
    "axes[0, 2].set_ylabel('Average Delay (min)')\n",
    "axes[0, 2].set_title('Average Delays by Day of Week')\n",
    "\n",
    "# 4. Delay vs distance\n",
    "axes[1, 0].scatter(df['distance_km'], df['arrival_delay_m'], alpha=0.5)\n",
    "axes[1, 0].set_xlabel('Distance (km)')\n",
    "axes[1, 0].set_ylabel('Delay (min)')\n",
    "axes[1, 0].set_title('Delay vs Distance')\n",
    "\n",
    "# 5. Delay by weather condition\n",
    "df.boxplot(column='arrival_delay_m', by='weather_condition', ax=axes[1, 1])\n",
    "axes[1, 1].set_title('Delays by Weather Condition')\n",
    "\n",
    "# 6. Correlation heatmap for numerical features\n",
    "numerical_features = df.select_dtypes(include=[np.number]).columns\n",
    "corr_matrix = df[numerical_features].corr()\n",
    "sns.heatmap(corr_matrix, annot=True, cmap='coolwarm', center=0, ax=axes[1, 2])\n",
    "axes[1, 2].set_title('Feature Correlation Matrix')\n",
    "\n",
    "plt.tight_layout()\n",
    "plt.show()"
   ]
  }
 ],
 "metadata": {
  "language_info": {
   "name": "python"
  }
 },
 "nbformat": 4,
 "nbformat_minor": 5
}
