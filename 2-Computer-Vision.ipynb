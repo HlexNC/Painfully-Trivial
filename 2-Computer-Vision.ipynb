{
 "cells": [
  {
   "cell_type": "markdown",
   "metadata": {},
   "source": [
    "## **Computer vision project: Deggendorf Waste Sorting Assistant**"
   ]
  },
  {
   "cell_type": "markdown",
   "metadata": {},
   "source": [
    "### **Overview**\n",
    "The Deggendorf Waste Sorting Assistant is a Computer Vision-based tool designed to help residents and international students correctly identify waste bins. The project leverages image classification to determine the category of a given waste bin based on its visual characteristics. Users can take a picture of an unlabeled bin, and the model will classify it while providing information on the appropriate waste materials for disposal.\n",
    "\n",
    "### **Project Goals**\n",
    "- Develop an image classification model capable of identifying waste bins in Deggendorf.\n",
    "- Provide users with clear guidance on proper waste disposal based on bin classification.\n",
    "- Document all processes in a Jupyter Notebook, covering dataset creation, model training, evaluation, and deployment.\n"
   ]
  }
 ],
 "metadata": {
  "language_info": {
   "name": "python"
  }
 },
 "nbformat": 4,
 "nbformat_minor": 2
}
