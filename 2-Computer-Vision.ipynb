{
  "cells": [
    {
      "cell_type": "markdown",
      "metadata": {
        "id": "1O9BGeOMMMN3"
      },
      "source": [
        "## **Computer vision project: Deggendorf Waste Sorting Assistant**"
      ]
    },
    {
      "cell_type": "markdown",
      "metadata": {
        "id": "GnYmouOpMMN4"
      },
      "source": [
        "### **Overview**\n",
        "The Deggendorf Waste Sorting Assistant is a Computer Vision-based tool designed to help residents and international students correctly identify waste bins. The project leverages image classification to determine the category of a given waste bin based on its visual characteristics. Users can take a picture of an unlabeled bin, and the model will classify it while providing information on the appropriate waste materials for disposal.\n",
        "\n",
        "### **Project Goals**\n",
        "- Develop an image classification model capable of identifying waste bins in Deggendorf.\n",
        "- Provide users with clear guidance on proper waste disposal based on bin classification.\n",
        "- Document all processes in a Jupyter Notebook, covering dataset creation, model training, evaluation, and deployment.\n"
      ]
    },
    {
      "cell_type": "markdown",
      "metadata": {
        "id": "HdX4RKxKDUzw"
      },
      "source": [
        "---"
      ]
    },
    {
      "cell_type": "markdown",
      "metadata": {
        "id": "y8hC-qkbDUzw"
      },
      "source": [
        "## **1. Environment Setup & Dependencies**\n",
        "\n",
        "```bash\n",
        "# Using conda\n",
        "conda create -n waste-detection python=3.10\n",
        "conda activate waste-detection\n",
        "```"
      ]
    },
    {
      "cell_type": "code",
      "execution_count": 8,
      "metadata": {
        "id": "nFGm3NfSMMN4",
        "outputId": "a38a21c5-8f2b-483f-dedc-5784c9536b47",
        "colab": {
          "base_uri": "https://localhost:8080/"
        }
      },
      "outputs": [
        {
          "output_type": "stream",
          "name": "stdout",
          "text": [
            "🔧 Running NumPy compatibility check...\n",
            "✅ NumPy 2.3.1 working correctly\n",
            "\n",
            "📦 Installing dependencies...\n",
            "Installing pillow>=10.0.0...\n",
            "✅ opencv-python already installed\n",
            "✅ matplotlib already installed\n",
            "✅ pandas already installed\n",
            "✅ seaborn already installed\n",
            "Installing pyyaml>=6.0...\n",
            "✅ tqdm already installed\n",
            "✅ shutil already installed\n",
            "✅ ultralytics already installed\n",
            "\n",
            "Installing Label Studio packages (optional)...\n",
            "✅ label-studio already installed\n",
            "✅ label-studio-converter already installed\n",
            "\n",
            "🔍 Final verification...\n",
            "✅ numpy\n",
            "✅ cv2\n",
            "✅ PIL\n",
            "✅ matplotlib\n",
            "✅ pandas\n",
            "✅ yaml\n",
            "✅ ultralytics\n",
            "✅ shutil\n",
            "\n",
            "🎉 All dependencies installed and verified successfully!\n",
            "\n",
            "💡 If you see 'numpy.dtype size changed' errors, restart the runtime and run this cell again.\n"
          ]
        }
      ],
      "source": [
        "# 1.0 · Check environment and install dependencies (FIXED with QuickFix)\n",
        "import os\n",
        "import sys\n",
        "import subprocess\n",
        "import importlib\n",
        "from pathlib import Path\n",
        "\n",
        "def is_colab():\n",
        "    \"\"\"Check if running in Google Colab\"\"\"\n",
        "    try:\n",
        "        import google.colab\n",
        "        return True\n",
        "    except ImportError:\n",
        "        return False\n",
        "\n",
        "def install_package(package):\n",
        "    \"\"\"Install a package using pip\"\"\"\n",
        "    subprocess.check_call([sys.executable, \"-m\", \"pip\", \"install\", \"--quiet\", package])\n",
        "\n",
        "def reinstall_package(package):\n",
        "    \"\"\"Reinstall a package (force reinstall)\"\"\"\n",
        "    subprocess.check_call([sys.executable, \"-m\", \"pip\", \"install\", \"--quiet\", \"--force-reinstall\", package])\n",
        "\n",
        "# QUICKFIX: Check for NumPy binary compatibility issues\n",
        "print(\"🔧 Running NumPy compatibility check...\")\n",
        "numpy_needs_fix = False\n",
        "try:\n",
        "    import numpy\n",
        "    # Test numpy functionality - this is where the error typically occurs\n",
        "    test_array = numpy.array([1, 2, 3])\n",
        "    numpy.random.RandomState(42)  # This often triggers the binary incompatibility error\n",
        "    print(f\"✅ NumPy {numpy.__version__} working correctly\")\n",
        "except (ImportError, ValueError) as e:\n",
        "    print(f\"❌ NumPy binary compatibility issue detected: {e}\")\n",
        "    numpy_needs_fix = True\n",
        "\n",
        "if numpy_needs_fix:\n",
        "    print(\"🔧 Applying NumPy QuickFix...\")\n",
        "    # Force reinstall numpy and related packages\n",
        "    subprocess.check_call([sys.executable, \"-m\", \"pip\", \"install\", \"--force-reinstall\", \"--no-deps\", \"--quiet\", \"numpy>=1.23.0\"])\n",
        "    print(\"✅ NumPy reinstalled - you may need to restart runtime\")\n",
        "\n",
        "    # Test again after reinstall\n",
        "    try:\n",
        "        import numpy\n",
        "        test_array = numpy.array([1, 2, 3])\n",
        "        print(\"✅ NumPy QuickFix successful\")\n",
        "    except Exception as e:\n",
        "        print(f\"⚠️ NumPy still has issues: {e}\")\n",
        "        print(\"💡 Please restart the runtime and run this cell again\")\n",
        "\n",
        "print(\"\\n📦 Installing dependencies...\")\n",
        "\n",
        "# Core dependencies in installation order\n",
        "core_packages = [\n",
        "    \"pillow>=10.0.0\",\n",
        "    \"opencv-python>=4.6.0\",\n",
        "    \"matplotlib>=3.5.0\",\n",
        "    \"pandas>=2.0.0\",\n",
        "    \"seaborn>=0.12.0\",\n",
        "    \"pyyaml>=6.0\",\n",
        "    \"tqdm>=4.64.0\",\n",
        "    \"shutil\"\n",
        "]\n",
        "\n",
        "# Install core packages\n",
        "for pkg in core_packages:\n",
        "    try:\n",
        "        module_name = pkg.split('>=')[0].replace('-', '_')\n",
        "        if module_name == 'opencv_python':\n",
        "            module_name = 'cv2'\n",
        "        importlib.import_module(module_name)\n",
        "        print(f\"✅ {pkg.split('>=')[0]} already installed\")\n",
        "    except ImportError:\n",
        "        print(f\"Installing {pkg}...\")\n",
        "        install_package(pkg)\n",
        "\n",
        "# Install Ultralytics\n",
        "try:\n",
        "    import ultralytics\n",
        "    print(\"✅ ultralytics already installed\")\n",
        "except ImportError:\n",
        "    print(\"Installing ultralytics>=8.0.0...\")\n",
        "    install_package(\"ultralytics>=8.0.0\")\n",
        "\n",
        "# Install Label Studio (optional - may fail, that's okay)\n",
        "label_studio_packages = [\n",
        "    \"label-studio>=1.0.0\",\n",
        "    \"label-studio-converter>=0.0.1\",\n",
        "]\n",
        "\n",
        "print(\"\\nInstalling Label Studio packages (optional)...\")\n",
        "for pkg in label_studio_packages:\n",
        "    try:\n",
        "        module_name = pkg.split('>=')[0].replace('-', '_')\n",
        "        importlib.import_module(module_name)\n",
        "        print(f\"✅ {pkg.split('>=')[0]} already installed\")\n",
        "    except ImportError:\n",
        "        try:\n",
        "            print(f\"Installing {pkg}...\")\n",
        "            install_package(pkg)\n",
        "        except subprocess.CalledProcessError:\n",
        "            print(f\"⚠️ Could not install {pkg} - continuing without it\")\n",
        "\n",
        "print(\"\\n🔍 Final verification...\")\n",
        "\n",
        "# Verify critical imports\n",
        "critical_imports = {\n",
        "    'numpy': 'numpy',\n",
        "    'cv2': 'opencv-python',\n",
        "    'PIL': 'pillow',\n",
        "    'matplotlib': 'matplotlib',\n",
        "    'pandas': 'pandas',\n",
        "    'yaml': 'pyyaml',\n",
        "    'ultralytics': 'ultralytics',\n",
        "    'shutil': 'shutil'\n",
        "}\n",
        "\n",
        "all_good = True\n",
        "for module, package in critical_imports.items():\n",
        "    try:\n",
        "        importlib.import_module(module)\n",
        "        print(f\"✅ {module}\")\n",
        "    except ImportError as e:\n",
        "        print(f\"❌ {module} failed: {e}\")\n",
        "        all_good = False\n",
        "\n",
        "if all_good:\n",
        "    print(\"\\n🎉 All dependencies installed and verified successfully!\")\n",
        "else:\n",
        "    print(\"\\n⚠️ Some packages failed - you may need to restart runtime and try again\")\n",
        "\n",
        "print(\"\\n💡 If you see 'numpy.dtype size changed' errors, restart the runtime and run this cell again.\")"
      ]
    },
    {
      "cell_type": "code",
      "execution_count": 9,
      "metadata": {
        "id": "ft4JRJwKMMN5",
        "outputId": "54b276b6-a753-4e83-adf1-8ed5ea6e0779",
        "colab": {
          "base_uri": "https://localhost:8080/"
        }
      },
      "outputs": [
        {
          "output_type": "stream",
          "name": "stdout",
          "text": [
            "Drive already mounted at /content/drive; to attempt to forcibly remount, call drive.mount(\"/content/drive\", force_remount=True).\n",
            "📁 raw_images: /content/drive/MyDrive/cv_garbage/raw_images\n",
            "📁 labeled_images: /content/drive/MyDrive/cv_garbage/labeled_images\n",
            "📁 yolo_dataset: /content/drive/MyDrive/cv_garbage/YOLO_Dataset\n",
            "📁 models: /content/drive/MyDrive/cv_garbage/models\n",
            "📁 results: /content/drive/MyDrive/cv_garbage/results\n"
          ]
        }
      ],
      "source": [
        "# 1.1 · Mount Google Drive (if in Colab)\n",
        "if is_colab():\n",
        "    from google.colab import drive\n",
        "    drive.mount('/content/drive', force_remount=False)\n",
        "    BASE_PATH = Path(\"/content/drive/MyDrive/cv_garbage\")\n",
        "else:\n",
        "    # For local environment, adjust this path\n",
        "    BASE_PATH = Path(\"./cv_garbage\")\n",
        "\n",
        "# Create directory structure\n",
        "DIRS = {\n",
        "    \"raw_images\": BASE_PATH / \"raw_images\",\n",
        "    \"labeled_images\": BASE_PATH / \"labeled_images\",\n",
        "    \"yolo_dataset\": BASE_PATH / \"YOLO_Dataset\",\n",
        "    \"models\": BASE_PATH / \"models\",\n",
        "    \"results\": BASE_PATH / \"results\"\n",
        "}\n",
        "\n",
        "for dir_name, dir_path in DIRS.items():\n",
        "    dir_path.mkdir(parents=True, exist_ok=True)\n",
        "    print(f\"📁 {dir_name}: {dir_path}\")"
      ]
    },
    {
      "cell_type": "markdown",
      "metadata": {
        "id": "HZh9gzikDUzx"
      },
      "source": [
        "---"
      ]
    },
    {
      "cell_type": "markdown",
      "metadata": {
        "id": "SkvPXxQ8DUzx"
      },
      "source": [
        "## **2. Data Annotation Pipeline**"
      ]
    },
    {
      "cell_type": "markdown",
      "metadata": {
        "id": "psFV2vAxDUzx"
      },
      "source": [
        "### **2.1 Check Existing Annotations**\n"
      ]
    },
    {
      "cell_type": "code",
      "execution_count": 10,
      "metadata": {
        "id": "s_Fsbci9DUzx",
        "outputId": "d3f3a576-b754-4c0a-fdbb-8d6b367d6222",
        "colab": {
          "base_uri": "https://localhost:8080/"
        }
      },
      "outputs": [
        {
          "output_type": "stream",
          "name": "stdout",
          "text": [
            "✅ images/train: 372 files\n",
            "✅ images/val: 94 files\n",
            "✅ labels/train: 372 files\n",
            "✅ labels/val: 94 files\n",
            "✅ Found data.yaml with 4 classes\n",
            "\n",
            "✅ YOLO dataset is ready!\n"
          ]
        }
      ],
      "source": [
        "# 2.1 · Check if YOLO annotations already exist\n",
        "import json\n",
        "import yaml\n",
        "from datetime import datetime\n",
        "\n",
        "def check_yolo_dataset():\n",
        "    \"\"\"Check if YOLO dataset structure exists and is valid\"\"\"\n",
        "    yolo_path = DIRS[\"yolo_dataset\"]\n",
        "    required_structure = {\n",
        "        \"images/train\": 0,\n",
        "        \"images/val\": 0,\n",
        "        \"labels/train\": 0,\n",
        "        \"labels/val\": 0,\n",
        "        \"data.yaml\": None\n",
        "    }\n",
        "\n",
        "    dataset_valid = True\n",
        "\n",
        "    for rel_path in required_structure.keys():\n",
        "        full_path = yolo_path / rel_path\n",
        "        if \"data.yaml\" in rel_path:\n",
        "            if not full_path.exists():\n",
        "                print(f\"❌ Missing: {rel_path}\")\n",
        "                dataset_valid = False\n",
        "            else:\n",
        "                with open(full_path, 'r') as f:\n",
        "                    data_config = yaml.safe_load(f)\n",
        "                print(f\"✅ Found data.yaml with {data_config.get('nc', 0)} classes\")\n",
        "        else:\n",
        "            if full_path.exists():\n",
        "                if full_path.is_dir():\n",
        "                    count = len(list(full_path.glob(\"*\")))\n",
        "                    required_structure[rel_path] = count\n",
        "                    print(f\"✅ {rel_path}: {count} files\")\n",
        "                    if count == 0:\n",
        "                        dataset_valid = False\n",
        "            else:\n",
        "                print(f\"❌ Missing: {rel_path}\")\n",
        "                dataset_valid = False\n",
        "\n",
        "    return dataset_valid, required_structure\n",
        "\n",
        "dataset_exists, dataset_info = check_yolo_dataset()\n",
        "print(f\"\\n{'✅ YOLO dataset is ready!' if dataset_exists else '⚠️  YOLO dataset needs to be created'}\")"
      ]
    },
    {
      "cell_type": "markdown",
      "metadata": {
        "id": "nUCJbVX1DUzy"
      },
      "source": [
        "### **2.2 Label Studio Setup (If Needed)**"
      ]
    },
    {
      "cell_type": "code",
      "execution_count": 11,
      "metadata": {
        "id": "q8UWp_L1DUzy"
      },
      "outputs": [],
      "source": [
        "# 2.2 · Setup Label Studio for bounding box annotation\n",
        "if not dataset_exists:\n",
        "    print(\"\\n🏷️  Setting up Label Studio for annotation...\")\n",
        "\n",
        "    # Create Label Studio config\n",
        "    label_config = \"\"\"\n",
        "    <View>\n",
        "      <Image name=\"image\" value=\"$image\"/>\n",
        "      <RectangleLabels name=\"label\" toName=\"image\">\n",
        "        <Label value=\"Biomüll\" background=\"#FF6B6B\"/>\n",
        "        <Label value=\"Glas\" background=\"#4ECDC4\"/>\n",
        "        <Label value=\"Papier\" background=\"#45B7D1\"/>\n",
        "        <Label value=\"Restmüll\" background=\"#96CEB4\"/>\n",
        "      </RectangleLabels>\n",
        "    </View>\n",
        "    \"\"\"\n",
        "\n",
        "    config_path = BASE_PATH / \"label_studio_config.xml\"\n",
        "    with open(config_path, 'w') as f:\n",
        "        f.write(label_config)\n",
        "\n",
        "    print(\"✅ Label Studio configuration created\")\n",
        "    print(\"\\n📋 Instructions for Label Studio:\")\n",
        "    print(\"1. Run: label-studio start\")\n",
        "    print(\"2. Create a new project\")\n",
        "    print(\"3. Import the configuration from:\", config_path)\n",
        "    print(\"4. Import images from:\", DIRS[\"labeled_images\"])\n",
        "    print(\"5. Annotate with bounding boxes\")\n",
        "    print(\"6. Export annotations as 'YOLO' format\")\n",
        "    print(\"7. Save to:\", DIRS[\"yolo_dataset\"])\n",
        "\n",
        "    # For automated setup (requires Label Studio SDK)\n",
        "    try:\n",
        "        from label_studio_sdk import Client\n",
        "\n",
        "        # Initialize Label Studio client\n",
        "        LABEL_STUDIO_URL = os.getenv('LABEL_STUDIO_URL', 'http://localhost:8080')\n",
        "        API_KEY = os.getenv('LABEL_STUDIO_API_KEY', '')\n",
        "\n",
        "        if API_KEY:\n",
        "            ls = Client(url=LABEL_STUDIO_URL, api_key=API_KEY)\n",
        "\n",
        "            # Create project\n",
        "            project = ls.start_project(\n",
        "                title=\"Deggendorf Waste Bins\",\n",
        "                label_config=label_config\n",
        "            )\n",
        "\n",
        "            # Import images\n",
        "            image_files = list(DIRS[\"labeled_images\"].glob(\"*.jpg\")) + \\\n",
        "                         list(DIRS[\"labeled_images\"].glob(\"*.png\"))\n",
        "\n",
        "            if image_files:\n",
        "                project.import_data([{\"image\": str(f)} for f in image_files])\n",
        "                print(f\"✅ Imported {len(image_files)} images to Label Studio\")\n",
        "                print(f\"🌐 Open Label Studio at: {LABEL_STUDIO_URL}\")\n",
        "            else:\n",
        "                print(\"⚠️  No images found in labeled_images directory\")\n",
        "        else:\n",
        "            print(\"\\n💡 Tip: Set LABEL_STUDIO_API_KEY environment variable for automated setup\")\n",
        "    except ImportError:\n",
        "        print(\"\\n💡 Install label-studio-sdk for automated project setup\")"
      ]
    },
    {
      "cell_type": "markdown",
      "metadata": {
        "id": "3lVF0923DUzy"
      },
      "source": [
        "### **2.3 Convert Label Studio to YOLO Format**"
      ]
    },
    {
      "cell_type": "code",
      "execution_count": 12,
      "metadata": {
        "id": "Xe3Ni08uDUzy"
      },
      "outputs": [],
      "source": [
        "# 2.3 · Convert Label Studio annotations to YOLO format\n",
        "def convert_ls_to_yolo(ls_export_path, output_path):\n",
        "    \"\"\"Convert Label Studio JSON export to YOLO format\"\"\"\n",
        "    import json\n",
        "    import shutil\n",
        "    from PIL import Image\n",
        "\n",
        "    # Load Label Studio export\n",
        "    with open(ls_export_path, 'r') as f:\n",
        "        ls_data = json.load(f)\n",
        "\n",
        "    # Class mapping\n",
        "    class_map = {\n",
        "        \"Biomüll\": 0,\n",
        "        \"Glas\": 1,\n",
        "        \"Papier\": 2,\n",
        "        \"Restmüll\": 3\n",
        "    }\n",
        "\n",
        "    # Prepare directories\n",
        "    for split in ['train', 'val']:\n",
        "        (output_path / 'images' / split).mkdir(parents=True, exist_ok=True)\n",
        "        (output_path / 'labels' / split).mkdir(parents=True, exist_ok=True)\n",
        "\n",
        "    # Process annotations\n",
        "    total_images = len(ls_data)\n",
        "    train_split = int(0.8 * total_images)\n",
        "\n",
        "    for idx, item in enumerate(ls_data):\n",
        "        # Determine split\n",
        "        split = 'train' if idx < train_split else 'val'\n",
        "\n",
        "        # Get image info\n",
        "        image_path = Path(item['data']['image'])\n",
        "        image_name = image_path.stem\n",
        "\n",
        "        # Copy image\n",
        "        output_image_path = output_path / 'images' / split / f\"{image_name}.jpg\"\n",
        "        if image_path.exists():\n",
        "            shutil.copy2(image_path, output_image_path)\n",
        "\n",
        "            # Get image dimensions\n",
        "            with Image.open(image_path) as img:\n",
        "                img_width, img_height = img.size\n",
        "        else:\n",
        "            print(f\"⚠️  Image not found: {image_path}\")\n",
        "            continue\n",
        "\n",
        "        # Process annotations\n",
        "        yolo_annotations = []\n",
        "\n",
        "        for annotation in item.get('annotations', []):\n",
        "            for result in annotation.get('result', []):\n",
        "                if result['type'] == 'rectanglelabels':\n",
        "                    # Get bounding box\n",
        "                    x = result['value']['x'] / 100.0\n",
        "                    y = result['value']['y'] / 100.0\n",
        "                    w = result['value']['width'] / 100.0\n",
        "                    h = result['value']['height'] / 100.0\n",
        "\n",
        "                    # Convert to YOLO format (center_x, center_y, width, height)\n",
        "                    center_x = x + w / 2\n",
        "                    center_y = y + h / 2\n",
        "\n",
        "                    # Get class\n",
        "                    label = result['value']['rectanglelabels'][0]\n",
        "                    class_id = class_map.get(label, -1)\n",
        "\n",
        "                    if class_id >= 0:\n",
        "                        yolo_annotations.append(f\"{class_id} {center_x} {center_y} {w} {h}\")\n",
        "\n",
        "        # Save annotations\n",
        "        if yolo_annotations:\n",
        "            label_path = output_path / 'labels' / split / f\"{image_name}.txt\"\n",
        "            with open(label_path, 'w') as f:\n",
        "                f.write('\\n'.join(yolo_annotations))\n",
        "\n",
        "    # Create data.yaml\n",
        "    data_yaml = {\n",
        "        'train': 'images/train',\n",
        "        'val': 'images/val',\n",
        "        'nc': len(class_map),\n",
        "        'names': {v: k for k, v in class_map.items()}\n",
        "    }\n",
        "\n",
        "    with open(output_path / 'data.yaml', 'w') as f:\n",
        "        yaml.dump(data_yaml, f, default_flow_style=False)\n",
        "\n",
        "    print(f\"✅ Converted {total_images} images to YOLO format\")\n",
        "    print(f\"   Train: {train_split}, Val: {total_images - train_split}\")\n",
        "\n",
        "# Check if Label Studio export exists\n",
        "ls_export_path = BASE_PATH / \"label_studio_export.json\"\n",
        "if ls_export_path.exists() and not dataset_exists:\n",
        "    print(\"\\n🔄 Converting Label Studio annotations to YOLO format...\")\n",
        "    convert_ls_to_yolo(ls_export_path, DIRS[\"yolo_dataset\"])\n",
        "    dataset_exists, dataset_info = check_yolo_dataset()"
      ]
    },
    {
      "cell_type": "markdown",
      "metadata": {
        "id": "UFp9dDBIDUzy"
      },
      "source": [
        "---"
      ]
    },
    {
      "cell_type": "markdown",
      "metadata": {
        "id": "G8FlUgWnDUzy"
      },
      "source": [
        "## **3. Model Training**"
      ]
    },
    {
      "cell_type": "markdown",
      "metadata": {
        "id": "SZXg4ZmbDUzy"
      },
      "source": [
        "### **3.1 Setup Training Configuration**\n"
      ]
    },
    {
      "cell_type": "code",
      "execution_count": 13,
      "metadata": {
        "id": "du_aGykPDUzy",
        "outputId": "f856cec9-6554-4a1d-dcec-3803a399f20b",
        "colab": {
          "base_uri": "https://localhost:8080/"
        }
      },
      "outputs": [
        {
          "output_type": "stream",
          "name": "stdout",
          "text": [
            "🔧 Training Configuration:\n",
            "   Device: 0\n",
            "   Batch size: 16\n",
            "   Epochs: 50\n",
            "   Model: yolov8s.pt\n"
          ]
        }
      ],
      "source": [
        "# 3.1 · Configure training parameters\n",
        "import torch\n",
        "from ultralytics import YOLO\n",
        "\n",
        "# Training configuration\n",
        "TRAIN_CONFIG = {\n",
        "    \"model\": \"yolov8s.pt\",  # Base model (n, s, m, l, x)\n",
        "    \"data\": str(DIRS[\"yolo_dataset\"] / \"data.yaml\"),\n",
        "    \"epochs\": 50,\n",
        "    \"imgsz\": 960,\n",
        "    \"batch\": 16 if torch.cuda.is_available() else 8,\n",
        "    \"patience\": 20,\n",
        "    \"save\": True,\n",
        "    \"device\": 0 if torch.cuda.is_available() else \"cpu\",\n",
        "    \"workers\": 8 if not is_colab() else 2,\n",
        "    \"project\": str(DIRS[\"models\"]),\n",
        "    \"name\": f\"waste_detector_{datetime.now().strftime('%Y%m%d_%H%M%S')}\",\n",
        "    \"exist_ok\": False,\n",
        "    \"pretrained\": True,\n",
        "    \"optimizer\": \"AdamW\",\n",
        "    \"lr0\": 0.001,\n",
        "    \"lrf\": 0.01,\n",
        "    \"momentum\": 0.937,\n",
        "    \"weight_decay\": 0.0005,\n",
        "    \"warmup_epochs\": 3.0,\n",
        "    \"warmup_momentum\": 0.8,\n",
        "    \"warmup_bias_lr\": 0.1,\n",
        "    \"box\": 7.5,\n",
        "    \"cls\": 0.5,\n",
        "    \"dfl\": 1.5,\n",
        "    \"hsv_h\": 0.015,\n",
        "    \"hsv_s\": 0.7,\n",
        "    \"hsv_v\": 0.4,\n",
        "    \"degrees\": 0.0,\n",
        "    \"translate\": 0.1,\n",
        "    \"scale\": 0.5,\n",
        "    \"shear\": 0.0,\n",
        "    \"perspective\": 0.0,\n",
        "    \"flipud\": 0.0,\n",
        "    \"fliplr\": 0.5,\n",
        "    \"mosaic\": 1.0,\n",
        "    \"mixup\": 0.0,\n",
        "    \"copy_paste\": 0.0,\n",
        "    \"auto_augment\": \"randaugment\",\n",
        "    \"erasing\": 0.0,\n",
        "    \"crop_fraction\": 1.0\n",
        "}\n",
        "\n",
        "print(\"🔧 Training Configuration:\")\n",
        "print(f\"   Device: {TRAIN_CONFIG['device']}\")\n",
        "print(f\"   Batch size: {TRAIN_CONFIG['batch']}\")\n",
        "print(f\"   Epochs: {TRAIN_CONFIG['epochs']}\")\n",
        "print(f\"   Model: {TRAIN_CONFIG['model']}\")"
      ]
    },
    {
      "cell_type": "markdown",
      "metadata": {
        "id": "fa2tij6LDUzy"
      },
      "source": [
        "### **3.2 Train the Model**\n"
      ]
    },
    {
      "cell_type": "code",
      "execution_count": null,
      "metadata": {
        "id": "W-W-dkvgDUzy",
        "outputId": "b82386f3-7605-42fb-d673-e9630178b408",
        "colab": {
          "base_uri": "https://localhost:8080/"
        }
      },
      "outputs": [
        {
          "output_type": "stream",
          "name": "stdout",
          "text": [
            "\n",
            "🚀 Starting model training...\n",
            "WARNING ⚠️ 'crop_fraction' is deprecated and will be removed in in the future.\n",
            "Ultralytics 8.3.159 🚀 Python-3.11.13 torch-2.6.0+cu124 CUDA:0 (Tesla T4, 15095MiB)\n",
            "\u001b[34m\u001b[1mengine/trainer: \u001b[0magnostic_nms=False, amp=True, augment=False, auto_augment=randaugment, batch=16, bgr=0.0, box=7.5, cache=False, cfg=None, classes=None, close_mosaic=10, cls=0.5, conf=None, copy_paste=0.0, copy_paste_mode=flip, cos_lr=False, cutmix=0.0, data=/content/drive/MyDrive/cv_garbage/YOLO_Dataset/data.yaml, degrees=0.0, deterministic=True, device=0, dfl=1.5, dnn=False, dropout=0.0, dynamic=False, embed=None, epochs=50, erasing=0.0, exist_ok=False, fliplr=0.5, flipud=0.0, format=torchscript, fraction=1.0, freeze=None, half=False, hsv_h=0.015, hsv_s=0.7, hsv_v=0.4, imgsz=960, int8=False, iou=0.7, keras=False, kobj=1.0, line_width=None, lr0=0.001, lrf=0.01, mask_ratio=4, max_det=300, mixup=0.0, mode=train, model=yolov8s.pt, momentum=0.937, mosaic=1.0, multi_scale=False, name=waste_detector_20250624_151654, nbs=64, nms=False, opset=None, optimize=False, optimizer=AdamW, overlap_mask=True, patience=20, perspective=0.0, plots=True, pose=12.0, pretrained=True, profile=False, project=/content/drive/MyDrive/cv_garbage/models, rect=False, resume=False, retina_masks=False, save=True, save_conf=False, save_crop=False, save_dir=/content/drive/MyDrive/cv_garbage/models/waste_detector_20250624_151654, save_frames=False, save_json=False, save_period=-1, save_txt=False, scale=0.5, seed=0, shear=0.0, show=False, show_boxes=True, show_conf=True, show_labels=True, simplify=True, single_cls=False, source=None, split=val, stream_buffer=False, task=detect, time=None, tracker=botsort.yaml, translate=0.1, val=True, verbose=True, vid_stride=1, visualize=False, warmup_bias_lr=0.1, warmup_epochs=3.0, warmup_momentum=0.8, weight_decay=0.0005, workers=2, workspace=None\n",
            "Overriding model.yaml nc=80 with nc=4\n",
            "\n",
            "                   from  n    params  module                                       arguments                     \n",
            "  0                  -1  1       928  ultralytics.nn.modules.conv.Conv             [3, 32, 3, 2]                 \n",
            "  1                  -1  1     18560  ultralytics.nn.modules.conv.Conv             [32, 64, 3, 2]                \n",
            "  2                  -1  1     29056  ultralytics.nn.modules.block.C2f             [64, 64, 1, True]             \n",
            "  3                  -1  1     73984  ultralytics.nn.modules.conv.Conv             [64, 128, 3, 2]               \n",
            "  4                  -1  2    197632  ultralytics.nn.modules.block.C2f             [128, 128, 2, True]           \n",
            "  5                  -1  1    295424  ultralytics.nn.modules.conv.Conv             [128, 256, 3, 2]              \n",
            "  6                  -1  2    788480  ultralytics.nn.modules.block.C2f             [256, 256, 2, True]           \n",
            "  7                  -1  1   1180672  ultralytics.nn.modules.conv.Conv             [256, 512, 3, 2]              \n",
            "  8                  -1  1   1838080  ultralytics.nn.modules.block.C2f             [512, 512, 1, True]           \n",
            "  9                  -1  1    656896  ultralytics.nn.modules.block.SPPF            [512, 512, 5]                 \n",
            " 10                  -1  1         0  torch.nn.modules.upsampling.Upsample         [None, 2, 'nearest']          \n",
            " 11             [-1, 6]  1         0  ultralytics.nn.modules.conv.Concat           [1]                           \n",
            " 12                  -1  1    591360  ultralytics.nn.modules.block.C2f             [768, 256, 1]                 \n",
            " 13                  -1  1         0  torch.nn.modules.upsampling.Upsample         [None, 2, 'nearest']          \n",
            " 14             [-1, 4]  1         0  ultralytics.nn.modules.conv.Concat           [1]                           \n",
            " 15                  -1  1    148224  ultralytics.nn.modules.block.C2f             [384, 128, 1]                 \n",
            " 16                  -1  1    147712  ultralytics.nn.modules.conv.Conv             [128, 128, 3, 2]              \n",
            " 17            [-1, 12]  1         0  ultralytics.nn.modules.conv.Concat           [1]                           \n",
            " 18                  -1  1    493056  ultralytics.nn.modules.block.C2f             [384, 256, 1]                 \n",
            " 19                  -1  1    590336  ultralytics.nn.modules.conv.Conv             [256, 256, 3, 2]              \n",
            " 20             [-1, 9]  1         0  ultralytics.nn.modules.conv.Concat           [1]                           \n",
            " 21                  -1  1   1969152  ultralytics.nn.modules.block.C2f             [768, 512, 1]                 \n",
            " 22        [15, 18, 21]  1   2117596  ultralytics.nn.modules.head.Detect           [4, [128, 256, 512]]          \n",
            "Model summary: 129 layers, 11,137,148 parameters, 11,137,132 gradients, 28.7 GFLOPs\n",
            "\n",
            "Transferred 349/355 items from pretrained weights\n",
            "Freezing layer 'model.22.dfl.conv.weight'\n",
            "\u001b[34m\u001b[1mAMP: \u001b[0mrunning Automatic Mixed Precision (AMP) checks...\n",
            "\u001b[34m\u001b[1mAMP: \u001b[0mchecks passed ✅\n",
            "\u001b[34m\u001b[1mtrain: \u001b[0mFast image access ✅ (ping: 6.1±12.6 ms, read: 158.5±90.4 MB/s, size: 2169.0 KB)\n"
          ]
        },
        {
          "output_type": "stream",
          "name": "stderr",
          "text": [
            "\u001b[34m\u001b[1mtrain: \u001b[0mScanning /content/drive/MyDrive/cv_garbage/YOLO_Dataset/labels/train.cache... 372 images, 0 backgrounds, 0 corrupt: 100%|██████████| 372/372 [00:00<?, ?it/s]"
          ]
        },
        {
          "output_type": "stream",
          "name": "stdout",
          "text": [
            "\u001b[34m\u001b[1malbumentations: \u001b[0mBlur(p=0.01, blur_limit=(3, 7)), MedianBlur(p=0.01, blur_limit=(3, 7)), ToGray(p=0.01, method='weighted_average', num_output_channels=3), CLAHE(p=0.01, clip_limit=(1.0, 4.0), tile_grid_size=(8, 8))\n"
          ]
        },
        {
          "output_type": "stream",
          "name": "stderr",
          "text": [
            "\n"
          ]
        },
        {
          "output_type": "stream",
          "name": "stdout",
          "text": [
            "\u001b[34m\u001b[1mval: \u001b[0mFast image access ✅ (ping: 6.1±5.4 ms, read: 123.2±32.8 MB/s, size: 2609.7 KB)\n"
          ]
        },
        {
          "output_type": "stream",
          "name": "stderr",
          "text": [
            "\u001b[34m\u001b[1mval: \u001b[0mScanning /content/drive/MyDrive/cv_garbage/YOLO_Dataset/labels/val.cache... 94 images, 0 backgrounds, 0 corrupt: 100%|██████████| 94/94 [00:00<?, ?it/s]\n"
          ]
        },
        {
          "output_type": "stream",
          "name": "stdout",
          "text": [
            "Plotting labels to /content/drive/MyDrive/cv_garbage/models/waste_detector_20250624_151654/labels.jpg... \n",
            "\u001b[34m\u001b[1moptimizer:\u001b[0m AdamW(lr=0.001, momentum=0.937) with parameter groups 57 weight(decay=0.0), 64 weight(decay=0.0005), 63 bias(decay=0.0)\n",
            "Image sizes 960 train, 960 val\n",
            "Using 2 dataloader workers\n",
            "Logging results to \u001b[1m/content/drive/MyDrive/cv_garbage/models/waste_detector_20250624_151654\u001b[0m\n",
            "Starting training for 50 epochs...\n",
            "\n",
            "      Epoch    GPU_mem   box_loss   cls_loss   dfl_loss  Instances       Size\n"
          ]
        },
        {
          "output_type": "stream",
          "name": "stderr",
          "text": [
            "       1/50      8.09G      1.571      3.873       2.21         11        960: 100%|██████████| 24/24 [00:44<00:00,  1.87s/it]\n",
            "                 Class     Images  Instances      Box(P          R      mAP50  mAP50-95): 100%|██████████| 3/3 [00:02<00:00,  1.13it/s]\n"
          ]
        },
        {
          "output_type": "stream",
          "name": "stdout",
          "text": [
            "                   all         94        105      0.166      0.425      0.209     0.0492\n",
            "\n",
            "      Epoch    GPU_mem   box_loss   cls_loss   dfl_loss  Instances       Size\n"
          ]
        },
        {
          "output_type": "stream",
          "name": "stderr",
          "text": [
            "       2/50      7.42G      1.123      1.307      1.802          9        960: 100%|██████████| 24/24 [00:35<00:00,  1.50s/it]\n",
            "                 Class     Images  Instances      Box(P          R      mAP50  mAP50-95): 100%|██████████| 3/3 [00:03<00:00,  1.08s/it]"
          ]
        },
        {
          "output_type": "stream",
          "name": "stdout",
          "text": [
            "                   all         94        105      0.341      0.815      0.602      0.249\n"
          ]
        },
        {
          "output_type": "stream",
          "name": "stderr",
          "text": [
            "\n"
          ]
        },
        {
          "output_type": "stream",
          "name": "stdout",
          "text": [
            "\n",
            "      Epoch    GPU_mem   box_loss   cls_loss   dfl_loss  Instances       Size\n"
          ]
        },
        {
          "output_type": "stream",
          "name": "stderr",
          "text": [
            "       3/50      7.41G      1.067      1.135      1.738         11        960: 100%|██████████| 24/24 [00:37<00:00,  1.56s/it]\n",
            "                 Class     Images  Instances      Box(P          R      mAP50  mAP50-95): 100%|██████████| 3/3 [00:03<00:00,  1.08s/it]"
          ]
        },
        {
          "output_type": "stream",
          "name": "stdout",
          "text": [
            "                   all         94        105      0.728      0.608      0.776      0.371\n"
          ]
        },
        {
          "output_type": "stream",
          "name": "stderr",
          "text": [
            "\n"
          ]
        },
        {
          "output_type": "stream",
          "name": "stdout",
          "text": [
            "\n",
            "      Epoch    GPU_mem   box_loss   cls_loss   dfl_loss  Instances       Size\n"
          ]
        },
        {
          "output_type": "stream",
          "name": "stderr",
          "text": [
            "       4/50      7.37G      1.025      1.051      1.707          9        960: 100%|██████████| 24/24 [00:39<00:00,  1.64s/it]\n",
            "                 Class     Images  Instances      Box(P          R      mAP50  mAP50-95): 100%|██████████| 3/3 [00:03<00:00,  1.17s/it]"
          ]
        },
        {
          "output_type": "stream",
          "name": "stdout",
          "text": [
            "                   all         94        105      0.612      0.572       0.64      0.284\n"
          ]
        },
        {
          "output_type": "stream",
          "name": "stderr",
          "text": [
            "\n"
          ]
        },
        {
          "output_type": "stream",
          "name": "stdout",
          "text": [
            "\n",
            "      Epoch    GPU_mem   box_loss   cls_loss   dfl_loss  Instances       Size\n"
          ]
        },
        {
          "output_type": "stream",
          "name": "stderr",
          "text": [
            "       5/50       7.4G     0.9758     0.9626      1.648          9        960: 100%|██████████| 24/24 [00:38<00:00,  1.61s/it]\n",
            "                 Class     Images  Instances      Box(P          R      mAP50  mAP50-95): 100%|██████████| 3/3 [00:03<00:00,  1.02s/it]"
          ]
        },
        {
          "output_type": "stream",
          "name": "stdout",
          "text": [
            "                   all         94        105      0.628      0.691      0.711      0.335\n"
          ]
        },
        {
          "output_type": "stream",
          "name": "stderr",
          "text": [
            "\n"
          ]
        },
        {
          "output_type": "stream",
          "name": "stdout",
          "text": [
            "\n",
            "      Epoch    GPU_mem   box_loss   cls_loss   dfl_loss  Instances       Size\n"
          ]
        },
        {
          "output_type": "stream",
          "name": "stderr",
          "text": [
            "       6/50      7.37G      1.004     0.9749      1.679         12        960: 100%|██████████| 24/24 [00:37<00:00,  1.55s/it]\n",
            "                 Class     Images  Instances      Box(P          R      mAP50  mAP50-95): 100%|██████████| 3/3 [00:03<00:00,  1.04s/it]"
          ]
        },
        {
          "output_type": "stream",
          "name": "stdout",
          "text": [
            "                   all         94        105      0.812      0.591      0.707      0.339\n"
          ]
        },
        {
          "output_type": "stream",
          "name": "stderr",
          "text": [
            "\n"
          ]
        },
        {
          "output_type": "stream",
          "name": "stdout",
          "text": [
            "\n",
            "      Epoch    GPU_mem   box_loss   cls_loss   dfl_loss  Instances       Size\n"
          ]
        },
        {
          "output_type": "stream",
          "name": "stderr",
          "text": [
            "       7/50       7.4G     0.9732     0.9874      1.634         13        960: 100%|██████████| 24/24 [00:36<00:00,  1.53s/it]\n",
            "                 Class     Images  Instances      Box(P          R      mAP50  mAP50-95): 100%|██████████| 3/3 [00:02<00:00,  1.04it/s]"
          ]
        },
        {
          "output_type": "stream",
          "name": "stdout",
          "text": [
            "                   all         94        105      0.758      0.716      0.748      0.336\n"
          ]
        },
        {
          "output_type": "stream",
          "name": "stderr",
          "text": [
            "\n"
          ]
        },
        {
          "output_type": "stream",
          "name": "stdout",
          "text": [
            "\n",
            "      Epoch    GPU_mem   box_loss   cls_loss   dfl_loss  Instances       Size\n"
          ]
        },
        {
          "output_type": "stream",
          "name": "stderr",
          "text": [
            "       8/50      7.38G      0.905     0.9489      1.606         11        960: 100%|██████████| 24/24 [00:37<00:00,  1.57s/it]\n",
            "                 Class     Images  Instances      Box(P          R      mAP50  mAP50-95): 100%|██████████| 3/3 [00:02<00:00,  1.07it/s]"
          ]
        },
        {
          "output_type": "stream",
          "name": "stdout",
          "text": [
            "                   all         94        105      0.692      0.795      0.784      0.443\n"
          ]
        },
        {
          "output_type": "stream",
          "name": "stderr",
          "text": [
            "\n"
          ]
        },
        {
          "output_type": "stream",
          "name": "stdout",
          "text": [
            "\n",
            "      Epoch    GPU_mem   box_loss   cls_loss   dfl_loss  Instances       Size\n"
          ]
        },
        {
          "output_type": "stream",
          "name": "stderr",
          "text": [
            "       9/50      7.38G     0.9388     0.8973      1.602         16        960: 100%|██████████| 24/24 [00:37<00:00,  1.55s/it]\n",
            "                 Class     Images  Instances      Box(P          R      mAP50  mAP50-95): 100%|██████████| 3/3 [00:02<00:00,  1.12it/s]"
          ]
        },
        {
          "output_type": "stream",
          "name": "stdout",
          "text": [
            "                   all         94        105      0.869      0.908      0.938      0.549\n"
          ]
        },
        {
          "output_type": "stream",
          "name": "stderr",
          "text": [
            "\n"
          ]
        },
        {
          "output_type": "stream",
          "name": "stdout",
          "text": [
            "\n",
            "      Epoch    GPU_mem   box_loss   cls_loss   dfl_loss  Instances       Size\n"
          ]
        },
        {
          "output_type": "stream",
          "name": "stderr",
          "text": [
            "      10/50      7.38G     0.9293      0.861      1.615          8        960: 100%|██████████| 24/24 [00:37<00:00,  1.56s/it]\n",
            "                 Class     Images  Instances      Box(P          R      mAP50  mAP50-95): 100%|██████████| 3/3 [00:02<00:00,  1.02it/s]"
          ]
        },
        {
          "output_type": "stream",
          "name": "stdout",
          "text": [
            "                   all         94        105      0.673      0.791      0.742      0.348\n"
          ]
        },
        {
          "output_type": "stream",
          "name": "stderr",
          "text": [
            "\n"
          ]
        },
        {
          "output_type": "stream",
          "name": "stdout",
          "text": [
            "\n",
            "      Epoch    GPU_mem   box_loss   cls_loss   dfl_loss  Instances       Size\n"
          ]
        },
        {
          "output_type": "stream",
          "name": "stderr",
          "text": [
            "      11/50      7.37G     0.9158     0.8981      1.596         14        960: 100%|██████████| 24/24 [00:36<00:00,  1.51s/it]\n",
            "                 Class     Images  Instances      Box(P          R      mAP50  mAP50-95): 100%|██████████| 3/3 [00:02<00:00,  1.24it/s]"
          ]
        },
        {
          "output_type": "stream",
          "name": "stdout",
          "text": [
            "                   all         94        105      0.835      0.893       0.93      0.585\n"
          ]
        },
        {
          "output_type": "stream",
          "name": "stderr",
          "text": [
            "\n"
          ]
        },
        {
          "output_type": "stream",
          "name": "stdout",
          "text": [
            "\n",
            "      Epoch    GPU_mem   box_loss   cls_loss   dfl_loss  Instances       Size\n"
          ]
        },
        {
          "output_type": "stream",
          "name": "stderr",
          "text": [
            "      12/50      7.38G     0.9458     0.8747      1.623          8        960: 100%|██████████| 24/24 [00:39<00:00,  1.63s/it]\n",
            "                 Class     Images  Instances      Box(P          R      mAP50  mAP50-95): 100%|██████████| 3/3 [00:02<00:00,  1.18it/s]"
          ]
        },
        {
          "output_type": "stream",
          "name": "stdout",
          "text": [
            "                   all         94        105      0.732      0.869      0.904      0.602\n"
          ]
        },
        {
          "output_type": "stream",
          "name": "stderr",
          "text": [
            "\n"
          ]
        },
        {
          "output_type": "stream",
          "name": "stdout",
          "text": [
            "\n",
            "      Epoch    GPU_mem   box_loss   cls_loss   dfl_loss  Instances       Size\n"
          ]
        },
        {
          "output_type": "stream",
          "name": "stderr",
          "text": [
            "      13/50      7.38G     0.8855     0.8052      1.567         11        960: 100%|██████████| 24/24 [00:37<00:00,  1.57s/it]\n",
            "                 Class     Images  Instances      Box(P          R      mAP50  mAP50-95): 100%|██████████| 3/3 [00:02<00:00,  1.13it/s]"
          ]
        },
        {
          "output_type": "stream",
          "name": "stdout",
          "text": [
            "                   all         94        105      0.796      0.865      0.921      0.583\n"
          ]
        },
        {
          "output_type": "stream",
          "name": "stderr",
          "text": [
            "\n"
          ]
        },
        {
          "output_type": "stream",
          "name": "stdout",
          "text": [
            "\n",
            "      Epoch    GPU_mem   box_loss   cls_loss   dfl_loss  Instances       Size\n"
          ]
        },
        {
          "output_type": "stream",
          "name": "stderr",
          "text": [
            "      14/50      7.38G      0.889     0.7855      1.579          8        960: 100%|██████████| 24/24 [00:36<00:00,  1.52s/it]\n",
            "                 Class     Images  Instances      Box(P          R      mAP50  mAP50-95): 100%|██████████| 3/3 [00:02<00:00,  1.22it/s]"
          ]
        },
        {
          "output_type": "stream",
          "name": "stdout",
          "text": [
            "                   all         94        105      0.908      0.921      0.971      0.659\n"
          ]
        },
        {
          "output_type": "stream",
          "name": "stderr",
          "text": [
            "\n"
          ]
        },
        {
          "output_type": "stream",
          "name": "stdout",
          "text": [
            "\n",
            "      Epoch    GPU_mem   box_loss   cls_loss   dfl_loss  Instances       Size\n"
          ]
        },
        {
          "output_type": "stream",
          "name": "stderr",
          "text": [
            "      15/50      7.38G     0.8737     0.8017      1.555         11        960: 100%|██████████| 24/24 [00:38<00:00,  1.61s/it]\n",
            "                 Class     Images  Instances      Box(P          R      mAP50  mAP50-95): 100%|██████████| 3/3 [00:02<00:00,  1.16it/s]"
          ]
        },
        {
          "output_type": "stream",
          "name": "stdout",
          "text": [
            "                   all         94        105      0.753      0.815      0.806      0.455\n"
          ]
        },
        {
          "output_type": "stream",
          "name": "stderr",
          "text": [
            "\n"
          ]
        },
        {
          "output_type": "stream",
          "name": "stdout",
          "text": [
            "\n",
            "      Epoch    GPU_mem   box_loss   cls_loss   dfl_loss  Instances       Size\n"
          ]
        },
        {
          "output_type": "stream",
          "name": "stderr",
          "text": [
            "      16/50      7.38G     0.8596     0.7713      1.526         13        960: 100%|██████████| 24/24 [00:36<00:00,  1.53s/it]\n",
            "                 Class     Images  Instances      Box(P          R      mAP50  mAP50-95): 100%|██████████| 3/3 [00:02<00:00,  1.32it/s]"
          ]
        },
        {
          "output_type": "stream",
          "name": "stdout",
          "text": [
            "                   all         94        105      0.898      0.897      0.966      0.637\n"
          ]
        },
        {
          "output_type": "stream",
          "name": "stderr",
          "text": [
            "\n"
          ]
        },
        {
          "output_type": "stream",
          "name": "stdout",
          "text": [
            "\n",
            "      Epoch    GPU_mem   box_loss   cls_loss   dfl_loss  Instances       Size\n"
          ]
        },
        {
          "output_type": "stream",
          "name": "stderr",
          "text": [
            "      17/50      7.38G     0.8359     0.7252      1.535          8        960: 100%|██████████| 24/24 [00:37<00:00,  1.56s/it]\n",
            "                 Class     Images  Instances      Box(P          R      mAP50  mAP50-95): 100%|██████████| 3/3 [00:02<00:00,  1.33it/s]"
          ]
        },
        {
          "output_type": "stream",
          "name": "stdout",
          "text": [
            "                   all         94        105      0.868        0.9      0.943      0.589\n"
          ]
        },
        {
          "output_type": "stream",
          "name": "stderr",
          "text": [
            "\n"
          ]
        },
        {
          "output_type": "stream",
          "name": "stdout",
          "text": [
            "\n",
            "      Epoch    GPU_mem   box_loss   cls_loss   dfl_loss  Instances       Size\n"
          ]
        },
        {
          "output_type": "stream",
          "name": "stderr",
          "text": [
            "      18/50      7.38G     0.8515     0.7373      1.514         12        960: 100%|██████████| 24/24 [00:38<00:00,  1.60s/it]\n",
            "                 Class     Images  Instances      Box(P          R      mAP50  mAP50-95): 100%|██████████| 3/3 [00:02<00:00,  1.29it/s]"
          ]
        },
        {
          "output_type": "stream",
          "name": "stdout",
          "text": [
            "                   all         94        105      0.918      0.858      0.957      0.652\n"
          ]
        },
        {
          "output_type": "stream",
          "name": "stderr",
          "text": [
            "\n"
          ]
        },
        {
          "output_type": "stream",
          "name": "stdout",
          "text": [
            "\n",
            "      Epoch    GPU_mem   box_loss   cls_loss   dfl_loss  Instances       Size\n"
          ]
        },
        {
          "output_type": "stream",
          "name": "stderr",
          "text": [
            "      19/50      7.38G     0.8221     0.7126      1.506         11        960: 100%|██████████| 24/24 [00:37<00:00,  1.57s/it]\n",
            "                 Class     Images  Instances      Box(P          R      mAP50  mAP50-95): 100%|██████████| 3/3 [00:02<00:00,  1.24it/s]"
          ]
        },
        {
          "output_type": "stream",
          "name": "stdout",
          "text": [
            "                   all         94        105      0.951      0.888      0.956      0.624\n"
          ]
        },
        {
          "output_type": "stream",
          "name": "stderr",
          "text": [
            "\n"
          ]
        },
        {
          "output_type": "stream",
          "name": "stdout",
          "text": [
            "\n",
            "      Epoch    GPU_mem   box_loss   cls_loss   dfl_loss  Instances       Size\n"
          ]
        },
        {
          "output_type": "stream",
          "name": "stderr",
          "text": [
            "      20/50      7.38G     0.8251     0.7129      1.508          8        960: 100%|██████████| 24/24 [00:36<00:00,  1.50s/it]\n",
            "                 Class     Images  Instances      Box(P          R      mAP50  mAP50-95): 100%|██████████| 3/3 [00:02<00:00,  1.26it/s]"
          ]
        },
        {
          "output_type": "stream",
          "name": "stdout",
          "text": [
            "                   all         94        105      0.827      0.945      0.962      0.653\n"
          ]
        },
        {
          "output_type": "stream",
          "name": "stderr",
          "text": [
            "\n"
          ]
        },
        {
          "output_type": "stream",
          "name": "stdout",
          "text": [
            "\n",
            "      Epoch    GPU_mem   box_loss   cls_loss   dfl_loss  Instances       Size\n"
          ]
        },
        {
          "output_type": "stream",
          "name": "stderr",
          "text": [
            "      21/50      7.37G     0.8163     0.7333      1.498         12        960: 100%|██████████| 24/24 [00:37<00:00,  1.56s/it]\n",
            "                 Class     Images  Instances      Box(P          R      mAP50  mAP50-95): 100%|██████████| 3/3 [00:02<00:00,  1.20it/s]"
          ]
        },
        {
          "output_type": "stream",
          "name": "stdout",
          "text": [
            "                   all         94        105      0.881      0.884      0.953      0.665\n"
          ]
        },
        {
          "output_type": "stream",
          "name": "stderr",
          "text": [
            "\n"
          ]
        },
        {
          "output_type": "stream",
          "name": "stdout",
          "text": [
            "\n",
            "      Epoch    GPU_mem   box_loss   cls_loss   dfl_loss  Instances       Size\n"
          ]
        },
        {
          "output_type": "stream",
          "name": "stderr",
          "text": [
            "      22/50      7.38G      0.797     0.7112      1.494         14        960: 100%|██████████| 24/24 [00:37<00:00,  1.58s/it]\n",
            "                 Class     Images  Instances      Box(P          R      mAP50  mAP50-95): 100%|██████████| 3/3 [00:02<00:00,  1.25it/s]"
          ]
        },
        {
          "output_type": "stream",
          "name": "stdout",
          "text": [
            "                   all         94        105      0.845      0.835      0.923      0.666\n"
          ]
        },
        {
          "output_type": "stream",
          "name": "stderr",
          "text": [
            "\n"
          ]
        },
        {
          "output_type": "stream",
          "name": "stdout",
          "text": [
            "\n",
            "      Epoch    GPU_mem   box_loss   cls_loss   dfl_loss  Instances       Size\n"
          ]
        },
        {
          "output_type": "stream",
          "name": "stderr",
          "text": [
            "      23/50      7.38G     0.7954     0.6864      1.482          6        960: 100%|██████████| 24/24 [00:36<00:00,  1.54s/it]\n",
            "                 Class     Images  Instances      Box(P          R      mAP50  mAP50-95): 100%|██████████| 3/3 [00:03<00:00,  1.07s/it]"
          ]
        },
        {
          "output_type": "stream",
          "name": "stdout",
          "text": [
            "                   all         94        105      0.934       0.92      0.976      0.706\n"
          ]
        },
        {
          "output_type": "stream",
          "name": "stderr",
          "text": [
            "\n"
          ]
        },
        {
          "output_type": "stream",
          "name": "stdout",
          "text": [
            "\n",
            "      Epoch    GPU_mem   box_loss   cls_loss   dfl_loss  Instances       Size\n"
          ]
        },
        {
          "output_type": "stream",
          "name": "stderr",
          "text": [
            "      24/50      7.38G     0.7416     0.6342       1.43         10        960: 100%|██████████| 24/24 [00:37<00:00,  1.56s/it]\n",
            "                 Class     Images  Instances      Box(P          R      mAP50  mAP50-95): 100%|██████████| 3/3 [00:02<00:00,  1.11it/s]"
          ]
        },
        {
          "output_type": "stream",
          "name": "stdout",
          "text": [
            "                   all         94        105      0.871      0.869      0.948      0.641\n"
          ]
        },
        {
          "output_type": "stream",
          "name": "stderr",
          "text": [
            "\n"
          ]
        },
        {
          "output_type": "stream",
          "name": "stdout",
          "text": [
            "\n",
            "      Epoch    GPU_mem   box_loss   cls_loss   dfl_loss  Instances       Size\n"
          ]
        },
        {
          "output_type": "stream",
          "name": "stderr",
          "text": [
            "      25/50      7.38G     0.7896     0.6573      1.506         12        960: 100%|██████████| 24/24 [00:36<00:00,  1.54s/it]\n",
            "                 Class     Images  Instances      Box(P          R      mAP50  mAP50-95): 100%|██████████| 3/3 [00:03<00:00,  1.12s/it]"
          ]
        },
        {
          "output_type": "stream",
          "name": "stdout",
          "text": [
            "                   all         94        105      0.886      0.862      0.934      0.578\n"
          ]
        },
        {
          "output_type": "stream",
          "name": "stderr",
          "text": [
            "\n"
          ]
        },
        {
          "output_type": "stream",
          "name": "stdout",
          "text": [
            "\n",
            "      Epoch    GPU_mem   box_loss   cls_loss   dfl_loss  Instances       Size\n"
          ]
        },
        {
          "output_type": "stream",
          "name": "stderr",
          "text": [
            "      26/50      7.38G      0.771     0.6297      1.463          8        960: 100%|██████████| 24/24 [00:38<00:00,  1.59s/it]\n",
            "                 Class     Images  Instances      Box(P          R      mAP50  mAP50-95): 100%|██████████| 3/3 [00:03<00:00,  1.01s/it]"
          ]
        },
        {
          "output_type": "stream",
          "name": "stdout",
          "text": [
            "                   all         94        105      0.909        0.9      0.958      0.663\n"
          ]
        },
        {
          "output_type": "stream",
          "name": "stderr",
          "text": [
            "\n"
          ]
        },
        {
          "output_type": "stream",
          "name": "stdout",
          "text": [
            "\n",
            "      Epoch    GPU_mem   box_loss   cls_loss   dfl_loss  Instances       Size\n"
          ]
        },
        {
          "output_type": "stream",
          "name": "stderr",
          "text": [
            "      27/50      7.38G     0.7426     0.6107      1.446         15        960: 100%|██████████| 24/24 [00:37<00:00,  1.55s/it]\n",
            "                 Class     Images  Instances      Box(P          R      mAP50  mAP50-95): 100%|██████████| 3/3 [00:02<00:00,  1.02it/s]"
          ]
        },
        {
          "output_type": "stream",
          "name": "stdout",
          "text": [
            "                   all         94        105      0.888      0.969       0.98      0.696\n"
          ]
        },
        {
          "output_type": "stream",
          "name": "stderr",
          "text": [
            "\n"
          ]
        },
        {
          "output_type": "stream",
          "name": "stdout",
          "text": [
            "\n",
            "      Epoch    GPU_mem   box_loss   cls_loss   dfl_loss  Instances       Size\n"
          ]
        },
        {
          "output_type": "stream",
          "name": "stderr",
          "text": [
            "      28/50      7.38G     0.7934     0.6247      1.461         12        960: 100%|██████████| 24/24 [00:38<00:00,  1.61s/it]\n",
            "                 Class     Images  Instances      Box(P          R      mAP50  mAP50-95): 100%|██████████| 3/3 [00:03<00:00,  1.05s/it]"
          ]
        },
        {
          "output_type": "stream",
          "name": "stdout",
          "text": [
            "                   all         94        105      0.968      0.874      0.977      0.708\n"
          ]
        },
        {
          "output_type": "stream",
          "name": "stderr",
          "text": [
            "\n"
          ]
        },
        {
          "output_type": "stream",
          "name": "stdout",
          "text": [
            "\n",
            "      Epoch    GPU_mem   box_loss   cls_loss   dfl_loss  Instances       Size\n"
          ]
        },
        {
          "output_type": "stream",
          "name": "stderr",
          "text": [
            "      29/50      7.38G     0.7394     0.6276      1.431         10        960: 100%|██████████| 24/24 [00:40<00:00,  1.70s/it]\n",
            "                 Class     Images  Instances      Box(P          R      mAP50  mAP50-95): 100%|██████████| 3/3 [00:02<00:00,  1.17it/s]"
          ]
        },
        {
          "output_type": "stream",
          "name": "stdout",
          "text": [
            "                   all         94        105      0.891      0.933      0.973      0.721\n"
          ]
        },
        {
          "output_type": "stream",
          "name": "stderr",
          "text": [
            "\n"
          ]
        },
        {
          "output_type": "stream",
          "name": "stdout",
          "text": [
            "\n",
            "      Epoch    GPU_mem   box_loss   cls_loss   dfl_loss  Instances       Size\n"
          ]
        },
        {
          "output_type": "stream",
          "name": "stderr",
          "text": [
            "      30/50      7.38G     0.7271     0.5951      1.444          8        960: 100%|██████████| 24/24 [00:40<00:00,  1.68s/it]\n",
            "                 Class     Images  Instances      Box(P          R      mAP50  mAP50-95): 100%|██████████| 3/3 [00:02<00:00,  1.24it/s]"
          ]
        },
        {
          "output_type": "stream",
          "name": "stdout",
          "text": [
            "                   all         94        105      0.928      0.959      0.982       0.73\n"
          ]
        },
        {
          "output_type": "stream",
          "name": "stderr",
          "text": [
            "\n"
          ]
        },
        {
          "output_type": "stream",
          "name": "stdout",
          "text": [
            "\n",
            "      Epoch    GPU_mem   box_loss   cls_loss   dfl_loss  Instances       Size\n"
          ]
        },
        {
          "output_type": "stream",
          "name": "stderr",
          "text": [
            "      31/50      7.38G     0.7088     0.5929      1.405          9        960: 100%|██████████| 24/24 [00:42<00:00,  1.75s/it]\n",
            "                 Class     Images  Instances      Box(P          R      mAP50  mAP50-95): 100%|██████████| 3/3 [00:02<00:00,  1.33it/s]"
          ]
        },
        {
          "output_type": "stream",
          "name": "stdout",
          "text": [
            "                   all         94        105      0.939      0.938      0.962      0.709\n"
          ]
        },
        {
          "output_type": "stream",
          "name": "stderr",
          "text": [
            "\n"
          ]
        },
        {
          "output_type": "stream",
          "name": "stdout",
          "text": [
            "\n",
            "      Epoch    GPU_mem   box_loss   cls_loss   dfl_loss  Instances       Size\n"
          ]
        },
        {
          "output_type": "stream",
          "name": "stderr",
          "text": [
            "      32/50      7.38G     0.7198     0.5909      1.403         14        960: 100%|██████████| 24/24 [00:38<00:00,  1.60s/it]\n",
            "                 Class     Images  Instances      Box(P          R      mAP50  mAP50-95): 100%|██████████| 3/3 [00:02<00:00,  1.37it/s]"
          ]
        },
        {
          "output_type": "stream",
          "name": "stdout",
          "text": [
            "                   all         94        105      0.882      0.908      0.959      0.706\n"
          ]
        },
        {
          "output_type": "stream",
          "name": "stderr",
          "text": [
            "\n"
          ]
        },
        {
          "output_type": "stream",
          "name": "stdout",
          "text": [
            "\n",
            "      Epoch    GPU_mem   box_loss   cls_loss   dfl_loss  Instances       Size\n"
          ]
        },
        {
          "output_type": "stream",
          "name": "stderr",
          "text": [
            "      33/50      7.38G     0.6553       0.63      1.349         37        960:  12%|█▎        | 3/24 [00:02<00:20,  1.05it/s]"
          ]
        }
      ],
      "source": [
        "# 3.2 · Train YOLO model\n",
        "import shutil\n",
        "\n",
        "if dataset_exists:\n",
        "    print(\"\\n🚀 Starting model training...\")\n",
        "\n",
        "    # Initialize model\n",
        "    model = YOLO(TRAIN_CONFIG[\"model\"])\n",
        "\n",
        "    # Train model\n",
        "    results = model.train(**TRAIN_CONFIG)\n",
        "\n",
        "    # Fix: Construct the save directory path manually from training config\n",
        "    # This is more robust than accessing internal trainer attributes\n",
        "    save_dir = Path(TRAIN_CONFIG[\"project\"]) / TRAIN_CONFIG[\"name\"]\n",
        "    best_model_path = save_dir / \"weights\" / \"best.pt\"\n",
        "\n",
        "    # Alternative fix: Access save_dir from the model's trainer\n",
        "    # best_model_path = Path(model.trainer.save_dir) / \"weights\" / \"best.pt\"\n",
        "\n",
        "    print(f\"\\n✅ Training completed!\")\n",
        "    print(f\"   Best model saved at: {best_model_path}\")\n",
        "\n",
        "    # Verify the file exists before copying\n",
        "    if best_model_path.exists():\n",
        "        # Copy best model to a fixed location\n",
        "        final_model_path = DIRS[\"models\"] / \"waste_detector_best.pt\"\n",
        "        shutil.copy2(best_model_path, final_model_path)\n",
        "        print(f\"   Copied to: {final_model_path}\")\n",
        "    else:\n",
        "        print(f\"   ⚠️ Warning: Best model file not found at {best_model_path}\")\n",
        "        # Try alternative path\n",
        "        last_model_path = save_dir / \"weights\" / \"last.pt\"\n",
        "        if last_model_path.exists():\n",
        "            final_model_path = DIRS[\"models\"] / \"waste_detector_last.pt\"\n",
        "            shutil.copy2(last_model_path, final_model_path)\n",
        "            print(f\"   Using last model instead: {final_model_path}\")\n",
        "\n",
        "    # Optional: Print training metrics\n",
        "    if hasattr(results, 'box'):\n",
        "        print(f\"\\n📊 Training Results:\")\n",
        "        print(f\"   mAP50: {results.box.map50:.3f}\")\n",
        "        print(f\"   mAP50-95: {results.box.map:.3f}\")\n",
        "        print(f\"   Precision: {results.box.mp:.3f}\")\n",
        "        print(f\"   Recall: {results.box.mr:.3f}\")\n",
        "else:\n",
        "    print(\"\\n⚠️  Cannot train model - YOLO dataset not found!\")\n",
        "    print(\"Please complete the annotation step first.\")"
      ]
    },
    {
      "cell_type": "markdown",
      "metadata": {
        "id": "duBK0oeuDUzy"
      },
      "source": [
        "## **4. Model Evaluation**\n"
      ]
    },
    {
      "cell_type": "markdown",
      "metadata": {
        "id": "bcbjplxmDUzz"
      },
      "source": [
        "### **4.1 Evaluate Model Performance**\n"
      ]
    },
    {
      "cell_type": "code",
      "execution_count": null,
      "metadata": {
        "id": "9p7zAvVXDUzz"
      },
      "outputs": [],
      "source": [
        "# 4.1 · Evaluate the trained model\n",
        "if dataset_exists and 'final_model_path' in locals():\n",
        "    print(\"\\n📊 Evaluating model performance...\")\n",
        "\n",
        "    # Load best model\n",
        "    model = YOLO(final_model_path)\n",
        "\n",
        "    # Run validation\n",
        "    metrics = model.val(\n",
        "        data=TRAIN_CONFIG[\"data\"],\n",
        "        imgsz=TRAIN_CONFIG[\"imgsz\"],\n",
        "        batch=TRAIN_CONFIG[\"batch\"],\n",
        "        conf=0.25,\n",
        "        iou=0.6,\n",
        "        device=TRAIN_CONFIG[\"device\"]\n",
        "    )\n",
        "\n",
        "    # Print metrics\n",
        "    print(\"\\n📈 Model Performance Metrics:\")\n",
        "    print(f\"   mAP50: {metrics.box.map50:.3f}\")\n",
        "    print(f\"   mAP50-95: {metrics.box.map:.3f}\")\n",
        "    print(f\"   Precision: {metrics.box.mp:.3f}\")\n",
        "    print(f\"   Recall: {metrics.box.mr:.3f}\")\n",
        "\n",
        "    # Class-wise performance\n",
        "    print(\"\\n📊 Per-Class Performance:\")\n",
        "    class_names = model.names\n",
        "    for i, class_name in class_names.items():\n",
        "        print(f\"   {class_name}:\")\n",
        "        print(f\"      AP50: {metrics.box.ap50[i]:.3f}\")\n",
        "        print(f\"      AP: {metrics.box.ap[i]:.3f}\")"
      ]
    },
    {
      "cell_type": "markdown",
      "metadata": {
        "id": "y7TSQ4iUDUzz"
      },
      "source": [
        "### **4.2 Visualize Results**\n"
      ]
    },
    {
      "cell_type": "code",
      "execution_count": null,
      "metadata": {
        "id": "mzrEDXMUDUzz"
      },
      "outputs": [],
      "source": [
        "# 4.2 · Visualize predictions on validation set\n",
        "import matplotlib.pyplot as plt\n",
        "import cv2\n",
        "import numpy as np\n",
        "from matplotlib.patches import Rectangle\n",
        "\n",
        "def visualize_predictions(model_path, data_yaml_path, num_samples=6):\n",
        "    \"\"\"Visualize model predictions on validation images\"\"\"\n",
        "\n",
        "    # Load model and data config\n",
        "    model = YOLO(model_path)\n",
        "    with open(data_yaml_path, 'r') as f:\n",
        "        data_config = yaml.safe_load(f)\n",
        "\n",
        "    # Get validation images\n",
        "    val_images_dir = Path(data_yaml_path).parent / data_config['val']\n",
        "    val_images = list(val_images_dir.glob(\"*.jpg\")) + list(val_images_dir.glob(\"*.png\"))\n",
        "\n",
        "    if not val_images:\n",
        "        print(\"No validation images found!\")\n",
        "        return\n",
        "\n",
        "    # Sample random images\n",
        "    sample_images = np.random.choice(val_images, min(num_samples, len(val_images)), replace=False)\n",
        "\n",
        "    # Create visualization\n",
        "    fig, axes = plt.subplots(2, 3, figsize=(15, 10))\n",
        "    axes = axes.flatten()\n",
        "\n",
        "    colors = {\n",
        "        0: '#FF6B6B',  # Biomüll - Red\n",
        "        1: '#4ECDC4',  # Glas - Turquoise\n",
        "        2: '#45B7D1',  # Papier - Blue\n",
        "        3: '#96CEB4'   # Restmüll - Green\n",
        "    }\n",
        "\n",
        "    for idx, (ax, img_path) in enumerate(zip(axes, sample_images)):\n",
        "        # Read image\n",
        "        img = cv2.imread(str(img_path))\n",
        "        img_rgb = cv2.cvtColor(img, cv2.COLOR_BGR2RGB)\n",
        "\n",
        "        # Run prediction\n",
        "        results = model.predict(img_path, conf=0.25, iou=0.45)\n",
        "\n",
        "        # Display image\n",
        "        ax.imshow(img_rgb)\n",
        "        ax.axis('off')\n",
        "\n",
        "        # Draw predictions\n",
        "        for r in results:\n",
        "            boxes = r.boxes\n",
        "            if boxes is not None:\n",
        "                for box in boxes:\n",
        "                    # Get box coordinates\n",
        "                    x1, y1, x2, y2 = box.xyxy[0].cpu().numpy()\n",
        "                    cls = int(box.cls[0])\n",
        "                    conf = float(box.conf[0])\n",
        "\n",
        "                    # Draw rectangle\n",
        "                    rect = Rectangle((x1, y1), x2-x1, y2-y1,\n",
        "                                   linewidth=2, edgecolor=colors.get(cls, 'white'),\n",
        "                                   facecolor='none')\n",
        "                    ax.add_patch(rect)\n",
        "\n",
        "                    # Add label\n",
        "                    label = f\"{model.names[cls]} {conf:.2f}\"\n",
        "                    ax.text(x1, y1-5, label, color=colors.get(cls, 'white'),\n",
        "                           fontsize=10, weight='bold',\n",
        "                           bbox=dict(boxstyle=\"round,pad=0.3\", facecolor='black', alpha=0.7))\n",
        "\n",
        "        ax.set_title(f\"Image {idx+1}\")\n",
        "\n",
        "    plt.suptitle(\"Model Predictions on Validation Set\", fontsize=16)\n",
        "    plt.tight_layout()\n",
        "\n",
        "    # Save figure\n",
        "    output_path = DIRS[\"results\"] / \"validation_predictions.png\"\n",
        "    plt.savefig(output_path, dpi=150, bbox_inches='tight')\n",
        "    plt.show()\n",
        "\n",
        "    print(f\"✅ Visualization saved to: {output_path}\")\n",
        "\n",
        "# Run visualization\n",
        "if 'final_model_path' in locals():\n",
        "    visualize_predictions(\n",
        "        final_model_path,\n",
        "        DIRS[\"yolo_dataset\"] / \"data.yaml\",\n",
        "        num_samples=6\n",
        "    )"
      ]
    },
    {
      "cell_type": "markdown",
      "metadata": {
        "id": "nvWyV5UlDUzz"
      },
      "source": [
        "---\n"
      ]
    },
    {
      "cell_type": "markdown",
      "metadata": {
        "id": "1XmvwH-wDUzz"
      },
      "source": [
        "## **5. Model Deployment**\n"
      ]
    },
    {
      "cell_type": "markdown",
      "metadata": {
        "id": "rypoixjNDUzz"
      },
      "source": [
        "### **5.1 Real-time Inference**\n"
      ]
    },
    {
      "cell_type": "code",
      "execution_count": null,
      "metadata": {
        "id": "3jW71Pg6DUzz"
      },
      "outputs": [],
      "source": [
        "# 5.1 · Real-time inference function\n",
        "def run_inference(model_path, source, conf_threshold=0.25, iou_threshold=0.45):\n",
        "    \"\"\"Run inference on image, video, or webcam\"\"\"\n",
        "\n",
        "    # Load model\n",
        "    model = YOLO(model_path)\n",
        "\n",
        "    # Define waste disposal rules\n",
        "    waste_rules = {\n",
        "        \"Biomüll\": [\n",
        "            \"Food scraps\", \"Vegetable peels\", \"Coffee grounds\",\n",
        "            \"Tea bags\", \"Eggshells\", \"Garden waste\"\n",
        "        ],\n",
        "        \"Glas\": [\n",
        "            \"Glass bottles\", \"Glass jars (empty and clean)\",\n",
        "            \"Window glass\", \"Drinking glasses\"\n",
        "        ],\n",
        "        \"Papier\": [\n",
        "            \"Newspapers\", \"Magazines\", \"Cardboard boxes\",\n",
        "            \"Paper bags\", \"Office paper\", \"Books\"\n",
        "        ],\n",
        "        \"Restmüll\": [\n",
        "            \"Cigarette butts\", \"Diapers\", \"Vacuum cleaner bags\",\n",
        "            \"Broken ceramics\", \"Used tissues\", \"Plastic wrap\"\n",
        "        ]\n",
        "    }\n",
        "\n",
        "    # Run inference\n",
        "    results = model.predict(\n",
        "        source=source,\n",
        "        conf=conf_threshold,\n",
        "        iou=iou_threshold,\n",
        "        save=True,\n",
        "        save_dir=DIRS[\"results\"],\n",
        "        save_txt=True,\n",
        "        save_conf=True,\n",
        "        stream=True if source == 0 else False  # Stream for webcam\n",
        "    )\n",
        "\n",
        "    # Process results\n",
        "    for r in results:\n",
        "        if r.boxes is not None:\n",
        "            for box in r.boxes:\n",
        "                cls = int(box.cls[0])\n",
        "                conf = float(box.conf[0])\n",
        "                bin_type = model.names[cls]\n",
        "\n",
        "                print(f\"\\n🗑️  Detected: {bin_type} (confidence: {conf:.2f})\")\n",
        "                print(f\"   Suitable waste: {', '.join(waste_rules[bin_type][:3])}...\")\n",
        "\n",
        "# Example usage\n",
        "if 'final_model_path' in locals():\n",
        "    # Test on a sample image\n",
        "    test_images = list((DIRS[\"yolo_dataset\"] / \"images\" / \"val\").glob(\"*.jpg\"))\n",
        "    if test_images:\n",
        "        print(\"\\n🔍 Running inference on sample image...\")\n",
        "        run_inference(final_model_path, str(test_images[0]))"
      ]
    },
    {
      "cell_type": "markdown",
      "metadata": {
        "id": "nPuv3E9gDUzz"
      },
      "source": [
        "### **5.2 Interactive Web Interface**\n"
      ]
    },
    {
      "cell_type": "code",
      "execution_count": null,
      "metadata": {
        "id": "NPxQzW17DUzz"
      },
      "outputs": [],
      "source": [
        "# 5.2 · Create interactive interface (for Colab)\n",
        "if is_colab():\n",
        "    import base64\n",
        "    from IPython.display import HTML, display\n",
        "    from google.colab import files\n",
        "\n",
        "    def create_web_interface(model_path):\n",
        "        \"\"\"Create a simple web interface for image upload and detection\"\"\"\n",
        "\n",
        "        html_content = '''\n",
        "        <div style=\"background-color: #f0f0f0; padding: 20px; border-radius: 10px;\">\n",
        "            <h3>🗑️ Deggendorf Waste Bin Detector</h3>\n",
        "            <p>Upload an image of a waste bin to identify its type and see disposal guidelines.</p>\n",
        "\n",
        "            <input type=\"file\" id=\"imageUpload\" accept=\"image/*\"\n",
        "                   style=\"margin: 10px 0; padding: 10px; border: 2px dashed #ccc; border-radius: 5px;\">\n",
        "\n",
        "            <div id=\"results\" style=\"margin-top: 20px;\"></div>\n",
        "        </div>\n",
        "\n",
        "        <script>\n",
        "        document.getElementById('imageUpload').addEventListener('change', function(e) {\n",
        "            const file = e.target.files[0];\n",
        "            if (file) {\n",
        "                const reader = new FileReader();\n",
        "                reader.onload = function(e) {\n",
        "                    // Here you would normally send to backend\n",
        "                    document.getElementById('results').innerHTML =\n",
        "                        '<p style=\"color: green;\">✅ Image uploaded! Processing...</p>' +\n",
        "                        '<img src=\"' + e.target.result + '\" style=\"max-width: 300px; margin-top: 10px;\">';\n",
        "                };\n",
        "                reader.readAsDataURL(file);\n",
        "            }\n",
        "        });\n",
        "        </script>\n",
        "        '''\n",
        "\n",
        "        display(HTML(html_content))\n",
        "        print(\"\\n💡 Note: For full functionality, deploy the model as a web service.\")\n",
        "\n",
        "    if 'final_model_path' in locals():\n",
        "        create_web_interface(final_model_path)"
      ]
    },
    {
      "cell_type": "markdown",
      "metadata": {
        "id": "LaiSWX51DUzz"
      },
      "source": []
    }
  ],
  "metadata": {
    "colab": {
      "provenance": [],
      "gpuType": "V28"
    },
    "kernelspec": {
      "display_name": "Python 3",
      "name": "python3"
    },
    "language_info": {
      "codemirror_mode": {
        "name": "ipython",
        "version": 3
      },
      "file_extension": ".py",
      "mimetype": "text/x-python",
      "name": "python",
      "nbconvert_exporter": "python",
      "pygments_lexer": "ipython3",
      "version": "3.10.18"
    },
    "accelerator": "TPU"
  },
  "nbformat": 4,
  "nbformat_minor": 0
}