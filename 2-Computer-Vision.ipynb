{
  "cells": [
    {
      "cell_type": "markdown",
      "metadata": {
        "id": "1O9BGeOMMMN3"
      },
      "source": [
        "## **Computer vision project: Deggendorf Waste Sorting Assistant**"
      ]
    },
    {
      "cell_type": "markdown",
      "metadata": {
        "id": "GnYmouOpMMN4"
      },
      "source": [
        "### **Overview**\n",
        "The Deggendorf Waste Sorting Assistant is a Computer Vision-based tool designed to help residents and international students correctly identify waste bins. The project leverages image classification to determine the category of a given waste bin based on its visual characteristics. Users can take a picture of an unlabeled bin, and the model will classify it while providing information on the appropriate waste materials for disposal.\n",
        "\n",
        "### **Project Goals**\n",
        "- Develop an image classification model capable of identifying waste bins in Deggendorf.\n",
        "- Provide users with clear guidance on proper waste disposal based on bin classification.\n",
        "- Document all processes in a Jupyter Notebook, covering dataset creation, model training, evaluation, and deployment.\n"
      ]
    },
    {
      "cell_type": "markdown",
      "metadata": {},
      "source": [
        "---"
      ]
    },
    {
      "cell_type": "markdown",
      "metadata": {},
      "source": [
        "## **1. Environment Setup & Dependencies**\n",
        "\n",
        "```bash\n",
        "# Using conda\n",
        "conda create -n waste-detection python=3.10\n",
        "conda activate waste-detection\n",
        "```"
      ]
    },
    {
      "cell_type": "code",
      "execution_count": 1,
      "metadata": {
        "id": "nFGm3NfSMMN4"
      },
      "outputs": [
        {
          "name": "stdout",
          "output_type": "stream",
          "text": [
            "📦 Installing dependencies...\n",
            "Installing opencv-python>=4.6.0...\n",
            "Installing pillow>=10.0.0...\n",
            "Installing pyyaml>=6.0...\n",
            "✅ All dependencies installed!\n"
          ]
        }
      ],
      "source": [
        "# 1.0 · Check environment and install dependencies\n",
        "import os\n",
        "import sys\n",
        "import subprocess\n",
        "import importlib\n",
        "from pathlib import Path\n",
        "\n",
        "def is_colab():\n",
        "    \"\"\"Check if running in Google Colab\"\"\"\n",
        "    try:\n",
        "        import google.colab\n",
        "        return True\n",
        "    except ImportError:\n",
        "        return False\n",
        "\n",
        "# Install required packages\n",
        "def install_package(package):\n",
        "    \"\"\"Install a package using pip\"\"\"\n",
        "    subprocess.check_call([sys.executable, \"-m\", \"pip\", \"install\", \"--quiet\", package])\n",
        "\n",
        "# Core dependencies\n",
        "packages = [\n",
        "    \"ultralytics>=8.0.0\",\n",
        "    \"label-studio>=1.0.0\",\n",
        "    \"label-studio-converter>=0.0.1\",\n",
        "    \"pandas>=2.0.0\",\n",
        "    \"numpy>=1.23.0\",\n",
        "    \"opencv-python>=4.6.0\",\n",
        "    \"pillow>=10.0.0\",\n",
        "    \"matplotlib>=3.5.0\",\n",
        "    \"seaborn>=0.12.0\",\n",
        "    \"tqdm>=4.64.0\",\n",
        "    \"pyyaml>=6.0\"\n",
        "]\n",
        "\n",
        "print(\"📦 Installing dependencies...\")\n",
        "for pkg in packages:\n",
        "    try:\n",
        "        module_name = pkg.split('>=')[0].replace('-', '_')\n",
        "        importlib.import_module(module_name)\n",
        "    except ImportError:\n",
        "        print(f\"Installing {pkg}...\")\n",
        "        install_package(pkg)\n",
        "\n",
        "print(\"✅ All dependencies installed!\")"
      ]
    },
    {
      "cell_type": "code",
      "execution_count": 2,
      "metadata": {
        "id": "ft4JRJwKMMN5"
      },
      "outputs": [
        {
          "name": "stdout",
          "output_type": "stream",
          "text": [
            "📁 raw_images: cv_garbage\\raw_images\n",
            "📁 labeled_images: cv_garbage\\labeled_images\n",
            "📁 yolo_dataset: cv_garbage\\YOLO_Dataset\n",
            "📁 models: cv_garbage\\models\n",
            "📁 results: cv_garbage\\results\n"
          ]
        }
      ],
      "source": [
        "# 1.1 · Mount Google Drive (if in Colab)\n",
        "if is_colab():\n",
        "    from google.colab import drive\n",
        "    drive.mount('/content/drive', force_remount=False)\n",
        "    BASE_PATH = Path(\"/content/drive/MyDrive/cv_garbage\")\n",
        "else:\n",
        "    # For local environment, adjust this path\n",
        "    BASE_PATH = Path(\"./cv_garbage\")\n",
        "    \n",
        "# Create directory structure\n",
        "DIRS = {\n",
        "    \"raw_images\": BASE_PATH / \"raw_images\",\n",
        "    \"labeled_images\": BASE_PATH / \"labeled_images\",\n",
        "    \"yolo_dataset\": BASE_PATH / \"YOLO_Dataset\",\n",
        "    \"models\": BASE_PATH / \"models\",\n",
        "    \"results\": BASE_PATH / \"results\"\n",
        "}\n",
        "\n",
        "for dir_name, dir_path in DIRS.items():\n",
        "    dir_path.mkdir(parents=True, exist_ok=True)\n",
        "    print(f\"📁 {dir_name}: {dir_path}\")"
      ]
    },
    {
      "cell_type": "markdown",
      "metadata": {},
      "source": [
        "---"
      ]
    },
    {
      "cell_type": "markdown",
      "metadata": {},
      "source": [
        "## **2. Data Annotation Pipeline**"
      ]
    },
    {
      "cell_type": "markdown",
      "metadata": {},
      "source": [
        "### **2.1 Check Existing Annotations**\n"
      ]
    },
    {
      "cell_type": "code",
      "execution_count": 3,
      "metadata": {},
      "outputs": [
        {
          "name": "stdout",
          "output_type": "stream",
          "text": [
            "✅ images/train: 372 files\n",
            "✅ images/val: 94 files\n",
            "✅ labels/train: 372 files\n",
            "✅ labels/val: 94 files\n",
            "✅ Found data.yaml with 4 classes\n",
            "\n",
            "✅ YOLO dataset is ready!\n"
          ]
        }
      ],
      "source": [
        "# 2.1 · Check if YOLO annotations already exist\n",
        "import json\n",
        "import yaml\n",
        "from datetime import datetime\n",
        "\n",
        "def check_yolo_dataset():\n",
        "    \"\"\"Check if YOLO dataset structure exists and is valid\"\"\"\n",
        "    yolo_path = DIRS[\"yolo_dataset\"]\n",
        "    required_structure = {\n",
        "        \"images/train\": 0,\n",
        "        \"images/val\": 0,\n",
        "        \"labels/train\": 0,\n",
        "        \"labels/val\": 0,\n",
        "        \"data.yaml\": None\n",
        "    }\n",
        "    \n",
        "    dataset_valid = True\n",
        "    \n",
        "    for rel_path in required_structure.keys():\n",
        "        full_path = yolo_path / rel_path\n",
        "        if \"data.yaml\" in rel_path:\n",
        "            if not full_path.exists():\n",
        "                print(f\"❌ Missing: {rel_path}\")\n",
        "                dataset_valid = False\n",
        "            else:\n",
        "                with open(full_path, 'r') as f:\n",
        "                    data_config = yaml.safe_load(f)\n",
        "                print(f\"✅ Found data.yaml with {data_config.get('nc', 0)} classes\")\n",
        "        else:\n",
        "            if full_path.exists():\n",
        "                if full_path.is_dir():\n",
        "                    count = len(list(full_path.glob(\"*\")))\n",
        "                    required_structure[rel_path] = count\n",
        "                    print(f\"✅ {rel_path}: {count} files\")\n",
        "                    if count == 0:\n",
        "                        dataset_valid = False\n",
        "            else:\n",
        "                print(f\"❌ Missing: {rel_path}\")\n",
        "                dataset_valid = False\n",
        "    \n",
        "    return dataset_valid, required_structure\n",
        "\n",
        "dataset_exists, dataset_info = check_yolo_dataset()\n",
        "print(f\"\\n{'✅ YOLO dataset is ready!' if dataset_exists else '⚠️  YOLO dataset needs to be created'}\")"
      ]
    },
    {
      "cell_type": "markdown",
      "metadata": {},
      "source": [
        "### **2.2 Label Studio Setup (If Needed)**"
      ]
    },
    {
      "cell_type": "code",
      "execution_count": 4,
      "metadata": {},
      "outputs": [],
      "source": [
        "# 2.2 · Setup Label Studio for bounding box annotation\n",
        "if not dataset_exists:\n",
        "    print(\"\\n🏷️  Setting up Label Studio for annotation...\")\n",
        "    \n",
        "    # Create Label Studio config\n",
        "    label_config = \"\"\"\n",
        "    <View>\n",
        "      <Image name=\"image\" value=\"$image\"/>\n",
        "      <RectangleLabels name=\"label\" toName=\"image\">\n",
        "        <Label value=\"Biomüll\" background=\"#FF6B6B\"/>\n",
        "        <Label value=\"Glas\" background=\"#4ECDC4\"/>\n",
        "        <Label value=\"Papier\" background=\"#45B7D1\"/>\n",
        "        <Label value=\"Restmüll\" background=\"#96CEB4\"/>\n",
        "      </RectangleLabels>\n",
        "    </View>\n",
        "    \"\"\"\n",
        "    \n",
        "    config_path = BASE_PATH / \"label_studio_config.xml\"\n",
        "    with open(config_path, 'w') as f:\n",
        "        f.write(label_config)\n",
        "    \n",
        "    print(\"✅ Label Studio configuration created\")\n",
        "    print(\"\\n📋 Instructions for Label Studio:\")\n",
        "    print(\"1. Run: label-studio start\")\n",
        "    print(\"2. Create a new project\")\n",
        "    print(\"3. Import the configuration from:\", config_path)\n",
        "    print(\"4. Import images from:\", DIRS[\"labeled_images\"])\n",
        "    print(\"5. Annotate with bounding boxes\")\n",
        "    print(\"6. Export annotations as 'YOLO' format\")\n",
        "    print(\"7. Save to:\", DIRS[\"yolo_dataset\"])\n",
        "    \n",
        "    # For automated setup (requires Label Studio SDK)\n",
        "    try:\n",
        "        from label_studio_sdk import Client\n",
        "        \n",
        "        # Initialize Label Studio client\n",
        "        LABEL_STUDIO_URL = os.getenv('LABEL_STUDIO_URL', 'http://localhost:8080')\n",
        "        API_KEY = os.getenv('LABEL_STUDIO_API_KEY', '')\n",
        "        \n",
        "        if API_KEY:\n",
        "            ls = Client(url=LABEL_STUDIO_URL, api_key=API_KEY)\n",
        "            \n",
        "            # Create project\n",
        "            project = ls.start_project(\n",
        "                title=\"Deggendorf Waste Bins\",\n",
        "                label_config=label_config\n",
        "            )\n",
        "            \n",
        "            # Import images\n",
        "            image_files = list(DIRS[\"labeled_images\"].glob(\"*.jpg\")) + \\\n",
        "                         list(DIRS[\"labeled_images\"].glob(\"*.png\"))\n",
        "            \n",
        "            if image_files:\n",
        "                project.import_data([{\"image\": str(f)} for f in image_files])\n",
        "                print(f\"✅ Imported {len(image_files)} images to Label Studio\")\n",
        "                print(f\"🌐 Open Label Studio at: {LABEL_STUDIO_URL}\")\n",
        "            else:\n",
        "                print(\"⚠️  No images found in labeled_images directory\")\n",
        "        else:\n",
        "            print(\"\\n💡 Tip: Set LABEL_STUDIO_API_KEY environment variable for automated setup\")\n",
        "    except ImportError:\n",
        "        print(\"\\n💡 Install label-studio-sdk for automated project setup\")"
      ]
    },
    {
      "cell_type": "markdown",
      "metadata": {},
      "source": [
        "### **2.3 Convert Label Studio to YOLO Format**"
      ]
    },
    {
      "cell_type": "code",
      "execution_count": 5,
      "metadata": {},
      "outputs": [],
      "source": [
        "# 2.3 · Convert Label Studio annotations to YOLO format\n",
        "def convert_ls_to_yolo(ls_export_path, output_path):\n",
        "    \"\"\"Convert Label Studio JSON export to YOLO format\"\"\"\n",
        "    import json\n",
        "    import shutil\n",
        "    from PIL import Image\n",
        "    \n",
        "    # Load Label Studio export\n",
        "    with open(ls_export_path, 'r') as f:\n",
        "        ls_data = json.load(f)\n",
        "    \n",
        "    # Class mapping\n",
        "    class_map = {\n",
        "        \"Biomüll\": 0,\n",
        "        \"Glas\": 1,\n",
        "        \"Papier\": 2,\n",
        "        \"Restmüll\": 3\n",
        "    }\n",
        "    \n",
        "    # Prepare directories\n",
        "    for split in ['train', 'val']:\n",
        "        (output_path / 'images' / split).mkdir(parents=True, exist_ok=True)\n",
        "        (output_path / 'labels' / split).mkdir(parents=True, exist_ok=True)\n",
        "    \n",
        "    # Process annotations\n",
        "    total_images = len(ls_data)\n",
        "    train_split = int(0.8 * total_images)\n",
        "    \n",
        "    for idx, item in enumerate(ls_data):\n",
        "        # Determine split\n",
        "        split = 'train' if idx < train_split else 'val'\n",
        "        \n",
        "        # Get image info\n",
        "        image_path = Path(item['data']['image'])\n",
        "        image_name = image_path.stem\n",
        "        \n",
        "        # Copy image\n",
        "        output_image_path = output_path / 'images' / split / f\"{image_name}.jpg\"\n",
        "        if image_path.exists():\n",
        "            shutil.copy2(image_path, output_image_path)\n",
        "            \n",
        "            # Get image dimensions\n",
        "            with Image.open(image_path) as img:\n",
        "                img_width, img_height = img.size\n",
        "        else:\n",
        "            print(f\"⚠️  Image not found: {image_path}\")\n",
        "            continue\n",
        "        \n",
        "        # Process annotations\n",
        "        yolo_annotations = []\n",
        "        \n",
        "        for annotation in item.get('annotations', []):\n",
        "            for result in annotation.get('result', []):\n",
        "                if result['type'] == 'rectanglelabels':\n",
        "                    # Get bounding box\n",
        "                    x = result['value']['x'] / 100.0\n",
        "                    y = result['value']['y'] / 100.0\n",
        "                    w = result['value']['width'] / 100.0\n",
        "                    h = result['value']['height'] / 100.0\n",
        "                    \n",
        "                    # Convert to YOLO format (center_x, center_y, width, height)\n",
        "                    center_x = x + w / 2\n",
        "                    center_y = y + h / 2\n",
        "                    \n",
        "                    # Get class\n",
        "                    label = result['value']['rectanglelabels'][0]\n",
        "                    class_id = class_map.get(label, -1)\n",
        "                    \n",
        "                    if class_id >= 0:\n",
        "                        yolo_annotations.append(f\"{class_id} {center_x} {center_y} {w} {h}\")\n",
        "        \n",
        "        # Save annotations\n",
        "        if yolo_annotations:\n",
        "            label_path = output_path / 'labels' / split / f\"{image_name}.txt\"\n",
        "            with open(label_path, 'w') as f:\n",
        "                f.write('\\n'.join(yolo_annotations))\n",
        "    \n",
        "    # Create data.yaml\n",
        "    data_yaml = {\n",
        "        'train': 'images/train',\n",
        "        'val': 'images/val',\n",
        "        'nc': len(class_map),\n",
        "        'names': {v: k for k, v in class_map.items()}\n",
        "    }\n",
        "    \n",
        "    with open(output_path / 'data.yaml', 'w') as f:\n",
        "        yaml.dump(data_yaml, f, default_flow_style=False)\n",
        "    \n",
        "    print(f\"✅ Converted {total_images} images to YOLO format\")\n",
        "    print(f\"   Train: {train_split}, Val: {total_images - train_split}\")\n",
        "\n",
        "# Check if Label Studio export exists\n",
        "ls_export_path = BASE_PATH / \"label_studio_export.json\"\n",
        "if ls_export_path.exists() and not dataset_exists:\n",
        "    print(\"\\n🔄 Converting Label Studio annotations to YOLO format...\")\n",
        "    convert_ls_to_yolo(ls_export_path, DIRS[\"yolo_dataset\"])\n",
        "    dataset_exists, dataset_info = check_yolo_dataset()"
      ]
    },
    {
      "cell_type": "markdown",
      "metadata": {},
      "source": [
        "---"
      ]
    },
    {
      "cell_type": "markdown",
      "metadata": {},
      "source": [
        "## **3. Model Training**"
      ]
    },
    {
      "cell_type": "markdown",
      "metadata": {},
      "source": [
        "### **3.1 Setup Training Configuration**\n"
      ]
    },
    {
      "cell_type": "code",
      "execution_count": null,
      "metadata": {},
      "outputs": [
        {
          "name": "stdout",
          "output_type": "stream",
          "text": [
            "🔧 Training Configuration:\n",
            "   Device: cpu\n",
            "   Batch size: 8\n",
            "   Epochs: 100\n",
            "   Model: yolov8s.pt\n"
          ]
        }
      ],
      "source": [
        "# 3.1 · Configure training parameters\n",
        "import torch\n",
        "from ultralytics import YOLO\n",
        "\n",
        "# Training configuration\n",
        "TRAIN_CONFIG = {\n",
        "    \"model\": \"yolov8s.pt\",  # Base model (n, s, m, l, x)\n",
        "    \"data\": str(DIRS[\"yolo_dataset\"] / \"data.yaml\"),\n",
        "    \"epochs\": 50,\n",
        "    \"imgsz\": 960,\n",
        "    \"batch\": 16 if torch.cuda.is_available() else 8,\n",
        "    \"patience\": 20,\n",
        "    \"save\": True,\n",
        "    \"device\": 0 if torch.cuda.is_available() else \"cpu\",\n",
        "    \"workers\": 8 if not is_colab() else 2,\n",
        "    \"project\": str(DIRS[\"models\"]),\n",
        "    \"name\": f\"waste_detector_{datetime.now().strftime('%Y%m%d_%H%M%S')}\",\n",
        "    \"exist_ok\": False,\n",
        "    \"pretrained\": True,\n",
        "    \"optimizer\": \"AdamW\",\n",
        "    \"lr0\": 0.001,\n",
        "    \"lrf\": 0.01,\n",
        "    \"momentum\": 0.937,\n",
        "    \"weight_decay\": 0.0005,\n",
        "    \"warmup_epochs\": 3.0,\n",
        "    \"warmup_momentum\": 0.8,\n",
        "    \"warmup_bias_lr\": 0.1,\n",
        "    \"box\": 7.5,\n",
        "    \"cls\": 0.5,\n",
        "    \"dfl\": 1.5,\n",
        "    \"hsv_h\": 0.015,\n",
        "    \"hsv_s\": 0.7,\n",
        "    \"hsv_v\": 0.4,\n",
        "    \"degrees\": 0.0,\n",
        "    \"translate\": 0.1,\n",
        "    \"scale\": 0.5,\n",
        "    \"shear\": 0.0,\n",
        "    \"perspective\": 0.0,\n",
        "    \"flipud\": 0.0,\n",
        "    \"fliplr\": 0.5,\n",
        "    \"mosaic\": 1.0,\n",
        "    \"mixup\": 0.0,\n",
        "    \"copy_paste\": 0.0,\n",
        "    \"auto_augment\": \"randaugment\",\n",
        "    \"erasing\": 0.0,\n",
        "    \"crop_fraction\": 1.0\n",
        "}\n",
        "\n",
        "print(\"🔧 Training Configuration:\")\n",
        "print(f\"   Device: {TRAIN_CONFIG['device']}\")\n",
        "print(f\"   Batch size: {TRAIN_CONFIG['batch']}\")\n",
        "print(f\"   Epochs: {TRAIN_CONFIG['epochs']}\")\n",
        "print(f\"   Model: {TRAIN_CONFIG['model']}\")"
      ]
    },
    {
      "cell_type": "markdown",
      "metadata": {},
      "source": [
        "### **3.2 Train the Model**\n"
      ]
    },
    {
      "cell_type": "code",
      "execution_count": 7,
      "metadata": {},
      "outputs": [
        {
          "name": "stdout",
          "output_type": "stream",
          "text": [
            "\n",
            "🚀 Starting model training...\n",
            "Downloading https://github.com/ultralytics/assets/releases/download/v8.3.0/yolov8s.pt to 'yolov8s.pt'...\n"
          ]
        },
        {
          "name": "stderr",
          "output_type": "stream",
          "text": [
            "100%|██████████| 21.5M/21.5M [00:03<00:00, 6.85MB/s]\n"
          ]
        },
        {
          "name": "stdout",
          "output_type": "stream",
          "text": [
            "WARNING 'crop_fraction' is deprecated and will be removed in in the future.\n",
            "Ultralytics 8.3.158  Python-3.10.18 torch-2.7.1+cpu CPU (Snapdragon X 12-core X1E80100 3.40 GHz)\n",
            "\u001b[34m\u001b[1mengine\\trainer: \u001b[0magnostic_nms=False, amp=True, augment=False, auto_augment=randaugment, batch=8, bgr=0.0, box=7.5, cache=False, cfg=None, classes=None, close_mosaic=10, cls=0.5, conf=None, copy_paste=0.0, copy_paste_mode=flip, cos_lr=False, cutmix=0.0, data=cv_garbage\\YOLO_Dataset\\data.yaml, degrees=0.0, deterministic=True, device=cpu, dfl=1.5, dnn=False, dropout=0.0, dynamic=False, embed=None, epochs=100, erasing=0.0, exist_ok=False, fliplr=0.5, flipud=0.0, format=torchscript, fraction=1.0, freeze=None, half=False, hsv_h=0.015, hsv_s=0.7, hsv_v=0.4, imgsz=640, int8=False, iou=0.7, keras=False, kobj=1.0, line_width=None, lr0=0.001, lrf=0.01, mask_ratio=4, max_det=300, mixup=0.0, mode=train, model=yolov8s.pt, momentum=0.937, mosaic=1.0, multi_scale=False, name=waste_detector_20250624_121621, nbs=64, nms=False, opset=None, optimize=False, optimizer=AdamW, overlap_mask=True, patience=20, perspective=0.0, plots=True, pose=12.0, pretrained=True, profile=False, project=cv_garbage\\models, rect=False, resume=False, retina_masks=False, save=True, save_conf=False, save_crop=False, save_dir=cv_garbage\\models\\waste_detector_20250624_121621, save_frames=False, save_json=False, save_period=-1, save_txt=False, scale=0.5, seed=0, shear=0.0, show=False, show_boxes=True, show_conf=True, show_labels=True, simplify=True, single_cls=False, source=None, split=val, stream_buffer=False, task=detect, time=None, tracker=botsort.yaml, translate=0.1, val=True, verbose=True, vid_stride=1, visualize=False, warmup_bias_lr=0.1, warmup_epochs=3.0, warmup_momentum=0.8, weight_decay=0.0005, workers=8, workspace=None\n",
            "Downloading https://ultralytics.com/assets/Arial.Unicode.ttf to 'C:\\Users\\rudae\\AppData\\Roaming\\Ultralytics\\Arial.Unicode.ttf'...\n"
          ]
        },
        {
          "name": "stderr",
          "output_type": "stream",
          "text": [
            "100%|██████████| 22.2M/22.2M [00:03<00:00, 6.77MB/s]"
          ]
        },
        {
          "name": "stdout",
          "output_type": "stream",
          "text": [
            "Overriding model.yaml nc=80 with nc=4\n",
            "\n",
            "                   from  n    params  module                                       arguments                     \n",
            "  0                  -1  1       928  ultralytics.nn.modules.conv.Conv             [3, 32, 3, 2]                 \n",
            "  1                  -1  1     18560  ultralytics.nn.modules.conv.Conv             [32, 64, 3, 2]                \n",
            "  2                  -1  1     29056  ultralytics.nn.modules.block.C2f             [64, 64, 1, True]             \n",
            "  3                  -1  1     73984  ultralytics.nn.modules.conv.Conv             [64, 128, 3, 2]               \n",
            "  4                  -1  2    197632  ultralytics.nn.modules.block.C2f             [128, 128, 2, True]           \n",
            "  5                  -1  1    295424  ultralytics.nn.modules.conv.Conv             [128, 256, 3, 2]              \n"
          ]
        },
        {
          "name": "stderr",
          "output_type": "stream",
          "text": [
            "\n"
          ]
        },
        {
          "name": "stdout",
          "output_type": "stream",
          "text": [
            "  6                  -1  2    788480  ultralytics.nn.modules.block.C2f             [256, 256, 2, True]           \n",
            "  7                  -1  1   1180672  ultralytics.nn.modules.conv.Conv             [256, 512, 3, 2]              \n",
            "  8                  -1  1   1838080  ultralytics.nn.modules.block.C2f             [512, 512, 1, True]           \n",
            "  9                  -1  1    656896  ultralytics.nn.modules.block.SPPF            [512, 512, 5]                 \n",
            " 10                  -1  1         0  torch.nn.modules.upsampling.Upsample         [None, 2, 'nearest']          \n",
            " 11             [-1, 6]  1         0  ultralytics.nn.modules.conv.Concat           [1]                           \n",
            " 12                  -1  1    591360  ultralytics.nn.modules.block.C2f             [768, 256, 1]                 \n",
            " 13                  -1  1         0  torch.nn.modules.upsampling.Upsample         [None, 2, 'nearest']          \n",
            " 14             [-1, 4]  1         0  ultralytics.nn.modules.conv.Concat           [1]                           \n",
            " 15                  -1  1    148224  ultralytics.nn.modules.block.C2f             [384, 128, 1]                 \n",
            " 16                  -1  1    147712  ultralytics.nn.modules.conv.Conv             [128, 128, 3, 2]              \n",
            " 17            [-1, 12]  1         0  ultralytics.nn.modules.conv.Concat           [1]                           \n",
            " 18                  -1  1    493056  ultralytics.nn.modules.block.C2f             [384, 256, 1]                 \n",
            " 19                  -1  1    590336  ultralytics.nn.modules.conv.Conv             [256, 256, 3, 2]              \n",
            " 20             [-1, 9]  1         0  ultralytics.nn.modules.conv.Concat           [1]                           \n",
            " 21                  -1  1   1969152  ultralytics.nn.modules.block.C2f             [768, 512, 1]                 \n",
            " 22        [15, 18, 21]  1   2117596  ultralytics.nn.modules.head.Detect           [4, [128, 256, 512]]          \n",
            "Model summary: 129 layers, 11,137,148 parameters, 11,137,132 gradients, 28.7 GFLOPs\n",
            "\n",
            "Transferred 349/355 items from pretrained weights\n",
            "Freezing layer 'model.22.dfl.conv.weight'\n",
            "\u001b[34m\u001b[1mtrain: \u001b[0mFast image access  (ping: 0.10.0 ms, read: 182.08.4 MB/s, size: 2169.0 KB)\n"
          ]
        },
        {
          "name": "stderr",
          "output_type": "stream",
          "text": [
            "\u001b[34m\u001b[1mtrain: \u001b[0mScanning C:\\Users\\rudae\\Documents\\UniUA\\Painfully-Trivial\\cv_garbage\\YOLO_Dataset\\labels\\train... 372 images, 0 backgrounds, 0 corrupt: 100%|██████████| 372/372 [00:00<00:00, 507.41it/s]"
          ]
        },
        {
          "name": "stdout",
          "output_type": "stream",
          "text": [
            "\u001b[34m\u001b[1mtrain: \u001b[0mNew cache created: C:\\Users\\rudae\\Documents\\UniUA\\Painfully-Trivial\\cv_garbage\\YOLO_Dataset\\labels\\train.cache\n"
          ]
        },
        {
          "name": "stderr",
          "output_type": "stream",
          "text": [
            "\n",
            "c:\\Users\\rudae\\miniconda3\\envs\\waste-detection\\lib\\site-packages\\torch\\utils\\data\\dataloader.py:665: UserWarning: 'pin_memory' argument is set as true but no accelerator is found, then device pinned memory won't be used.\n",
            "  warnings.warn(warn_msg)\n"
          ]
        },
        {
          "name": "stdout",
          "output_type": "stream",
          "text": [
            "\u001b[34m\u001b[1mval: \u001b[0mFast image access  (ping: 0.10.0 ms, read: 251.472.7 MB/s, size: 2609.7 KB)\n"
          ]
        },
        {
          "name": "stderr",
          "output_type": "stream",
          "text": [
            "\u001b[34m\u001b[1mval: \u001b[0mScanning C:\\Users\\rudae\\Documents\\UniUA\\Painfully-Trivial\\cv_garbage\\YOLO_Dataset\\labels\\val... 94 images, 0 backgrounds, 0 corrupt: 100%|██████████| 94/94 [00:00<00:00, 677.28it/s]"
          ]
        },
        {
          "name": "stdout",
          "output_type": "stream",
          "text": [
            "\u001b[34m\u001b[1mval: \u001b[0mNew cache created: C:\\Users\\rudae\\Documents\\UniUA\\Painfully-Trivial\\cv_garbage\\YOLO_Dataset\\labels\\val.cache\n"
          ]
        },
        {
          "name": "stderr",
          "output_type": "stream",
          "text": [
            "\n",
            "c:\\Users\\rudae\\miniconda3\\envs\\waste-detection\\lib\\site-packages\\torch\\utils\\data\\dataloader.py:665: UserWarning: 'pin_memory' argument is set as true but no accelerator is found, then device pinned memory won't be used.\n",
            "  warnings.warn(warn_msg)\n"
          ]
        },
        {
          "name": "stdout",
          "output_type": "stream",
          "text": [
            "Plotting labels to cv_garbage\\models\\waste_detector_20250624_121621\\labels.jpg... \n",
            "\u001b[34m\u001b[1moptimizer:\u001b[0m AdamW(lr=0.001, momentum=0.937) with parameter groups 57 weight(decay=0.0), 64 weight(decay=0.0005), 63 bias(decay=0.0)\n",
            "Image sizes 640 train, 640 val\n",
            "Using 0 dataloader workers\n",
            "Logging results to \u001b[1mcv_garbage\\models\\waste_detector_20250624_121621\u001b[0m\n",
            "Starting training for 100 epochs...\n",
            "\n",
            "      Epoch    GPU_mem   box_loss   cls_loss   dfl_loss  Instances       Size\n"
          ]
        },
        {
          "name": "stderr",
          "output_type": "stream",
          "text": [
            "      1/100         0G      1.162      4.206      1.809         22        640:   2%|▏         | 1/47 [00:10<08:18, 10.85s/it]"
          ]
        },
        {
          "name": "stdout",
          "output_type": "stream",
          "text": [
            "Downloading https://ultralytics.com/assets/Arial.ttf to 'C:\\Users\\rudae\\AppData\\Roaming\\Ultralytics\\Arial.ttf'...\n"
          ]
        },
        {
          "name": "stderr",
          "output_type": "stream",
          "text": [
            "100%|██████████| 755k/755k [00:00<00:00, 3.52MB/s]\n",
            "      1/100         0G      1.037      2.401       1.56         24        640:  28%|██▊       | 13/47 [02:05<05:29,  9.68s/it]\n"
          ]
        },
        {
          "ename": "KeyboardInterrupt",
          "evalue": "",
          "output_type": "error",
          "traceback": [
            "\u001b[1;31m---------------------------------------------------------------------------\u001b[0m",
            "\u001b[1;31mKeyboardInterrupt\u001b[0m                         Traceback (most recent call last)",
            "Cell \u001b[1;32mIn[7], line 9\u001b[0m\n\u001b[0;32m      6\u001b[0m model \u001b[38;5;241m=\u001b[39m YOLO(TRAIN_CONFIG[\u001b[38;5;124m\"\u001b[39m\u001b[38;5;124mmodel\u001b[39m\u001b[38;5;124m\"\u001b[39m])\n\u001b[0;32m      8\u001b[0m \u001b[38;5;66;03m# Train model\u001b[39;00m\n\u001b[1;32m----> 9\u001b[0m results \u001b[38;5;241m=\u001b[39m model\u001b[38;5;241m.\u001b[39mtrain(\u001b[38;5;241m*\u001b[39m\u001b[38;5;241m*\u001b[39mTRAIN_CONFIG)\n\u001b[0;32m     11\u001b[0m \u001b[38;5;66;03m# Save best model path\u001b[39;00m\n\u001b[0;32m     12\u001b[0m best_model_path \u001b[38;5;241m=\u001b[39m Path(results\u001b[38;5;241m.\u001b[39msave_dir) \u001b[38;5;241m/\u001b[39m \u001b[38;5;124m\"\u001b[39m\u001b[38;5;124mweights\u001b[39m\u001b[38;5;124m\"\u001b[39m \u001b[38;5;241m/\u001b[39m \u001b[38;5;124m\"\u001b[39m\u001b[38;5;124mbest.pt\u001b[39m\u001b[38;5;124m\"\u001b[39m\n",
            "File \u001b[1;32mc:\\Users\\rudae\\miniconda3\\envs\\waste-detection\\lib\\site-packages\\ultralytics\\engine\\model.py:797\u001b[0m, in \u001b[0;36mModel.train\u001b[1;34m(self, trainer, **kwargs)\u001b[0m\n\u001b[0;32m    794\u001b[0m     \u001b[38;5;28mself\u001b[39m\u001b[38;5;241m.\u001b[39mmodel \u001b[38;5;241m=\u001b[39m \u001b[38;5;28mself\u001b[39m\u001b[38;5;241m.\u001b[39mtrainer\u001b[38;5;241m.\u001b[39mmodel\n\u001b[0;32m    796\u001b[0m \u001b[38;5;28mself\u001b[39m\u001b[38;5;241m.\u001b[39mtrainer\u001b[38;5;241m.\u001b[39mhub_session \u001b[38;5;241m=\u001b[39m \u001b[38;5;28mself\u001b[39m\u001b[38;5;241m.\u001b[39msession  \u001b[38;5;66;03m# attach optional HUB session\u001b[39;00m\n\u001b[1;32m--> 797\u001b[0m \u001b[38;5;28;43mself\u001b[39;49m\u001b[38;5;241;43m.\u001b[39;49m\u001b[43mtrainer\u001b[49m\u001b[38;5;241;43m.\u001b[39;49m\u001b[43mtrain\u001b[49m\u001b[43m(\u001b[49m\u001b[43m)\u001b[49m\n\u001b[0;32m    798\u001b[0m \u001b[38;5;66;03m# Update model and cfg after training\u001b[39;00m\n\u001b[0;32m    799\u001b[0m \u001b[38;5;28;01mif\u001b[39;00m RANK \u001b[38;5;129;01min\u001b[39;00m {\u001b[38;5;241m-\u001b[39m\u001b[38;5;241m1\u001b[39m, \u001b[38;5;241m0\u001b[39m}:\n",
            "File \u001b[1;32mc:\\Users\\rudae\\miniconda3\\envs\\waste-detection\\lib\\site-packages\\ultralytics\\engine\\trainer.py:227\u001b[0m, in \u001b[0;36mBaseTrainer.train\u001b[1;34m(self)\u001b[0m\n\u001b[0;32m    224\u001b[0m         ddp_cleanup(\u001b[38;5;28mself\u001b[39m, \u001b[38;5;28mstr\u001b[39m(file))\n\u001b[0;32m    226\u001b[0m \u001b[38;5;28;01melse\u001b[39;00m:\n\u001b[1;32m--> 227\u001b[0m     \u001b[38;5;28;43mself\u001b[39;49m\u001b[38;5;241;43m.\u001b[39;49m\u001b[43m_do_train\u001b[49m\u001b[43m(\u001b[49m\u001b[43mworld_size\u001b[49m\u001b[43m)\u001b[49m\n",
            "File \u001b[1;32mc:\\Users\\rudae\\miniconda3\\envs\\waste-detection\\lib\\site-packages\\ultralytics\\engine\\trainer.py:415\u001b[0m, in \u001b[0;36mBaseTrainer._do_train\u001b[1;34m(self, world_size)\u001b[0m\n\u001b[0;32m    410\u001b[0m     \u001b[38;5;28mself\u001b[39m\u001b[38;5;241m.\u001b[39mtloss \u001b[38;5;241m=\u001b[39m (\n\u001b[0;32m    411\u001b[0m         (\u001b[38;5;28mself\u001b[39m\u001b[38;5;241m.\u001b[39mtloss \u001b[38;5;241m*\u001b[39m i \u001b[38;5;241m+\u001b[39m \u001b[38;5;28mself\u001b[39m\u001b[38;5;241m.\u001b[39mloss_items) \u001b[38;5;241m/\u001b[39m (i \u001b[38;5;241m+\u001b[39m \u001b[38;5;241m1\u001b[39m) \u001b[38;5;28;01mif\u001b[39;00m \u001b[38;5;28mself\u001b[39m\u001b[38;5;241m.\u001b[39mtloss \u001b[38;5;129;01mis\u001b[39;00m \u001b[38;5;129;01mnot\u001b[39;00m \u001b[38;5;28;01mNone\u001b[39;00m \u001b[38;5;28;01melse\u001b[39;00m \u001b[38;5;28mself\u001b[39m\u001b[38;5;241m.\u001b[39mloss_items\n\u001b[0;32m    412\u001b[0m     )\n\u001b[0;32m    414\u001b[0m \u001b[38;5;66;03m# Backward\u001b[39;00m\n\u001b[1;32m--> 415\u001b[0m \u001b[38;5;28;43mself\u001b[39;49m\u001b[38;5;241;43m.\u001b[39;49m\u001b[43mscaler\u001b[49m\u001b[38;5;241;43m.\u001b[39;49m\u001b[43mscale\u001b[49m\u001b[43m(\u001b[49m\u001b[38;5;28;43mself\u001b[39;49m\u001b[38;5;241;43m.\u001b[39;49m\u001b[43mloss\u001b[49m\u001b[43m)\u001b[49m\u001b[38;5;241;43m.\u001b[39;49m\u001b[43mbackward\u001b[49m\u001b[43m(\u001b[49m\u001b[43m)\u001b[49m\n\u001b[0;32m    417\u001b[0m \u001b[38;5;66;03m# Optimize - https://pytorch.org/docs/master/notes/amp_examples.html\u001b[39;00m\n\u001b[0;32m    418\u001b[0m \u001b[38;5;28;01mif\u001b[39;00m ni \u001b[38;5;241m-\u001b[39m last_opt_step \u001b[38;5;241m>\u001b[39m\u001b[38;5;241m=\u001b[39m \u001b[38;5;28mself\u001b[39m\u001b[38;5;241m.\u001b[39maccumulate:\n",
            "File \u001b[1;32mc:\\Users\\rudae\\miniconda3\\envs\\waste-detection\\lib\\site-packages\\torch\\_tensor.py:648\u001b[0m, in \u001b[0;36mTensor.backward\u001b[1;34m(self, gradient, retain_graph, create_graph, inputs)\u001b[0m\n\u001b[0;32m    638\u001b[0m \u001b[38;5;28;01mif\u001b[39;00m has_torch_function_unary(\u001b[38;5;28mself\u001b[39m):\n\u001b[0;32m    639\u001b[0m     \u001b[38;5;28;01mreturn\u001b[39;00m handle_torch_function(\n\u001b[0;32m    640\u001b[0m         Tensor\u001b[38;5;241m.\u001b[39mbackward,\n\u001b[0;32m    641\u001b[0m         (\u001b[38;5;28mself\u001b[39m,),\n\u001b[1;32m   (...)\u001b[0m\n\u001b[0;32m    646\u001b[0m         inputs\u001b[38;5;241m=\u001b[39minputs,\n\u001b[0;32m    647\u001b[0m     )\n\u001b[1;32m--> 648\u001b[0m \u001b[43mtorch\u001b[49m\u001b[38;5;241;43m.\u001b[39;49m\u001b[43mautograd\u001b[49m\u001b[38;5;241;43m.\u001b[39;49m\u001b[43mbackward\u001b[49m\u001b[43m(\u001b[49m\n\u001b[0;32m    649\u001b[0m \u001b[43m    \u001b[49m\u001b[38;5;28;43mself\u001b[39;49m\u001b[43m,\u001b[49m\u001b[43m \u001b[49m\u001b[43mgradient\u001b[49m\u001b[43m,\u001b[49m\u001b[43m \u001b[49m\u001b[43mretain_graph\u001b[49m\u001b[43m,\u001b[49m\u001b[43m \u001b[49m\u001b[43mcreate_graph\u001b[49m\u001b[43m,\u001b[49m\u001b[43m \u001b[49m\u001b[43minputs\u001b[49m\u001b[38;5;241;43m=\u001b[39;49m\u001b[43minputs\u001b[49m\n\u001b[0;32m    650\u001b[0m \u001b[43m\u001b[49m\u001b[43m)\u001b[49m\n",
            "File \u001b[1;32mc:\\Users\\rudae\\miniconda3\\envs\\waste-detection\\lib\\site-packages\\torch\\autograd\\__init__.py:353\u001b[0m, in \u001b[0;36mbackward\u001b[1;34m(tensors, grad_tensors, retain_graph, create_graph, grad_variables, inputs)\u001b[0m\n\u001b[0;32m    348\u001b[0m     retain_graph \u001b[38;5;241m=\u001b[39m create_graph\n\u001b[0;32m    350\u001b[0m \u001b[38;5;66;03m# The reason we repeat the same comment below is that\u001b[39;00m\n\u001b[0;32m    351\u001b[0m \u001b[38;5;66;03m# some Python versions print out the first line of a multi-line function\u001b[39;00m\n\u001b[0;32m    352\u001b[0m \u001b[38;5;66;03m# calls in the traceback and some print out the last line\u001b[39;00m\n\u001b[1;32m--> 353\u001b[0m \u001b[43m_engine_run_backward\u001b[49m\u001b[43m(\u001b[49m\n\u001b[0;32m    354\u001b[0m \u001b[43m    \u001b[49m\u001b[43mtensors\u001b[49m\u001b[43m,\u001b[49m\n\u001b[0;32m    355\u001b[0m \u001b[43m    \u001b[49m\u001b[43mgrad_tensors_\u001b[49m\u001b[43m,\u001b[49m\n\u001b[0;32m    356\u001b[0m \u001b[43m    \u001b[49m\u001b[43mretain_graph\u001b[49m\u001b[43m,\u001b[49m\n\u001b[0;32m    357\u001b[0m \u001b[43m    \u001b[49m\u001b[43mcreate_graph\u001b[49m\u001b[43m,\u001b[49m\n\u001b[0;32m    358\u001b[0m \u001b[43m    \u001b[49m\u001b[43minputs\u001b[49m\u001b[43m,\u001b[49m\n\u001b[0;32m    359\u001b[0m \u001b[43m    \u001b[49m\u001b[43mallow_unreachable\u001b[49m\u001b[38;5;241;43m=\u001b[39;49m\u001b[38;5;28;43;01mTrue\u001b[39;49;00m\u001b[43m,\u001b[49m\n\u001b[0;32m    360\u001b[0m \u001b[43m    \u001b[49m\u001b[43maccumulate_grad\u001b[49m\u001b[38;5;241;43m=\u001b[39;49m\u001b[38;5;28;43;01mTrue\u001b[39;49;00m\u001b[43m,\u001b[49m\n\u001b[0;32m    361\u001b[0m \u001b[43m\u001b[49m\u001b[43m)\u001b[49m\n",
            "File \u001b[1;32mc:\\Users\\rudae\\miniconda3\\envs\\waste-detection\\lib\\site-packages\\torch\\autograd\\graph.py:824\u001b[0m, in \u001b[0;36m_engine_run_backward\u001b[1;34m(t_outputs, *args, **kwargs)\u001b[0m\n\u001b[0;32m    822\u001b[0m     unregister_hooks \u001b[38;5;241m=\u001b[39m _register_logging_hooks_on_whole_graph(t_outputs)\n\u001b[0;32m    823\u001b[0m \u001b[38;5;28;01mtry\u001b[39;00m:\n\u001b[1;32m--> 824\u001b[0m     \u001b[38;5;28;01mreturn\u001b[39;00m Variable\u001b[38;5;241m.\u001b[39m_execution_engine\u001b[38;5;241m.\u001b[39mrun_backward(  \u001b[38;5;66;03m# Calls into the C++ engine to run the backward pass\u001b[39;00m\n\u001b[0;32m    825\u001b[0m         t_outputs, \u001b[38;5;241m*\u001b[39margs, \u001b[38;5;241m*\u001b[39m\u001b[38;5;241m*\u001b[39mkwargs\n\u001b[0;32m    826\u001b[0m     )  \u001b[38;5;66;03m# Calls into the C++ engine to run the backward pass\u001b[39;00m\n\u001b[0;32m    827\u001b[0m \u001b[38;5;28;01mfinally\u001b[39;00m:\n\u001b[0;32m    828\u001b[0m     \u001b[38;5;28;01mif\u001b[39;00m attach_logging_hooks:\n",
            "\u001b[1;31mKeyboardInterrupt\u001b[0m: "
          ]
        }
      ],
      "source": [
        "# 3.2 · Train YOLO model\n",
        "if dataset_exists:\n",
        "    print(\"\\n🚀 Starting model training...\")\n",
        "    \n",
        "    # Initialize model\n",
        "    model = YOLO(TRAIN_CONFIG[\"model\"])\n",
        "    \n",
        "    # Train model\n",
        "    results = model.train(**TRAIN_CONFIG)\n",
        "    \n",
        "    # Save best model path\n",
        "    best_model_path = Path(results.save_dir) / \"weights\" / \"best.pt\"\n",
        "    \n",
        "    print(f\"\\n✅ Training completed!\")\n",
        "    print(f\"   Best model saved at: {best_model_path}\")\n",
        "    \n",
        "    # Copy best model to a fixed location\n",
        "    final_model_path = DIRS[\"models\"] / \"waste_detector_best.pt\"\n",
        "    shutil.copy2(best_model_path, final_model_path)\n",
        "    print(f\"   Copied to: {final_model_path}\")\n",
        "else:\n",
        "    print(\"\\n⚠️  Cannot train model - YOLO dataset not found!\")\n",
        "    print(\"Please complete the annotation step first.\")"
      ]
    },
    {
      "cell_type": "markdown",
      "metadata": {},
      "source": [
        "## **4. Model Evaluation**\n"
      ]
    },
    {
      "cell_type": "markdown",
      "metadata": {},
      "source": [
        "### **4.1 Evaluate Model Performance**\n"
      ]
    },
    {
      "cell_type": "code",
      "execution_count": null,
      "metadata": {},
      "outputs": [],
      "source": [
        "# 4.1 · Evaluate the trained model\n",
        "if dataset_exists and 'final_model_path' in locals():\n",
        "    print(\"\\n📊 Evaluating model performance...\")\n",
        "    \n",
        "    # Load best model\n",
        "    model = YOLO(final_model_path)\n",
        "    \n",
        "    # Run validation\n",
        "    metrics = model.val(\n",
        "        data=TRAIN_CONFIG[\"data\"],\n",
        "        imgsz=TRAIN_CONFIG[\"imgsz\"],\n",
        "        batch=TRAIN_CONFIG[\"batch\"],\n",
        "        conf=0.25,\n",
        "        iou=0.6,\n",
        "        device=TRAIN_CONFIG[\"device\"]\n",
        "    )\n",
        "    \n",
        "    # Print metrics\n",
        "    print(\"\\n📈 Model Performance Metrics:\")\n",
        "    print(f\"   mAP50: {metrics.box.map50:.3f}\")\n",
        "    print(f\"   mAP50-95: {metrics.box.map:.3f}\")\n",
        "    print(f\"   Precision: {metrics.box.mp:.3f}\")\n",
        "    print(f\"   Recall: {metrics.box.mr:.3f}\")\n",
        "    \n",
        "    # Class-wise performance\n",
        "    print(\"\\n📊 Per-Class Performance:\")\n",
        "    class_names = model.names\n",
        "    for i, class_name in class_names.items():\n",
        "        print(f\"   {class_name}:\")\n",
        "        print(f\"      AP50: {metrics.box.ap50[i]:.3f}\")\n",
        "        print(f\"      AP: {metrics.box.ap[i]:.3f}\")"
      ]
    },
    {
      "cell_type": "markdown",
      "metadata": {},
      "source": [
        "### **4.2 Visualize Results**\n"
      ]
    },
    {
      "cell_type": "code",
      "execution_count": null,
      "metadata": {},
      "outputs": [],
      "source": [
        "# 4.2 · Visualize predictions on validation set\n",
        "import matplotlib.pyplot as plt\n",
        "import cv2\n",
        "import numpy as np\n",
        "from matplotlib.patches import Rectangle\n",
        "\n",
        "def visualize_predictions(model_path, data_yaml_path, num_samples=6):\n",
        "    \"\"\"Visualize model predictions on validation images\"\"\"\n",
        "    \n",
        "    # Load model and data config\n",
        "    model = YOLO(model_path)\n",
        "    with open(data_yaml_path, 'r') as f:\n",
        "        data_config = yaml.safe_load(f)\n",
        "    \n",
        "    # Get validation images\n",
        "    val_images_dir = Path(data_yaml_path).parent / data_config['val']\n",
        "    val_images = list(val_images_dir.glob(\"*.jpg\")) + list(val_images_dir.glob(\"*.png\"))\n",
        "    \n",
        "    if not val_images:\n",
        "        print(\"No validation images found!\")\n",
        "        return\n",
        "    \n",
        "    # Sample random images\n",
        "    sample_images = np.random.choice(val_images, min(num_samples, len(val_images)), replace=False)\n",
        "    \n",
        "    # Create visualization\n",
        "    fig, axes = plt.subplots(2, 3, figsize=(15, 10))\n",
        "    axes = axes.flatten()\n",
        "    \n",
        "    colors = {\n",
        "        0: '#FF6B6B',  # Biomüll - Red\n",
        "        1: '#4ECDC4',  # Glas - Turquoise\n",
        "        2: '#45B7D1',  # Papier - Blue\n",
        "        3: '#96CEB4'   # Restmüll - Green\n",
        "    }\n",
        "    \n",
        "    for idx, (ax, img_path) in enumerate(zip(axes, sample_images)):\n",
        "        # Read image\n",
        "        img = cv2.imread(str(img_path))\n",
        "        img_rgb = cv2.cvtColor(img, cv2.COLOR_BGR2RGB)\n",
        "        \n",
        "        # Run prediction\n",
        "        results = model.predict(img_path, conf=0.25, iou=0.45)\n",
        "        \n",
        "        # Display image\n",
        "        ax.imshow(img_rgb)\n",
        "        ax.axis('off')\n",
        "        \n",
        "        # Draw predictions\n",
        "        for r in results:\n",
        "            boxes = r.boxes\n",
        "            if boxes is not None:\n",
        "                for box in boxes:\n",
        "                    # Get box coordinates\n",
        "                    x1, y1, x2, y2 = box.xyxy[0].cpu().numpy()\n",
        "                    cls = int(box.cls[0])\n",
        "                    conf = float(box.conf[0])\n",
        "                    \n",
        "                    # Draw rectangle\n",
        "                    rect = Rectangle((x1, y1), x2-x1, y2-y1,\n",
        "                                   linewidth=2, edgecolor=colors.get(cls, 'white'),\n",
        "                                   facecolor='none')\n",
        "                    ax.add_patch(rect)\n",
        "                    \n",
        "                    # Add label\n",
        "                    label = f\"{model.names[cls]} {conf:.2f}\"\n",
        "                    ax.text(x1, y1-5, label, color=colors.get(cls, 'white'),\n",
        "                           fontsize=10, weight='bold',\n",
        "                           bbox=dict(boxstyle=\"round,pad=0.3\", facecolor='black', alpha=0.7))\n",
        "        \n",
        "        ax.set_title(f\"Image {idx+1}\")\n",
        "    \n",
        "    plt.suptitle(\"Model Predictions on Validation Set\", fontsize=16)\n",
        "    plt.tight_layout()\n",
        "    \n",
        "    # Save figure\n",
        "    output_path = DIRS[\"results\"] / \"validation_predictions.png\"\n",
        "    plt.savefig(output_path, dpi=150, bbox_inches='tight')\n",
        "    plt.show()\n",
        "    \n",
        "    print(f\"✅ Visualization saved to: {output_path}\")\n",
        "\n",
        "# Run visualization\n",
        "if 'final_model_path' in locals():\n",
        "    visualize_predictions(\n",
        "        final_model_path,\n",
        "        DIRS[\"yolo_dataset\"] / \"data.yaml\",\n",
        "        num_samples=6\n",
        "    )"
      ]
    },
    {
      "cell_type": "markdown",
      "metadata": {},
      "source": [
        "---\n"
      ]
    },
    {
      "cell_type": "markdown",
      "metadata": {},
      "source": [
        "## **5. Model Deployment**\n"
      ]
    },
    {
      "cell_type": "markdown",
      "metadata": {},
      "source": [
        "### **5.1 Real-time Inference**\n"
      ]
    },
    {
      "cell_type": "code",
      "execution_count": null,
      "metadata": {},
      "outputs": [],
      "source": [
        "# 5.1 · Real-time inference function\n",
        "def run_inference(model_path, source, conf_threshold=0.25, iou_threshold=0.45):\n",
        "    \"\"\"Run inference on image, video, or webcam\"\"\"\n",
        "    \n",
        "    # Load model\n",
        "    model = YOLO(model_path)\n",
        "    \n",
        "    # Define waste disposal rules\n",
        "    waste_rules = {\n",
        "        \"Biomüll\": [\n",
        "            \"Food scraps\", \"Vegetable peels\", \"Coffee grounds\",\n",
        "            \"Tea bags\", \"Eggshells\", \"Garden waste\"\n",
        "        ],\n",
        "        \"Glas\": [\n",
        "            \"Glass bottles\", \"Glass jars (empty and clean)\",\n",
        "            \"Window glass\", \"Drinking glasses\"\n",
        "        ],\n",
        "        \"Papier\": [\n",
        "            \"Newspapers\", \"Magazines\", \"Cardboard boxes\",\n",
        "            \"Paper bags\", \"Office paper\", \"Books\"\n",
        "        ],\n",
        "        \"Restmüll\": [\n",
        "            \"Cigarette butts\", \"Diapers\", \"Vacuum cleaner bags\",\n",
        "            \"Broken ceramics\", \"Used tissues\", \"Plastic wrap\"\n",
        "        ]\n",
        "    }\n",
        "    \n",
        "    # Run inference\n",
        "    results = model.predict(\n",
        "        source=source,\n",
        "        conf=conf_threshold,\n",
        "        iou=iou_threshold,\n",
        "        save=True,\n",
        "        save_dir=DIRS[\"results\"],\n",
        "        save_txt=True,\n",
        "        save_conf=True,\n",
        "        stream=True if source == 0 else False  # Stream for webcam\n",
        "    )\n",
        "    \n",
        "    # Process results\n",
        "    for r in results:\n",
        "        if r.boxes is not None:\n",
        "            for box in r.boxes:\n",
        "                cls = int(box.cls[0])\n",
        "                conf = float(box.conf[0])\n",
        "                bin_type = model.names[cls]\n",
        "                \n",
        "                print(f\"\\n🗑️  Detected: {bin_type} (confidence: {conf:.2f})\")\n",
        "                print(f\"   Suitable waste: {', '.join(waste_rules[bin_type][:3])}...\")\n",
        "\n",
        "# Example usage\n",
        "if 'final_model_path' in locals():\n",
        "    # Test on a sample image\n",
        "    test_images = list((DIRS[\"yolo_dataset\"] / \"images\" / \"val\").glob(\"*.jpg\"))\n",
        "    if test_images:\n",
        "        print(\"\\n🔍 Running inference on sample image...\")\n",
        "        run_inference(final_model_path, str(test_images[0]))"
      ]
    },
    {
      "cell_type": "markdown",
      "metadata": {},
      "source": [
        "### **5.2 Interactive Web Interface**\n"
      ]
    },
    {
      "cell_type": "code",
      "execution_count": null,
      "metadata": {},
      "outputs": [],
      "source": [
        "# 5.2 · Create interactive interface (for Colab)\n",
        "if is_colab():\n",
        "    import base64\n",
        "    from IPython.display import HTML, display\n",
        "    from google.colab import files\n",
        "    \n",
        "    def create_web_interface(model_path):\n",
        "        \"\"\"Create a simple web interface for image upload and detection\"\"\"\n",
        "        \n",
        "        html_content = '''\n",
        "        <div style=\"background-color: #f0f0f0; padding: 20px; border-radius: 10px;\">\n",
        "            <h3>🗑️ Deggendorf Waste Bin Detector</h3>\n",
        "            <p>Upload an image of a waste bin to identify its type and see disposal guidelines.</p>\n",
        "            \n",
        "            <input type=\"file\" id=\"imageUpload\" accept=\"image/*\" \n",
        "                   style=\"margin: 10px 0; padding: 10px; border: 2px dashed #ccc; border-radius: 5px;\">\n",
        "            \n",
        "            <div id=\"results\" style=\"margin-top: 20px;\"></div>\n",
        "        </div>\n",
        "        \n",
        "        <script>\n",
        "        document.getElementById('imageUpload').addEventListener('change', function(e) {\n",
        "            const file = e.target.files[0];\n",
        "            if (file) {\n",
        "                const reader = new FileReader();\n",
        "                reader.onload = function(e) {\n",
        "                    // Here you would normally send to backend\n",
        "                    document.getElementById('results').innerHTML = \n",
        "                        '<p style=\"color: green;\">✅ Image uploaded! Processing...</p>' +\n",
        "                        '<img src=\"' + e.target.result + '\" style=\"max-width: 300px; margin-top: 10px;\">';\n",
        "                };\n",
        "                reader.readAsDataURL(file);\n",
        "            }\n",
        "        });\n",
        "        </script>\n",
        "        '''\n",
        "        \n",
        "        display(HTML(html_content))\n",
        "        print(\"\\n💡 Note: For full functionality, deploy the model as a web service.\")\n",
        "    \n",
        "    if 'final_model_path' in locals():\n",
        "        create_web_interface(final_model_path)"
      ]
    },
    {
      "cell_type": "markdown",
      "metadata": {},
      "source": []
    }
  ],
  "metadata": {
    "colab": {
      "provenance": []
    },
    "kernelspec": {
      "display_name": "waste-detection",
      "language": "python",
      "name": "python3"
    },
    "language_info": {
      "codemirror_mode": {
        "name": "ipython",
        "version": 3
      },
      "file_extension": ".py",
      "mimetype": "text/x-python",
      "name": "python",
      "nbconvert_exporter": "python",
      "pygments_lexer": "ipython3",
      "version": "3.10.18"
    }
  },
  "nbformat": 4,
  "nbformat_minor": 0
}
