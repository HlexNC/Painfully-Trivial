{
  "cells": [
    {
      "cell_type": "markdown",
      "metadata": {
        "id": "1O9BGeOMMMN3"
      },
      "source": [
        "## **Computer vision project: Deggendorf Waste Sorting Assistant**"
      ]
    },
    {
      "cell_type": "markdown",
      "metadata": {
        "id": "GnYmouOpMMN4"
      },
      "source": [
        "### **Overview**\n",
        "The Deggendorf Waste Sorting Assistant is a Computer Vision-based tool designed to help residents and international students correctly identify waste bins. The project leverages image classification to determine the category of a given waste bin based on its visual characteristics. Users can take a picture of an unlabeled bin, and the model will classify it while providing information on the appropriate waste materials for disposal.\n",
        "\n",
        "### **Project Goals**\n",
        "- Develop an image classification model capable of identifying waste bins in Deggendorf.\n",
        "- Provide users with clear guidance on proper waste disposal based on bin classification.\n",
        "- Document all processes in a Jupyter Notebook, covering dataset creation, model training, evaluation, and deployment.\n"
      ]
    },
    {
      "cell_type": "markdown",
      "metadata": {
        "id": "4zK3DorFMMN4"
      },
      "source": [
        "### 1. Mount Google Drive & Interactive Labeling Utility\n",
        "\n",
        "This section sets up everything you need to label images **in-Colab**:\n",
        "\n",
        "1. Installs required packages  \n",
        "2. Mounts your Drive  \n",
        "3. Enables Colab’s custom widget manager for `ipywidgets`  \n",
        "4. Defines constants, logging, and a CSV to track labels  \n",
        "5. Provides an interactive widget UI to:\n",
        "   - Scan `/MyDrive/cv_garbage` for unlabeled images  \n",
        "   - Display one image at a time  \n",
        "   - Pick a label from a fixed list  \n",
        "   - Copy the image into `/MyDrive/cv_garbage/labled` with a standardized name  \n",
        "   - Record `original_filename`, `new_filename`, `label`, and `timestamp` in `labels.csv`  \n",
        "\n",
        "---"
      ]
    },
    {
      "cell_type": "code",
      "execution_count": null,
      "metadata": {
        "id": "nFGm3NfSMMN4"
      },
      "outputs": [],
      "source": [
        "# 1.0 · Install/upgrade exact versions once per runtime\n",
        "import importlib, subprocess, sys\n",
        "\n",
        "def _ensure(pkg: str) -> None:\n",
        "    \"\"\"Install *pkg* if missing (quiet).\"\"\"\n",
        "    module = pkg.split(\"==\")[0].split(\">=\")[0]\n",
        "    try:\n",
        "        importlib.import_module(module)\n",
        "    except ImportError:\n",
        "        subprocess.check_call([sys.executable, \"-m\", \"pip\", \"install\", \"--quiet\", pkg])\n",
        "\n",
        "for spec in (\n",
        "    \"ipywidgets>=8,<9\",     # Colab requires 8.x\n",
        "    \"pandas>=2.2,<3\",\n",
        "    \"pillow>=10,<11\",\n",
        "):\n",
        "    _ensure(spec)\n"
      ]
    },
    {
      "cell_type": "code",
      "execution_count": null,
      "metadata": {
        "id": "ft4JRJwKMMN5"
      },
      "outputs": [],
      "source": [
        "# 1.1 · Mount Drive & enable custom widgets\n",
        "from google.colab import drive, output\n",
        "drive.mount(\"/content/drive\", force_remount=False)\n",
        "output.enable_custom_widget_manager()\n"
      ]
    },
    {
      "cell_type": "code",
      "execution_count": null,
      "metadata": {
        "id": "UdfFo3pXMMN5"
      },
      "outputs": [],
      "source": [
        "# 1.2 · Imports, paths, logging\n",
        "from __future__ import annotations\n",
        "from pathlib import Path\n",
        "from datetime import datetime, timezone\n",
        "import shutil, logging, uuid, io, pandas as pd\n",
        "from PIL import Image as PILImage\n",
        "import ipywidgets as w\n",
        "from IPython.display import display\n",
        "\n",
        "# ── configuration ────────────────────────────────────────────────────\n",
        "BASE_DIR    = Path(\"/content/drive/MyDrive/cv_garbage\")\n",
        "LABELED_DIR = BASE_DIR / \"labeled\"\n",
        "CSV_PATH    = LABELED_DIR / \"labels.csv\"\n",
        "LABELS      = [\"Restmüll\", \"Biomüll\", \"Papier\", \"Gelber Sack\", \"Glas\"]\n",
        "\n",
        "LABELED_DIR.mkdir(parents=True, exist_ok=True)\n",
        "\n",
        "logging.basicConfig(\n",
        "    level=logging.INFO,\n",
        "    format=\"%(asctime)s %(levelname)s: %(message)s\",\n",
        "    force=True,\n",
        ")\n"
      ]
    },
    {
      "cell_type": "code",
      "execution_count": null,
      "metadata": {
        "id": "sLQRt75aMMN5"
      },
      "outputs": [],
      "source": [
        "# 1.3 · Labeler definition\n",
        "class ColabLabeler:\n",
        "    \"\"\"\n",
        "    Lightweight, widget-based image labeler for Google Colab.\n",
        "    ─────────────────────────────────────────────────────────\n",
        "    *   Renders fully inside the cell's output (no pop-ups)\n",
        "    *   Uses a single widgets.Image for fast updates\n",
        "    *   Writes CSV atomically to protect against Colab disconnects\n",
        "    *   Generates UUID-based target names to avoid clashes\n",
        "    \"\"\"\n",
        "\n",
        "    EXT = {\".jpg\", \".jpeg\", \".png\", \".bmp\", \".gif\", \".webp\"}\n",
        "\n",
        "    def __init__(\n",
        "        self,\n",
        "        src_dir: Path,\n",
        "        dst_dir: Path,\n",
        "        csv_path: Path,\n",
        "        labels: list[str],\n",
        "    ) -> None:\n",
        "        self.src_dir, self.dst_dir, self.csv_path = map(Path, (src_dir, dst_dir, csv_path))\n",
        "        self.labels     = labels\n",
        "        self._df        = self._load_or_init_csv()\n",
        "        self._images    = self._find_unlabeled()\n",
        "        self._idx       = 0\n",
        "\n",
        "        # widgets\n",
        "        self._w_img   = w.Image(layout=w.Layout(max_width=\"640px\", max_height=\"480px\",\n",
        "                                                border=\"1px solid #ccc\"))\n",
        "        self._w_lbl   = w.ToggleButtons(options=self.labels, description=\"Label:\")\n",
        "        self._w_next  = w.Button(description=\"Save & Next ▶️\", button_style=\"success\")\n",
        "        self._w_skip  = w.Button(description=\"Skip ⏭️\")\n",
        "        self._w_stat  = w.HTML()\n",
        "\n",
        "        self._w_next.on_click(self._on_save)\n",
        "        self._w_skip.on_click(self._on_skip)\n",
        "\n",
        "        self.ui = w.VBox([\n",
        "            self._w_img,\n",
        "            self._w_lbl,\n",
        "            w.HBox([self._w_next, self._w_skip]),\n",
        "            self._w_stat,\n",
        "        ])\n",
        "\n",
        "    # ── persistence ──────────────────────────────────────────────────\n",
        "    def _load_or_init_csv(self) -> pd.DataFrame:\n",
        "        if self.csv_path.exists():\n",
        "            logging.info(\"Loaded %s\", self.csv_path)\n",
        "            return pd.read_csv(self.csv_path)\n",
        "        logging.info(\"Creating %s\", self.csv_path)\n",
        "        return pd.DataFrame(columns=[\"original_filename\", \"new_filename\", \"label\", \"timestamp\"])\n",
        "\n",
        "    def _find_unlabeled(self) -> list[str]:\n",
        "        imgs = sorted(p.name for p in self.src_dir.iterdir() if p.suffix.lower() in self.EXT)\n",
        "        done = set(self._df[\"original_filename\"])\n",
        "        todo = [f for f in imgs if f not in done]\n",
        "        logging.info(\"Unlabeled images: %d\", len(todo))\n",
        "        return todo\n",
        "\n",
        "    def _write_row(self, orig: str, new: str, label: str) -> None:\n",
        "        ts  = datetime.now(timezone.utc).isoformat(timespec=\"seconds\")\n",
        "        row = pd.DataFrame([[orig, new, label, ts]], columns=self._df.columns)\n",
        "        self._df = pd.concat([self._df, row], ignore_index=True)\n",
        "\n",
        "        tmp = self.csv_path.with_suffix(\".tmp\")\n",
        "        self._df.to_csv(tmp, index=False)\n",
        "        tmp.replace(self.csv_path)\n",
        "\n",
        "    # ── UI helpers ────────────────────────────────────────────────────\n",
        "    def _flash(self, msg: str, level: str = \"info\") -> None:\n",
        "        color = dict(info=\"#333\", success=\"green\", warn=\"orange\", error=\"red\").get(level, \"#333\")\n",
        "        self._w_stat.value = f\"<span style='color:{color}'>{msg}</span>\"\n",
        "\n",
        "    def _render_current(self) -> None:\n",
        "        if self._idx >= len(self._images):\n",
        "            self._w_img.value = b\"\"\n",
        "            self._flash(\"🎉 All images processed.\", \"success\")\n",
        "            self._w_next.disabled = self._w_skip.disabled = True\n",
        "            return\n",
        "\n",
        "        fname = self._images[self._idx]\n",
        "        path  = self.src_dir / fname\n",
        "        try:\n",
        "            with PILImage.open(path) as im:\n",
        "                im.thumbnail((640, 480))\n",
        "                buf = io.BytesIO()\n",
        "                im.save(buf, format=\"PNG\")\n",
        "                self._w_img.value  = buf.getvalue()\n",
        "                self._w_img.format = \"png\"\n",
        "        except Exception as exc:\n",
        "            logging.exception(\"Failed to load %s\", path)\n",
        "            self._w_img.value = b\"\"\n",
        "            self._flash(f\"❌ Error loading {fname}: {exc}\", \"error\")\n",
        "            return\n",
        "\n",
        "        self._flash(f\"{self._idx + 1} / {len(self._images)} · {fname}\")\n",
        "\n",
        "    # ── callbacks ────────────────────────────────────────────────────\n",
        "    def _on_save(self, _btn) -> None:\n",
        "        orig  = self._images[self._idx]\n",
        "        label = self._w_lbl.value.replace(\" \", \"_\")\n",
        "        ext   = Path(orig).suffix\n",
        "        new   = f\"{label}_{uuid.uuid4().hex[:8]}{ext}\"\n",
        "\n",
        "        try:\n",
        "            shutil.copy2(self.src_dir / orig, self.dst_dir / new)\n",
        "            self._write_row(orig, new, label)\n",
        "            self._flash(f\"✔️ Saved {new}\", \"success\")\n",
        "        except Exception as exc:\n",
        "            logging.exception(\"Copy failed for %s\", orig)\n",
        "            self._flash(f\"❌ {exc}\", \"error\")\n",
        "            return\n",
        "\n",
        "        self._idx += 1\n",
        "        self._render_current()\n",
        "\n",
        "    def _on_skip(self, _btn) -> None:\n",
        "        self._idx += 1\n",
        "        self._flash(\"⏭️ Skipped.\", \"warn\")\n",
        "        self._render_current()\n",
        "\n",
        "    # ── public ────────────────────────────────────────────────────────\n",
        "    def start(self) -> None:\n",
        "        if not self._images:\n",
        "            self._flash(f\"Nothing to label in {self.src_dir}.\", \"warn\")\n",
        "        else:\n",
        "            self._render_current()\n",
        "        display(self.ui)"
      ]
    },
    {
      "cell_type": "code",
      "execution_count": null,
      "metadata": {
        "id": "abjMJnFxMMN5"
      },
      "outputs": [],
      "source": [
        "# 1.4 · Launch\n",
        "labeler = ColabLabeler(\n",
        "    src_dir=BASE_DIR,\n",
        "    dst_dir=LABELED_DIR,\n",
        "    csv_path=CSV_PATH,\n",
        "    labels=LABELS,\n",
        ")\n",
        "labeler.start()"
      ]
    },
    {
      "cell_type": "markdown",
      "metadata": {
        "id": "iRK3jSQ0MMN5"
      },
      "source": [
        "### 2. Import Required Libraries for the Rest of the Project"
      ]
    },
    {
      "cell_type": "code",
      "execution_count": null,
      "metadata": {
        "id": "p-iLWds-MMN6"
      },
      "outputs": [],
      "source": [
        "# 2.0 · Import Required Libraries\n",
        "import os\n",
        "import numpy as np\n",
        "import pandas as pd\n",
        "import matplotlib.pyplot as plt"
      ]
    },
    {
      "cell_type": "markdown",
      "metadata": {
        "id": "ZwktYQvNMMN6"
      },
      "source": [
        "### 3. Dataset Creation"
      ]
    },
    {
      "cell_type": "code",
      "execution_count": null,
      "metadata": {
        "id": "aWZYxszuMMN6"
      },
      "outputs": [],
      "source": [
        "'''\n",
        "Code to split the dataset. Commented cause the dataset is already splitted and\n",
        "ready to train\n",
        "\n",
        "import os\n",
        "import shutil\n",
        "from collections import defaultdict\n",
        "from sklearn.model_selection import train_test_split\n",
        "\n",
        "# Paths\n",
        "images_dir = 'YOLO_Dataset/images'\n",
        "labels_dir = 'YOLO_Dataset/labels'\n",
        "\n",
        "output_images_train = 'YOLO_Dataset/images/train'\n",
        "output_images_val = 'YOLO_Dataset/images/val'\n",
        "output_labels_train = 'YOLO_Dataset/labels/train'\n",
        "output_labels_val = 'YOLO_Dataset/labels/val'\n",
        "\n",
        "# Create output dirs\n",
        "for d in [output_images_train, output_images_val, output_labels_train, output_labels_val]:\n",
        "    os.makedirs(d, exist_ok=True)\n",
        "\n",
        "# Gather all label files and their corresponding image\n",
        "label_files = [f for f in os.listdir(labels_dir) if f.endswith('.txt')]\n",
        "class_to_files = defaultdict(list)\n",
        "\n",
        "# Group by class (based on the first class ID found in each file)\n",
        "for label_file in label_files:\n",
        "    label_path = os.path.join(labels_dir, label_file)\n",
        "    with open(label_path, 'r') as f:\n",
        "        lines = f.readlines()\n",
        "        if not lines:\n",
        "            continue\n",
        "        classes = set([int(line.strip().split()[0]) for line in lines])\n",
        "        # Assign to each class (multi-label will duplicate in multiple buckets)\n",
        "        for cls in classes:\n",
        "            class_to_files[cls].append(label_file)\n",
        "\n",
        "# Merge files from all classes, deduplicate\n",
        "all_files = set()\n",
        "for file_list in class_to_files.values():\n",
        "    all_files.update(file_list)\n",
        "\n",
        "# Convert to list\n",
        "all_files = list(all_files)\n",
        "\n",
        "# Split balanced by filename (not perfect stratified but helps keep variation)\n",
        "train_files, val_files = train_test_split(all_files, test_size=0.2, random_state=42)\n",
        "\n",
        "# Helper to copy files\n",
        "def copy_files(files, img_dst, label_dst):\n",
        "    for label_file in files:\n",
        "        img_file = label_file.replace('.txt', '.jpg')  # or .png if you use that\n",
        "        src_img = os.path.join(images_dir, img_file)\n",
        "        src_label = os.path.join(labels_dir, label_file)\n",
        "        if os.path.exists(src_img) and os.path.exists(src_label):\n",
        "            shutil.copy(src_img, os.path.join(img_dst, img_file))\n",
        "            shutil.copy(src_label, os.path.join(label_dst, label_file))\n",
        "\n",
        "# Copy to train/val\n",
        "copy_files(train_files, output_images_train, output_labels_train)\n",
        "copy_files(val_files, output_images_val, output_labels_val)\n",
        "\n",
        "print(f\"✅ Done! Train: {len(train_files)}, Val: {len(val_files)}\")\n",
        "'''"
      ]
    },
    {
      "cell_type": "markdown",
      "metadata": {
        "id": "KFnmfmGxMMN6"
      },
      "source": [
        "### 4. Model Training"
      ]
    },
    {
      "cell_type": "code",
      "execution_count": null,
      "metadata": {
        "id": "n4pkK2OvMMN6"
      },
      "outputs": [],
      "source": [
        "from ultralytics import YOLO\n",
        "\n",
        "# Load a YOLOv8 model (you can try yolov8n, yolov8s, etc.)\n",
        "model = YOLO('yolov8n.pt')  # nano version for fast training/testing\n",
        "\n",
        "# Train the model\n",
        "model.train(\n",
        "    data='YOLO_Dataset/data.yaml',   # Path to your data.yaml\n",
        "    epochs=50,\n",
        "    imgsz=640,\n",
        "    batch=16,\n",
        "    name='waste-bin-detector',\n",
        "    project='trash_yolo_project',\n",
        ")"
      ]
    },
    {
      "cell_type": "markdown",
      "metadata": {
        "id": "ljbW6J4xMMN6"
      },
      "source": [
        "### 5. Evaluation & Deployment"
      ]
    },
    {
      "cell_type": "code",
      "execution_count": null,
      "metadata": {
        "id": "BgKErya6MMN6"
      },
      "outputs": [],
      "source": [
        "# TODO: code for evaluating accuracy, exporting a TensorFlow Lite model, etc. …"
      ]
    },
    {
      "cell_type": "markdown",
      "metadata": {
        "id": "1PrsIOqjMMN6"
      },
      "source": []
    }
  ],
  "metadata": {
    "kernelspec": {
      "display_name": "Python 3",
      "language": "python",
      "name": "python3"
    },
    "language_info": {
      "name": "python",
      "version": "3.13.2"
    },
    "colab": {
      "provenance": []
    }
  },
  "nbformat": 4,
  "nbformat_minor": 0
}