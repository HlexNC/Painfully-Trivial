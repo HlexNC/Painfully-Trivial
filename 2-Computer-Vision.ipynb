{
  "cells": [
    {
      "cell_type": "markdown",
      "metadata": {
        "id": "DfHW-3zUAoRK"
      },
      "source": [
        "## **Computer vision project: Deggendorf Waste Sorting Assistant**"
      ]
    },
    {
      "cell_type": "markdown",
      "metadata": {
        "id": "kyxVsFeKAoRL"
      },
      "source": [
        "### **Overview**\n",
        "The Deggendorf Waste Sorting Assistant is a Computer Vision-based tool designed to help residents and international students correctly identify waste bins. The project leverages image classification to determine the category of a given waste bin based on its visual characteristics. Users can take a picture of an unlabeled bin, and the model will classify it while providing information on the appropriate waste materials for disposal.\n",
        "\n",
        "### **Project Goals**\n",
        "- Develop an image classification model capable of identifying waste bins in Deggendorf.\n",
        "- Provide users with clear guidance on proper waste disposal based on bin classification.\n",
        "- Document all processes in a Jupyter Notebook, covering dataset creation, model training, evaluation, and deployment.\n"
      ]
    },
    {
      "cell_type": "markdown",
      "metadata": {
        "id": "bVcB8cEzAoRM"
      },
      "source": [
        "### 1. Mount Google Drive & Interactive Labeling Utility\n",
        "\n",
        "This section sets up everything you need to label images **in-Colab**:\n",
        "\n",
        "1. Installs required packages  \n",
        "2. Mounts your Drive  \n",
        "3. Enables Colab’s custom widget manager for `ipywidgets`  \n",
        "4. Defines constants, logging, and a CSV to track labels  \n",
        "5. Provides an interactive widget UI to:\n",
        "   - Scan `/MyDrive/cv_garbage` for unlabeled images  \n",
        "   - Display one image at a time  \n",
        "   - Pick a label from a fixed list  \n",
        "   - Copy the image into `/MyDrive/cv_garbage/labled` with a standardized name  \n",
        "   - Record `original_filename`, `new_filename`, `label`, and `timestamp` in `labels.csv`  \n",
        "\n",
        "---"
      ]
    },
    {
      "cell_type": "code",
      "source": [
        "# 1. Mount Google Drive & Interactive Labeling Utility\n",
        "# ----------------------------------------------------\n",
        "import importlib, subprocess, sys, logging\n",
        "from pathlib import Path\n",
        "from datetime import datetime, timezone\n",
        "import shutil, uuid, io, pandas as pd\n",
        "from PIL import Image as PILImage\n",
        "import ipywidgets as w\n",
        "from IPython.display import display\n",
        "from google.colab import drive, output"
      ],
      "metadata": {
        "id": "KYvcI7CwCnAY"
      },
      "execution_count": 1,
      "outputs": []
    },
    {
      "cell_type": "code",
      "execution_count": 2,
      "metadata": {
        "id": "lJ_5Lw3sAoRM"
      },
      "outputs": [],
      "source": [
        "# 1.0 · Install / upgrade exact versions (idempotent once per runtime)\n",
        "logging.basicConfig(level=logging.INFO,\n",
        "                    format=\"%(asctime)s [%(levelname)s] %(message)s\",\n",
        "                    force=True)\n",
        "def _ensure(pkg: str):\n",
        "    mod = pkg.split(\"==\")[0].split(\">=\")[0]\n",
        "    try:\n",
        "        importlib.import_module(mod)\n",
        "    except ImportError:\n",
        "        subprocess.check_call([sys.executable, \"-m\", \"pip\", \"install\",\n",
        "                               \"--quiet\", pkg])\n",
        "\n",
        "for spec in (\n",
        "    \"ipywidgets>=8,<9\",     # Colab → 8.x\n",
        "    \"pandas>=2.2,<3\",\n",
        "    \"pillow>=10,<11\",\n",
        "    \"matplotlib>=3.8,<4\",\n",
        "    \"scikit-learn>=1.4,<2\",\n",
        "    \"tensorflow~=2.16\",\n",
        "):\n",
        "    _ensure(spec)"
      ]
    },
    {
      "cell_type": "code",
      "execution_count": 3,
      "metadata": {
        "colab": {
          "base_uri": "https://localhost:8080/"
        },
        "id": "kf0h4kFbAoRN",
        "outputId": "cbacb0e0-4140-4368-92fd-698b50b8422c"
      },
      "outputs": [
        {
          "output_type": "stream",
          "name": "stdout",
          "text": [
            "Mounted at /content/drive\n"
          ]
        }
      ],
      "source": [
        "# 1.1 · Mount Drive & enable widgets\n",
        "drive.mount(\"/content/drive\", force_remount=False)\n",
        "output.enable_custom_widget_manager()"
      ]
    },
    {
      "cell_type": "code",
      "execution_count": 4,
      "metadata": {
        "id": "fv-wxxN2AoRN"
      },
      "outputs": [],
      "source": [
        "# 1.2 · Paths, labels\n",
        "BASE_DIR    = Path(\"/content/drive/MyDrive/cv_garbage\")\n",
        "LABELED_DIR = BASE_DIR / \"labeled\"\n",
        "CSV_PATH    = LABELED_DIR / \"labels.csv\"\n",
        "LABELS      = [\"Restmüll\", \"Biomüll\", \"Papier\", \"Gelber Sack\", \"Glas\"]\n",
        "\n",
        "LABELED_DIR.mkdir(parents=True, exist_ok=True)"
      ]
    },
    {
      "cell_type": "code",
      "execution_count": 5,
      "metadata": {
        "id": "Zu5YNRSEAoRN",
        "outputId": "81a46a41-6831-41d8-ba24-3823ecba9da9",
        "colab": {
          "base_uri": "https://localhost:8080/",
          "height": 157,
          "referenced_widgets": [
            "a92771ebb35843e680f50658a17fc271",
            "6c088e98ab434d4ab53d3b9125611f45",
            "8ed07cb235444ae49acd15fbbb2b74cb",
            "369bb92ee2dc4f34afd3b016397e0963",
            "01e2fb31144046419b9479d6ccff1103",
            "df279e773ea14a37b83105d6ebdad161",
            "fd4ab6c017da4f55a1ce6417a311e80d",
            "16e1d245116644068db2cd3413928025",
            "b8d3c61cf5e04bf7addcb2ea1d6d04e7",
            "a6b099ff430841a396dab7df128c1517",
            "67701fa1b01746259f15799a195e1375",
            "64073313e671484486c6e6282f0cc529",
            "aa36bc21e7aa4762bb451212e31fa749",
            "9990e301d8a2465482664ec3b5975221",
            "f0a7c67cbe9b4731981191b2ef36fbdc",
            "ff89d177a6914d009419d92aa6866fe8",
            "755898a68c464b0e96e73510f91f006b",
            "3d39f5c39b544ef48571e5d9aa828e5d"
          ]
        }
      },
      "outputs": [
        {
          "output_type": "display_data",
          "data": {
            "text/plain": [
              "VBox(children=(Image(value=b'\\x89PNG\\r\\n\\x1a\\n\\x00\\x00\\x00\\rIHDR\\x00\\x00\\x01\\xe0\\x00\\x00\\x01\\xe0\\x08\\x02\\x00\\x…"
            ],
            "application/vnd.jupyter.widget-view+json": {
              "version_major": 2,
              "version_minor": 0,
              "model_id": "a92771ebb35843e680f50658a17fc271"
            }
          },
          "metadata": {
            "application/vnd.jupyter.widget-view+json": {
              "colab": {
                "custom_widget_manager": {
                  "url": "https://ssl.gstatic.com/colaboratory-static/widgets/colab-cdn-widget-manager/2b70e893a8ba7c0f/manager.min.js"
                }
              }
            }
          }
        }
      ],
      "source": [
        "# 1.3 · ColabLabeler (unchanged API, safer internals)\n",
        "class ColabLabeler:\n",
        "    EXT = {\".jpg\", \".jpeg\", \".png\", \".bmp\", \".gif\", \".webp\"}\n",
        "\n",
        "    def __init__(self, src_dir: Path, dst_dir: Path,\n",
        "                 csv_path: Path, labels: list[str]) -> None:\n",
        "        self.src, self.dst, self.csv = src_dir, dst_dir, csv_path\n",
        "        self.labels = labels\n",
        "        self._df    = self._load_or_init()\n",
        "        self._todo  = self._find_unlabeled()\n",
        "        self._idx   = 0\n",
        "\n",
        "        # widgets\n",
        "        self._w_img  = w.Image(layout=w.Layout(max_width=\"640px\",\n",
        "                                               border=\"1px solid #bbb\"))\n",
        "        self._w_lbl  = w.ToggleButtons(options=self.labels,\n",
        "                                       description=\"Label:\")\n",
        "        self._w_next = w.Button(description=\"Save & Next ▶️\",\n",
        "                                button_style=\"success\")\n",
        "        self._w_skip = w.Button(description=\"Skip ⏭️\")\n",
        "        self._w_msg  = w.HTML()\n",
        "\n",
        "        self._w_next.on_click(self._on_save)\n",
        "        self._w_skip.on_click(self._on_skip)\n",
        "\n",
        "        self.ui = w.VBox([self._w_img, self._w_lbl,\n",
        "                          w.HBox([self._w_next, self._w_skip]),\n",
        "                          self._w_msg])\n",
        "\n",
        "    # ── persistence ────────────────────────────────────────────────\n",
        "    def _load_or_init(self):\n",
        "        if self.csv.exists():\n",
        "            return pd.read_csv(self.csv)\n",
        "        return pd.DataFrame(columns=[\"original_filename\",\n",
        "                                     \"new_filename\",\n",
        "                                     \"label\",\n",
        "                                     \"timestamp\"])\n",
        "\n",
        "    def _find_unlabeled(self):\n",
        "        imgs = sorted(p.name for p in self.src.iterdir()\n",
        "                      if p.suffix.lower() in self.EXT)\n",
        "        done = set(self._df[\"original_filename\"])\n",
        "        return [f for f in imgs if f not in done]\n",
        "\n",
        "    def _write(self, orig, new, label):\n",
        "        ts = datetime.now(timezone.utc).isoformat(timespec=\"seconds\")\n",
        "        self._df.loc[len(self._df)] = [orig, new, label, ts]\n",
        "        tmp = self.csv.with_suffix(\".tmp\")\n",
        "        self._df.to_csv(tmp, index=False)\n",
        "        tmp.replace(self.csv)\n",
        "\n",
        "    # ── helpers ────────────────────────────────────────────────────\n",
        "    def _flash(self, msg, level=\"info\"):\n",
        "        color = dict(info=\"#444\", success=\"green\",\n",
        "                     warn=\"orange\", error=\"red\").get(level, \"#444\")\n",
        "        self._w_msg.value = f\"<span style='color:{color}'>{msg}</span>\"\n",
        "\n",
        "    def _render(self):\n",
        "        if self._idx >= len(self._todo):\n",
        "            self._w_img.value = b\"\"\n",
        "            self._flash(\"🎉 All images processed.\", \"success\")\n",
        "            self._w_next.disabled = self._w_skip.disabled = True\n",
        "            return\n",
        "        fname = self._todo[self._idx]\n",
        "        try:\n",
        "            with PILImage.open(self.src / fname) as im:\n",
        "                im.thumbnail((640, 480))\n",
        "                buf = io.BytesIO()\n",
        "                im.save(buf, format=\"PNG\")\n",
        "            self._w_img.value  = buf.getvalue()\n",
        "            self._w_img.format = \"png\"\n",
        "            self._flash(f\"{self._idx+1}/{len(self._todo)} · {fname}\")\n",
        "        except Exception as exc:\n",
        "            self._flash(f\"❌ {exc}\", \"error\")\n",
        "\n",
        "    # ── callbacks ──────────────────────────────────────────────────\n",
        "    def _on_save(self, _btn):\n",
        "        orig  = self._todo[self._idx]\n",
        "        label = self._w_lbl.value.replace(\" \", \"_\")\n",
        "        new   = f\"{label}_{uuid.uuid4().hex[:8]}{Path(orig).suffix}\"\n",
        "        try:\n",
        "            shutil.copy2(self.src / orig, self.dst / new)\n",
        "            self._write(orig, new, label)\n",
        "            self._flash(f\"✔️ Saved {new}\", \"success\")\n",
        "        except Exception as exc:\n",
        "            self._flash(f\"❌ {exc}\", \"error\")\n",
        "            return\n",
        "        self._idx += 1\n",
        "        self._render()\n",
        "\n",
        "    def _on_skip(self, _btn):\n",
        "        self._idx += 1\n",
        "        self._flash(\"⏭️ Skipped.\", \"warn\")\n",
        "        self._render()\n",
        "\n",
        "    # ── public ─────────────────────────────────────────────────────\n",
        "    def start(self):\n",
        "        if not self._todo:\n",
        "            self._flash(f\"No unlabeled images in {self.src}\", \"warn\")\n",
        "        else:\n",
        "            self._render()\n",
        "        display(self.ui)\n",
        "\n",
        "# 1.4 · Launch label-widget\n",
        "labeler = ColabLabeler(BASE_DIR, LABELED_DIR, CSV_PATH, LABELS)\n",
        "labeler.start()"
      ]
    },
    {
      "cell_type": "markdown",
      "metadata": {
        "id": "H4WHUdy5AoRO"
      },
      "source": [
        "### 2. Import Required Libraries for the Rest of the Project"
      ]
    },
    {
      "cell_type": "code",
      "source": [
        "import os, numpy as np, pandas as pd, matplotlib.pyplot as plt"
      ],
      "metadata": {
        "id": "dNuw8ygnC9j7"
      },
      "execution_count": 13,
      "outputs": []
    },
    {
      "cell_type": "markdown",
      "source": [
        "#### 2.1 Visualise the Labeled Dataset"
      ],
      "metadata": {
        "id": "bYiwFhbaDE0r"
      }
    },
    {
      "cell_type": "code",
      "source": [
        "from collections import Counter\n",
        "if CSV_PATH.exists():\n",
        "    df = pd.read_csv(CSV_PATH)\n",
        "    print(f\"Total labeled images: {len(df)}\")\n",
        "    cnt = Counter(df[\"label\"])\n",
        "    plt.figure()\n",
        "    plt.title(\"Label distribution\")\n",
        "    plt.bar(cnt.keys(), cnt.values())\n",
        "    plt.xticks(rotation=15)\n",
        "    plt.ylabel(\"# images\")\n",
        "    plt.grid(axis=\"y\")\n",
        "    plt.show()\n",
        "\n",
        "    min_cls = min(cnt.values()) if cnt else 0\n",
        "    if min_cls < 30:\n",
        "        print(\"⚠️  Consider ≥30 images per class for a stable baseline.\")\n",
        "else:\n",
        "    print(\"Run the labeler first → no CSV found yet.\")"
      ],
      "metadata": {
        "id": "pgDgwshHDB_z",
        "outputId": "59fe2920-c840-4163-f8a7-ec3aa321ef66",
        "colab": {
          "base_uri": "https://localhost:8080/",
          "height": 502
        }
      },
      "execution_count": 14,
      "outputs": [
        {
          "output_type": "stream",
          "name": "stdout",
          "text": [
            "Total labeled images: 73\n"
          ]
        },
        {
          "output_type": "display_data",
          "data": {
            "text/plain": [
              "<Figure size 640x480 with 1 Axes>"
            ],
            "image/png": "[encoded data removed]"
          },
          "metadata": {}
        },
        {
          "output_type": "stream",
          "name": "stdout",
          "text": [
            "⚠️  Consider ≥30 images per class for a stable baseline.\n"
          ]
        }
      ]
    },
    {
      "cell_type": "markdown",
      "metadata": {
        "id": "zKvy5TWsAoRO"
      },
      "source": [
        "### 3. Dataset Creation"
      ]
    },
    {
      "cell_type": "code",
      "execution_count": 10,
      "metadata": {
        "id": "fpC34hHEAoRO"
      },
      "outputs": [],
      "source": [
        "# TODO: code for splitting data, creating train/val folders, etc. …"
      ]
    },
    {
      "cell_type": "code",
      "source": [
        "from sklearn.model_selection import train_test_split"
      ],
      "metadata": {
        "id": "WDV75CQiGAE0"
      },
      "execution_count": null,
      "outputs": []
    },
    {
      "cell_type": "markdown",
      "source": [
        "#### 3.1 Pre-Training Goals"
      ],
      "metadata": {
        "id": "eXitODapGEwE"
      }
    },
    {
      "cell_type": "markdown",
      "source": [
        "| Metric                     | Target | Why it matters                           |\n",
        "|----------------------------|--------|------------------------------------------|\n",
        "| Images *per class* (min)   | ≥ 50   | Small transfer-learning baseline         |\n",
        "| Train / Val / Test split   | 70/15/15 % | Keeps unseen data for demo           |\n",
        "| Baseline accuracy          | ≥ 55 % | Must beat majority-class trivial model   |\n",
        "| Final val. accuracy        | ≥ 85 % | “good enough” for daily use              |\n",
        "| Per-class F1               | ≥ 0.80 | No class left behind                     |"
      ],
      "metadata": {
        "id": "dMBSQ4pDGEPT"
      }
    },
    {
      "cell_type": "markdown",
      "source": [
        "#### 3.2 Next-Steps Checklist"
      ],
      "metadata": {
        "id": "mAnw8whSGKpX"
      }
    },
    {
      "cell_type": "markdown",
      "source": [
        "- [ ] **Finish labeling** the remaining 66 images (tonight)\n",
        "- [ ] Run **Section 2.1** and paste the bar-plot into slides\n",
        "- [ ] Ensure each class reaches ≥50 images (photograph extra bins if needed)\n",
        "- [ ] Implement Section 3 split script and push data to train/val/test dirs\n",
        "- [ ] Bring the notebook, `labels.csv`, and slides to tomorrow’s meeting"
      ],
      "metadata": {
        "id": "IpN7wnz0GNBH"
      }
    },
    {
      "cell_type": "markdown",
      "metadata": {
        "id": "4HhADpIuAoRO"
      },
      "source": [
        "### 4. Model Training"
      ]
    },
    {
      "cell_type": "code",
      "execution_count": 11,
      "metadata": {
        "id": "jv-ShNOPAoRO"
      },
      "outputs": [],
      "source": [
        "# TODO: code for defining and training your CNN …"
      ]
    },
    {
      "cell_type": "markdown",
      "metadata": {
        "id": "k0_zbe_KAoRO"
      },
      "source": [
        "### 5. Evaluation & Deployment"
      ]
    },
    {
      "cell_type": "code",
      "execution_count": 12,
      "metadata": {
        "id": "KzMLmYOhAoRO"
      },
      "outputs": [],
      "source": [
        "# TODO: code for evaluating accuracy, exporting a TensorFlow Lite model, etc. …"
      ]
    },
    {
      "cell_type": "markdown",
      "metadata": {
        "id": "6PcZ7CmUAoRO"
      },
      "source": []
    }
  ],
  "metadata": {
    "kernelspec": {
      "display_name": "Python 3",
      "language": "python",
      "name": "python3"
    },
    "language_info": {
      "name": "python",
      "version": "3.13.2"
    },
    "colab": {
      "provenance": []
    },
    "widgets": {
      "application/vnd.jupyter.widget-state+json": {
        "a92771ebb35843e680f50658a17fc271": {
          "model_module": "@jupyter-widgets/controls",
          "model_name": "VBoxModel",
          "model_module_version": "1.5.0",
          "state": {
            "_dom_classes": [],
            "_model_module": "@jupyter-widgets/controls",
            "_model_module_version": "1.5.0",
            "_model_name": "VBoxModel",
            "_view_count": null,
            "_view_module": "@jupyter-widgets/controls",
            "_view_module_version": "1.5.0",
            "_view_name": "VBoxView",
            "box_style": "",
            "children": [
              "IPY_MODEL_6c088e98ab434d4ab53d3b9125611f45",
              "IPY_MODEL_8ed07cb235444ae49acd15fbbb2b74cb",
              "IPY_MODEL_369bb92ee2dc4f34afd3b016397e0963",
              "IPY_MODEL_01e2fb31144046419b9479d6ccff1103"
            ],
            "layout": "IPY_MODEL_df279e773ea14a37b83105d6ebdad161"
          }
        },
        "6c088e98ab434d4ab53d3b9125611f45": {
          "model_module": "@jupyter-widgets/controls",
          "model_name": "ImageModel",
          "model_module_version": "1.5.0",
          "state": {
            "_dom_classes": [],
            "_model_module": "@jupyter-widgets/controls",
            "_model_module_version": "1.5.0",
            "_model_name": "ImageModel",
            "_view_count": null,
            "_view_module": "@jupyter-widgets/controls",
            "_view_module_version": "1.5.0",
            "_view_name": "ImageView",
            "format": "png",
            "height": "",
            "layout": "IPY_MODEL_fd4ab6c017da4f55a1ce6417a311e80d",
            "width": ""
          }
        },
        "8ed07cb235444ae49acd15fbbb2b74cb": {
          "model_module": "@jupyter-widgets/controls",
          "model_name": "ToggleButtonsModel",
          "model_module_version": "1.5.0",
          "state": {
            "_dom_classes": [],
            "_model_module": "@jupyter-widgets/controls",
            "_model_module_version": "1.5.0",
            "_model_name": "ToggleButtonsModel",
            "_options_labels": [
              "Restmüll",
              "Biomüll",
              "Papier",
              "Gelber Sack",
              "Glas"
            ],
            "_view_count": null,
            "_view_module": "@jupyter-widgets/controls",
            "_view_module_version": "1.5.0",
            "_view_name": "ToggleButtonsView",
            "button_style": "",
            "description": "Label:",
            "description_tooltip": null,
            "disabled": false,
            "icons": [],
            "index": 2,
            "layout": "IPY_MODEL_16e1d245116644068db2cd3413928025",
            "style": "IPY_MODEL_b8d3c61cf5e04bf7addcb2ea1d6d04e7",
            "tooltips": []
          }
        },
        "369bb92ee2dc4f34afd3b016397e0963": {
          "model_module": "@jupyter-widgets/controls",
          "model_name": "HBoxModel",
          "model_module_version": "1.5.0",
          "state": {
            "_dom_classes": [],
            "_model_module": "@jupyter-widgets/controls",
            "_model_module_version": "1.5.0",
            "_model_name": "HBoxModel",
            "_view_count": null,
            "_view_module": "@jupyter-widgets/controls",
            "_view_module_version": "1.5.0",
            "_view_name": "HBoxView",
            "box_style": "",
            "children": [
              "IPY_MODEL_a6b099ff430841a396dab7df128c1517",
              "IPY_MODEL_67701fa1b01746259f15799a195e1375"
            ],
            "layout": "IPY_MODEL_64073313e671484486c6e6282f0cc529"
          }
        },
        "01e2fb31144046419b9479d6ccff1103": {
          "model_module": "@jupyter-widgets/controls",
          "model_name": "HTMLModel",
          "model_module_version": "1.5.0",
          "state": {
            "_dom_classes": [],
            "_model_module": "@jupyter-widgets/controls",
            "_model_module_version": "1.5.0",
            "_model_name": "HTMLModel",
            "_view_count": null,
            "_view_module": "@jupyter-widgets/controls",
            "_view_module_version": "1.5.0",
            "_view_name": "HTMLView",
            "description": "",
            "description_tooltip": null,
            "layout": "IPY_MODEL_aa36bc21e7aa4762bb451212e31fa749",
            "placeholder": "​",
            "style": "IPY_MODEL_9990e301d8a2465482664ec3b5975221",
            "value": "<span style='color:green'>🎉 All images processed.</span>"
          }
        },
        "df279e773ea14a37b83105d6ebdad161": {
          "model_module": "@jupyter-widgets/base",
          "model_name": "LayoutModel",
          "model_module_version": "1.2.0",
          "state": {
            "_model_module": "@jupyter-widgets/base",
            "_model_module_version": "1.2.0",
            "_model_name": "LayoutModel",
            "_view_count": null,
            "_view_module": "@jupyter-widgets/base",
            "_view_module_version": "1.2.0",
            "_view_name": "LayoutView",
            "align_content": null,
            "align_items": null,
            "align_self": null,
            "border": null,
            "bottom": null,
            "display": null,
            "flex": null,
            "flex_flow": null,
            "grid_area": null,
            "grid_auto_columns": null,
            "grid_auto_flow": null,
            "grid_auto_rows": null,
            "grid_column": null,
            "grid_gap": null,
            "grid_row": null,
            "grid_template_areas": null,
            "grid_template_columns": null,
            "grid_template_rows": null,
            "height": null,
            "justify_content": null,
            "justify_items": null,
            "left": null,
            "margin": null,
            "max_height": null,
            "max_width": null,
            "min_height": null,
            "min_width": null,
            "object_fit": null,
            "object_position": null,
            "order": null,
            "overflow": null,
            "overflow_x": null,
            "overflow_y": null,
            "padding": null,
            "right": null,
            "top": null,
            "visibility": null,
            "width": null
          }
        },
        "fd4ab6c017da4f55a1ce6417a311e80d": {
          "model_module": "@jupyter-widgets/base",
          "model_name": "LayoutModel",
          "model_module_version": "1.2.0",
          "state": {
            "_model_module": "@jupyter-widgets/base",
            "_model_module_version": "1.2.0",
            "_model_name": "LayoutModel",
            "_view_count": null,
            "_view_module": "@jupyter-widgets/base",
            "_view_module_version": "1.2.0",
            "_view_name": "LayoutView",
            "align_content": null,
            "align_items": null,
            "align_self": null,
            "border": "1px solid #bbb",
            "bottom": null,
            "display": null,
            "flex": null,
            "flex_flow": null,
            "grid_area": null,
            "grid_auto_columns": null,
            "grid_auto_flow": null,
            "grid_auto_rows": null,
            "grid_column": null,
            "grid_gap": null,
            "grid_row": null,
            "grid_template_areas": null,
            "grid_template_columns": null,
            "grid_template_rows": null,
            "height": null,
            "justify_content": null,
            "justify_items": null,
            "left": null,
            "margin": null,
            "max_height": null,
            "max_width": "640px",
            "min_height": null,
            "min_width": null,
            "object_fit": null,
            "object_position": null,
            "order": null,
            "overflow": null,
            "overflow_x": null,
            "overflow_y": null,
            "padding": null,
            "right": null,
            "top": null,
            "visibility": null,
            "width": null
          }
        },
        "16e1d245116644068db2cd3413928025": {
          "model_module": "@jupyter-widgets/base",
          "model_name": "LayoutModel",
          "model_module_version": "1.2.0",
          "state": {
            "_model_module": "@jupyter-widgets/base",
            "_model_module_version": "1.2.0",
            "_model_name": "LayoutModel",
            "_view_count": null,
            "_view_module": "@jupyter-widgets/base",
            "_view_module_version": "1.2.0",
            "_view_name": "LayoutView",
            "align_content": null,
            "align_items": null,
            "align_self": null,
            "border": null,
            "bottom": null,
            "display": null,
            "flex": null,
            "flex_flow": null,
            "grid_area": null,
            "grid_auto_columns": null,
            "grid_auto_flow": null,
            "grid_auto_rows": null,
            "grid_column": null,
            "grid_gap": null,
            "grid_row": null,
            "grid_template_areas": null,
            "grid_template_columns": null,
            "grid_template_rows": null,
            "height": null,
            "justify_content": null,
            "justify_items": null,
            "left": null,
            "margin": null,
            "max_height": null,
            "max_width": null,
            "min_height": null,
            "min_width": null,
            "object_fit": null,
            "object_position": null,
            "order": null,
            "overflow": null,
            "overflow_x": null,
            "overflow_y": null,
            "padding": null,
            "right": null,
            "top": null,
            "visibility": null,
            "width": null
          }
        },
        "b8d3c61cf5e04bf7addcb2ea1d6d04e7": {
          "model_module": "@jupyter-widgets/controls",
          "model_name": "ToggleButtonsStyleModel",
          "model_module_version": "1.5.0",
          "state": {
            "_model_module": "@jupyter-widgets/controls",
            "_model_module_version": "1.5.0",
            "_model_name": "ToggleButtonsStyleModel",
            "_view_count": null,
            "_view_module": "@jupyter-widgets/base",
            "_view_module_version": "1.2.0",
            "_view_name": "StyleView",
            "button_width": "",
            "description_width": "",
            "font_weight": ""
          }
        },
        "a6b099ff430841a396dab7df128c1517": {
          "model_module": "@jupyter-widgets/controls",
          "model_name": "ButtonModel",
          "model_module_version": "1.5.0",
          "state": {
            "_dom_classes": [],
            "_model_module": "@jupyter-widgets/controls",
            "_model_module_version": "1.5.0",
            "_model_name": "ButtonModel",
            "_view_count": null,
            "_view_module": "@jupyter-widgets/controls",
            "_view_module_version": "1.5.0",
            "_view_name": "ButtonView",
            "button_style": "success",
            "description": "Save & Next ▶️",
            "disabled": true,
            "icon": "",
            "layout": "IPY_MODEL_f0a7c67cbe9b4731981191b2ef36fbdc",
            "style": "IPY_MODEL_ff89d177a6914d009419d92aa6866fe8",
            "tooltip": ""
          }
        },
        "67701fa1b01746259f15799a195e1375": {
          "model_module": "@jupyter-widgets/controls",
          "model_name": "ButtonModel",
          "model_module_version": "1.5.0",
          "state": {
            "_dom_classes": [],
            "_model_module": "@jupyter-widgets/controls",
            "_model_module_version": "1.5.0",
            "_model_name": "ButtonModel",
            "_view_count": null,
            "_view_module": "@jupyter-widgets/controls",
            "_view_module_version": "1.5.0",
            "_view_name": "ButtonView",
            "button_style": "",
            "description": "Skip ⏭️",
            "disabled": true,
            "icon": "",
            "layout": "IPY_MODEL_755898a68c464b0e96e73510f91f006b",
            "style": "IPY_MODEL_3d39f5c39b544ef48571e5d9aa828e5d",
            "tooltip": ""
          }
        },
        "64073313e671484486c6e6282f0cc529": {
          "model_module": "@jupyter-widgets/base",
          "model_name": "LayoutModel",
          "model_module_version": "1.2.0",
          "state": {
            "_model_module": "@jupyter-widgets/base",
            "_model_module_version": "1.2.0",
            "_model_name": "LayoutModel",
            "_view_count": null,
            "_view_module": "@jupyter-widgets/base",
            "_view_module_version": "1.2.0",
            "_view_name": "LayoutView",
            "align_content": null,
            "align_items": null,
            "align_self": null,
            "border": null,
            "bottom": null,
            "display": null,
            "flex": null,
            "flex_flow": null,
            "grid_area": null,
            "grid_auto_columns": null,
            "grid_auto_flow": null,
            "grid_auto_rows": null,
            "grid_column": null,
            "grid_gap": null,
            "grid_row": null,
            "grid_template_areas": null,
            "grid_template_columns": null,
            "grid_template_rows": null,
            "height": null,
            "justify_content": null,
            "justify_items": null,
            "left": null,
            "margin": null,
            "max_height": null,
            "max_width": null,
            "min_height": null,
            "min_width": null,
            "object_fit": null,
            "object_position": null,
            "order": null,
            "overflow": null,
            "overflow_x": null,
            "overflow_y": null,
            "padding": null,
            "right": null,
            "top": null,
            "visibility": null,
            "width": null
          }
        },
        "aa36bc21e7aa4762bb451212e31fa749": {
          "model_module": "@jupyter-widgets/base",
          "model_name": "LayoutModel",
          "model_module_version": "1.2.0",
          "state": {
            "_model_module": "@jupyter-widgets/base",
            "_model_module_version": "1.2.0",
            "_model_name": "LayoutModel",
            "_view_count": null,
            "_view_module": "@jupyter-widgets/base",
            "_view_module_version": "1.2.0",
            "_view_name": "LayoutView",
            "align_content": null,
            "align_items": null,
            "align_self": null,
            "border": null,
            "bottom": null,
            "display": null,
            "flex": null,
            "flex_flow": null,
            "grid_area": null,
            "grid_auto_columns": null,
            "grid_auto_flow": null,
            "grid_auto_rows": null,
            "grid_column": null,
            "grid_gap": null,
            "grid_row": null,
            "grid_template_areas": null,
            "grid_template_columns": null,
            "grid_template_rows": null,
            "height": null,
            "justify_content": null,
            "justify_items": null,
            "left": null,
            "margin": null,
            "max_height": null,
            "max_width": null,
            "min_height": null,
            "min_width": null,
            "object_fit": null,
            "object_position": null,
            "order": null,
            "overflow": null,
            "overflow_x": null,
            "overflow_y": null,
            "padding": null,
            "right": null,
            "top": null,
            "visibility": null,
            "width": null
          }
        },
        "9990e301d8a2465482664ec3b5975221": {
          "model_module": "@jupyter-widgets/controls",
          "model_name": "DescriptionStyleModel",
          "model_module_version": "1.5.0",
          "state": {
            "_model_module": "@jupyter-widgets/controls",
            "_model_module_version": "1.5.0",
            "_model_name": "DescriptionStyleModel",
            "_view_count": null,
            "_view_module": "@jupyter-widgets/base",
            "_view_module_version": "1.2.0",
            "_view_name": "StyleView",
            "description_width": ""
          }
        },
        "f0a7c67cbe9b4731981191b2ef36fbdc": {
          "model_module": "@jupyter-widgets/base",
          "model_name": "LayoutModel",
          "model_module_version": "1.2.0",
          "state": {
            "_model_module": "@jupyter-widgets/base",
            "_model_module_version": "1.2.0",
            "_model_name": "LayoutModel",
            "_view_count": null,
            "_view_module": "@jupyter-widgets/base",
            "_view_module_version": "1.2.0",
            "_view_name": "LayoutView",
            "align_content": null,
            "align_items": null,
            "align_self": null,
            "border": null,
            "bottom": null,
            "display": null,
            "flex": null,
            "flex_flow": null,
            "grid_area": null,
            "grid_auto_columns": null,
            "grid_auto_flow": null,
            "grid_auto_rows": null,
            "grid_column": null,
            "grid_gap": null,
            "grid_row": null,
            "grid_template_areas": null,
            "grid_template_columns": null,
            "grid_template_rows": null,
            "height": null,
            "justify_content": null,
            "justify_items": null,
            "left": null,
            "margin": null,
            "max_height": null,
            "max_width": null,
            "min_height": null,
            "min_width": null,
            "object_fit": null,
            "object_position": null,
            "order": null,
            "overflow": null,
            "overflow_x": null,
            "overflow_y": null,
            "padding": null,
            "right": null,
            "top": null,
            "visibility": null,
            "width": null
          }
        },
        "ff89d177a6914d009419d92aa6866fe8": {
          "model_module": "@jupyter-widgets/controls",
          "model_name": "ButtonStyleModel",
          "model_module_version": "1.5.0",
          "state": {
            "_model_module": "@jupyter-widgets/controls",
            "_model_module_version": "1.5.0",
            "_model_name": "ButtonStyleModel",
            "_view_count": null,
            "_view_module": "@jupyter-widgets/base",
            "_view_module_version": "1.2.0",
            "_view_name": "StyleView",
            "button_color": null,
            "font_weight": ""
          }
        },
        "755898a68c464b0e96e73510f91f006b": {
          "model_module": "@jupyter-widgets/base",
          "model_name": "LayoutModel",
          "model_module_version": "1.2.0",
          "state": {
            "_model_module": "@jupyter-widgets/base",
            "_model_module_version": "1.2.0",
            "_model_name": "LayoutModel",
            "_view_count": null,
            "_view_module": "@jupyter-widgets/base",
            "_view_module_version": "1.2.0",
            "_view_name": "LayoutView",
            "align_content": null,
            "align_items": null,
            "align_self": null,
            "border": null,
            "bottom": null,
            "display": null,
            "flex": null,
            "flex_flow": null,
            "grid_area": null,
            "grid_auto_columns": null,
            "grid_auto_flow": null,
            "grid_auto_rows": null,
            "grid_column": null,
            "grid_gap": null,
            "grid_row": null,
            "grid_template_areas": null,
            "grid_template_columns": null,
            "grid_template_rows": null,
            "height": null,
            "justify_content": null,
            "justify_items": null,
            "left": null,
            "margin": null,
            "max_height": null,
            "max_width": null,
            "min_height": null,
            "min_width": null,
            "object_fit": null,
            "object_position": null,
            "order": null,
            "overflow": null,
            "overflow_x": null,
            "overflow_y": null,
            "padding": null,
            "right": null,
            "top": null,
            "visibility": null,
            "width": null
          }
        },
        "3d39f5c39b544ef48571e5d9aa828e5d": {
          "model_module": "@jupyter-widgets/controls",
          "model_name": "ButtonStyleModel",
          "model_module_version": "1.5.0",
          "state": {
            "_model_module": "@jupyter-widgets/controls",
            "_model_module_version": "1.5.0",
            "_model_name": "ButtonStyleModel",
            "_view_count": null,
            "_view_module": "@jupyter-widgets/base",
            "_view_module_version": "1.2.0",
            "_view_name": "StyleView",
            "button_color": null,
            "font_weight": ""
          }
        }
      }
    }
  },
  "nbformat": 4,
  "nbformat_minor": 0
}