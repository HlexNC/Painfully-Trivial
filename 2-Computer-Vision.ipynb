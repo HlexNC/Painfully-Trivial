{
  "cells": [
    {
      "cell_type": "markdown",
      "metadata": {
        "id": "DfHW-3zUAoRK"
      },
      "source": [
        "## **Computer vision project: Deggendorf Waste Sorting Assistant**"
      ]
    },
    {
      "cell_type": "markdown",
      "metadata": {
        "id": "kyxVsFeKAoRL"
      },
      "source": [
        "### **Overview**\n",
        "The Deggendorf Waste Sorting Assistant is a Computer Vision-based tool designed to help residents and international students correctly identify waste bins. The project leverages image classification to determine the category of a given waste bin based on its visual characteristics. Users can take a picture of an unlabeled bin, and the model will classify it while providing information on the appropriate waste materials for disposal.\n",
        "\n",
        "### **Project Goals**\n",
        "- Develop an image classification model capable of identifying waste bins in Deggendorf.\n",
        "- Provide users with clear guidance on proper waste disposal based on bin classification.\n",
        "- Document all processes in a Jupyter Notebook, covering dataset creation, model training, evaluation, and deployment.\n"
      ]
    },
    {
      "cell_type": "markdown",
      "metadata": {
        "id": "bVcB8cEzAoRM"
      },
      "source": [
        "### 1. Mount Google Drive & Interactive Labeling Utility\n",
        "\n",
        "This section sets up everything you need to label images **in-Colab**:\n",
        "\n",
        "1. Installs required packages  \n",
        "2. Mounts your Drive  \n",
        "3. Enables Colab’s custom widget manager for `ipywidgets`  \n",
        "4. Defines constants, logging, and a CSV to track labels  \n",
        "5. Provides an interactive widget UI to:\n",
        "   - Scan `/MyDrive/cv_garbage` for unlabeled images  \n",
        "   - Display one image at a time  \n",
        "   - Pick a label from a fixed list  \n",
        "   - Copy the image into `/MyDrive/cv_garbage/labled` with a standardized name  \n",
        "   - Record `original_filename`, `new_filename`, `label`, and `timestamp` in `labels.csv`  \n",
        "\n",
        "---"
      ]
    },
    {
      "cell_type": "code",
      "source": [
        "# 1. Mount Google Drive & Interactive Labeling Utility\n",
        "# ----------------------------------------------------\n",
        "import importlib, subprocess, sys, logging\n",
        "from pathlib import Path\n",
        "from datetime import datetime, timezone\n",
        "import shutil, uuid, io, pandas as pd\n",
        "from PIL import Image as PILImage\n",
        "import ipywidgets as w\n",
        "from IPython.display import display\n",
        "from google.colab import drive, output"
      ],
      "metadata": {
        "id": "KYvcI7CwCnAY"
      },
      "execution_count": 1,
      "outputs": []
    },
    {
      "cell_type": "code",
      "execution_count": 2,
      "metadata": {
        "id": "lJ_5Lw3sAoRM"
      },
      "outputs": [],
      "source": [
        "# 1.0 · Install / upgrade exact versions (idempotent once per runtime)\n",
        "logging.basicConfig(level=logging.INFO,\n",
        "                    format=\"%(asctime)s [%(levelname)s] %(message)s\",\n",
        "                    force=True)\n",
        "def _ensure(pkg: str):\n",
        "    mod = pkg.split(\"==\")[0].split(\">=\")[0]\n",
        "    try:\n",
        "        importlib.import_module(mod)\n",
        "    except ImportError:\n",
        "        subprocess.check_call([sys.executable, \"-m\", \"pip\", \"install\",\n",
        "                               \"--quiet\", pkg])\n",
        "\n",
        "for spec in (\n",
        "    \"ipywidgets>=8,<9\",     # Colab → 8.x\n",
        "    \"pandas>=2.2,<3\",\n",
        "    \"pillow>=10,<11\",\n",
        "    \"matplotlib>=3.8,<4\",\n",
        "    \"scikit-learn>=1.4,<2\",\n",
        "    \"tensorflow~=2.16\",\n",
        "):\n",
        "    _ensure(spec)"
      ]
    },
    {
      "cell_type": "code",
      "execution_count": 3,
      "metadata": {
        "colab": {
          "base_uri": "https://localhost:8080/",
          "height": 329
        },
        "id": "kf0h4kFbAoRN",
        "outputId": "a8546bc7-b7ba-401b-849c-79d4ef055b58"
      },
      "outputs": [
        {
          "output_type": "error",
          "ename": "MessageError",
          "evalue": "Error: credential propagation was unsuccessful",
          "traceback": [
            "\u001b[0;31m---------------------------------------------------------------------------\u001b[0m",
            "\u001b[0;31mMessageError\u001b[0m                              Traceback (most recent call last)",
            "\u001b[0;32m<ipython-input-3-c223816c4e35>\u001b[0m in \u001b[0;36m<cell line: 0>\u001b[0;34m()\u001b[0m\n\u001b[1;32m      1\u001b[0m \u001b[0;31m# 1.1 · Mount Drive & enable widgets\u001b[0m\u001b[0;34m\u001b[0m\u001b[0;34m\u001b[0m\u001b[0m\n\u001b[0;32m----> 2\u001b[0;31m \u001b[0mdrive\u001b[0m\u001b[0;34m.\u001b[0m\u001b[0mmount\u001b[0m\u001b[0;34m(\u001b[0m\u001b[0;34m\"/content/drive\"\u001b[0m\u001b[0;34m,\u001b[0m \u001b[0mforce_remount\u001b[0m\u001b[0;34m=\u001b[0m\u001b[0;32mFalse\u001b[0m\u001b[0;34m)\u001b[0m\u001b[0;34m\u001b[0m\u001b[0;34m\u001b[0m\u001b[0m\n\u001b[0m\u001b[1;32m      3\u001b[0m \u001b[0moutput\u001b[0m\u001b[0;34m.\u001b[0m\u001b[0menable_custom_widget_manager\u001b[0m\u001b[0;34m(\u001b[0m\u001b[0;34m)\u001b[0m\u001b[0;34m\u001b[0m\u001b[0;34m\u001b[0m\u001b[0m\n",
            "\u001b[0;32m/usr/local/lib/python3.11/dist-packages/google/colab/drive.py\u001b[0m in \u001b[0;36mmount\u001b[0;34m(mountpoint, force_remount, timeout_ms, readonly)\u001b[0m\n\u001b[1;32m     98\u001b[0m \u001b[0;32mdef\u001b[0m \u001b[0mmount\u001b[0m\u001b[0;34m(\u001b[0m\u001b[0mmountpoint\u001b[0m\u001b[0;34m,\u001b[0m \u001b[0mforce_remount\u001b[0m\u001b[0;34m=\u001b[0m\u001b[0;32mFalse\u001b[0m\u001b[0;34m,\u001b[0m \u001b[0mtimeout_ms\u001b[0m\u001b[0;34m=\u001b[0m\u001b[0;36m120000\u001b[0m\u001b[0;34m,\u001b[0m \u001b[0mreadonly\u001b[0m\u001b[0;34m=\u001b[0m\u001b[0;32mFalse\u001b[0m\u001b[0;34m)\u001b[0m\u001b[0;34m:\u001b[0m\u001b[0;34m\u001b[0m\u001b[0;34m\u001b[0m\u001b[0m\n\u001b[1;32m     99\u001b[0m   \u001b[0;34m\"\"\"Mount your Google Drive at the specified mountpoint path.\"\"\"\u001b[0m\u001b[0;34m\u001b[0m\u001b[0;34m\u001b[0m\u001b[0m\n\u001b[0;32m--> 100\u001b[0;31m   return _mount(\n\u001b[0m\u001b[1;32m    101\u001b[0m       \u001b[0mmountpoint\u001b[0m\u001b[0;34m,\u001b[0m\u001b[0;34m\u001b[0m\u001b[0;34m\u001b[0m\u001b[0m\n\u001b[1;32m    102\u001b[0m       \u001b[0mforce_remount\u001b[0m\u001b[0;34m=\u001b[0m\u001b[0mforce_remount\u001b[0m\u001b[0;34m,\u001b[0m\u001b[0;34m\u001b[0m\u001b[0;34m\u001b[0m\u001b[0m\n",
            "\u001b[0;32m/usr/local/lib/python3.11/dist-packages/google/colab/drive.py\u001b[0m in \u001b[0;36m_mount\u001b[0;34m(mountpoint, force_remount, timeout_ms, ephemeral, readonly)\u001b[0m\n\u001b[1;32m    135\u001b[0m   )\n\u001b[1;32m    136\u001b[0m   \u001b[0;32mif\u001b[0m \u001b[0mephemeral\u001b[0m\u001b[0;34m:\u001b[0m\u001b[0;34m\u001b[0m\u001b[0;34m\u001b[0m\u001b[0m\n\u001b[0;32m--> 137\u001b[0;31m     _message.blocking_request(\n\u001b[0m\u001b[1;32m    138\u001b[0m         \u001b[0;34m'request_auth'\u001b[0m\u001b[0;34m,\u001b[0m\u001b[0;34m\u001b[0m\u001b[0;34m\u001b[0m\u001b[0m\n\u001b[1;32m    139\u001b[0m         \u001b[0mrequest\u001b[0m\u001b[0;34m=\u001b[0m\u001b[0;34m{\u001b[0m\u001b[0;34m'authType'\u001b[0m\u001b[0;34m:\u001b[0m \u001b[0;34m'dfs_ephemeral'\u001b[0m\u001b[0;34m}\u001b[0m\u001b[0;34m,\u001b[0m\u001b[0;34m\u001b[0m\u001b[0;34m\u001b[0m\u001b[0m\n",
            "\u001b[0;32m/usr/local/lib/python3.11/dist-packages/google/colab/_message.py\u001b[0m in \u001b[0;36mblocking_request\u001b[0;34m(request_type, request, timeout_sec, parent)\u001b[0m\n\u001b[1;32m    174\u001b[0m       \u001b[0mrequest_type\u001b[0m\u001b[0;34m,\u001b[0m \u001b[0mrequest\u001b[0m\u001b[0;34m,\u001b[0m \u001b[0mparent\u001b[0m\u001b[0;34m=\u001b[0m\u001b[0mparent\u001b[0m\u001b[0;34m,\u001b[0m \u001b[0mexpect_reply\u001b[0m\u001b[0;34m=\u001b[0m\u001b[0;32mTrue\u001b[0m\u001b[0;34m\u001b[0m\u001b[0;34m\u001b[0m\u001b[0m\n\u001b[1;32m    175\u001b[0m   )\n\u001b[0;32m--> 176\u001b[0;31m   \u001b[0;32mreturn\u001b[0m \u001b[0mread_reply_from_input\u001b[0m\u001b[0;34m(\u001b[0m\u001b[0mrequest_id\u001b[0m\u001b[0;34m,\u001b[0m \u001b[0mtimeout_sec\u001b[0m\u001b[0;34m)\u001b[0m\u001b[0;34m\u001b[0m\u001b[0;34m\u001b[0m\u001b[0m\n\u001b[0m",
            "\u001b[0;32m/usr/local/lib/python3.11/dist-packages/google/colab/_message.py\u001b[0m in \u001b[0;36mread_reply_from_input\u001b[0;34m(message_id, timeout_sec)\u001b[0m\n\u001b[1;32m    101\u001b[0m     ):\n\u001b[1;32m    102\u001b[0m       \u001b[0;32mif\u001b[0m \u001b[0;34m'error'\u001b[0m \u001b[0;32min\u001b[0m \u001b[0mreply\u001b[0m\u001b[0;34m:\u001b[0m\u001b[0;34m\u001b[0m\u001b[0;34m\u001b[0m\u001b[0m\n\u001b[0;32m--> 103\u001b[0;31m         \u001b[0;32mraise\u001b[0m \u001b[0mMessageError\u001b[0m\u001b[0;34m(\u001b[0m\u001b[0mreply\u001b[0m\u001b[0;34m[\u001b[0m\u001b[0;34m'error'\u001b[0m\u001b[0;34m]\u001b[0m\u001b[0;34m)\u001b[0m\u001b[0;34m\u001b[0m\u001b[0;34m\u001b[0m\u001b[0m\n\u001b[0m\u001b[1;32m    104\u001b[0m       \u001b[0;32mreturn\u001b[0m \u001b[0mreply\u001b[0m\u001b[0;34m.\u001b[0m\u001b[0mget\u001b[0m\u001b[0;34m(\u001b[0m\u001b[0;34m'data'\u001b[0m\u001b[0;34m,\u001b[0m \u001b[0;32mNone\u001b[0m\u001b[0;34m)\u001b[0m\u001b[0;34m\u001b[0m\u001b[0;34m\u001b[0m\u001b[0m\n\u001b[1;32m    105\u001b[0m \u001b[0;34m\u001b[0m\u001b[0m\n",
            "\u001b[0;31mMessageError\u001b[0m: Error: credential propagation was unsuccessful"
          ]
        }
      ],
      "source": [
        "# 1.1 · Mount Drive & enable widgets\n",
        "drive.mount(\"/content/drive\", force_remount=False)\n",
        "output.enable_custom_widget_manager()"
      ]
    },
    {
      "cell_type": "code",
      "execution_count": null,
      "metadata": {
        "id": "fv-wxxN2AoRN"
      },
      "outputs": [],
      "source": [
        "# 1.2 · Paths, labels\n",
        "BASE_DIR    = Path(\"/content/drive/MyDrive/cv_garbage\")\n",
        "LABELED_DIR = BASE_DIR / \"labeled\"\n",
        "CSV_PATH    = LABELED_DIR / \"labels.csv\"\n",
        "LABELS      = [\"Restmüll\", \"Biomüll\", \"Papier\", \"Gelber Sack\", \"Glas\"]\n",
        "\n",
        "LABELED_DIR.mkdir(parents=True, exist_ok=True)"
      ]
    },
    {
      "cell_type": "code",
      "execution_count": null,
      "metadata": {
        "id": "Zu5YNRSEAoRN"
      },
      "outputs": [],
      "source": [
        "# 1.3 · ColabLabeler (unchanged API, safer internals)\n",
        "class ColabLabeler:\n",
        "    EXT = {\".jpg\", \".jpeg\", \".png\", \".bmp\", \".gif\", \".webp\"}\n",
        "\n",
        "    def __init__(self, src_dir: Path, dst_dir: Path,\n",
        "                 csv_path: Path, labels: list[str]) -> None:\n",
        "        self.src, self.dst, self.csv = src_dir, dst_dir, csv_path\n",
        "        self.labels = labels\n",
        "        self._df    = self._load_or_init()\n",
        "        self._todo  = self._find_unlabeled()\n",
        "        self._idx   = 0\n",
        "\n",
        "        # widgets\n",
        "        self._w_img  = w.Image(layout=w.Layout(max_width=\"640px\",\n",
        "                                               border=\"1px solid #bbb\"))\n",
        "        self._w_lbl  = w.ToggleButtons(options=self.labels,\n",
        "                                       description=\"Label:\")\n",
        "        self._w_next = w.Button(description=\"Save & Next ▶️\",\n",
        "                                button_style=\"success\")\n",
        "        self._w_skip = w.Button(description=\"Skip ⏭️\")\n",
        "        self._w_msg  = w.HTML()\n",
        "\n",
        "        self._w_next.on_click(self._on_save)\n",
        "        self._w_skip.on_click(self._on_skip)\n",
        "\n",
        "        self.ui = w.VBox([self._w_img, self._w_lbl,\n",
        "                          w.HBox([self._w_next, self._w_skip]),\n",
        "                          self._w_msg])\n",
        "\n",
        "    # ── persistence ────────────────────────────────────────────────\n",
        "    def _load_or_init(self):\n",
        "        if self.csv.exists():\n",
        "            return pd.read_csv(self.csv)\n",
        "        return pd.DataFrame(columns=[\"original_filename\",\n",
        "                                     \"new_filename\",\n",
        "                                     \"label\",\n",
        "                                     \"timestamp\"])\n",
        "\n",
        "    def _find_unlabeled(self):\n",
        "        imgs = sorted(p.name for p in self.src.iterdir()\n",
        "                      if p.suffix.lower() in self.EXT)\n",
        "        done = set(self._df[\"original_filename\"])\n",
        "        return [f for f in imgs if f not in done]\n",
        "\n",
        "    def _write(self, orig, new, label):\n",
        "        ts = datetime.now(timezone.utc).isoformat(timespec=\"seconds\")\n",
        "        self._df.loc[len(self._df)] = [orig, new, label, ts]\n",
        "        tmp = self.csv.with_suffix(\".tmp\")\n",
        "        self._df.to_csv(tmp, index=False)\n",
        "        tmp.replace(self.csv)\n",
        "\n",
        "    # ── helpers ────────────────────────────────────────────────────\n",
        "    def _flash(self, msg, level=\"info\"):\n",
        "        color = dict(info=\"#444\", success=\"green\",\n",
        "                     warn=\"orange\", error=\"red\").get(level, \"#444\")\n",
        "        self._w_msg.value = f\"<span style='color:{color}'>{msg}</span>\"\n",
        "\n",
        "    def _render(self):\n",
        "        if self._idx >= len(self._todo):\n",
        "            self._w_img.value = b\"\"\n",
        "            self._flash(\"🎉 All images processed.\", \"success\")\n",
        "            self._w_next.disabled = self._w_skip.disabled = True\n",
        "            return\n",
        "        fname = self._todo[self._idx]\n",
        "        try:\n",
        "            with PILImage.open(self.src / fname) as im:\n",
        "                im.thumbnail((640, 480))\n",
        "                buf = io.BytesIO()\n",
        "                im.save(buf, format=\"PNG\")\n",
        "            self._w_img.value  = buf.getvalue()\n",
        "            self._w_img.format = \"png\"\n",
        "            self._flash(f\"{self._idx+1}/{len(self._todo)} · {fname}\")\n",
        "        except Exception as exc:\n",
        "            self._flash(f\"❌ {exc}\", \"error\")\n",
        "\n",
        "    # ── callbacks ──────────────────────────────────────────────────\n",
        "    def _on_save(self, _btn):\n",
        "        orig  = self._todo[self._idx]\n",
        "        label = self._w_lbl.value.replace(\" \", \"_\")\n",
        "        new   = f\"{label}_{uuid.uuid4().hex[:8]}{Path(orig).suffix}\"\n",
        "        try:\n",
        "            shutil.copy2(self.src / orig, self.dst / new)\n",
        "            self._write(orig, new, label)\n",
        "            self._flash(f\"✔️ Saved {new}\", \"success\")\n",
        "        except Exception as exc:\n",
        "            self._flash(f\"❌ {exc}\", \"error\")\n",
        "            return\n",
        "        self._idx += 1\n",
        "        self._render()\n",
        "\n",
        "    def _on_skip(self, _btn):\n",
        "        self._idx += 1\n",
        "        self._flash(\"⏭️ Skipped.\", \"warn\")\n",
        "        self._render()\n",
        "\n",
        "    # ── public ─────────────────────────────────────────────────────\n",
        "    def start(self):\n",
        "        if not self._todo:\n",
        "            self._flash(f\"No unlabeled images in {self.src}\", \"warn\")\n",
        "        else:\n",
        "            self._render()\n",
        "        display(self.ui)\n",
        "\n",
        "# 1.4 · Launch label-widget\n",
        "labeler = ColabLabeler(BASE_DIR, LABELED_DIR, CSV_PATH, LABELS)\n",
        "labeler.start()"
      ]
    },
    {
      "cell_type": "code",
      "execution_count": null,
      "metadata": {
        "id": "UIIqbFgGAoRO"
      },
      "outputs": [],
      "source": [
        "# 1.4 · Launch\n",
        "labeler = ColabLabeler(\n",
        "    src_dir=BASE_DIR,\n",
        "    dst_dir=LABELED_DIR,\n",
        "    csv_path=CSV_PATH,\n",
        "    labels=LABELS,\n",
        ")\n",
        "labeler.start()"
      ]
    },
    {
      "cell_type": "markdown",
      "metadata": {
        "id": "H4WHUdy5AoRO"
      },
      "source": [
        "### 2. Import Required Libraries for the Rest of the Project"
      ]
    },
    {
      "cell_type": "code",
      "source": [
        "import os, numpy as np, pandas as pd, matplotlib.pyplot as plt"
      ],
      "metadata": {
        "id": "dNuw8ygnC9j7"
      },
      "execution_count": null,
      "outputs": []
    },
    {
      "cell_type": "markdown",
      "source": [
        "#### 2.1 Visualise the Labeled Dataset"
      ],
      "metadata": {
        "id": "bYiwFhbaDE0r"
      }
    },
    {
      "cell_type": "code",
      "source": [
        "from collections import Counter\n",
        "if CSV_PATH.exists():\n",
        "    df = pd.read_csv(CSV_PATH)\n",
        "    print(f\"Total labeled images: {len(df)}\")\n",
        "    cnt = Counter(df[\"label\"])\n",
        "    plt.figure()\n",
        "    plt.title(\"Label distribution\")\n",
        "    plt.bar(cnt.keys(), cnt.values())\n",
        "    plt.xticks(rotation=15)\n",
        "    plt.ylabel(\"# images\")\n",
        "    plt.grid(axis=\"y\")\n",
        "    plt.show()\n",
        "\n",
        "    min_cls = min(cnt.values()) if cnt else 0\n",
        "    if min_cls < 30:\n",
        "        print(\"⚠️  Consider ≥30 images per class for a stable baseline.\")\n",
        "else:\n",
        "    print(\"Run the labeler first → no CSV found yet.\")"
      ],
      "metadata": {
        "id": "pgDgwshHDB_z"
      },
      "execution_count": null,
      "outputs": []
    },
    {
      "cell_type": "code",
      "execution_count": null,
      "metadata": {
        "id": "dpUWnfa2AoRO"
      },
      "outputs": [],
      "source": [
        "# 2.0 · Import Required Libraries\n",
        "import os\n",
        "import numpy as np\n",
        "import pandas as pd\n",
        "import matplotlib.pyplot as plt"
      ]
    },
    {
      "cell_type": "markdown",
      "metadata": {
        "id": "zKvy5TWsAoRO"
      },
      "source": [
        "### 3. Dataset Creation"
      ]
    },
    {
      "cell_type": "code",
      "execution_count": null,
      "metadata": {
        "id": "fpC34hHEAoRO"
      },
      "outputs": [],
      "source": [
        "# TODO: code for splitting data, creating train/val folders, etc. …"
      ]
    },
    {
      "cell_type": "markdown",
      "metadata": {
        "id": "4HhADpIuAoRO"
      },
      "source": [
        "### 4. Model Training"
      ]
    },
    {
      "cell_type": "code",
      "execution_count": null,
      "metadata": {
        "id": "jv-ShNOPAoRO"
      },
      "outputs": [],
      "source": [
        "# TODO: code for defining and training your CNN …"
      ]
    },
    {
      "cell_type": "markdown",
      "metadata": {
        "id": "k0_zbe_KAoRO"
      },
      "source": [
        "### 5. Evaluation & Deployment"
      ]
    },
    {
      "cell_type": "code",
      "execution_count": null,
      "metadata": {
        "id": "KzMLmYOhAoRO"
      },
      "outputs": [],
      "source": [
        "# TODO: code for evaluating accuracy, exporting a TensorFlow Lite model, etc. …"
      ]
    },
    {
      "cell_type": "markdown",
      "metadata": {
        "id": "6PcZ7CmUAoRO"
      },
      "source": []
    }
  ],
  "metadata": {
    "kernelspec": {
      "display_name": "Python 3",
      "language": "python",
      "name": "python3"
    },
    "language_info": {
      "name": "python",
      "version": "3.13.2"
    },
    "colab": {
      "provenance": []
    }
  },
  "nbformat": 4,
  "nbformat_minor": 0
}